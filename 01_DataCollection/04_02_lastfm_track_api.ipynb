{
 "cells": [
  {
   "cell_type": "markdown",
   "id": "c558cd37",
   "metadata": {
    "pycharm": {
     "name": "#%% md\n"
    }
   },
   "source": [
    "# Music Popularity Analysis\n",
    "\n",
    "<hr style=\"border:2px solid black\"> </hr>\n",
    "\n",
    "## Notebook 04 - last.fm API\n",
    "\n",
    "---\n",
    "\n",
    "### Import libraries"
   ]
  },
  {
   "cell_type": "code",
   "execution_count": 2,
   "id": "ef553712",
   "metadata": {
    "pycharm": {
     "name": "#%%\n"
    }
   },
   "outputs": [],
   "source": [
    "import matplotlib.pyplot as plt\n",
    "import pandas as pd\n",
    "import numpy as np\n",
    "import time\n",
    "import requests\n",
    "import sys"
   ]
  },
  {
   "cell_type": "code",
   "execution_count": 3,
   "id": "07a0d63b",
   "metadata": {
    "pycharm": {
     "name": "#%%\n"
    }
   },
   "outputs": [],
   "source": [
    "def num_uniques(ser):\n",
    "    try:\n",
    "        return len(ser.unique())\n",
    "    except:\n",
    "        return \"Not unique check-able\""
   ]
  },
  {
   "cell_type": "code",
   "execution_count": 4,
   "id": "97bd438f",
   "metadata": {
    "pycharm": {
     "name": "#%%\n"
    }
   },
   "outputs": [],
   "source": [
    "def summarize_df(df):\n",
    "    print(\"======DATA SUMMARY======\")\n",
    "    print(\"{} rows by {} columns\".format(df.shape[0], df.shape[1]))\n",
    "    print(\"\\n======COLUMNS======\")\n",
    "    print(df.dtypes)\n",
    "    print(\"\\n======PREVIEW======\")\n",
    "    display(df.head())\n",
    "    print(\"\\n======NUMERICAL COL SUMMARY======\")\n",
    "    print(df.describe())\n",
    "    print(\"\\n\")\n",
    "    for col in df.columns:\n",
    "        print(\"{}: {} unique values\".format(col, num_uniques(df[col])))"
   ]
  },
  {
   "cell_type": "markdown",
   "id": "ef31b5bf",
   "metadata": {
    "pycharm": {
     "name": "#%% md\n"
    }
   },
   "source": [
    "---\n",
    "### Read in data"
   ]
  },
  {
   "cell_type": "code",
   "execution_count": 5,
   "id": "4d26fbf6",
   "metadata": {
    "pycharm": {
     "name": "#%%\n"
    }
   },
   "outputs": [],
   "source": [
    "api_key = '6b198bd00d4f795ff68eadf6054ebe60'"
   ]
  },
  {
   "cell_type": "code",
   "execution_count": 15,
   "id": "626144ea",
   "metadata": {
    "pycharm": {
     "name": "#%%\n"
    }
   },
   "outputs": [
    {
     "data": {
      "text/html": [
       "<div>\n",
       "<style scoped>\n",
       "    .dataframe tbody tr th:only-of-type {\n",
       "        vertical-align: middle;\n",
       "    }\n",
       "\n",
       "    .dataframe tbody tr th {\n",
       "        vertical-align: top;\n",
       "    }\n",
       "\n",
       "    .dataframe thead th {\n",
       "        text-align: right;\n",
       "    }\n",
       "</style>\n",
       "<table border=\"1\" class=\"dataframe\">\n",
       "  <thead>\n",
       "    <tr style=\"text-align: right;\">\n",
       "      <th></th>\n",
       "      <th>release_gid</th>\n",
       "      <th>track_name</th>\n",
       "      <th>artist_name</th>\n",
       "    </tr>\n",
       "  </thead>\n",
       "  <tbody>\n",
       "    <tr>\n",
       "      <th>0</th>\n",
       "      <td>56d792d8-2482-43d8-a552-8ab13566a106</td>\n",
       "      <td>Am I Dreaming</td>\n",
       "      <td>Dionne Warwick</td>\n",
       "    </tr>\n",
       "    <tr>\n",
       "      <th>1</th>\n",
       "      <td>56d792d8-2482-43d8-a552-8ab13566a106</td>\n",
       "      <td>Tears Ago</td>\n",
       "      <td>Dionne Warwick</td>\n",
       "    </tr>\n",
       "    <tr>\n",
       "      <th>2</th>\n",
       "      <td>56d792d8-2482-43d8-a552-8ab13566a106</td>\n",
       "      <td>What Color Is Love</td>\n",
       "      <td>Dionne Warwick</td>\n",
       "    </tr>\n",
       "    <tr>\n",
       "      <th>3</th>\n",
       "      <td>56d792d8-2482-43d8-a552-8ab13566a106</td>\n",
       "      <td>How To Keep The Music Playing</td>\n",
       "      <td>Dionne Warwick</td>\n",
       "    </tr>\n",
       "    <tr>\n",
       "      <th>4</th>\n",
       "      <td>56d792d8-2482-43d8-a552-8ab13566a106</td>\n",
       "      <td>Déjà Vu</td>\n",
       "      <td>Dionne Warwick</td>\n",
       "    </tr>\n",
       "  </tbody>\n",
       "</table>\n",
       "</div>"
      ],
      "text/plain": [
       "                            release_gid                     track_name  \\\n",
       "0  56d792d8-2482-43d8-a552-8ab13566a106                  Am I Dreaming   \n",
       "1  56d792d8-2482-43d8-a552-8ab13566a106                      Tears Ago   \n",
       "2  56d792d8-2482-43d8-a552-8ab13566a106             What Color Is Love   \n",
       "3  56d792d8-2482-43d8-a552-8ab13566a106  How To Keep The Music Playing   \n",
       "4  56d792d8-2482-43d8-a552-8ab13566a106                        Déjà Vu   \n",
       "\n",
       "      artist_name  \n",
       "0  Dionne Warwick  \n",
       "1  Dionne Warwick  \n",
       "2  Dionne Warwick  \n",
       "3  Dionne Warwick  \n",
       "4  Dionne Warwick  "
      ]
     },
     "execution_count": 15,
     "metadata": {},
     "output_type": "execute_result"
    }
   ],
   "source": [
    "rel_name_artist = pd.read_csv('rel_name_artist.csv')[['release_gid', 'track_name', 'artist_name']]\n",
    "rel_name_artist.head()"
   ]
  },
  {
   "cell_type": "code",
   "execution_count": 16,
   "id": "8d06cc5c",
   "metadata": {
    "pycharm": {
     "name": "#%%\n"
    }
   },
   "outputs": [
    {
     "data": {
      "text/html": [
       "<div>\n",
       "<style scoped>\n",
       "    .dataframe tbody tr th:only-of-type {\n",
       "        vertical-align: middle;\n",
       "    }\n",
       "\n",
       "    .dataframe tbody tr th {\n",
       "        vertical-align: top;\n",
       "    }\n",
       "\n",
       "    .dataframe thead th {\n",
       "        text-align: right;\n",
       "    }\n",
       "</style>\n",
       "<table border=\"1\" class=\"dataframe\">\n",
       "  <thead>\n",
       "    <tr style=\"text-align: right;\">\n",
       "      <th></th>\n",
       "      <th>isrc</th>\n",
       "      <th>sp_uri</th>\n",
       "    </tr>\n",
       "  </thead>\n",
       "  <tbody>\n",
       "    <tr>\n",
       "      <th>0</th>\n",
       "      <td>DEA622100038</td>\n",
       "      <td>3BDcuuLSAUCp3V5gtXmU3M</td>\n",
       "    </tr>\n",
       "    <tr>\n",
       "      <th>1</th>\n",
       "      <td>QZES92183707</td>\n",
       "      <td>3HWIktiW8cv1KcHLc7iYIW</td>\n",
       "    </tr>\n",
       "    <tr>\n",
       "      <th>2</th>\n",
       "      <td>USUM72001306</td>\n",
       "      <td>75nKBP8jQu681pTNCtrEnn</td>\n",
       "    </tr>\n",
       "    <tr>\n",
       "      <th>3</th>\n",
       "      <td>USEE10183941</td>\n",
       "      <td>6wGMLoEqD2k3RBXFHD0yUp</td>\n",
       "    </tr>\n",
       "    <tr>\n",
       "      <th>4</th>\n",
       "      <td>RUA582002334</td>\n",
       "      <td>15J6jZN7MM4gG617FyohOQ</td>\n",
       "    </tr>\n",
       "  </tbody>\n",
       "</table>\n",
       "</div>"
      ],
      "text/plain": [
       "           isrc                  sp_uri\n",
       "0  DEA622100038  3BDcuuLSAUCp3V5gtXmU3M\n",
       "1  QZES92183707  3HWIktiW8cv1KcHLc7iYIW\n",
       "2  USUM72001306  75nKBP8jQu681pTNCtrEnn\n",
       "3  USEE10183941  6wGMLoEqD2k3RBXFHD0yUp\n",
       "4  RUA582002334  15J6jZN7MM4gG617FyohOQ"
      ]
     },
     "execution_count": 16,
     "metadata": {},
     "output_type": "execute_result"
    }
   ],
   "source": [
    "spot_isrc_uri = pd.read_csv('isrc_uri.csv')[['isrc', 'sp_uri']]\n",
    "spot_isrc_uri.head()"
   ]
  },
  {
   "cell_type": "code",
   "execution_count": 17,
   "id": "033e9b19",
   "metadata": {
    "pycharm": {
     "name": "#%%\n"
    }
   },
   "outputs": [
    {
     "data": {
      "text/html": [
       "<div>\n",
       "<style scoped>\n",
       "    .dataframe tbody tr th:only-of-type {\n",
       "        vertical-align: middle;\n",
       "    }\n",
       "\n",
       "    .dataframe tbody tr th {\n",
       "        vertical-align: top;\n",
       "    }\n",
       "\n",
       "    .dataframe thead th {\n",
       "        text-align: right;\n",
       "    }\n",
       "</style>\n",
       "<table border=\"1\" class=\"dataframe\">\n",
       "  <thead>\n",
       "    <tr style=\"text-align: right;\">\n",
       "      <th></th>\n",
       "      <th>track_id</th>\n",
       "      <th>track_gid</th>\n",
       "      <th>recording_id</th>\n",
       "      <th>medium_id</th>\n",
       "      <th>track_name</th>\n",
       "      <th>recording_gid</th>\n",
       "      <th>isrc</th>\n",
       "      <th>release_id</th>\n",
       "      <th>release_gid</th>\n",
       "      <th>release_name</th>\n",
       "      <th>artist_credit_id</th>\n",
       "      <th>barcode</th>\n",
       "      <th>artist_credit_name</th>\n",
       "      <th>date_year</th>\n",
       "    </tr>\n",
       "  </thead>\n",
       "  <tbody>\n",
       "    <tr>\n",
       "      <th>5138944</th>\n",
       "      <td>30694977</td>\n",
       "      <td>f315f0e6-8b85-4af2-b18b-6015e552d422</td>\n",
       "      <td>3485200</td>\n",
       "      <td>2870106</td>\n",
       "      <td>What the World Needs Now Is Love (Dionne Sings...</td>\n",
       "      <td>e852fa84-c2be-4104-90db-8ef118566f28</td>\n",
       "      <td>USCMG9800120</td>\n",
       "      <td>2643114</td>\n",
       "      <td>56d792d8-2482-43d8-a552-8ab13566a106</td>\n",
       "      <td>She’s Back</td>\n",
       "      <td>16172</td>\n",
       "      <td>634164608521</td>\n",
       "      <td>Dionne Warwick</td>\n",
       "      <td>2019</td>\n",
       "    </tr>\n",
       "    <tr>\n",
       "      <th>6379854</th>\n",
       "      <td>28274156</td>\n",
       "      <td>fed2cf3e-2053-4282-ae8a-aca89ded4027</td>\n",
       "      <td>24794010</td>\n",
       "      <td>2626676</td>\n",
       "      <td>なんてこった</td>\n",
       "      <td>b51f01d5-fce5-44ae-ad0b-b32ac9a54e0b</td>\n",
       "      <td>JPVI01900906</td>\n",
       "      <td>2424086</td>\n",
       "      <td>5c8fd7dd-e054-44b3-b7d4-1b422b8c344a</td>\n",
       "      <td>TVアニメ「私に天使が舞い降りた！」サウンドコレクション</td>\n",
       "      <td>1821450</td>\n",
       "      <td>4580325327977</td>\n",
       "      <td>伊賀拓郎</td>\n",
       "      <td>2019</td>\n",
       "    </tr>\n",
       "    <tr>\n",
       "      <th>7784570</th>\n",
       "      <td>36445759</td>\n",
       "      <td>52519c42-73c9-468b-b44a-6ff5ad88879b</td>\n",
       "      <td>30688971</td>\n",
       "      <td>3506956</td>\n",
       "      <td>La nemica d’amore fatta amante, serenata à 3: ...</td>\n",
       "      <td>5cc269f2-b522-4b44-b568-e3d3e3d3e002</td>\n",
       "      <td>FR1P70201730</td>\n",
       "      <td>3218908</td>\n",
       "      <td>3fd04337-6682-4cf8-8e7c-d5330c7c933c</td>\n",
       "      <td>La nemica d’amore fatta amante</td>\n",
       "      <td>3124554</td>\n",
       "      <td>3760014196119</td>\n",
       "      <td>Bononcini; Adriana Fernández, Martín Oro, Furi...</td>\n",
       "      <td>2021</td>\n",
       "    </tr>\n",
       "    <tr>\n",
       "      <th>7674635</th>\n",
       "      <td>33863813</td>\n",
       "      <td>6efedc41-368f-461b-b83c-0fcd2b1b2165</td>\n",
       "      <td>28792342</td>\n",
       "      <td>3214362</td>\n",
       "      <td>Chill Your Eyes</td>\n",
       "      <td>a04503c7-72ff-4ffc-9538-9e79a95564ec</td>\n",
       "      <td>DEW872001575</td>\n",
       "      <td>2953727</td>\n",
       "      <td>bcb6d88c-288a-48e0-a367-385c5fbbc879</td>\n",
       "      <td>Coffee Bar Lounge, Vol. 20</td>\n",
       "      <td>1</td>\n",
       "      <td>4251794433321</td>\n",
       "      <td>Various Artists</td>\n",
       "      <td>2020</td>\n",
       "    </tr>\n",
       "    <tr>\n",
       "      <th>6516875</th>\n",
       "      <td>29738294</td>\n",
       "      <td>e467ccc6-dcc1-461c-82e4-69a10dcc7f4b</td>\n",
       "      <td>25854890</td>\n",
       "      <td>2774306</td>\n",
       "      <td>Ouverture</td>\n",
       "      <td>7133e0a5-6c17-4478-92a5-124baf17e4b6</td>\n",
       "      <td>CAA4H1903001</td>\n",
       "      <td>2557577</td>\n",
       "      <td>56cd6377-bc3e-4f26-8300-98bc1f879263</td>\n",
       "      <td>De temps et de vents</td>\n",
       "      <td>1599253</td>\n",
       "      <td>3616402095765</td>\n",
       "      <td>Bodh’aktan</td>\n",
       "      <td>2019</td>\n",
       "    </tr>\n",
       "  </tbody>\n",
       "</table>\n",
       "</div>"
      ],
      "text/plain": [
       "         track_id                             track_gid  recording_id  \\\n",
       "5138944  30694977  f315f0e6-8b85-4af2-b18b-6015e552d422       3485200   \n",
       "6379854  28274156  fed2cf3e-2053-4282-ae8a-aca89ded4027      24794010   \n",
       "7784570  36445759  52519c42-73c9-468b-b44a-6ff5ad88879b      30688971   \n",
       "7674635  33863813  6efedc41-368f-461b-b83c-0fcd2b1b2165      28792342   \n",
       "6516875  29738294  e467ccc6-dcc1-461c-82e4-69a10dcc7f4b      25854890   \n",
       "\n",
       "         medium_id                                         track_name  \\\n",
       "5138944    2870106  What the World Needs Now Is Love (Dionne Sings...   \n",
       "6379854    2626676                                             なんてこった   \n",
       "7784570    3506956  La nemica d’amore fatta amante, serenata à 3: ...   \n",
       "7674635    3214362                                    Chill Your Eyes   \n",
       "6516875    2774306                                          Ouverture   \n",
       "\n",
       "                                recording_gid          isrc  release_id  \\\n",
       "5138944  e852fa84-c2be-4104-90db-8ef118566f28  USCMG9800120     2643114   \n",
       "6379854  b51f01d5-fce5-44ae-ad0b-b32ac9a54e0b  JPVI01900906     2424086   \n",
       "7784570  5cc269f2-b522-4b44-b568-e3d3e3d3e002  FR1P70201730     3218908   \n",
       "7674635  a04503c7-72ff-4ffc-9538-9e79a95564ec  DEW872001575     2953727   \n",
       "6516875  7133e0a5-6c17-4478-92a5-124baf17e4b6  CAA4H1903001     2557577   \n",
       "\n",
       "                                  release_gid                    release_name  \\\n",
       "5138944  56d792d8-2482-43d8-a552-8ab13566a106                      She’s Back   \n",
       "6379854  5c8fd7dd-e054-44b3-b7d4-1b422b8c344a    TVアニメ「私に天使が舞い降りた！」サウンドコレクション   \n",
       "7784570  3fd04337-6682-4cf8-8e7c-d5330c7c933c  La nemica d’amore fatta amante   \n",
       "7674635  bcb6d88c-288a-48e0-a367-385c5fbbc879      Coffee Bar Lounge, Vol. 20   \n",
       "6516875  56cd6377-bc3e-4f26-8300-98bc1f879263            De temps et de vents   \n",
       "\n",
       "         artist_credit_id        barcode  \\\n",
       "5138944             16172   634164608521   \n",
       "6379854           1821450  4580325327977   \n",
       "7784570           3124554  3760014196119   \n",
       "7674635                 1  4251794433321   \n",
       "6516875           1599253  3616402095765   \n",
       "\n",
       "                                        artist_credit_name  date_year  \n",
       "5138944                                     Dionne Warwick       2019  \n",
       "6379854                                               伊賀拓郎       2019  \n",
       "7784570  Bononcini; Adriana Fernández, Martín Oro, Furi...       2021  \n",
       "7674635                                    Various Artists       2020  \n",
       "6516875                                         Bodh’aktan       2019  "
      ]
     },
     "execution_count": 17,
     "metadata": {},
     "output_type": "execute_result"
    }
   ],
   "source": [
    "full_set = pd.read_parquet('mb_db_songs_sample.parquet')\n",
    "full_set.head()"
   ]
  },
  {
   "cell_type": "code",
   "execution_count": 18,
   "id": "28d5cb0f",
   "metadata": {
    "pycharm": {
     "name": "#%%\n"
    }
   },
   "outputs": [],
   "source": [
    "release_gids = full_set.merge(spot_isrc_uri, on='isrc')['release_gid'].unique()"
   ]
  },
  {
   "cell_type": "code",
   "execution_count": 27,
   "id": "55facd82",
   "metadata": {
    "pycharm": {
     "name": "#%%\n"
    }
   },
   "outputs": [
    {
     "ename": "AttributeError",
     "evalue": "'list' object has no attribute 'merge'",
     "output_type": "error",
     "traceback": [
      "\u001B[0;31m---------------------------------------------------------------------------\u001B[0m",
      "\u001B[0;31mAttributeError\u001B[0m                            Traceback (most recent call last)",
      "\u001B[0;32m<ipython-input-27-10b925372a70>\u001B[0m in \u001B[0;36m<module>\u001B[0;34m\u001B[0m\n\u001B[0;32m----> 1\u001B[0;31m \u001B[0mrel_name_artist\u001B[0m \u001B[0;34m=\u001B[0m \u001B[0mrel_name_artist\u001B[0m\u001B[0;34m.\u001B[0m\u001B[0mmerge\u001B[0m\u001B[0;34m(\u001B[0m\u001B[0mpd\u001B[0m\u001B[0;34m.\u001B[0m\u001B[0mDataFrame\u001B[0m\u001B[0;34m(\u001B[0m\u001B[0mpd\u001B[0m\u001B[0;34m.\u001B[0m\u001B[0mDataFrame\u001B[0m\u001B[0;34m(\u001B[0m\u001B[0mrelease_gids\u001B[0m\u001B[0;34m,\u001B[0m \u001B[0mcolumns\u001B[0m\u001B[0;34m=\u001B[0m\u001B[0;34m[\u001B[0m\u001B[0;34m'release_gid'\u001B[0m\u001B[0;34m]\u001B[0m\u001B[0;34m)\u001B[0m\u001B[0;34m)\u001B[0m\u001B[0;34m,\u001B[0m \u001B[0mon\u001B[0m\u001B[0;34m=\u001B[0m\u001B[0;34m'release_gid'\u001B[0m\u001B[0;34m)\u001B[0m\u001B[0;34m\u001B[0m\u001B[0;34m\u001B[0m\u001B[0m\n\u001B[0m\u001B[1;32m      2\u001B[0m \u001B[0mrel_name_artist\u001B[0m \u001B[0;34m=\u001B[0m \u001B[0mrel_name_artist\u001B[0m\u001B[0;34m.\u001B[0m\u001B[0mvalues\u001B[0m\u001B[0;34m.\u001B[0m\u001B[0mtolist\u001B[0m\u001B[0;34m(\u001B[0m\u001B[0;34m)\u001B[0m\u001B[0;34m\u001B[0m\u001B[0;34m\u001B[0m\u001B[0m\n\u001B[1;32m      3\u001B[0m \u001B[0mrel_name_artist\u001B[0m\u001B[0;34m.\u001B[0m\u001B[0mto_csv\u001B[0m\u001B[0;34m(\u001B[0m\u001B[0;34m'rel_name_artist_slim.csv'\u001B[0m\u001B[0;34m)\u001B[0m\u001B[0;34m\u001B[0m\u001B[0;34m\u001B[0m\u001B[0m\n",
      "\u001B[0;31mAttributeError\u001B[0m: 'list' object has no attribute 'merge'"
     ]
    }
   ],
   "source": [
    "rel_name_artist = rel_name_artist.merge(pd.DataFrame(pd.DataFrame(release_gids, columns=['release_gid'])), on='release_gid')\n",
    "rel_name_artist = rel_name_artist.values.tolist()"
   ]
  },
  {
   "cell_type": "code",
   "execution_count": 29,
   "id": "d13e2765",
   "metadata": {
    "pycharm": {
     "name": "#%%\n"
    }
   },
   "outputs": [],
   "source": [
    "pd.DataFrame(rel_name_artist, columns=['release_gid', 'track_name', 'artist_name']).to_csv('rel_name_artist_slim.csv')\n"
   ]
  },
  {
   "cell_type": "code",
   "execution_count": 49,
   "id": "1a89cf5c",
   "metadata": {
    "pycharm": {
     "name": "#%%\n"
    }
   },
   "outputs": [],
   "source": [
    "# Initialize from file - TBD"
   ]
  },
  {
   "cell_type": "code",
   "execution_count": 30,
   "id": "d924d663",
   "metadata": {
    "pycharm": {
     "name": "#%%\n"
    }
   },
   "outputs": [],
   "source": [
    "# Initialize from start\n",
    "k = 0\n",
    "gid_name_art_count = []\n",
    "fails=[]"
   ]
  },
  {
   "cell_type": "code",
   "execution_count": 51,
   "id": "62a6c37d",
   "metadata": {
    "pycharm": {
     "name": "#%%\n"
    }
   },
   "outputs": [],
   "source": [
    "k = 78700"
   ]
  },
  {
   "cell_type": "code",
   "execution_count": 63,
   "id": "d6e05bd6",
   "metadata": {
    "scrolled": true,
    "pycharm": {
     "name": "#%%\n"
    }
   },
   "outputs": [
    {
     "name": "stdout",
     "output_type": "stream",
     "text": [
      "291500 songs looked up, 232327 found\n",
      "291600 songs looked up, 232426 found\n",
      "291700 songs looked up, 232525 found\n",
      "291800 songs looked up, 232614 found\n",
      "291900 songs looked up, 232713 found\n",
      "292000 songs looked up, 232796 found\n",
      "292100 songs looked up, 232880 found\n",
      "292200 songs looked up, 232974 found\n",
      "292300 songs looked up, 233043 found\n",
      "292400 songs looked up, 233142 found\n",
      "292500 songs looked up, 233241 found\n",
      "292600 songs looked up, 233341 found\n",
      "292700 songs looked up, 233426 found\n",
      "292800 songs looked up, 233520 found\n",
      "292900 songs looked up, 233597 found\n",
      "293000 songs looked up, 233689 found\n",
      "293100 songs looked up, 233761 found\n",
      "293200 songs looked up, 233850 found\n",
      "293300 songs looked up, 233937 found\n",
      "293400 songs looked up, 234028 found\n",
      "293500 songs looked up, 234087 found\n",
      "293600 songs looked up, 234173 found\n",
      "293700 songs looked up, 234272 found\n",
      "293800 songs looked up, 234371 found\n",
      "293900 songs looked up, 234470 found\n",
      "294000 songs looked up, 234556 found\n",
      "294100 songs looked up, 234646 found\n",
      "294200 songs looked up, 234745 found\n",
      "294300 songs looked up, 234845 found\n",
      "294400 songs looked up, 234928 found\n",
      "294500 songs looked up, 235020 found\n",
      "294600 songs looked up, 235120 found\n",
      "294700 songs looked up, 235206 found\n",
      "Error! Waiting 30 secs and re-trying...\n",
      "294800 songs looked up, 235282 found\n",
      "294900 songs looked up, 235356 found\n",
      "295000 songs looked up, 235455 found\n",
      "295100 songs looked up, 235554 found\n",
      "295200 songs looked up, 235635 found\n",
      "295300 songs looked up, 235714 found\n",
      "295400 songs looked up, 235796 found\n",
      "Error! Waiting 30 secs and re-trying...\n",
      "Error! Waiting 30 secs and re-trying...\n",
      "Error! Waiting 60 secs and re-trying...\n",
      "295500 songs looked up, 235872 found\n",
      "295600 songs looked up, 235970 found\n",
      "295700 songs looked up, 236063 found\n",
      "295800 songs looked up, 236160 found\n",
      "295900 songs looked up, 236256 found\n",
      "296000 songs looked up, 236323 found\n",
      "296100 songs looked up, 236412 found\n",
      "296200 songs looked up, 236511 found\n",
      "296300 songs looked up, 236610 found\n",
      "296400 songs looked up, 236691 found\n",
      "296500 songs looked up, 236748 found\n",
      "296600 songs looked up, 236841 found\n",
      "296700 songs looked up, 236934 found\n",
      "296800 songs looked up, 237029 found\n",
      "296900 songs looked up, 237125 found\n",
      "297000 songs looked up, 237193 found\n",
      "297100 songs looked up, 237280 found\n",
      "297200 songs looked up, 237371 found\n",
      "297300 songs looked up, 237471 found\n",
      "297400 songs looked up, 237566 found\n",
      "297500 songs looked up, 237662 found\n",
      "297600 songs looked up, 237758 found\n",
      "297700 songs looked up, 237828 found\n"
     ]
    }
   ],
   "source": [
    "for k in range(k, len(rel_name_artist)):\n",
    "    gid = rel_name_artist[k][0]\n",
    "    name = rel_name_artist[k][1]\n",
    "    artist = rel_name_artist[k][2]\n",
    "#     print(artist, name)\n",
    "\n",
    "#     name_enc = urllib.parse.quote(name.encode('utf8'))\n",
    "#     artist_enc = urllib.parse.quote(artist.encode('utf8'))\n",
    "    \n",
    "    retries = 1\n",
    "    success = False\n",
    "\n",
    "    while not success:\n",
    "        try:\n",
    "            r = requests.get('https://ws.audioscrobbler.com/2.0/?method=track.getInfo&api_key={}&artist={}&track={}&format=json'.format(api_key, artist, name))\n",
    "            success = True\n",
    "        except Exception as e:\n",
    "            wait = retries * 30;\n",
    "            print(f'Error! Waiting {wait} secs and re-trying...')\n",
    "            sys.stdout.flush()\n",
    "            time.sleep(wait)\n",
    "            retries += 1\n",
    "    try:\n",
    "        if 'track' in r.json().keys():\n",
    "            gid_name_art_count.append([gid, name, artist, r.json()['track']['playcount']])\n",
    "        else:\n",
    "            fails.append(k)\n",
    "    except:\n",
    "        fails.append(k)\n",
    "    k += 1\n",
    "    if k % 100 == 0:\n",
    "        print('{} songs looked up, {} found'.format(k, len(gid_name_art_count)))"
   ]
  },
  {
   "cell_type": "code",
   "execution_count": 64,
   "id": "d218a2aa",
   "metadata": {
    "pycharm": {
     "name": "#%%\n"
    }
   },
   "outputs": [],
   "source": [
    "# Save out to file\n",
    "pd.DataFrame(gid_name_art_count, columns=['gid', 'track_name', 'artist_name', 'play_count']).to_csv('gid_name_art_count.csv')"
   ]
  },
  {
   "cell_type": "code",
   "execution_count": 65,
   "id": "ed22ea20",
   "metadata": {
    "pycharm": {
     "name": "#%%\n"
    }
   },
   "outputs": [],
   "source": [
    "# Save out to file\n",
    "pd.DataFrame(fails, columns=['fail_id']).to_csv('gid_name_art_count_fails.csv')"
   ]
  }
 ],
 "metadata": {
  "kernelspec": {
   "display_name": "ISyE 6740 Project",
   "language": "python",
   "name": "isye6740-project"
  },
  "language_info": {
   "codemirror_mode": {
    "name": "ipython",
    "version": 3
   },
   "file_extension": ".py",
   "mimetype": "text/x-python",
   "name": "python",
   "nbconvert_exporter": "python",
   "pygments_lexer": "ipython3",
   "version": "3.6.13"
  }
 },
 "nbformat": 4,
 "nbformat_minor": 5
}