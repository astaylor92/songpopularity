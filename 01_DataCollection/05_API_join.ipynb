{
 "cells": [
  {
   "cell_type": "markdown",
   "id": "930cf686",
   "metadata": {
    "pycharm": {
     "name": "#%% md\n"
    }
   },
   "source": [
    "# Music Popularity Analysis\n",
    "\n",
    "<hr style=\"border:2px solid black\"> </hr>\n",
    "\n",
    "## Notebook 05 - API Join\n",
    "\n",
    "---\n",
    "\n",
    "### Import libraries"
   ]
  },
  {
   "cell_type": "code",
   "execution_count": 58,
   "id": "674ccd0c",
   "metadata": {
    "pycharm": {
     "name": "#%%\n"
    }
   },
   "outputs": [],
   "source": [
    "import matplotlib.pyplot as plt\n",
    "import pandas as pd\n",
    "import numpy as np\n",
    "import time\n",
    "from fuzzywuzzy import fuzz\n",
    "from fuzzywuzzy import process"
   ]
  },
  {
   "cell_type": "code",
   "execution_count": 59,
   "id": "4efd3018",
   "metadata": {
    "pycharm": {
     "name": "#%%\n"
    }
   },
   "outputs": [],
   "source": [
    "def num_uniques(ser):\n",
    "    try:\n",
    "        return len(ser.unique())\n",
    "    except:\n",
    "        return \"Not unique check-able\""
   ]
  },
  {
   "cell_type": "code",
   "execution_count": 60,
   "id": "9014124b",
   "metadata": {
    "pycharm": {
     "name": "#%%\n"
    }
   },
   "outputs": [],
   "source": [
    "def summarize_df(df):\n",
    "    print(\"======DATA SUMMARY======\")\n",
    "    print(\"{} rows by {} columns\".format(df.shape[0], df.shape[1]))\n",
    "    print(\"\\n======COLUMNS======\")\n",
    "    print(df.dtypes)\n",
    "    print(\"\\n======PREVIEW======\")\n",
    "    display(df.head())\n",
    "    print(\"\\n======NUMERICAL COL SUMMARY======\")\n",
    "    print(df.describe())\n",
    "    print(\"\\n\")\n",
    "    for col in df.columns:\n",
    "        print(\"{}: {} unique values\".format(col, num_uniques(df[col])))"
   ]
  },
  {
   "cell_type": "code",
   "execution_count": 61,
   "id": "8693611a",
   "metadata": {
    "pycharm": {
     "name": "#%%\n"
    }
   },
   "outputs": [],
   "source": [
    "def quicksum(df):\n",
    "    print(\"======DATA SUMMARY======\")\n",
    "    print(\"{} rows by {} columns\".format(df.shape[0], df.shape[1]))\n",
    "    print(\"\\n======PREVIEW======\")\n",
    "    display(df.head())\n",
    "    for col in df.columns:\n",
    "        print(\"{}: {} unique values\".format(col, num_uniques(df[col])))"
   ]
  },
  {
   "cell_type": "markdown",
   "id": "9fd5ac3a",
   "metadata": {
    "pycharm": {
     "name": "#%% md\n"
    }
   },
   "source": [
    "---\n",
    "### Import data"
   ]
  },
  {
   "cell_type": "code",
   "execution_count": 62,
   "id": "24ee1b8c",
   "metadata": {
    "pycharm": {
     "name": "#%%\n"
    }
   },
   "outputs": [
    {
     "name": "stdout",
     "output_type": "stream",
     "text": [
      "======DATA SUMMARY======\n",
      "237916 rows by 4 columns\n",
      "\n",
      "======PREVIEW======\n"
     ]
    },
    {
     "data": {
      "text/plain": "                         mb_release_gid  lfm_track_name lfm_artist_name  \\\n0  5c8fd7dd-e054-44b3-b7d4-1b422b8c344a         爽やかなる決意            伊賀拓郎   \n1  5c8fd7dd-e054-44b3-b7d4-1b422b8c344a   私に天使が舞い降りた！ I            伊賀拓郎   \n2  5c8fd7dd-e054-44b3-b7d4-1b422b8c344a  私に天使が舞い降りた！ II            伊賀拓郎   \n3  5c8fd7dd-e054-44b3-b7d4-1b422b8c344a        みやこエキサイト            伊賀拓郎   \n4  5c8fd7dd-e054-44b3-b7d4-1b422b8c344a           幸せな一日            伊賀拓郎   \n\n   lfm_play_count  \n0             137  \n1               4  \n2              79  \n3             104  \n4             116  ",
      "text/html": "<div>\n<style scoped>\n    .dataframe tbody tr th:only-of-type {\n        vertical-align: middle;\n    }\n\n    .dataframe tbody tr th {\n        vertical-align: top;\n    }\n\n    .dataframe thead th {\n        text-align: right;\n    }\n</style>\n<table border=\"1\" class=\"dataframe\">\n  <thead>\n    <tr style=\"text-align: right;\">\n      <th></th>\n      <th>mb_release_gid</th>\n      <th>lfm_track_name</th>\n      <th>lfm_artist_name</th>\n      <th>lfm_play_count</th>\n    </tr>\n  </thead>\n  <tbody>\n    <tr>\n      <th>0</th>\n      <td>5c8fd7dd-e054-44b3-b7d4-1b422b8c344a</td>\n      <td>爽やかなる決意</td>\n      <td>伊賀拓郎</td>\n      <td>137</td>\n    </tr>\n    <tr>\n      <th>1</th>\n      <td>5c8fd7dd-e054-44b3-b7d4-1b422b8c344a</td>\n      <td>私に天使が舞い降りた！ I</td>\n      <td>伊賀拓郎</td>\n      <td>4</td>\n    </tr>\n    <tr>\n      <th>2</th>\n      <td>5c8fd7dd-e054-44b3-b7d4-1b422b8c344a</td>\n      <td>私に天使が舞い降りた！ II</td>\n      <td>伊賀拓郎</td>\n      <td>79</td>\n    </tr>\n    <tr>\n      <th>3</th>\n      <td>5c8fd7dd-e054-44b3-b7d4-1b422b8c344a</td>\n      <td>みやこエキサイト</td>\n      <td>伊賀拓郎</td>\n      <td>104</td>\n    </tr>\n    <tr>\n      <th>4</th>\n      <td>5c8fd7dd-e054-44b3-b7d4-1b422b8c344a</td>\n      <td>幸せな一日</td>\n      <td>伊賀拓郎</td>\n      <td>116</td>\n    </tr>\n  </tbody>\n</table>\n</div>"
     },
     "metadata": {},
     "output_type": "display_data"
    },
    {
     "name": "stdout",
     "output_type": "stream",
     "text": [
      "mb_release_gid: 17794 unique values\n",
      "lfm_track_name: 135098 unique values\n",
      "lfm_artist_name: 9505 unique values\n",
      "lfm_play_count: 60441 unique values\n"
     ]
    }
   ],
   "source": [
    "# Read in last.fm release + track + play count\n",
    "lfm_count = pd.read_csv('gid_name_art_count.csv', usecols=[1, 2, 3, 4], skiprows=1,\n",
    "                        names=['mb_release_gid', 'lfm_track_name', 'lfm_artist_name', 'lfm_play_count'])\n",
    "quicksum(lfm_count)"
   ]
  },
  {
   "cell_type": "code",
   "execution_count": 63,
   "id": "6b1547f6",
   "metadata": {
    "pycharm": {
     "name": "#%%\n"
    }
   },
   "outputs": [
    {
     "name": "stdout",
     "output_type": "stream",
     "text": [
      "======DATA SUMMARY======\n",
      "233372 rows by 5 columns\n",
      "\n",
      "======PREVIEW======\n"
     ]
    },
    {
     "data": {
      "text/plain": "                         mb_release_gid           lfm_track_name  \\\n0  0000729a-8ad0-4e0f-8dfe-13c1e0b73274                      まほう   \n1  0000729a-8ad0-4e0f-8dfe-13c1e0b73274                     アンサー   \n2  0000729a-8ad0-4e0f-8dfe-13c1e0b73274                    メルの黄昏   \n3  0000729a-8ad0-4e0f-8dfe-13c1e0b73274                   モンタージュ   \n4  0000729a-8ad0-4e0f-8dfe-13c1e0b73274  世界線は分岐する -Instrumental-   \n\n  lfm_artist_name  lfm_play_count  size  \n0              花譜            3200     1  \n1              花譜           40778     1  \n2              花譜            3875     1  \n3              花譜            5875     1  \n4              花譜              19     1  ",
      "text/html": "<div>\n<style scoped>\n    .dataframe tbody tr th:only-of-type {\n        vertical-align: middle;\n    }\n\n    .dataframe tbody tr th {\n        vertical-align: top;\n    }\n\n    .dataframe thead th {\n        text-align: right;\n    }\n</style>\n<table border=\"1\" class=\"dataframe\">\n  <thead>\n    <tr style=\"text-align: right;\">\n      <th></th>\n      <th>mb_release_gid</th>\n      <th>lfm_track_name</th>\n      <th>lfm_artist_name</th>\n      <th>lfm_play_count</th>\n      <th>size</th>\n    </tr>\n  </thead>\n  <tbody>\n    <tr>\n      <th>0</th>\n      <td>0000729a-8ad0-4e0f-8dfe-13c1e0b73274</td>\n      <td>まほう</td>\n      <td>花譜</td>\n      <td>3200</td>\n      <td>1</td>\n    </tr>\n    <tr>\n      <th>1</th>\n      <td>0000729a-8ad0-4e0f-8dfe-13c1e0b73274</td>\n      <td>アンサー</td>\n      <td>花譜</td>\n      <td>40778</td>\n      <td>1</td>\n    </tr>\n    <tr>\n      <th>2</th>\n      <td>0000729a-8ad0-4e0f-8dfe-13c1e0b73274</td>\n      <td>メルの黄昏</td>\n      <td>花譜</td>\n      <td>3875</td>\n      <td>1</td>\n    </tr>\n    <tr>\n      <th>3</th>\n      <td>0000729a-8ad0-4e0f-8dfe-13c1e0b73274</td>\n      <td>モンタージュ</td>\n      <td>花譜</td>\n      <td>5875</td>\n      <td>1</td>\n    </tr>\n    <tr>\n      <th>4</th>\n      <td>0000729a-8ad0-4e0f-8dfe-13c1e0b73274</td>\n      <td>世界線は分岐する -Instrumental-</td>\n      <td>花譜</td>\n      <td>19</td>\n      <td>1</td>\n    </tr>\n  </tbody>\n</table>\n</div>"
     },
     "metadata": {},
     "output_type": "display_data"
    },
    {
     "name": "stdout",
     "output_type": "stream",
     "text": [
      "mb_release_gid: 17794 unique values\n",
      "lfm_track_name: 135098 unique values\n",
      "lfm_artist_name: 9505 unique values\n",
      "lfm_play_count: 60441 unique values\n",
      "size: 15 unique values\n"
     ]
    }
   ],
   "source": [
    "# Aggregate last.fm release + track + play count\n",
    "lfm_rel_name = lfm_count[['mb_release_gid', 'lfm_track_name', 'lfm_artist_name', 'lfm_play_count']].groupby(['mb_release_gid', 'lfm_track_name' , 'lfm_artist_name', 'lfm_play_count'], as_index=False).size()\n",
    "quicksum(lfm_rel_name)\n",
    "lfm_rel_name = lfm_rel_name.drop('size', axis=1)"
   ]
  },
  {
   "cell_type": "code",
   "execution_count": 64,
   "id": "bfc46ae0",
   "metadata": {
    "pycharm": {
     "name": "#%%\n"
    }
   },
   "outputs": [],
   "source": [
    "# Cleansing to prep for fuzzy matching (lowercase, alphanumeric)\n",
    "# lfm_rel_name['lfm_rel_name_prcs'] = lfm_rel_name['lfm_track_name'].apply(lambda x: ''.join([s.lower() for s in x if s.isalnum()]))"
   ]
  },
  {
   "cell_type": "code",
   "execution_count": 65,
   "id": "3274acb4",
   "metadata": {
    "pycharm": {
     "name": "#%%\n"
    }
   },
   "outputs": [],
   "source": [
    "# Custom function to generate a list of track names and dictionary of track names to play counts\n",
    "def groupfunc(df):\n",
    "    d = {}\n",
    "    d['mb_release_gid'] = df['mb_release_gid']\n",
    "    d['lfm_track_names'] = df['lfm_track_name'].values.tolist()\n",
    "    d['lfm_play_counts'] = dict([(k, df['lfm_play_count'].values.tolist()[i]) for i, k in enumerate(df['lfm_track_name'].values.tolist())])\n",
    "    return pd.Series(d)"
   ]
  },
  {
   "cell_type": "code",
   "execution_count": 66,
   "id": "7051c800",
   "metadata": {
    "pycharm": {
     "name": "#%%\n"
    }
   },
   "outputs": [
    {
     "name": "stdout",
     "output_type": "stream",
     "text": [
      "======DATA SUMMARY======\n",
      "17794 rows by 3 columns\n",
      "\n",
      "======PREVIEW======\n"
     ]
    },
    {
     "data": {
      "text/plain": "                         mb_release_gid  \\\n0  0000729a-8ad0-4e0f-8dfe-13c1e0b73274   \n1  00049aaf-1266-482b-9f6b-2672092c68f4   \n2  00134ced-5671-494b-944d-6d4d2645af2f   \n3  001c5d95-7da9-4a09-b940-095491765fc2   \n4  001c68d5-22f3-4ea1-8bac-02521e62c7d9   \n\n                                     lfm_track_names  \\\n0  [まほう, アンサー, メルの黄昏, モンタージュ, 世界線は分岐する -Instrumen...   \n1  [Breathe (Taylor's version), Bye Bye Baby (Fro...   \n2  [Doors Of The City, Frozen Place, No Paradise,...   \n3  [4ÆM, Before the fever, Darkseid, Delete Forev...   \n4  [As Many Candles As Possible, Bell Swamp Conne...   \n\n                                     lfm_play_counts  \n0  {'まほう': 3200, 'アンサー': 40778, 'メルの黄昏': 3875, 'モ...  \n1  {'Breathe (Taylor's version)': 6133, 'Bye Bye ...  \n2  {'Doors Of The City': 39, 'Frozen Place': 33, ...  \n3  {'4ÆM': 1979923, 'Before the fever': 595943, '...  \n4  {'As Many Candles As Possible': 54321, 'Bell S...  ",
      "text/html": "<div>\n<style scoped>\n    .dataframe tbody tr th:only-of-type {\n        vertical-align: middle;\n    }\n\n    .dataframe tbody tr th {\n        vertical-align: top;\n    }\n\n    .dataframe thead th {\n        text-align: right;\n    }\n</style>\n<table border=\"1\" class=\"dataframe\">\n  <thead>\n    <tr style=\"text-align: right;\">\n      <th></th>\n      <th>mb_release_gid</th>\n      <th>lfm_track_names</th>\n      <th>lfm_play_counts</th>\n    </tr>\n  </thead>\n  <tbody>\n    <tr>\n      <th>0</th>\n      <td>0000729a-8ad0-4e0f-8dfe-13c1e0b73274</td>\n      <td>[まほう, アンサー, メルの黄昏, モンタージュ, 世界線は分岐する -Instrumen...</td>\n      <td>{'まほう': 3200, 'アンサー': 40778, 'メルの黄昏': 3875, 'モ...</td>\n    </tr>\n    <tr>\n      <th>1</th>\n      <td>00049aaf-1266-482b-9f6b-2672092c68f4</td>\n      <td>[Breathe (Taylor's version), Bye Bye Baby (Fro...</td>\n      <td>{'Breathe (Taylor's version)': 6133, 'Bye Bye ...</td>\n    </tr>\n    <tr>\n      <th>2</th>\n      <td>00134ced-5671-494b-944d-6d4d2645af2f</td>\n      <td>[Doors Of The City, Frozen Place, No Paradise,...</td>\n      <td>{'Doors Of The City': 39, 'Frozen Place': 33, ...</td>\n    </tr>\n    <tr>\n      <th>3</th>\n      <td>001c5d95-7da9-4a09-b940-095491765fc2</td>\n      <td>[4ÆM, Before the fever, Darkseid, Delete Forev...</td>\n      <td>{'4ÆM': 1979923, 'Before the fever': 595943, '...</td>\n    </tr>\n    <tr>\n      <th>4</th>\n      <td>001c68d5-22f3-4ea1-8bac-02521e62c7d9</td>\n      <td>[As Many Candles As Possible, Bell Swamp Conne...</td>\n      <td>{'As Many Candles As Possible': 54321, 'Bell S...</td>\n    </tr>\n  </tbody>\n</table>\n</div>"
     },
     "metadata": {},
     "output_type": "display_data"
    },
    {
     "name": "stdout",
     "output_type": "stream",
     "text": [
      "mb_release_gid: 17794 unique values\n",
      "lfm_track_names: Not unique check-able unique values\n",
      "lfm_play_counts: Not unique check-able unique values\n"
     ]
    }
   ],
   "source": [
    "lfm_rel_ids = lfm_rel_name.groupby('mb_release_gid', as_index=False).apply(groupfunc)\n",
    "lfm_rel_ids['mb_release_gid'] = lfm_rel_ids['mb_release_gid'].apply(lambda x: x.iloc[0])\n",
    "quicksum(lfm_rel_ids)"
   ]
  },
  {
   "cell_type": "code",
   "execution_count": 67,
   "id": "e55c9787",
   "metadata": {
    "scrolled": false,
    "pycharm": {
     "name": "#%%\n"
    }
   },
   "outputs": [
    {
     "name": "stdout",
     "output_type": "stream",
     "text": [
      "======DATA SUMMARY======\n",
      "50537 rows by 2 columns\n",
      "\n",
      "======PREVIEW======\n"
     ]
    },
    {
     "data": {
      "text/plain": "            sp_artist_uri                          sp_track_uri\n0  0xliTEbFfy5HQHvsTknTkX  spotify:track:3BDcuuLSAUCp3V5gtXmU3M\n1  5T3loELyNii7mRPeB946WE  spotify:track:3HWIktiW8cv1KcHLc7iYIW\n2  1uNFoZAHBGtllmzznpCI3s  spotify:track:75nKBP8jQu681pTNCtrEnn\n3  5fmvGUlMVgmnCn45f1he7d  spotify:track:6wGMLoEqD2k3RBXFHD0yUp\n4  4ywf1iH1ruKEcfpCgfJvyA  spotify:track:15J6jZN7MM4gG617FyohOQ",
      "text/html": "<div>\n<style scoped>\n    .dataframe tbody tr th:only-of-type {\n        vertical-align: middle;\n    }\n\n    .dataframe tbody tr th {\n        vertical-align: top;\n    }\n\n    .dataframe thead th {\n        text-align: right;\n    }\n</style>\n<table border=\"1\" class=\"dataframe\">\n  <thead>\n    <tr style=\"text-align: right;\">\n      <th></th>\n      <th>sp_artist_uri</th>\n      <th>sp_track_uri</th>\n    </tr>\n  </thead>\n  <tbody>\n    <tr>\n      <th>0</th>\n      <td>0xliTEbFfy5HQHvsTknTkX</td>\n      <td>spotify:track:3BDcuuLSAUCp3V5gtXmU3M</td>\n    </tr>\n    <tr>\n      <th>1</th>\n      <td>5T3loELyNii7mRPeB946WE</td>\n      <td>spotify:track:3HWIktiW8cv1KcHLc7iYIW</td>\n    </tr>\n    <tr>\n      <th>2</th>\n      <td>1uNFoZAHBGtllmzznpCI3s</td>\n      <td>spotify:track:75nKBP8jQu681pTNCtrEnn</td>\n    </tr>\n    <tr>\n      <th>3</th>\n      <td>5fmvGUlMVgmnCn45f1he7d</td>\n      <td>spotify:track:6wGMLoEqD2k3RBXFHD0yUp</td>\n    </tr>\n    <tr>\n      <th>4</th>\n      <td>4ywf1iH1ruKEcfpCgfJvyA</td>\n      <td>spotify:track:15J6jZN7MM4gG617FyohOQ</td>\n    </tr>\n  </tbody>\n</table>\n</div>"
     },
     "metadata": {},
     "output_type": "display_data"
    },
    {
     "name": "stdout",
     "output_type": "stream",
     "text": [
      "sp_artist_uri: 17285 unique values\n",
      "sp_track_uri: 45991 unique values\n"
     ]
    }
   ],
   "source": [
    "sp_track_artist = pd.read_csv('uri_artist.csv', usecols=[1, 2])\n",
    "quicksum(sp_track_artist)"
   ]
  },
  {
   "cell_type": "code",
   "execution_count": 68,
   "id": "83173be7",
   "metadata": {
    "pycharm": {
     "name": "#%%\n"
    }
   },
   "outputs": [
    {
     "name": "stdout",
     "output_type": "stream",
     "text": [
      "======DATA SUMMARY======\n",
      "45991 rows by 2 columns\n",
      "\n",
      "======PREVIEW======\n"
     ]
    },
    {
     "data": {
      "text/plain": "            sp_artist_uri            sp_track_uri\n0  000w0gZDNX8SiIs05h6Kwe  72qorl4TkbxjPt4GUwfO0u\n1  001aJOc7CSQVo3XzoLG4DK  1EvK9FpsE8xQgBdbE0VaUF\n2  007MmXwT1HwcXwuyROgNJb  6lbHdRNNrEqh7O7FXxqtlo\n3  007nYTXRhZJUZGH7ct5Y3v  6z1LRCM39LEMh5UXvML0VM\n4  009hDsrD8KhLjlJGYi7vc4  0efrIBvswXQr9PwaayUGcB",
      "text/html": "<div>\n<style scoped>\n    .dataframe tbody tr th:only-of-type {\n        vertical-align: middle;\n    }\n\n    .dataframe tbody tr th {\n        vertical-align: top;\n    }\n\n    .dataframe thead th {\n        text-align: right;\n    }\n</style>\n<table border=\"1\" class=\"dataframe\">\n  <thead>\n    <tr style=\"text-align: right;\">\n      <th></th>\n      <th>sp_artist_uri</th>\n      <th>sp_track_uri</th>\n    </tr>\n  </thead>\n  <tbody>\n    <tr>\n      <th>0</th>\n      <td>000w0gZDNX8SiIs05h6Kwe</td>\n      <td>72qorl4TkbxjPt4GUwfO0u</td>\n    </tr>\n    <tr>\n      <th>1</th>\n      <td>001aJOc7CSQVo3XzoLG4DK</td>\n      <td>1EvK9FpsE8xQgBdbE0VaUF</td>\n    </tr>\n    <tr>\n      <th>2</th>\n      <td>007MmXwT1HwcXwuyROgNJb</td>\n      <td>6lbHdRNNrEqh7O7FXxqtlo</td>\n    </tr>\n    <tr>\n      <th>3</th>\n      <td>007nYTXRhZJUZGH7ct5Y3v</td>\n      <td>6z1LRCM39LEMh5UXvML0VM</td>\n    </tr>\n    <tr>\n      <th>4</th>\n      <td>009hDsrD8KhLjlJGYi7vc4</td>\n      <td>0efrIBvswXQr9PwaayUGcB</td>\n    </tr>\n  </tbody>\n</table>\n</div>"
     },
     "metadata": {},
     "output_type": "display_data"
    },
    {
     "name": "stdout",
     "output_type": "stream",
     "text": [
      "sp_artist_uri: 17285 unique values\n",
      "sp_track_uri: 45991 unique values\n"
     ]
    }
   ],
   "source": [
    "sp_track_artist = sp_track_artist.groupby(['sp_artist_uri', 'sp_track_uri'], as_index=False).size()\n",
    "sp_track_artist['sp_track_uri'] = sp_track_artist['sp_track_uri'].apply(lambda x: x.split(':')[2])\n",
    "sp_track_artist = sp_track_artist.drop('size', axis=1)\n",
    "quicksum(sp_track_artist)"
   ]
  },
  {
   "cell_type": "code",
   "execution_count": 70,
   "id": "1157de76",
   "metadata": {
    "pycharm": {
     "name": "#%%\n"
    }
   },
   "outputs": [
    {
     "name": "stdout",
     "output_type": "stream",
     "text": [
      "======DATA SUMMARY======\n",
      "17285 rows by 5 columns\n",
      "\n",
      "======PREVIEW======\n"
     ]
    },
    {
     "data": {
      "text/plain": "            sp_artist_uri  sp_artist_popularity  \\\n0  000w0gZDNX8SiIs05h6Kwe                     8   \n1  001aJOc7CSQVo3XzoLG4DK                    48   \n2  007MmXwT1HwcXwuyROgNJb                    56   \n3  007nYTXRhZJUZGH7ct5Y3v                    48   \n4  009hDsrD8KhLjlJGYi7vc4                     2   \n\n                                           sp_genres  sp_artist_followers  \\\n0                                                 []                   35   \n1  ['classic soul', 'disco', 'electro', 'funk', '...               150108   \n2                        ['pinoy singer-songwriter']                 5670   \n3  ['future bass', 'indie electropop', 'vapor twi...                17593   \n4                                                 []                  233   \n\n   size  \n0     1  \n1     1  \n2     1  \n3     1  \n4     2  ",
      "text/html": "<div>\n<style scoped>\n    .dataframe tbody tr th:only-of-type {\n        vertical-align: middle;\n    }\n\n    .dataframe tbody tr th {\n        vertical-align: top;\n    }\n\n    .dataframe thead th {\n        text-align: right;\n    }\n</style>\n<table border=\"1\" class=\"dataframe\">\n  <thead>\n    <tr style=\"text-align: right;\">\n      <th></th>\n      <th>sp_artist_uri</th>\n      <th>sp_artist_popularity</th>\n      <th>sp_genres</th>\n      <th>sp_artist_followers</th>\n      <th>size</th>\n    </tr>\n  </thead>\n  <tbody>\n    <tr>\n      <th>0</th>\n      <td>000w0gZDNX8SiIs05h6Kwe</td>\n      <td>8</td>\n      <td>[]</td>\n      <td>35</td>\n      <td>1</td>\n    </tr>\n    <tr>\n      <th>1</th>\n      <td>001aJOc7CSQVo3XzoLG4DK</td>\n      <td>48</td>\n      <td>['classic soul', 'disco', 'electro', 'funk', '...</td>\n      <td>150108</td>\n      <td>1</td>\n    </tr>\n    <tr>\n      <th>2</th>\n      <td>007MmXwT1HwcXwuyROgNJb</td>\n      <td>56</td>\n      <td>['pinoy singer-songwriter']</td>\n      <td>5670</td>\n      <td>1</td>\n    </tr>\n    <tr>\n      <th>3</th>\n      <td>007nYTXRhZJUZGH7ct5Y3v</td>\n      <td>48</td>\n      <td>['future bass', 'indie electropop', 'vapor twi...</td>\n      <td>17593</td>\n      <td>1</td>\n    </tr>\n    <tr>\n      <th>4</th>\n      <td>009hDsrD8KhLjlJGYi7vc4</td>\n      <td>2</td>\n      <td>[]</td>\n      <td>233</td>\n      <td>2</td>\n    </tr>\n  </tbody>\n</table>\n</div>"
     },
     "metadata": {},
     "output_type": "display_data"
    },
    {
     "name": "stdout",
     "output_type": "stream",
     "text": [
      "sp_artist_uri: 17285 unique values\n",
      "sp_artist_popularity: 100 unique values\n",
      "sp_genres: 8826 unique values\n",
      "sp_artist_followers: 12742 unique values\n",
      "size: 69 unique values\n"
     ]
    }
   ],
   "source": [
    "sp_artist_info = sp_artist_info.groupby(list(sp_artist_info.columns), as_index=False).size()\n",
    "sp_artist_info['sp_artist_uri'] = sp_artist_info['sp_artist_uri'].apply(lambda x: x.split(':')[2])\n",
    "quicksum(sp_artist_info)\n",
    "sp_artist_info = sp_artist_info.drop('size', axis=1)"
   ]
  },
  {
   "cell_type": "code",
   "execution_count": 69,
   "outputs": [
    {
     "name": "stdout",
     "output_type": "stream",
     "text": [
      "======DATA SUMMARY======\n",
      "50537 rows by 4 columns\n",
      "\n",
      "======PREVIEW======\n"
     ]
    },
    {
     "data": {
      "text/plain": "                           sp_artist_uri  sp_artist_popularity  \\\n0  spotify:artist:0xliTEbFfy5HQHvsTknTkX                    67   \n1  spotify:artist:5T3loELyNii7mRPeB946WE                     4   \n2  spotify:artist:1uNFoZAHBGtllmzznpCI3s                    96   \n3  spotify:artist:5fmvGUlMVgmnCn45f1he7d                    54   \n4  spotify:artist:4ywf1iH1ruKEcfpCgfJvyA                    63   \n\n                                           sp_genres  sp_artist_followers  \n0  ['europop', 'new romantic', 'new wave', 'new w...               617347  \n1                                                 []                  431  \n2                            ['canadian pop', 'pop']             59520636  \n3             ['soft rock', 'underground power pop']                45127  \n4                   ['russian dance', 'russian pop']              1911500  ",
      "text/html": "<div>\n<style scoped>\n    .dataframe tbody tr th:only-of-type {\n        vertical-align: middle;\n    }\n\n    .dataframe tbody tr th {\n        vertical-align: top;\n    }\n\n    .dataframe thead th {\n        text-align: right;\n    }\n</style>\n<table border=\"1\" class=\"dataframe\">\n  <thead>\n    <tr style=\"text-align: right;\">\n      <th></th>\n      <th>sp_artist_uri</th>\n      <th>sp_artist_popularity</th>\n      <th>sp_genres</th>\n      <th>sp_artist_followers</th>\n    </tr>\n  </thead>\n  <tbody>\n    <tr>\n      <th>0</th>\n      <td>spotify:artist:0xliTEbFfy5HQHvsTknTkX</td>\n      <td>67</td>\n      <td>['europop', 'new romantic', 'new wave', 'new w...</td>\n      <td>617347</td>\n    </tr>\n    <tr>\n      <th>1</th>\n      <td>spotify:artist:5T3loELyNii7mRPeB946WE</td>\n      <td>4</td>\n      <td>[]</td>\n      <td>431</td>\n    </tr>\n    <tr>\n      <th>2</th>\n      <td>spotify:artist:1uNFoZAHBGtllmzznpCI3s</td>\n      <td>96</td>\n      <td>['canadian pop', 'pop']</td>\n      <td>59520636</td>\n    </tr>\n    <tr>\n      <th>3</th>\n      <td>spotify:artist:5fmvGUlMVgmnCn45f1he7d</td>\n      <td>54</td>\n      <td>['soft rock', 'underground power pop']</td>\n      <td>45127</td>\n    </tr>\n    <tr>\n      <th>4</th>\n      <td>spotify:artist:4ywf1iH1ruKEcfpCgfJvyA</td>\n      <td>63</td>\n      <td>['russian dance', 'russian pop']</td>\n      <td>1911500</td>\n    </tr>\n  </tbody>\n</table>\n</div>"
     },
     "metadata": {},
     "output_type": "display_data"
    },
    {
     "name": "stdout",
     "output_type": "stream",
     "text": [
      "sp_artist_uri: 17285 unique values\n",
      "sp_artist_popularity: 100 unique values\n",
      "sp_genres: 8826 unique values\n",
      "sp_artist_followers: 12742 unique values\n"
     ]
    }
   ],
   "source": [
    "sp_artist_info = pd.read_csv('artisturi_artistinfo.csv', usecols=[1, 2, 3, 4])\n",
    "sp_artist_info = sp_artist_info.rename({'sp_popularity': 'sp_artist_popularity'}, axis=1)\n",
    "quicksum(sp_artist_info)"
   ],
   "metadata": {
    "collapsed": false,
    "pycharm": {
     "name": "#%%\n"
    }
   }
  },
  {
   "cell_type": "code",
   "execution_count": 71,
   "id": "737de4d8",
   "metadata": {
    "pycharm": {
     "name": "#%%\n"
    }
   },
   "outputs": [
    {
     "name": "stdout",
     "output_type": "stream",
     "text": [
      "======DATA SUMMARY======\n",
      "50490 rows by 14 columns\n",
      "\n",
      "======PREVIEW======\n"
     ]
    },
    {
     "data": {
      "text/plain": "                                    uri  danceability  energy  key  loudness  \\\n0  spotify:track:3BDcuuLSAUCp3V5gtXmU3M         0.504   0.388    8   -13.254   \n1  spotify:track:3HWIktiW8cv1KcHLc7iYIW         0.244   0.519    0    -8.415   \n2  spotify:track:75nKBP8jQu681pTNCtrEnn         0.774   0.603   11    -7.319   \n3  spotify:track:6wGMLoEqD2k3RBXFHD0yUp         0.588   0.598    9   -13.288   \n4  spotify:track:15J6jZN7MM4gG617FyohOQ         0.653   0.862    7    -4.900   \n\n   mode  speechiness  acousticness  instrumentalness  liveness  valence  \\\n0     0       0.0276        0.1330          0.583000    0.1760    0.221   \n1     1       0.0400        0.1920          0.001210    0.1640    0.113   \n2     1       0.0591        0.4380          0.000044    0.0869    0.977   \n3     1       0.0296        0.0386          0.000058    0.1070    0.866   \n4     1       0.0749        0.1650          0.000002    0.7460    0.486   \n\n     tempo  duration_ms  time_signature  \n0  149.504       444760               4  \n1   72.155       521812               4  \n2  149.982       179627               4  \n3  123.724       264893               4  \n4  130.005       197933               4  ",
      "text/html": "<div>\n<style scoped>\n    .dataframe tbody tr th:only-of-type {\n        vertical-align: middle;\n    }\n\n    .dataframe tbody tr th {\n        vertical-align: top;\n    }\n\n    .dataframe thead th {\n        text-align: right;\n    }\n</style>\n<table border=\"1\" class=\"dataframe\">\n  <thead>\n    <tr style=\"text-align: right;\">\n      <th></th>\n      <th>uri</th>\n      <th>danceability</th>\n      <th>energy</th>\n      <th>key</th>\n      <th>loudness</th>\n      <th>mode</th>\n      <th>speechiness</th>\n      <th>acousticness</th>\n      <th>instrumentalness</th>\n      <th>liveness</th>\n      <th>valence</th>\n      <th>tempo</th>\n      <th>duration_ms</th>\n      <th>time_signature</th>\n    </tr>\n  </thead>\n  <tbody>\n    <tr>\n      <th>0</th>\n      <td>spotify:track:3BDcuuLSAUCp3V5gtXmU3M</td>\n      <td>0.504</td>\n      <td>0.388</td>\n      <td>8</td>\n      <td>-13.254</td>\n      <td>0</td>\n      <td>0.0276</td>\n      <td>0.1330</td>\n      <td>0.583000</td>\n      <td>0.1760</td>\n      <td>0.221</td>\n      <td>149.504</td>\n      <td>444760</td>\n      <td>4</td>\n    </tr>\n    <tr>\n      <th>1</th>\n      <td>spotify:track:3HWIktiW8cv1KcHLc7iYIW</td>\n      <td>0.244</td>\n      <td>0.519</td>\n      <td>0</td>\n      <td>-8.415</td>\n      <td>1</td>\n      <td>0.0400</td>\n      <td>0.1920</td>\n      <td>0.001210</td>\n      <td>0.1640</td>\n      <td>0.113</td>\n      <td>72.155</td>\n      <td>521812</td>\n      <td>4</td>\n    </tr>\n    <tr>\n      <th>2</th>\n      <td>spotify:track:75nKBP8jQu681pTNCtrEnn</td>\n      <td>0.774</td>\n      <td>0.603</td>\n      <td>11</td>\n      <td>-7.319</td>\n      <td>1</td>\n      <td>0.0591</td>\n      <td>0.4380</td>\n      <td>0.000044</td>\n      <td>0.0869</td>\n      <td>0.977</td>\n      <td>149.982</td>\n      <td>179627</td>\n      <td>4</td>\n    </tr>\n    <tr>\n      <th>3</th>\n      <td>spotify:track:6wGMLoEqD2k3RBXFHD0yUp</td>\n      <td>0.588</td>\n      <td>0.598</td>\n      <td>9</td>\n      <td>-13.288</td>\n      <td>1</td>\n      <td>0.0296</td>\n      <td>0.0386</td>\n      <td>0.000058</td>\n      <td>0.1070</td>\n      <td>0.866</td>\n      <td>123.724</td>\n      <td>264893</td>\n      <td>4</td>\n    </tr>\n    <tr>\n      <th>4</th>\n      <td>spotify:track:15J6jZN7MM4gG617FyohOQ</td>\n      <td>0.653</td>\n      <td>0.862</td>\n      <td>7</td>\n      <td>-4.900</td>\n      <td>1</td>\n      <td>0.0749</td>\n      <td>0.1650</td>\n      <td>0.000002</td>\n      <td>0.7460</td>\n      <td>0.486</td>\n      <td>130.005</td>\n      <td>197933</td>\n      <td>4</td>\n    </tr>\n  </tbody>\n</table>\n</div>"
     },
     "metadata": {},
     "output_type": "display_data"
    },
    {
     "name": "stdout",
     "output_type": "stream",
     "text": [
      "uri: 45948 unique values\n",
      "danceability: 1115 unique values\n",
      "energy: 2002 unique values\n",
      "key: 12 unique values\n",
      "loudness: 17475 unique values\n",
      "mode: 2 unique values\n",
      "speechiness: 1442 unique values\n",
      "acousticness: 4658 unique values\n",
      "instrumentalness: 5123 unique values\n",
      "liveness: 1672 unique values\n",
      "valence: 1648 unique values\n",
      "tempo: 30060 unique values\n",
      "duration_ms: 33849 unique values\n",
      "time_signature: 5 unique values\n"
     ]
    }
   ],
   "source": [
    "sp_track_audiof = pd.read_csv('isrc_uri_audiofeats.csv', usecols = range(1, 15))\n",
    "quicksum(sp_track_audiof)"
   ]
  },
  {
   "cell_type": "code",
   "execution_count": 72,
   "outputs": [
    {
     "name": "stdout",
     "output_type": "stream",
     "text": [
      "======DATA SUMMARY======\n",
      "45948 rows by 14 columns\n",
      "\n",
      "======PREVIEW======\n"
     ]
    },
    {
     "data": {
      "text/plain": "   sp_danceability  sp_energy  sp_key  sp_loudness  sp_mode  sp_speechiness  \\\n0            0.600      0.714       9       -9.184        1          0.0426   \n1            0.537      0.527       2       -8.060        1          0.0318   \n2            0.842      0.578       6       -6.050        0          0.1380   \n3            0.631      0.704       0       -7.322        1          0.0316   \n4            0.350      0.587       4       -5.603        1          0.0344   \n\n   sp_acousticness  sp_instrumentalness  sp_liveness  sp_valence  sp_tempo  \\\n0         0.050200             0.000016        0.180      0.5650   119.838   \n1         0.007100             0.002840        0.368      0.4220    75.907   \n2         0.004190             0.000000        0.228      0.1900    74.496   \n3         0.000025             0.137000        0.127      0.9430   133.972   \n4         0.141000             0.000273        0.283      0.0918   173.709   \n\n   sp_duration_ms  sp_time_signature            sp_track_uri  \n0          246267                  4  002R5aYQAMYD0jEZf2mAbz  \n1          333010                  4  002yzPc8YY5JfHhcYDfkTZ  \n2          236779                  4  003VDDA7J3Xb2ZFlNx7nIZ  \n3          440601                  4  003ryCWydz9DQsjBFXD8L1  \n4          170653                  3  003xNaWRMtF3NKEj32kycd  ",
      "text/html": "<div>\n<style scoped>\n    .dataframe tbody tr th:only-of-type {\n        vertical-align: middle;\n    }\n\n    .dataframe tbody tr th {\n        vertical-align: top;\n    }\n\n    .dataframe thead th {\n        text-align: right;\n    }\n</style>\n<table border=\"1\" class=\"dataframe\">\n  <thead>\n    <tr style=\"text-align: right;\">\n      <th></th>\n      <th>sp_danceability</th>\n      <th>sp_energy</th>\n      <th>sp_key</th>\n      <th>sp_loudness</th>\n      <th>sp_mode</th>\n      <th>sp_speechiness</th>\n      <th>sp_acousticness</th>\n      <th>sp_instrumentalness</th>\n      <th>sp_liveness</th>\n      <th>sp_valence</th>\n      <th>sp_tempo</th>\n      <th>sp_duration_ms</th>\n      <th>sp_time_signature</th>\n      <th>sp_track_uri</th>\n    </tr>\n  </thead>\n  <tbody>\n    <tr>\n      <th>0</th>\n      <td>0.600</td>\n      <td>0.714</td>\n      <td>9</td>\n      <td>-9.184</td>\n      <td>1</td>\n      <td>0.0426</td>\n      <td>0.050200</td>\n      <td>0.000016</td>\n      <td>0.180</td>\n      <td>0.5650</td>\n      <td>119.838</td>\n      <td>246267</td>\n      <td>4</td>\n      <td>002R5aYQAMYD0jEZf2mAbz</td>\n    </tr>\n    <tr>\n      <th>1</th>\n      <td>0.537</td>\n      <td>0.527</td>\n      <td>2</td>\n      <td>-8.060</td>\n      <td>1</td>\n      <td>0.0318</td>\n      <td>0.007100</td>\n      <td>0.002840</td>\n      <td>0.368</td>\n      <td>0.4220</td>\n      <td>75.907</td>\n      <td>333010</td>\n      <td>4</td>\n      <td>002yzPc8YY5JfHhcYDfkTZ</td>\n    </tr>\n    <tr>\n      <th>2</th>\n      <td>0.842</td>\n      <td>0.578</td>\n      <td>6</td>\n      <td>-6.050</td>\n      <td>0</td>\n      <td>0.1380</td>\n      <td>0.004190</td>\n      <td>0.000000</td>\n      <td>0.228</td>\n      <td>0.1900</td>\n      <td>74.496</td>\n      <td>236779</td>\n      <td>4</td>\n      <td>003VDDA7J3Xb2ZFlNx7nIZ</td>\n    </tr>\n    <tr>\n      <th>3</th>\n      <td>0.631</td>\n      <td>0.704</td>\n      <td>0</td>\n      <td>-7.322</td>\n      <td>1</td>\n      <td>0.0316</td>\n      <td>0.000025</td>\n      <td>0.137000</td>\n      <td>0.127</td>\n      <td>0.9430</td>\n      <td>133.972</td>\n      <td>440601</td>\n      <td>4</td>\n      <td>003ryCWydz9DQsjBFXD8L1</td>\n    </tr>\n    <tr>\n      <th>4</th>\n      <td>0.350</td>\n      <td>0.587</td>\n      <td>4</td>\n      <td>-5.603</td>\n      <td>1</td>\n      <td>0.0344</td>\n      <td>0.141000</td>\n      <td>0.000273</td>\n      <td>0.283</td>\n      <td>0.0918</td>\n      <td>173.709</td>\n      <td>170653</td>\n      <td>3</td>\n      <td>003xNaWRMtF3NKEj32kycd</td>\n    </tr>\n  </tbody>\n</table>\n</div>"
     },
     "metadata": {},
     "output_type": "display_data"
    },
    {
     "name": "stdout",
     "output_type": "stream",
     "text": [
      "sp_danceability: 1115 unique values\n",
      "sp_energy: 2002 unique values\n",
      "sp_key: 12 unique values\n",
      "sp_loudness: 17475 unique values\n",
      "sp_mode: 2 unique values\n",
      "sp_speechiness: 1442 unique values\n",
      "sp_acousticness: 4658 unique values\n",
      "sp_instrumentalness: 5123 unique values\n",
      "sp_liveness: 1672 unique values\n",
      "sp_valence: 1648 unique values\n",
      "sp_tempo: 30060 unique values\n",
      "sp_duration_ms: 33849 unique values\n",
      "sp_time_signature: 5 unique values\n",
      "sp_track_uri: 45948 unique values\n"
     ]
    }
   ],
   "source": [
    "sp_track_audiof = sp_track_audiof.groupby(list(sp_track_audiof.columns), as_index=False).size()\n",
    "sp_track_audiof = sp_track_audiof.drop('size', axis=1)\n",
    "sp_track_audiof.columns = ['sp_'+x for x in sp_track_audiof.columns]\n",
    "sp_track_audiof['sp_track_uri'] = sp_track_audiof['sp_uri'].apply(lambda x: x.split(':')[2])\n",
    "sp_track_audiof = sp_track_audiof.drop('sp_uri', axis=1)\n",
    "quicksum(sp_track_audiof)"
   ],
   "metadata": {
    "collapsed": false,
    "pycharm": {
     "name": "#%%\n"
    }
   }
  },
  {
   "cell_type": "code",
   "execution_count": 73,
   "id": "01c566bc",
   "metadata": {
    "pycharm": {
     "name": "#%%\n"
    }
   },
   "outputs": [
    {
     "name": "stdout",
     "output_type": "stream",
     "text": [
      "======DATA SUMMARY======\n",
      "50537 rows by 2 columns\n",
      "\n",
      "======PREVIEW======\n"
     ]
    },
    {
     "data": {
      "text/plain": "           isrc                  sp_uri\n0  DEA622100038  3BDcuuLSAUCp3V5gtXmU3M\n1  QZES92183707  3HWIktiW8cv1KcHLc7iYIW\n2  USUM72001306  75nKBP8jQu681pTNCtrEnn\n3  USEE10183941  6wGMLoEqD2k3RBXFHD0yUp\n4  RUA582002334  15J6jZN7MM4gG617FyohOQ",
      "text/html": "<div>\n<style scoped>\n    .dataframe tbody tr th:only-of-type {\n        vertical-align: middle;\n    }\n\n    .dataframe tbody tr th {\n        vertical-align: top;\n    }\n\n    .dataframe thead th {\n        text-align: right;\n    }\n</style>\n<table border=\"1\" class=\"dataframe\">\n  <thead>\n    <tr style=\"text-align: right;\">\n      <th></th>\n      <th>isrc</th>\n      <th>sp_uri</th>\n    </tr>\n  </thead>\n  <tbody>\n    <tr>\n      <th>0</th>\n      <td>DEA622100038</td>\n      <td>3BDcuuLSAUCp3V5gtXmU3M</td>\n    </tr>\n    <tr>\n      <th>1</th>\n      <td>QZES92183707</td>\n      <td>3HWIktiW8cv1KcHLc7iYIW</td>\n    </tr>\n    <tr>\n      <th>2</th>\n      <td>USUM72001306</td>\n      <td>75nKBP8jQu681pTNCtrEnn</td>\n    </tr>\n    <tr>\n      <th>3</th>\n      <td>USEE10183941</td>\n      <td>6wGMLoEqD2k3RBXFHD0yUp</td>\n    </tr>\n    <tr>\n      <th>4</th>\n      <td>RUA582002334</td>\n      <td>15J6jZN7MM4gG617FyohOQ</td>\n    </tr>\n  </tbody>\n</table>\n</div>"
     },
     "metadata": {},
     "output_type": "display_data"
    },
    {
     "name": "stdout",
     "output_type": "stream",
     "text": [
      "isrc: 45937 unique values\n",
      "sp_uri: 45991 unique values\n"
     ]
    }
   ],
   "source": [
    "sp_uri_isrc = pd.read_csv('isrc_uri.csv', usecols=[1, 2])\n",
    "quicksum(sp_uri_isrc)"
   ]
  },
  {
   "cell_type": "code",
   "execution_count": 74,
   "id": "391834bb",
   "metadata": {
    "pycharm": {
     "name": "#%%\n"
    }
   },
   "outputs": [
    {
     "name": "stdout",
     "output_type": "stream",
     "text": [
      "======DATA SUMMARY======\n",
      "45883 rows by 2 columns\n",
      "\n",
      "======PREVIEW======\n"
     ]
    },
    {
     "data": {
      "text/plain": "           isrc            sp_track_uri\n0  AEA0D1937329  19JIYDxouJVup6Vju4XbHl\n1  AEA0D2023070  3eogtRRuMwtTuf1QBphQlo\n2  AEA0D2072523  6E0mQk3LKvJ0xBvDA7ujxH\n3  AEA0D2084900  6DQKbMorKoc8I5dm72bZJi\n4  AEA0Q1843819  0fopKx0lC8B036jTNysxyv",
      "text/html": "<div>\n<style scoped>\n    .dataframe tbody tr th:only-of-type {\n        vertical-align: middle;\n    }\n\n    .dataframe tbody tr th {\n        vertical-align: top;\n    }\n\n    .dataframe thead th {\n        text-align: right;\n    }\n</style>\n<table border=\"1\" class=\"dataframe\">\n  <thead>\n    <tr style=\"text-align: right;\">\n      <th></th>\n      <th>isrc</th>\n      <th>sp_track_uri</th>\n    </tr>\n  </thead>\n  <tbody>\n    <tr>\n      <th>0</th>\n      <td>AEA0D1937329</td>\n      <td>19JIYDxouJVup6Vju4XbHl</td>\n    </tr>\n    <tr>\n      <th>1</th>\n      <td>AEA0D2023070</td>\n      <td>3eogtRRuMwtTuf1QBphQlo</td>\n    </tr>\n    <tr>\n      <th>2</th>\n      <td>AEA0D2072523</td>\n      <td>6E0mQk3LKvJ0xBvDA7ujxH</td>\n    </tr>\n    <tr>\n      <th>3</th>\n      <td>AEA0D2084900</td>\n      <td>6DQKbMorKoc8I5dm72bZJi</td>\n    </tr>\n    <tr>\n      <th>4</th>\n      <td>AEA0Q1843819</td>\n      <td>0fopKx0lC8B036jTNysxyv</td>\n    </tr>\n  </tbody>\n</table>\n</div>"
     },
     "metadata": {},
     "output_type": "display_data"
    },
    {
     "name": "stdout",
     "output_type": "stream",
     "text": [
      "isrc: 45883 unique values\n",
      "sp_track_uri: 45883 unique values\n"
     ]
    }
   ],
   "source": [
    "sp_uri_isrc_c = sp_uri_isrc.groupby(['isrc', 'sp_uri'], as_index=False).size().drop('size', axis=1)\n",
    "sp_uri_isrc = sp_uri_isrc_c.groupby('isrc', as_index=False).agg({'sp_uri': ['first', 'count']})\n",
    "sp_uri_isrc.columns = ['isrc','sp_track_uri', 'sp_uri_count']\n",
    "sp_uri_isrc = sp_uri_isrc[sp_uri_isrc['sp_uri_count'] == 1].drop('sp_uri_count', axis=1)\n",
    "quicksum(sp_uri_isrc)"
   ]
  },
  {
   "cell_type": "code",
   "execution_count": 75,
   "id": "620f08e1",
   "metadata": {
    "pycharm": {
     "name": "#%%\n"
    }
   },
   "outputs": [
    {
     "name": "stdout",
     "output_type": "stream",
     "text": [
      "======DATA SUMMARY======\n",
      "901913 rows by 3 columns\n",
      "\n",
      "======PREVIEW======\n"
     ]
    },
    {
     "data": {
      "text/plain": "                           mb_release_gid          isrc  \\\n168  3c501e34-f3fa-4860-8115-25b587ac2bef  USSK41300025   \n202  3c501e34-f3fa-4860-8115-25b587ac2bef  USSK41300028   \n336  3c501e34-f3fa-4860-8115-25b587ac2bef  GBAAN7400025   \n455  3c501e34-f3fa-4860-8115-25b587ac2bef  GBAAN7400026   \n730  29b77556-8bfb-42e0-b8ea-2e3b45300f69  GBAAA9100034   \n\n                                   mb_track_name  \n168                                  Wonder Girl  \n202                            Girl From Germany  \n336    This Town Ain't Big Enough for Both of Us  \n455                                 Amateur Hour  \n730  Unfinished Sympathy (2006 Digital Remaster)  ",
      "text/html": "<div>\n<style scoped>\n    .dataframe tbody tr th:only-of-type {\n        vertical-align: middle;\n    }\n\n    .dataframe tbody tr th {\n        vertical-align: top;\n    }\n\n    .dataframe thead th {\n        text-align: right;\n    }\n</style>\n<table border=\"1\" class=\"dataframe\">\n  <thead>\n    <tr style=\"text-align: right;\">\n      <th></th>\n      <th>mb_release_gid</th>\n      <th>isrc</th>\n      <th>mb_track_name</th>\n    </tr>\n  </thead>\n  <tbody>\n    <tr>\n      <th>168</th>\n      <td>3c501e34-f3fa-4860-8115-25b587ac2bef</td>\n      <td>USSK41300025</td>\n      <td>Wonder Girl</td>\n    </tr>\n    <tr>\n      <th>202</th>\n      <td>3c501e34-f3fa-4860-8115-25b587ac2bef</td>\n      <td>USSK41300028</td>\n      <td>Girl From Germany</td>\n    </tr>\n    <tr>\n      <th>336</th>\n      <td>3c501e34-f3fa-4860-8115-25b587ac2bef</td>\n      <td>GBAAN7400025</td>\n      <td>This Town Ain't Big Enough for Both of Us</td>\n    </tr>\n    <tr>\n      <th>455</th>\n      <td>3c501e34-f3fa-4860-8115-25b587ac2bef</td>\n      <td>GBAAN7400026</td>\n      <td>Amateur Hour</td>\n    </tr>\n    <tr>\n      <th>730</th>\n      <td>29b77556-8bfb-42e0-b8ea-2e3b45300f69</td>\n      <td>GBAAA9100034</td>\n      <td>Unfinished Sympathy (2006 Digital Remaster)</td>\n    </tr>\n  </tbody>\n</table>\n</div>"
     },
     "metadata": {},
     "output_type": "display_data"
    },
    {
     "name": "stdout",
     "output_type": "stream",
     "text": [
      "mb_release_gid: 109387 unique values\n",
      "isrc: 504586 unique values\n",
      "mb_track_name: 402402 unique values\n"
     ]
    }
   ],
   "source": [
    "mb_db_songs = pd.read_parquet('mb_db_songs_2019.parquet')[['release_gid', 'isrc', 'track_name']] \\\n",
    "                .rename({'release_gid': 'mb_release_gid', 'track_name':'mb_track_name'}, axis=1)\n",
    "quicksum(mb_db_songs)"
   ]
  },
  {
   "cell_type": "code",
   "execution_count": 76,
   "id": "47bdcbf0",
   "metadata": {
    "scrolled": true,
    "pycharm": {
     "name": "#%%\n"
    }
   },
   "outputs": [
    {
     "name": "stdout",
     "output_type": "stream",
     "text": [
      "======DATA SUMMARY======\n",
      "146162 rows by 4 columns\n",
      "\n",
      "======PREVIEW======\n"
     ]
    },
    {
     "data": {
      "text/plain": "                         mb_release_gid          isrc  \\\n0  3c501e34-f3fa-4860-8115-25b587ac2bef  GBAAN7400026   \n1  b6118ea8-ea87-4d97-a3fc-951c1b792c81  GBAAN7400026   \n2  29b77556-8bfb-42e0-b8ea-2e3b45300f69  GBAAA9100034   \n3  260e8789-d30e-436c-8232-a34adfdf9681  GBAAA9100034   \n4  3c501e34-f3fa-4860-8115-25b587ac2bef  GBAAN7400031   \n\n                                 mb_track_name            sp_track_uri  \n0                                 Amateur Hour  1C5Pxs8JpgQ2sWin9h1d7i  \n1                                 Amateur Hour  1C5Pxs8JpgQ2sWin9h1d7i  \n2  Unfinished Sympathy (2006 Digital Remaster)  28jaG0nLqlijtHGQzZqGWK  \n3                          Unfinished Sympathy  28jaG0nLqlijtHGQzZqGWK  \n4         Never Turn Your Back on Mother Earth  3Wp1bQyFq7nRUhG2EzVqZE  ",
      "text/html": "<div>\n<style scoped>\n    .dataframe tbody tr th:only-of-type {\n        vertical-align: middle;\n    }\n\n    .dataframe tbody tr th {\n        vertical-align: top;\n    }\n\n    .dataframe thead th {\n        text-align: right;\n    }\n</style>\n<table border=\"1\" class=\"dataframe\">\n  <thead>\n    <tr style=\"text-align: right;\">\n      <th></th>\n      <th>mb_release_gid</th>\n      <th>isrc</th>\n      <th>mb_track_name</th>\n      <th>sp_track_uri</th>\n    </tr>\n  </thead>\n  <tbody>\n    <tr>\n      <th>0</th>\n      <td>3c501e34-f3fa-4860-8115-25b587ac2bef</td>\n      <td>GBAAN7400026</td>\n      <td>Amateur Hour</td>\n      <td>1C5Pxs8JpgQ2sWin9h1d7i</td>\n    </tr>\n    <tr>\n      <th>1</th>\n      <td>b6118ea8-ea87-4d97-a3fc-951c1b792c81</td>\n      <td>GBAAN7400026</td>\n      <td>Amateur Hour</td>\n      <td>1C5Pxs8JpgQ2sWin9h1d7i</td>\n    </tr>\n    <tr>\n      <th>2</th>\n      <td>29b77556-8bfb-42e0-b8ea-2e3b45300f69</td>\n      <td>GBAAA9100034</td>\n      <td>Unfinished Sympathy (2006 Digital Remaster)</td>\n      <td>28jaG0nLqlijtHGQzZqGWK</td>\n    </tr>\n    <tr>\n      <th>3</th>\n      <td>260e8789-d30e-436c-8232-a34adfdf9681</td>\n      <td>GBAAA9100034</td>\n      <td>Unfinished Sympathy</td>\n      <td>28jaG0nLqlijtHGQzZqGWK</td>\n    </tr>\n    <tr>\n      <th>4</th>\n      <td>3c501e34-f3fa-4860-8115-25b587ac2bef</td>\n      <td>GBAAN7400031</td>\n      <td>Never Turn Your Back on Mother Earth</td>\n      <td>3Wp1bQyFq7nRUhG2EzVqZE</td>\n    </tr>\n  </tbody>\n</table>\n</div>"
     },
     "metadata": {},
     "output_type": "display_data"
    },
    {
     "name": "stdout",
     "output_type": "stream",
     "text": [
      "mb_release_gid: 47472 unique values\n",
      "isrc: 45883 unique values\n",
      "mb_track_name: 48180 unique values\n",
      "sp_track_uri: 45883 unique values\n"
     ]
    }
   ],
   "source": [
    "working_df = mb_db_songs.copy()\n",
    "working_df['mb_track_name'] = working_df['mb_track_name'].fillna('')\n",
    "working_df = working_df.merge(sp_uri_isrc, on='isrc')\n",
    "quicksum(working_df)"
   ]
  },
  {
   "cell_type": "code",
   "execution_count": 77,
   "id": "ee1acde9",
   "metadata": {
    "pycharm": {
     "name": "#%%\n"
    }
   },
   "outputs": [
    {
     "name": "stdout",
     "output_type": "stream",
     "text": [
      "======DATA SUMMARY======\n",
      "61907 rows by 6 columns\n",
      "\n",
      "======PREVIEW======\n"
     ]
    },
    {
     "data": {
      "text/plain": "                         mb_release_gid          isrc      mb_track_name  \\\n0  40da1824-821b-42dc-a29a-ac12e34cde2f  USUM71918740  Alanis’ Interlude   \n1  40da1824-821b-42dc-a29a-ac12e34cde2f  USUM71918762   SUGA’s Interlude   \n2  40da1824-821b-42dc-a29a-ac12e34cde2f  USUM71918756               More   \n3  40da1824-821b-42dc-a29a-ac12e34cde2f  USUM71923948        I’m Not Mad   \n4  40da1824-821b-42dc-a29a-ac12e34cde2f  USUM71918342         clementine   \n\n             sp_track_uri                                    lfm_track_names  \\\n0  6ZmwwHYtun94UOdFWWgdif  [3am, 929, Alanis' Interlude, Ashley, Dominic'...   \n1  1ZoQVu9XBssJBdeKMgF2eV  [3am, 929, Alanis' Interlude, Ashley, Dominic'...   \n2  3jgHKbpswygyOMipFz06RQ  [3am, 929, Alanis' Interlude, Ashley, Dominic'...   \n3  6SL8U8TtdwOtGhbmGzsMfX  [3am, 929, Alanis' Interlude, Ashley, Dominic'...   \n4  7ozvM98YyrdyOBh1lItVHc  [3am, 929, Alanis' Interlude, Ashley, Dominic'...   \n\n                                     lfm_play_counts  \n0  {'3am': 1243869, '929': 662955, 'Alanis' Inter...  \n1  {'3am': 1243869, '929': 662955, 'Alanis' Inter...  \n2  {'3am': 1243869, '929': 662955, 'Alanis' Inter...  \n3  {'3am': 1243869, '929': 662955, 'Alanis' Inter...  \n4  {'3am': 1243869, '929': 662955, 'Alanis' Inter...  ",
      "text/html": "<div>\n<style scoped>\n    .dataframe tbody tr th:only-of-type {\n        vertical-align: middle;\n    }\n\n    .dataframe tbody tr th {\n        vertical-align: top;\n    }\n\n    .dataframe thead th {\n        text-align: right;\n    }\n</style>\n<table border=\"1\" class=\"dataframe\">\n  <thead>\n    <tr style=\"text-align: right;\">\n      <th></th>\n      <th>mb_release_gid</th>\n      <th>isrc</th>\n      <th>mb_track_name</th>\n      <th>sp_track_uri</th>\n      <th>lfm_track_names</th>\n      <th>lfm_play_counts</th>\n    </tr>\n  </thead>\n  <tbody>\n    <tr>\n      <th>0</th>\n      <td>40da1824-821b-42dc-a29a-ac12e34cde2f</td>\n      <td>USUM71918740</td>\n      <td>Alanis’ Interlude</td>\n      <td>6ZmwwHYtun94UOdFWWgdif</td>\n      <td>[3am, 929, Alanis' Interlude, Ashley, Dominic'...</td>\n      <td>{'3am': 1243869, '929': 662955, 'Alanis' Inter...</td>\n    </tr>\n    <tr>\n      <th>1</th>\n      <td>40da1824-821b-42dc-a29a-ac12e34cde2f</td>\n      <td>USUM71918762</td>\n      <td>SUGA’s Interlude</td>\n      <td>1ZoQVu9XBssJBdeKMgF2eV</td>\n      <td>[3am, 929, Alanis' Interlude, Ashley, Dominic'...</td>\n      <td>{'3am': 1243869, '929': 662955, 'Alanis' Inter...</td>\n    </tr>\n    <tr>\n      <th>2</th>\n      <td>40da1824-821b-42dc-a29a-ac12e34cde2f</td>\n      <td>USUM71918756</td>\n      <td>More</td>\n      <td>3jgHKbpswygyOMipFz06RQ</td>\n      <td>[3am, 929, Alanis' Interlude, Ashley, Dominic'...</td>\n      <td>{'3am': 1243869, '929': 662955, 'Alanis' Inter...</td>\n    </tr>\n    <tr>\n      <th>3</th>\n      <td>40da1824-821b-42dc-a29a-ac12e34cde2f</td>\n      <td>USUM71923948</td>\n      <td>I’m Not Mad</td>\n      <td>6SL8U8TtdwOtGhbmGzsMfX</td>\n      <td>[3am, 929, Alanis' Interlude, Ashley, Dominic'...</td>\n      <td>{'3am': 1243869, '929': 662955, 'Alanis' Inter...</td>\n    </tr>\n    <tr>\n      <th>4</th>\n      <td>40da1824-821b-42dc-a29a-ac12e34cde2f</td>\n      <td>USUM71918342</td>\n      <td>clementine</td>\n      <td>7ozvM98YyrdyOBh1lItVHc</td>\n      <td>[3am, 929, Alanis' Interlude, Ashley, Dominic'...</td>\n      <td>{'3am': 1243869, '929': 662955, 'Alanis' Inter...</td>\n    </tr>\n  </tbody>\n</table>\n</div>"
     },
     "metadata": {},
     "output_type": "display_data"
    },
    {
     "name": "stdout",
     "output_type": "stream",
     "text": [
      "mb_release_gid: 17784 unique values\n",
      "isrc: 29786 unique values\n",
      "mb_track_name: 29642 unique values\n",
      "sp_track_uri: 29786 unique values\n",
      "lfm_track_names: Not unique check-able unique values\n",
      "lfm_play_counts: Not unique check-able unique values\n"
     ]
    }
   ],
   "source": [
    "working_df = working_df.merge(lfm_rel_ids, on='mb_release_gid')\n",
    "quicksum(working_df)"
   ]
  },
  {
   "cell_type": "code",
   "execution_count": 78,
   "id": "93f549f3",
   "metadata": {
    "pycharm": {
     "name": "#%%\n"
    }
   },
   "outputs": [
    {
     "name": "stdout",
     "output_type": "stream",
     "text": [
      "======DATA SUMMARY======\n",
      "29786 rows by 6 columns\n",
      "\n",
      "======PREVIEW======\n"
     ]
    },
    {
     "data": {
      "text/plain": "           isrc            sp_track_uri                        mb_release_gid  \\\n0  AEA0D1937329  19JIYDxouJVup6Vju4XbHl  10fd2bac-ab04-4eb8-8428-f2068923bdf7   \n1  AEA0D2084900  6DQKbMorKoc8I5dm72bZJi  4ac930af-fd16-4397-ba4c-f3727331d2c4   \n2  AEA0Q1967586  6k2GJRe3u6wHqaXL9XCt74  0df23deb-d8b5-4ef8-ae16-6865f6facc22   \n3  AEA0Q2041540  6xCie6yrUQh0McImPanmGq  88532401-a81e-4af7-bcfa-397ce6c4f6cc   \n4  AEA268600007  1xoQ7aj6Ms73PCJ3Q5UPTe  0c8b2548-0d6f-47e9-bf0a-60e32f14690a   \n\n     mb_track_name                                    lfm_track_names  \\\n0     My Wasteland  [Echoes in Me, Hate, In Your Nightmares, Linda...   \n1    Hakuna Matata  [A Spoonful of Sugar, Hakuna Matata, Kisse the...   \n2           Farcry                               [Farcry, Impossible]   \n3   Self Isolation  [After Work, Covid, Memory, Runaway, Self Isol...   \n4  A Hundred Words  [A Hundred Words, Forever Dancing, If Only '87...   \n\n                                     lfm_play_counts  \n0  {'Echoes in Me': 12, 'Hate': 25, 'In Your Nigh...  \n1  {'A Spoonful of Sugar': 26, 'Hakuna Matata': 4...  \n2                     {'Farcry': 2, 'Impossible': 3}  \n3  {'After Work': 1524, 'Covid': 1154, 'Memory': ...  \n4  {'A Hundred Words': 7022, 'Forever Dancing': 3...  ",
      "text/html": "<div>\n<style scoped>\n    .dataframe tbody tr th:only-of-type {\n        vertical-align: middle;\n    }\n\n    .dataframe tbody tr th {\n        vertical-align: top;\n    }\n\n    .dataframe thead th {\n        text-align: right;\n    }\n</style>\n<table border=\"1\" class=\"dataframe\">\n  <thead>\n    <tr style=\"text-align: right;\">\n      <th></th>\n      <th>isrc</th>\n      <th>sp_track_uri</th>\n      <th>mb_release_gid</th>\n      <th>mb_track_name</th>\n      <th>lfm_track_names</th>\n      <th>lfm_play_counts</th>\n    </tr>\n  </thead>\n  <tbody>\n    <tr>\n      <th>0</th>\n      <td>AEA0D1937329</td>\n      <td>19JIYDxouJVup6Vju4XbHl</td>\n      <td>10fd2bac-ab04-4eb8-8428-f2068923bdf7</td>\n      <td>My Wasteland</td>\n      <td>[Echoes in Me, Hate, In Your Nightmares, Linda...</td>\n      <td>{'Echoes in Me': 12, 'Hate': 25, 'In Your Nigh...</td>\n    </tr>\n    <tr>\n      <th>1</th>\n      <td>AEA0D2084900</td>\n      <td>6DQKbMorKoc8I5dm72bZJi</td>\n      <td>4ac930af-fd16-4397-ba4c-f3727331d2c4</td>\n      <td>Hakuna Matata</td>\n      <td>[A Spoonful of Sugar, Hakuna Matata, Kisse the...</td>\n      <td>{'A Spoonful of Sugar': 26, 'Hakuna Matata': 4...</td>\n    </tr>\n    <tr>\n      <th>2</th>\n      <td>AEA0Q1967586</td>\n      <td>6k2GJRe3u6wHqaXL9XCt74</td>\n      <td>0df23deb-d8b5-4ef8-ae16-6865f6facc22</td>\n      <td>Farcry</td>\n      <td>[Farcry, Impossible]</td>\n      <td>{'Farcry': 2, 'Impossible': 3}</td>\n    </tr>\n    <tr>\n      <th>3</th>\n      <td>AEA0Q2041540</td>\n      <td>6xCie6yrUQh0McImPanmGq</td>\n      <td>88532401-a81e-4af7-bcfa-397ce6c4f6cc</td>\n      <td>Self Isolation</td>\n      <td>[After Work, Covid, Memory, Runaway, Self Isol...</td>\n      <td>{'After Work': 1524, 'Covid': 1154, 'Memory': ...</td>\n    </tr>\n    <tr>\n      <th>4</th>\n      <td>AEA268600007</td>\n      <td>1xoQ7aj6Ms73PCJ3Q5UPTe</td>\n      <td>0c8b2548-0d6f-47e9-bf0a-60e32f14690a</td>\n      <td>A Hundred Words</td>\n      <td>[A Hundred Words, Forever Dancing, If Only '87...</td>\n      <td>{'A Hundred Words': 7022, 'Forever Dancing': 3...</td>\n    </tr>\n  </tbody>\n</table>\n</div>"
     },
     "metadata": {},
     "output_type": "display_data"
    },
    {
     "name": "stdout",
     "output_type": "stream",
     "text": [
      "isrc: 29786 unique values\n",
      "sp_track_uri: 29786 unique values\n",
      "mb_release_gid: 12723 unique values\n",
      "mb_track_name: 27371 unique values\n",
      "lfm_track_names: Not unique check-able unique values\n",
      "lfm_play_counts: Not unique check-able unique values\n"
     ]
    }
   ],
   "source": [
    "working_df = working_df.groupby(['isrc', 'sp_track_uri'], as_index=False).first()\n",
    "working_df.columns = [''.join(x) for x in working_df.columns]\n",
    "quicksum(working_df)"
   ]
  },
  {
   "cell_type": "code",
   "execution_count": 79,
   "id": "29612b87",
   "metadata": {
    "pycharm": {
     "name": "#%%\n"
    }
   },
   "outputs": [
    {
     "name": "stderr",
     "output_type": "stream",
     "text": [
      "WARNING:root:Applied processor reduces input query to empty string, all comparisons will have score 0. [Query: '⦵']\n",
      "WARNING:root:Applied processor reduces input query to empty string, all comparisons will have score 0. [Query: '*✧']\n",
      "WARNING:root:Applied processor reduces input query to empty string, all comparisons will have score 0. [Query: '♡']\n",
      "WARNING:root:Applied processor reduces input query to empty string, all comparisons will have score 0. [Query: '#']\n",
      "WARNING:root:Applied processor reduces input query to empty string, all comparisons will have score 0. [Query: '+ +']\n",
      "WARNING:root:Applied processor reduces input query to empty string, all comparisons will have score 0. [Query: '$$$']\n",
      "WARNING:root:Applied processor reduces input query to empty string, all comparisons will have score 0. [Query: '!!!!!!!']\n"
     ]
    }
   ],
   "source": [
    "working_df['match'] = working_df.apply(lambda x: process.extractOne(x['mb_track_name'], x['lfm_track_names']), axis=1)"
   ]
  },
  {
   "cell_type": "code",
   "execution_count": 80,
   "id": "6bba044d",
   "metadata": {
    "pycharm": {
     "name": "#%%\n"
    }
   },
   "outputs": [],
   "source": [
    "working_df['matched'] = working_df['match'].apply(lambda x: x[0])\n",
    "working_df['score'] = working_df['match'].apply(lambda x: x[1])\n",
    "working_df['play_count'] = working_df.apply(lambda x: x['lfm_play_counts'][x['matched']], axis=1)"
   ]
  },
  {
   "cell_type": "code",
   "execution_count": 81,
   "id": "81cd7af4",
   "metadata": {
    "pycharm": {
     "name": "#%%\n"
    }
   },
   "outputs": [],
   "source": [
    "working_df['play_count'] = working_df.apply(lambda x: x['lfm_play_counts'][x['matched']], axis=1)"
   ]
  },
  {
   "cell_type": "code",
   "execution_count": 82,
   "id": "d39eba1f",
   "metadata": {
    "pycharm": {
     "name": "#%%\n"
    }
   },
   "outputs": [
    {
     "name": "stdout",
     "output_type": "stream",
     "text": [
      "======DATA SUMMARY======\n",
      "29786 rows by 10 columns\n",
      "\n",
      "======COLUMNS======\n",
      "isrc               object\n",
      "sp_track_uri       object\n",
      "mb_release_gid     object\n",
      "mb_track_name      object\n",
      "lfm_track_names    object\n",
      "lfm_play_counts    object\n",
      "match              object\n",
      "matched            object\n",
      "score               int64\n",
      "play_count          int64\n",
      "dtype: object\n",
      "\n",
      "======PREVIEW======\n"
     ]
    },
    {
     "data": {
      "text/plain": "           isrc            sp_track_uri                        mb_release_gid  \\\n0  AEA0D1937329  19JIYDxouJVup6Vju4XbHl  10fd2bac-ab04-4eb8-8428-f2068923bdf7   \n1  AEA0D2084900  6DQKbMorKoc8I5dm72bZJi  4ac930af-fd16-4397-ba4c-f3727331d2c4   \n2  AEA0Q1967586  6k2GJRe3u6wHqaXL9XCt74  0df23deb-d8b5-4ef8-ae16-6865f6facc22   \n3  AEA0Q2041540  6xCie6yrUQh0McImPanmGq  88532401-a81e-4af7-bcfa-397ce6c4f6cc   \n4  AEA268600007  1xoQ7aj6Ms73PCJ3Q5UPTe  0c8b2548-0d6f-47e9-bf0a-60e32f14690a   \n\n     mb_track_name                                    lfm_track_names  \\\n0     My Wasteland  [Echoes in Me, Hate, In Your Nightmares, Linda...   \n1    Hakuna Matata  [A Spoonful of Sugar, Hakuna Matata, Kisse the...   \n2           Farcry                               [Farcry, Impossible]   \n3   Self Isolation  [After Work, Covid, Memory, Runaway, Self Isol...   \n4  A Hundred Words  [A Hundred Words, Forever Dancing, If Only '87...   \n\n                                     lfm_play_counts                   match  \\\n0  {'Echoes in Me': 12, 'Hate': 25, 'In Your Nigh...     (My Wasteland, 100)   \n1  {'A Spoonful of Sugar': 26, 'Hakuna Matata': 4...    (Hakuna Matata, 100)   \n2                     {'Farcry': 2, 'Impossible': 3}           (Farcry, 100)   \n3  {'After Work': 1524, 'Covid': 1154, 'Memory': ...   (Self Isolation, 100)   \n4  {'A Hundred Words': 7022, 'Forever Dancing': 3...  (A Hundred Words, 100)   \n\n           matched  score  play_count  \n0     My Wasteland    100           5  \n1    Hakuna Matata    100          45  \n2           Farcry    100           2  \n3   Self Isolation    100        1631  \n4  A Hundred Words    100        7022  ",
      "text/html": "<div>\n<style scoped>\n    .dataframe tbody tr th:only-of-type {\n        vertical-align: middle;\n    }\n\n    .dataframe tbody tr th {\n        vertical-align: top;\n    }\n\n    .dataframe thead th {\n        text-align: right;\n    }\n</style>\n<table border=\"1\" class=\"dataframe\">\n  <thead>\n    <tr style=\"text-align: right;\">\n      <th></th>\n      <th>isrc</th>\n      <th>sp_track_uri</th>\n      <th>mb_release_gid</th>\n      <th>mb_track_name</th>\n      <th>lfm_track_names</th>\n      <th>lfm_play_counts</th>\n      <th>match</th>\n      <th>matched</th>\n      <th>score</th>\n      <th>play_count</th>\n    </tr>\n  </thead>\n  <tbody>\n    <tr>\n      <th>0</th>\n      <td>AEA0D1937329</td>\n      <td>19JIYDxouJVup6Vju4XbHl</td>\n      <td>10fd2bac-ab04-4eb8-8428-f2068923bdf7</td>\n      <td>My Wasteland</td>\n      <td>[Echoes in Me, Hate, In Your Nightmares, Linda...</td>\n      <td>{'Echoes in Me': 12, 'Hate': 25, 'In Your Nigh...</td>\n      <td>(My Wasteland, 100)</td>\n      <td>My Wasteland</td>\n      <td>100</td>\n      <td>5</td>\n    </tr>\n    <tr>\n      <th>1</th>\n      <td>AEA0D2084900</td>\n      <td>6DQKbMorKoc8I5dm72bZJi</td>\n      <td>4ac930af-fd16-4397-ba4c-f3727331d2c4</td>\n      <td>Hakuna Matata</td>\n      <td>[A Spoonful of Sugar, Hakuna Matata, Kisse the...</td>\n      <td>{'A Spoonful of Sugar': 26, 'Hakuna Matata': 4...</td>\n      <td>(Hakuna Matata, 100)</td>\n      <td>Hakuna Matata</td>\n      <td>100</td>\n      <td>45</td>\n    </tr>\n    <tr>\n      <th>2</th>\n      <td>AEA0Q1967586</td>\n      <td>6k2GJRe3u6wHqaXL9XCt74</td>\n      <td>0df23deb-d8b5-4ef8-ae16-6865f6facc22</td>\n      <td>Farcry</td>\n      <td>[Farcry, Impossible]</td>\n      <td>{'Farcry': 2, 'Impossible': 3}</td>\n      <td>(Farcry, 100)</td>\n      <td>Farcry</td>\n      <td>100</td>\n      <td>2</td>\n    </tr>\n    <tr>\n      <th>3</th>\n      <td>AEA0Q2041540</td>\n      <td>6xCie6yrUQh0McImPanmGq</td>\n      <td>88532401-a81e-4af7-bcfa-397ce6c4f6cc</td>\n      <td>Self Isolation</td>\n      <td>[After Work, Covid, Memory, Runaway, Self Isol...</td>\n      <td>{'After Work': 1524, 'Covid': 1154, 'Memory': ...</td>\n      <td>(Self Isolation, 100)</td>\n      <td>Self Isolation</td>\n      <td>100</td>\n      <td>1631</td>\n    </tr>\n    <tr>\n      <th>4</th>\n      <td>AEA268600007</td>\n      <td>1xoQ7aj6Ms73PCJ3Q5UPTe</td>\n      <td>0c8b2548-0d6f-47e9-bf0a-60e32f14690a</td>\n      <td>A Hundred Words</td>\n      <td>[A Hundred Words, Forever Dancing, If Only '87...</td>\n      <td>{'A Hundred Words': 7022, 'Forever Dancing': 3...</td>\n      <td>(A Hundred Words, 100)</td>\n      <td>A Hundred Words</td>\n      <td>100</td>\n      <td>7022</td>\n    </tr>\n  </tbody>\n</table>\n</div>"
     },
     "metadata": {},
     "output_type": "display_data"
    },
    {
     "name": "stdout",
     "output_type": "stream",
     "text": [
      "\n",
      "======NUMERICAL COL SUMMARY======\n",
      "             score    play_count\n",
      "count  29786.00000  2.978600e+04\n",
      "mean      93.13503  1.937029e+05\n",
      "std       18.05461  9.130322e+05\n",
      "min        0.00000  0.000000e+00\n",
      "25%      100.00000  1.342500e+02\n",
      "50%      100.00000  2.390000e+03\n",
      "75%      100.00000  3.376075e+04\n",
      "max      100.00000  2.399470e+07\n",
      "\n",
      "\n",
      "isrc: 29786 unique values\n",
      "sp_track_uri: 29786 unique values\n",
      "mb_release_gid: 12723 unique values\n",
      "mb_track_name: 27371 unique values\n",
      "lfm_track_names: Not unique check-able unique values\n",
      "lfm_play_counts: Not unique check-able unique values\n",
      "match: 27315 unique values\n",
      "matched: 25767 unique values\n",
      "score: 95 unique values\n",
      "play_count: 14912 unique values\n"
     ]
    }
   ],
   "source": [
    "summarize_df(working_df)"
   ]
  },
  {
   "cell_type": "code",
   "execution_count": 83,
   "id": "c7b2da86",
   "metadata": {
    "pycharm": {
     "name": "#%%\n"
    }
   },
   "outputs": [],
   "source": [
    "working_df = working_df.merge(sp_track_audiof, on='sp_track_uri') \\\n",
    "                        .merge(sp_track_artist, on='sp_track_uri') \\\n",
    "                        .merge(sp_artist_info, on='sp_artist_uri') \\\n",
    "                        .drop(['lfm_track_names', 'lfm_play_counts', 'match'], axis=1)"
   ]
  },
  {
   "cell_type": "code",
   "execution_count": 84,
   "outputs": [
    {
     "data": {
      "text/plain": "<matplotlib.axes._subplots.AxesSubplot at 0x7fb71cc006a0>"
     },
     "execution_count": 84,
     "metadata": {},
     "output_type": "execute_result"
    },
    {
     "data": {
      "text/plain": "<Figure size 432x288 with 1 Axes>",
      "image/png": "[encoded data removed]"
     },
     "metadata": {
      "needs_background": "light"
     },
     "output_type": "display_data"
    }
   ],
   "source": [
    "working_df['score'].plot.hist()"
   ],
   "metadata": {
    "collapsed": false,
    "pycharm": {
     "name": "#%%\n"
    }
   }
  },
  {
   "cell_type": "code",
   "execution_count": 85,
   "outputs": [],
   "source": [
    "working_df[working_df['score'] >= 80].to_parquet('song_data.parquet')"
   ],
   "metadata": {
    "collapsed": false,
    "pycharm": {
     "name": "#%%\n"
    }
   }
  }
 ],
 "metadata": {
  "kernelspec": {
   "display_name": "ISyE 6740 Project",
   "language": "python",
   "name": "isye6740-project"
  },
  "language_info": {
   "codemirror_mode": {
    "name": "ipython",
    "version": 3
   },
   "file_extension": ".py",
   "mimetype": "text/x-python",
   "name": "python",
   "nbconvert_exporter": "python",
   "pygments_lexer": "ipython3",
   "version": "3.6.13"
  }
 },
 "nbformat": 4,
 "nbformat_minor": 5
}