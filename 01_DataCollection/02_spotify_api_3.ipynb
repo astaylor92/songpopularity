{
 "cells": [
  {
   "cell_type": "markdown",
   "id": "b8e6a066",
   "metadata": {
    "pycharm": {
     "name": "#%% md\n"
    }
   },
   "source": [
    "# Music Popularity Analysis\n",
    "\n",
    "<hr style=\"border:2px solid black\"> </hr>\n",
    "\n",
    "## Notebook 02 - Spotify API for Album Search & Track Retrieval\n",
    "\n",
    "---\n",
    "\n",
    "### Import libraries"
   ]
  },
  {
   "cell_type": "code",
   "execution_count": 1,
   "id": "ddd6e3b5",
   "metadata": {
    "pycharm": {
     "name": "#%%\n"
    }
   },
   "outputs": [],
   "source": [
    "import matplotlib.pyplot as plt\n",
    "import pandas as pd\n",
    "import numpy as np\n",
    "import time\n",
    "import spotipy\n",
    "from spotipy.oauth2 import SpotifyClientCredentials\n",
    "from bs4 import BeautifulSoup\n",
    "import requests\n",
    "import sys"
   ]
  },
  {
   "cell_type": "markdown",
   "id": "b5d4543d",
   "metadata": {
    "pycharm": {
     "name": "#%% md\n"
    }
   },
   "source": [
    "---\n",
    "### Import Barcodes for Spotify URI Retrieval"
   ]
  },
  {
   "cell_type": "code",
   "execution_count": 2,
   "id": "bbc62793",
   "metadata": {
    "pycharm": {
     "name": "#%%\n"
    }
   },
   "outputs": [],
   "source": [
    "mb_db_isrcs = np.array(pd.read_csv('mb_db_isrcs.csv', names=['isrc'], header=None))"
   ]
  },
  {
   "cell_type": "code",
   "execution_count": 3,
   "id": "5b657cf0",
   "metadata": {
    "pycharm": {
     "name": "#%%\n"
    }
   },
   "outputs": [],
   "source": [
    "CLIENT_ID = '75855396ac0446279df54c8a7df71414'\n",
    "CLIENT_SECRET = '7bc71c24b81743ebbb79f0b612c26587'"
   ]
  },
  {
   "cell_type": "code",
   "execution_count": 4,
   "id": "e0bef8a8",
   "metadata": {
    "pycharm": {
     "name": "#%%\n"
    }
   },
   "outputs": [],
   "source": [
    "AUTH_URL = 'https://accounts.spotify.com/api/token'\n",
    "\n",
    "# POST\n",
    "auth_response = requests.post(AUTH_URL, {\n",
    "    'grant_type': 'client_credentials',\n",
    "    'client_id': CLIENT_ID,\n",
    "    'client_secret': CLIENT_SECRET,\n",
    "})\n",
    "\n",
    "# convert the response to JSON\n",
    "auth_response_data = auth_response.json()\n",
    "\n",
    "# save the access token\n",
    "access_token = auth_response_data['access_token']"
   ]
  },
  {
   "cell_type": "code",
   "execution_count": 5,
   "id": "2e84e4b5",
   "metadata": {
    "pycharm": {
     "name": "#%%\n"
    }
   },
   "outputs": [],
   "source": [
    "headers = {\n",
    "    'Authorization': 'Bearer {token}'.format(token=access_token)\n",
    "}"
   ]
  },
  {
   "cell_type": "code",
   "execution_count": 6,
   "id": "cbd3dbfb",
   "metadata": {
    "pycharm": {
     "name": "#%%\n"
    }
   },
   "outputs": [
    {
     "data": {
      "text/plain": [
       "{'danceability': 0.54,\n",
       " 'energy': 0.59,\n",
       " 'key': 0,\n",
       " 'loudness': -4.359,\n",
       " 'mode': 1,\n",
       " 'speechiness': 0.0528,\n",
       " 'acousticness': 0.446,\n",
       " 'instrumentalness': 0,\n",
       " 'liveness': 0.14,\n",
       " 'valence': 0.267,\n",
       " 'tempo': 119.878,\n",
       " 'type': 'audio_features',\n",
       " 'id': '6y0igZArWVi6Iz0rj35c1Y',\n",
       " 'uri': 'spotify:track:6y0igZArWVi6Iz0rj35c1Y',\n",
       " 'track_href': 'https://api.spotify.com/v1/tracks/6y0igZArWVi6Iz0rj35c1Y',\n",
       " 'analysis_url': 'https://api.spotify.com/v1/audio-analysis/6y0igZArWVi6Iz0rj35c1Y',\n",
       " 'duration_ms': 234910,\n",
       " 'time_signature': 4}"
      ]
     },
     "execution_count": 6,
     "metadata": {},
     "output_type": "execute_result"
    }
   ],
   "source": [
    "## Test of requests method\n",
    "# base URL of all Spotify API endpoints\n",
    "BASE_URL = 'https://api.spotify.com/v1/'\n",
    "\n",
    "# Track ID from the URI\n",
    "track_id = '6y0igZArWVi6Iz0rj35c1Y'\n",
    "\n",
    "# actual GET request with proper header\n",
    "r = requests.get(BASE_URL + 'audio-features/' + track_id, headers=headers)\n",
    "r.json()"
   ]
  },
  {
   "cell_type": "code",
   "execution_count": 50,
   "id": "56e9ff92",
   "metadata": {
    "pycharm": {
     "name": "#%%\n"
    }
   },
   "outputs": [],
   "source": [
    "isrc_uri = []\n",
    "j = 0"
   ]
  },
  {
   "cell_type": "code",
   "execution_count": 7,
   "id": "779fa099",
   "metadata": {
    "pycharm": {
     "name": "#%%\n"
    }
   },
   "outputs": [],
   "source": [
    "# Initiate from file\n",
    "isrc_uri = pd.read_csv('isrc_uri.csv')[['isrc', 'sp_uri']]\n",
    "isrc_uri = isrc_uri.values.tolist()\n",
    "isrc_uri = [(a[0], a[1]) for a in isrc_uri]\n",
    "j = len(isrc_uri)"
   ]
  },
  {
   "cell_type": "code",
   "execution_count": 8,
   "id": "eb7e2a7c",
   "metadata": {
    "pycharm": {
     "name": "#%%\n"
    }
   },
   "outputs": [
    {
     "name": "stdout",
     "output_type": "stream",
     "text": [
      "44100 isrcs searched, 44096 songs found\n",
      "44200 isrcs searched, 44184 songs found\n",
      "44300 isrcs searched, 44273 songs found\n",
      "44400 isrcs searched, 44364 songs found\n",
      "44500 isrcs searched, 44448 songs found\n",
      "44600 isrcs searched, 44534 songs found\n",
      "44700 isrcs searched, 44617 songs found\n",
      "44800 isrcs searched, 44699 songs found\n",
      "44900 isrcs searched, 44785 songs found\n",
      "45000 isrcs searched, 44872 songs found\n",
      "45100 isrcs searched, 44965 songs found\n",
      "45200 isrcs searched, 45053 songs found\n",
      "45300 isrcs searched, 45139 songs found\n",
      "45400 isrcs searched, 45227 songs found\n",
      "45500 isrcs searched, 45320 songs found\n",
      "45600 isrcs searched, 45404 songs found\n",
      "45700 isrcs searched, 45497 songs found\n",
      "45800 isrcs searched, 45587 songs found\n",
      "45900 isrcs searched, 45674 songs found\n",
      "Error! Waiting 30 secs and re-trying...\n",
      "46000 isrcs searched, 45767 songs found\n",
      "46100 isrcs searched, 45857 songs found\n",
      "46200 isrcs searched, 45946 songs found\n",
      "46300 isrcs searched, 46033 songs found\n",
      "46400 isrcs searched, 46127 songs found\n",
      "46500 isrcs searched, 46216 songs found\n",
      "46600 isrcs searched, 46300 songs found\n",
      "46700 isrcs searched, 46387 songs found\n",
      "46800 isrcs searched, 46478 songs found\n",
      "46900 isrcs searched, 46563 songs found\n",
      "47000 isrcs searched, 46658 songs found\n",
      "47100 isrcs searched, 46751 songs found\n",
      "47200 isrcs searched, 46843 songs found\n",
      "47300 isrcs searched, 46926 songs found\n",
      "47400 isrcs searched, 47017 songs found\n",
      "47500 isrcs searched, 47101 songs found\n",
      "47600 isrcs searched, 47188 songs found\n",
      "47700 isrcs searched, 47277 songs found\n",
      "47800 isrcs searched, 47369 songs found\n",
      "47900 isrcs searched, 47459 songs found\n",
      "48000 isrcs searched, 47549 songs found\n",
      "48100 isrcs searched, 47643 songs found\n",
      "48200 isrcs searched, 47731 songs found\n",
      "48300 isrcs searched, 47813 songs found\n",
      "48400 isrcs searched, 47904 songs found\n",
      "48500 isrcs searched, 47994 songs found\n",
      "48600 isrcs searched, 48077 songs found\n",
      "48700 isrcs searched, 48168 songs found\n",
      "48800 isrcs searched, 48257 songs found\n",
      "48900 isrcs searched, 48344 songs found\n",
      "49000 isrcs searched, 48426 songs found\n",
      "49100 isrcs searched, 48520 songs found\n",
      "49200 isrcs searched, 48609 songs found\n",
      "49300 isrcs searched, 48695 songs found\n",
      "49400 isrcs searched, 48782 songs found\n",
      "49500 isrcs searched, 48873 songs found\n",
      "49600 isrcs searched, 48957 songs found\n",
      "49700 isrcs searched, 49046 songs found\n",
      "49800 isrcs searched, 49134 songs found\n",
      "49900 isrcs searched, 49220 songs found\n",
      "50000 isrcs searched, 49306 songs found\n",
      "50100 isrcs searched, 49398 songs found\n",
      "50200 isrcs searched, 49487 songs found\n",
      "50300 isrcs searched, 49574 songs found\n",
      "50400 isrcs searched, 49661 songs found\n",
      "50500 isrcs searched, 49751 songs found\n",
      "50600 isrcs searched, 49841 songs found\n",
      "50700 isrcs searched, 49925 songs found\n",
      "50800 isrcs searched, 50015 songs found\n",
      "50900 isrcs searched, 50101 songs found\n",
      "51000 isrcs searched, 50191 songs found\n",
      "51100 isrcs searched, 50276 songs found\n",
      "51200 isrcs searched, 50365 songs found\n",
      "51300 isrcs searched, 50456 songs found\n"
     ]
    },
    {
     "ename": "KeyboardInterrupt",
     "evalue": "",
     "output_type": "error",
     "traceback": [
      "\u001B[0;31m---------------------------------------------------------------------------\u001B[0m",
      "\u001B[0;31mKeyboardInterrupt\u001B[0m                         Traceback (most recent call last)",
      "\u001B[0;32m<ipython-input-8-1634c67e0ee8>\u001B[0m in \u001B[0;36m<module>\u001B[0;34m\u001B[0m\n\u001B[1;32m     19\u001B[0m     \u001B[0;32mif\u001B[0m \u001B[0mlen\u001B[0m\u001B[0;34m(\u001B[0m\u001B[0mr\u001B[0m\u001B[0;34m.\u001B[0m\u001B[0mjson\u001B[0m\u001B[0;34m(\u001B[0m\u001B[0;34m)\u001B[0m\u001B[0;34m[\u001B[0m\u001B[0;34m'tracks'\u001B[0m\u001B[0;34m]\u001B[0m\u001B[0;34m[\u001B[0m\u001B[0;34m'items'\u001B[0m\u001B[0;34m]\u001B[0m\u001B[0;34m)\u001B[0m \u001B[0;34m>\u001B[0m \u001B[0;36m0\u001B[0m\u001B[0;34m:\u001B[0m\u001B[0;34m\u001B[0m\u001B[0;34m\u001B[0m\u001B[0m\n\u001B[1;32m     20\u001B[0m         \u001B[0misrc_uri\u001B[0m\u001B[0;34m.\u001B[0m\u001B[0mappend\u001B[0m\u001B[0;34m(\u001B[0m\u001B[0;34m(\u001B[0m\u001B[0misrc\u001B[0m\u001B[0;34m[\u001B[0m\u001B[0;36m0\u001B[0m\u001B[0;34m]\u001B[0m\u001B[0;34m,\u001B[0m \u001B[0mr\u001B[0m\u001B[0;34m.\u001B[0m\u001B[0mjson\u001B[0m\u001B[0;34m(\u001B[0m\u001B[0;34m)\u001B[0m\u001B[0;34m[\u001B[0m\u001B[0;34m'tracks'\u001B[0m\u001B[0;34m]\u001B[0m\u001B[0;34m[\u001B[0m\u001B[0;34m'items'\u001B[0m\u001B[0;34m]\u001B[0m\u001B[0;34m[\u001B[0m\u001B[0;36m0\u001B[0m\u001B[0;34m]\u001B[0m\u001B[0;34m[\u001B[0m\u001B[0;34m'id'\u001B[0m\u001B[0;34m]\u001B[0m\u001B[0;34m)\u001B[0m\u001B[0;34m)\u001B[0m\u001B[0;34m\u001B[0m\u001B[0;34m\u001B[0m\u001B[0m\n\u001B[0;32m---> 21\u001B[0;31m     \u001B[0mtime\u001B[0m\u001B[0;34m.\u001B[0m\u001B[0msleep\u001B[0m\u001B[0;34m(\u001B[0m\u001B[0mnp\u001B[0m\u001B[0;34m.\u001B[0m\u001B[0mrandom\u001B[0m\u001B[0;34m.\u001B[0m\u001B[0mrandom\u001B[0m\u001B[0;34m(\u001B[0m\u001B[0;34m)\u001B[0m\u001B[0;34m*\u001B[0m\u001B[0;36m1.5\u001B[0m\u001B[0;34m)\u001B[0m\u001B[0;34m\u001B[0m\u001B[0;34m\u001B[0m\u001B[0m\n\u001B[0m\u001B[1;32m     22\u001B[0m     \u001B[0mj\u001B[0m \u001B[0;34m+=\u001B[0m \u001B[0;36m1\u001B[0m\u001B[0;34m\u001B[0m\u001B[0;34m\u001B[0m\u001B[0m\n\u001B[1;32m     23\u001B[0m     \u001B[0;32mif\u001B[0m \u001B[0mj\u001B[0m \u001B[0;34m%\u001B[0m \u001B[0;36m100\u001B[0m \u001B[0;34m==\u001B[0m \u001B[0;36m0\u001B[0m\u001B[0;34m:\u001B[0m\u001B[0;34m\u001B[0m\u001B[0;34m\u001B[0m\u001B[0m\n",
      "\u001B[0;31mKeyboardInterrupt\u001B[0m: "
     ]
    }
   ],
   "source": [
    "# actual GET request with proper header\n",
    "for j in range(j, len(mb_db_isrcs)):\n",
    "    isrc = mb_db_isrcs[j]\n",
    "    \n",
    "    retries = 1\n",
    "    success = False\n",
    "    while not success:\n",
    "        try:\n",
    "            r = requests.get(BASE_URL + 'search?query=isrc%3A'+isrc[0]+'&type=track&locale=en-US%2Cen%3Bq%3D0.9&offset=0&limit=20', headers=headers)\n",
    "            success = True\n",
    "        except Exception as e:\n",
    "            wait = retries * 30;\n",
    "            print(f'Error! Waiting {wait} secs and re-trying...')\n",
    "            sys.stdout.flush()\n",
    "            time.sleep(wait)\n",
    "            retries += 1\n",
    "    \n",
    "    resp_header = r.headers\n",
    "    if len(r.json()['tracks']['items']) > 0:\n",
    "        isrc_uri.append((isrc[0], r.json()['tracks']['items'][0]['id']))\n",
    "    time.sleep(np.random.random()*1.5)\n",
    "    j += 1\n",
    "    if j % 100 == 0:\n",
    "        print(\"{} isrcs searched, {} songs found\".format(j, len(isrc_uri)))\n",
    "        \n",
    "    if j % 1000 == 0:\n",
    "        # POST\n",
    "        auth_response = requests.post(AUTH_URL, {\n",
    "            'grant_type': 'client_credentials',\n",
    "            'client_id': CLIENT_ID,\n",
    "            'client_secret': CLIENT_SECRET,\n",
    "        })\n",
    "\n",
    "        # convert the response to JSON\n",
    "        auth_response_data = auth_response.json()\n",
    "\n",
    "        # save the access token\n",
    "        access_token = auth_response_data['access_token']\n",
    "        \n",
    "        headers = {\n",
    "            'Authorization': 'Bearer {token}'.format(token=access_token)\n",
    "        }"
   ]
  },
  {
   "cell_type": "code",
   "execution_count": 31,
   "id": "30298fc0",
   "metadata": {
    "scrolled": false,
    "pycharm": {
     "name": "#%%\n"
    }
   },
   "outputs": [
    {
     "data": {
      "text/plain": [
       "{'cache-control': 'private, max-age=0', 'retry-after': '52261', 'access-control-allow-origin': '*', 'access-control-allow-headers': 'Accept, App-Platform, Authorization, Content-Type, Origin, Retry-After, Spotify-App-Version, X-Cloud-Trace-Context, client-token, content-access-token', 'access-control-allow-methods': 'GET, POST, OPTIONS, PUT, DELETE, PATCH', 'access-control-allow-credentials': 'true', 'access-control-max-age': '604800', 'content-encoding': 'gzip', 'strict-transport-security': 'max-age=31536000', 'x-content-type-options': 'nosniff', 'date': 'Wed, 20 Apr 2022 13:23:30 GMT', 'server': 'envoy', 'Via': 'HTTP/2 edgeproxy, 1.1 google', 'Alt-Svc': 'h3=\":443\"; ma=2592000,h3-29=\":443\"; ma=2592000', 'Transfer-Encoding': 'chunked'}"
      ]
     },
     "execution_count": 31,
     "metadata": {},
     "output_type": "execute_result"
    }
   ],
   "source": [
    "r.headers"
   ]
  },
  {
   "cell_type": "code",
   "execution_count": 9,
   "id": "df6d1690",
   "metadata": {
    "pycharm": {
     "name": "#%%\n"
    }
   },
   "outputs": [],
   "source": [
    "pd.DataFrame(isrc_uri, columns=['isrc', 'sp_uri']).to_csv('isrc_uri.csv')"
   ]
  }
 ],
 "metadata": {
  "kernelspec": {
   "display_name": "ISyE 6740 Project",
   "language": "python",
   "name": "isye6740-project"
  },
  "language_info": {
   "codemirror_mode": {
    "name": "ipython",
    "version": 3
   },
   "file_extension": ".py",
   "mimetype": "text/x-python",
   "name": "python",
   "nbconvert_exporter": "python",
   "pygments_lexer": "ipython3",
   "version": "3.6.13"
  }
 },
 "nbformat": 4,
 "nbformat_minor": 5
}