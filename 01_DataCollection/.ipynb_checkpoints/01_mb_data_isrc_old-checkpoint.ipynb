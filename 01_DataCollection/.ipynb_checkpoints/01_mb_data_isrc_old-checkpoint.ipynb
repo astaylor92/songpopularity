{
 "cells": [
  {
   "cell_type": "markdown",
   "id": "2e72d9e3",
   "metadata": {},
   "source": [
    "# Music Popularity Analysis\n",
    "\n",
    "<hr style=\"border:2px solid black\"> </hr>\n",
    "\n",
    "## Notebook 01 - Data Prep\n",
    "\n",
    "---\n",
    "\n",
    "### Import libraries"
   ]
  },
  {
   "cell_type": "code",
   "execution_count": null,
   "id": "9a7ca3a1",
   "metadata": {},
   "outputs": [],
   "source": [
    "import matplotlib.pyplot as plt\n",
    "import pandas as pd\n",
    "import numpy as np\n",
    "import time"
   ]
  },
  {
   "cell_type": "code",
   "execution_count": null,
   "id": "cba60ed5",
   "metadata": {},
   "outputs": [],
   "source": [
    "def num_uniques(ser):\n",
    "    try:\n",
    "        return len(ser.unique())\n",
    "    except:\n",
    "        return \"Not unique check-able\""
   ]
  },
  {
   "cell_type": "code",
   "execution_count": null,
   "id": "47743aac",
   "metadata": {},
   "outputs": [],
   "source": [
    "def summarize_df(df):\n",
    "    print(\"======DATA SUMMARY======\")\n",
    "    print(\"{} rows by {} columns\".format(df.shape[0], df.shape[1]))\n",
    "    print(\"\\n======COLUMNS======\")\n",
    "    print(df.dtypes)\n",
    "    print(\"\\n======PREVIEW======\")\n",
    "    display(df.head())\n",
    "    print(\"\\n======NUMERICAL COL SUMMARY======\")\n",
    "    print(df.describe())\n",
    "    print(\"\\n\")\n",
    "    for col in df.columns:\n",
    "        print(\"{}: {} unique values\".format(col, num_uniques(df[col])))"
   ]
  },
  {
   "cell_type": "markdown",
   "id": "56ee72a0",
   "metadata": {},
   "source": [
    "---\n",
    "### Import data"
   ]
  },
  {
   "cell_type": "code",
   "execution_count": null,
   "id": "733b754b",
   "metadata": {},
   "outputs": [],
   "source": [
    "# Releases - album info\n",
    "# Field names from MB website\n",
    "rel_names = ['release_id', 'release_gid', 'barcode']\n",
    "releases = pd.read_csv('../data/mbdump/mbdump/release', delimiter='\\t', names=rel_names, usecols=[0, 1, 9])"
   ]
  },
  {
   "cell_type": "code",
   "execution_count": null,
   "id": "fed9e458",
   "metadata": {},
   "outputs": [],
   "source": [
    "summarize_df(releases)"
   ]
  },
  {
   "cell_type": "code",
   "execution_count": null,
   "id": "be72fea2",
   "metadata": {},
   "outputs": [],
   "source": [
    "releases_upc = releases[releases['barcode'].astype(str).apply(len) == 12]"
   ]
  },
  {
   "cell_type": "code",
   "execution_count": null,
   "id": "19d1c902",
   "metadata": {},
   "outputs": [],
   "source": [
    "summarize_df(releases_upc)"
   ]
  },
  {
   "cell_type": "code",
   "execution_count": null,
   "id": "61633596",
   "metadata": {},
   "outputs": [],
   "source": [
    "# Medium\n",
    "\n",
    "# Field names from MB website\n",
    "medium_names = ['medium_id', 'release_id']\n",
    "medium = pd.read_csv('../data/mbdump/mbdump/medium', delimiter='\\t', names=medium_names, usecols=[0, 1]) "
   ]
  },
  {
   "cell_type": "code",
   "execution_count": null,
   "id": "c579c0c7",
   "metadata": {},
   "outputs": [],
   "source": [
    "summarize_df(medium)"
   ]
  },
  {
   "cell_type": "code",
   "execution_count": null,
   "id": "f1b9a10c",
   "metadata": {},
   "outputs": [],
   "source": [
    "release_medium.shape"
   ]
  },
  {
   "cell_type": "code",
   "execution_count": null,
   "id": "2c634277",
   "metadata": {},
   "outputs": [],
   "source": [
    "release_medium = releases_upc_ean.merge(medium, on='release_id', how='left')"
   ]
  },
  {
   "cell_type": "code",
   "execution_count": null,
   "id": "3c4edc1a",
   "metadata": {},
   "outputs": [],
   "source": [
    "# Track\n",
    "\n",
    "# Field names from MB website\n",
    "track_names = ['track_id', 'track_gid', 'recording_id', 'medium_id', 'track_name']\n",
    "track = pd.read_csv('../data/mbdump/mbdump/track', delimiter='\\t', names=track_names,\n",
    "                   usecols=[0, 1, 2, 3, 6])"
   ]
  },
  {
   "cell_type": "code",
   "execution_count": null,
   "id": "3b197e48",
   "metadata": {},
   "outputs": [],
   "source": [
    "summarize_df(track)"
   ]
  },
  {
   "cell_type": "code",
   "execution_count": null,
   "id": "40416e68",
   "metadata": {},
   "outputs": [],
   "source": [
    "# Recording\n",
    "\n",
    "# Field names from MB website\n",
    "recording_names = ['recording_id']\n",
    "recording = pd.read_csv('../data/mbdump/mbdump/recording', delimiter='\\t', names=recording_names,\n",
    "                   usecols=[0])"
   ]
  },
  {
   "cell_type": "code",
   "execution_count": null,
   "id": "1ff25641",
   "metadata": {},
   "outputs": [],
   "source": [
    "summarize_df(recording)"
   ]
  },
  {
   "cell_type": "code",
   "execution_count": null,
   "id": "1c190284",
   "metadata": {},
   "outputs": [],
   "source": [
    "# ISRC\n",
    "\n",
    "# Field names from MB website\n",
    "isrc_names = ['recording_id', 'isrc']\n",
    "isrc = pd.read_csv('../data/mbdump/mbdump/isrc', delimiter='\\t', names=isrc_names, usecols=[0, 2])"
   ]
  },
  {
   "cell_type": "code",
   "execution_count": null,
   "id": "116dead0",
   "metadata": {},
   "outputs": [],
   "source": [
    "summarize_df(isrc)"
   ]
  },
  {
   "cell_type": "code",
   "execution_count": null,
   "id": "d3f8d7ff",
   "metadata": {},
   "outputs": [],
   "source": [
    "# mb_db_songs = track.merge(release_medium, on='medium_id')\n",
    "recording_isrc = recording.merge(isrc, on='recording_id')\n",
    "mb_db_songs = track.merge(recording_isrc, on='recording_id')"
   ]
  },
  {
   "cell_type": "code",
   "execution_count": null,
   "id": "f6842f08",
   "metadata": {},
   "outputs": [],
   "source": [
    "summarize_"
   ]
  },
  {
   "cell_type": "code",
   "execution_count": null,
   "id": "93a4c6c3",
   "metadata": {},
   "outputs": [],
   "source": [
    "summarize_df(mb_db_songs)"
   ]
  },
  {
   "cell_type": "code",
   "execution_count": null,
   "id": "122fa636",
   "metadata": {},
   "outputs": [],
   "source": [
    "# mb_db_barcodes = mb_db_songs['barcode'].unique()"
   ]
  }
 ],
 "metadata": {
  "kernelspec": {
   "display_name": "ISyE 6740 Project",
   "language": "python",
   "name": "isye6740-project"
  },
  "language_info": {
   "codemirror_mode": {
    "name": "ipython",
    "version": 3
   },
   "file_extension": ".py",
   "mimetype": "text/x-python",
   "name": "python",
   "nbconvert_exporter": "python",
   "pygments_lexer": "ipython3",
   "version": "3.6.13"
  }
 },
 "nbformat": 4,
 "nbformat_minor": 5
}
