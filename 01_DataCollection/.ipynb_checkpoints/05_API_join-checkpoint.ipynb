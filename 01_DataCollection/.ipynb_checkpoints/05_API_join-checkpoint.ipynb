{
 "cells": [
  {
   "cell_type": "markdown",
   "id": "930cf686",
   "metadata": {},
   "source": [
    "# Music Popularity Analysis\n",
    "\n",
    "<hr style=\"border:2px solid black\"> </hr>\n",
    "\n",
    "## Notebook 05 - API Join\n",
    "\n",
    "---\n",
    "\n",
    "### Import libraries"
   ]
  },
  {
   "cell_type": "code",
   "execution_count": null,
   "id": "674ccd0c",
   "metadata": {},
   "outputs": [],
   "source": [
    "import matplotlib.pyplot as plt\n",
    "import pandas as pd\n",
    "import numpy as np\n",
    "import time\n",
    "from fuzzywuzzy import fuzz\n",
    "from fuzzywuzzy import process"
   ]
  },
  {
   "cell_type": "code",
   "execution_count": null,
   "id": "4efd3018",
   "metadata": {},
   "outputs": [],
   "source": [
    "def num_uniques(ser):\n",
    "    try:\n",
    "        return len(ser.unique())\n",
    "    except:\n",
    "        return \"Not unique check-able\""
   ]
  },
  {
   "cell_type": "code",
   "execution_count": null,
   "id": "9014124b",
   "metadata": {},
   "outputs": [],
   "source": [
    "def summarize_df(df):\n",
    "    print(\"======DATA SUMMARY======\")\n",
    "    print(\"{} rows by {} columns\".format(df.shape[0], df.shape[1]))\n",
    "    print(\"\\n======COLUMNS======\")\n",
    "    print(df.dtypes)\n",
    "    print(\"\\n======PREVIEW======\")\n",
    "    display(df.head())\n",
    "    print(\"\\n======NUMERICAL COL SUMMARY======\")\n",
    "    print(df.describe())\n",
    "    print(\"\\n\")\n",
    "    for col in df.columns:\n",
    "        print(\"{}: {} unique values\".format(col, num_uniques(df[col])))"
   ]
  },
  {
   "cell_type": "code",
   "execution_count": null,
   "id": "8693611a",
   "metadata": {},
   "outputs": [],
   "source": [
    "def quicksum(df):\n",
    "    print(\"======DATA SUMMARY======\")\n",
    "    print(\"{} rows by {} columns\".format(df.shape[0], df.shape[1]))\n",
    "    print(\"\\n======PREVIEW======\")\n",
    "    display(df.head())\n",
    "    for col in df.columns:\n",
    "        print(\"{}: {} unique values\".format(col, num_uniques(df[col])))"
   ]
  },
  {
   "cell_type": "markdown",
   "id": "9fd5ac3a",
   "metadata": {},
   "source": [
    "---\n",
    "### Import data"
   ]
  },
  {
   "cell_type": "code",
   "execution_count": null,
   "id": "24ee1b8c",
   "metadata": {},
   "outputs": [],
   "source": [
    "# Read in last.fm release + track + play count\n",
    "lfm_count = pd.read_csv('gid_name_art_count.csv', usecols=[1, 2, 3, 4], skiprows=1,\n",
    "                        names=['mb_release_gid', 'lfm_track_name', 'lfm_artist_name', 'lfm_play_count'])\n",
    "summarize_df(lfm_count)"
   ]
  },
  {
   "cell_type": "code",
   "execution_count": null,
   "id": "6b1547f6",
   "metadata": {},
   "outputs": [],
   "source": [
    "# Aggregate last.fm release + track + play count\n",
    "lfm_rel_name = lfm_count[['mb_release_gid', 'lfm_track_name', 'lfm_artist_name', 'lfm_play_count']].groupby(['mb_release_gid', 'lfm_track_name' , 'lfm_artist_name', 'lfm_play_count'], as_index=False).size()\n",
    "summarize_df(lfm_rel_name)\n",
    "lfm_rel_name = lfm_rel_name.drop('size', axis=1)"
   ]
  },
  {
   "cell_type": "code",
   "execution_count": null,
   "id": "bfc46ae0",
   "metadata": {},
   "outputs": [],
   "source": [
    "# Cleansing to prep for fuzzy matching (lowercase, alphanumeric)\n",
    "lfm_rel_name['lfm_rel_name_prcs'] = lfm_rel_name['lfm_track_name'].apply(lambda x: ''.join([s.lower() for s in x if s.isalnum()]))"
   ]
  },
  {
   "cell_type": "code",
   "execution_count": null,
   "id": "3274acb4",
   "metadata": {},
   "outputs": [],
   "source": [
    "# Custom function to generate a list of track names and dictionary of track names to play counts\n",
    "def groupfunc(df):\n",
    "    d = {}\n",
    "    d['mb_release_gid'] = df['mb_release_gid']\n",
    "    d['lfm_track_names'] = df['lfm_rel_name_prcs'].values.tolist()\n",
    "    d['lfm_play_counts'] = dict([(k, df['lfm_play_count'].values.tolist()[i]) for i, k in enumerate(df['lfm_rel_name_prcs'].values.tolist())])\n",
    "    return pd.Series(d)"
   ]
  },
  {
   "cell_type": "code",
   "execution_count": null,
   "id": "7051c800",
   "metadata": {},
   "outputs": [],
   "source": [
    "lfm_rel_ids = lfm_rel_name.groupby('mb_release_gid', as_index=False).apply(groupfunc)\n",
    "lfm_rel_ids['mb_release_gid'] = lfm_rel_ids['mb_release_gid'].apply(lambda x: x.iloc[0])\n",
    "quicksum(lfm_rel_ids)"
   ]
  },
  {
   "cell_type": "code",
   "execution_count": null,
   "id": "e55c9787",
   "metadata": {
    "scrolled": false
   },
   "outputs": [],
   "source": [
    "sp_track_artist = pd.read_csv('uri_artist.csv', usecols=[1, 2])\n",
    "quicksum(sp_track_artist)"
   ]
  },
  {
   "cell_type": "code",
   "execution_count": null,
   "id": "83173be7",
   "metadata": {},
   "outputs": [],
   "source": [
    "sp_track_artist_c = sp_track_artist.groupby(['sp_artist_uri', 'sp_track_uri'], as_index=False).size()\n",
    "quicksum(sp_track_artist_c)\n",
    "sp_track_artist_c = sp_track_artist_c.drop('size', axis=1)"
   ]
  },
  {
   "cell_type": "code",
   "execution_count": null,
   "id": "a1fd4c37",
   "metadata": {},
   "outputs": [],
   "source": [
    "sp_artist_info = pd.read_csv('artisturi_artistinfo.csv', usecols=[1, 2, 3, 4])\n",
    "quicksum(sp_artist_info)"
   ]
  },
  {
   "cell_type": "code",
   "execution_count": null,
   "id": "1157de76",
   "metadata": {},
   "outputs": [],
   "source": [
    "sp_artist_info_c = sp_artist_info.groupby(list(sp_artist_info.columns), as_index=False).size()\n",
    "quicksum(sp_artist_info_c)\n",
    "sp_artist_info_c = sp_artist_info_c.drop('size', axis=1)"
   ]
  },
  {
   "cell_type": "code",
   "execution_count": null,
   "id": "737de4d8",
   "metadata": {},
   "outputs": [],
   "source": [
    "sp_track_audiof = pd.read_csv('isrc_uri_audiofeats.csv', usecols = range(1, 15))\n",
    "quicksum(sp_track_audiof)"
   ]
  },
  {
   "cell_type": "code",
   "execution_count": null,
   "id": "e97650ec",
   "metadata": {},
   "outputs": [],
   "source": [
    "sp_track_audiof_c = sp_track_audiof.groupby(list(sp_track_audiof.columns), as_index=False).size()\n",
    "quicksum(sp_track_audiof_c)\n",
    "sp_track_audiof_c = sp_track_audiof_c.drop('size', axis=1)"
   ]
  },
  {
   "cell_type": "code",
   "execution_count": null,
   "id": "01c566bc",
   "metadata": {},
   "outputs": [],
   "source": [
    "sp_uri_isrc = pd.read_csv('isrc_uri.csv', usecols=[1, 2])\n",
    "quicksum(sp_uri_isrc)"
   ]
  },
  {
   "cell_type": "code",
   "execution_count": null,
   "id": "391834bb",
   "metadata": {},
   "outputs": [],
   "source": [
    "sp_uri_isrc_c_1 = sp_uri_isrc.groupby(['isrc', 'sp_uri'], as_index=False).size().drop('size', axis=1)\n",
    "sp_uri_isrc_c = sp_uri_isrc_c_1.groupby('isrc', as_index=False).agg({'sp_uri': ['first', 'count']})\n",
    "sp_uri_isrc_c.columns = ['_'.join(col).strip('_') for col in sp_uri_isrc_c.columns.values]\n",
    "sp_uri_isrc_c = sp_uri_isrc_c[sp_uri_isrc_c['sp_uri_count'] == 1].drop('sp_uri_count', axis=1)\n",
    "quicksum(sp_uri_isrc_c)"
   ]
  },
  {
   "cell_type": "code",
   "execution_count": null,
   "id": "620f08e1",
   "metadata": {},
   "outputs": [],
   "source": [
    "mb_db_songs = pd.read_parquet('mb_db_songs_2019.parquet')[['release_gid', 'isrc', 'track_name']] \\\n",
    "                .rename({'release_gid': 'mb_release_gid', 'track_name':'mb_track_name'}, axis=1)\n",
    "quicksum(mb_db_songs)"
   ]
  },
  {
   "cell_type": "code",
   "execution_count": null,
   "id": "47bdcbf0",
   "metadata": {
    "scrolled": true
   },
   "outputs": [],
   "source": [
    "working_df = mb_db_songs.copy()\n",
    "working_df['mb_track_name'] = working_df['mb_track_name'].fillna('')\n",
    "working_df['mb_track_name_prcs'] = working_df['mb_track_name'].apply(lambda x: ''.join([s.lower() for s in x if s.isalnum()]))\n",
    "working_df = working_df.merge(sp_uri_isrc_c, on='isrc')\n",
    "quicksum(working_df)"
   ]
  },
  {
   "cell_type": "code",
   "execution_count": null,
   "id": "ee1acde9",
   "metadata": {},
   "outputs": [],
   "source": [
    "working_df = working_df.merge(lfm_rel_ids, on='mb_release_gid')\n",
    "quicksum(working_df)"
   ]
  },
  {
   "cell_type": "code",
   "execution_count": null,
   "id": "93f549f3",
   "metadata": {},
   "outputs": [],
   "source": [
    "working_df = working_df.groupby(['isrc', 'sp_uri_first'], as_index=False).first()\n",
    "working_df.columns = [''.join(x) for x in working_df.columns]\n",
    "quicksum(working_df)"
   ]
  },
  {
   "cell_type": "code",
   "execution_count": null,
   "id": "29612b87",
   "metadata": {},
   "outputs": [],
   "source": [
    "working_df['match'] = working_df.apply(lambda x: process.extractOne(x['mb_track_name_prcs'], x['lfm_track_names']), axis=1)"
   ]
  },
  {
   "cell_type": "code",
   "execution_count": null,
   "id": "6bba044d",
   "metadata": {},
   "outputs": [],
   "source": [
    "working_df['matched'] = working_df['match'].apply(lambda x: x[0])\n",
    "working_df['score'] = working_df['match'].apply(lambda x: x[1])\n",
    "working_df['play_count'] = working_df.apply(lambda x: x['lfm_play_counts'][x['matched']], axis=1)"
   ]
  },
  {
   "cell_type": "code",
   "execution_count": null,
   "id": "81cd7af4",
   "metadata": {},
   "outputs": [],
   "source": [
    "working_df['play_count'] = working_df.apply(lambda x: x['lfm_play_counts'][x['matched']], axis=1)"
   ]
  },
  {
   "cell_type": "code",
   "execution_count": null,
   "id": "d39eba1f",
   "metadata": {},
   "outputs": [],
   "source": [
    "summarize_df(working_df)"
   ]
  },
  {
   "cell_type": "code",
   "execution_count": null,
   "id": "641f145e",
   "metadata": {
    "scrolled": true
   },
   "outputs": [],
   "source": [
    "display(working_df.sort_values('play_count', ascending=False).head(100))"
   ]
  },
  {
   "cell_type": "code",
   "execution_count": null,
   "id": "c7b2da86",
   "metadata": {},
   "outputs": [],
   "source": [
    "working_df[working_df['score'] > 80].groupby(['mb_release_gid', 'matched', 'play_count']).size()"
   ]
  },
  {
   "cell_type": "markdown",
   "id": "00a4a64e",
   "metadata": {},
   "source": [
    "TO DO\n",
    "- Step through collection and processing, clean up notebooks, and investigate any biases (also - double-check that data was 2019 and on)\n",
    "- Preprocess text\n",
    "- Conduct EDA / initial summarization\n",
    "- Gather more data?\n",
    "- Research and outline ML model types\n",
    "- Perform preprocessing on each ML model\n",
    "- Perform hyperparameter tuning on each ML model\n",
    "- Compare results of models\n",
    "    - Accuracy\n",
    "    - Coefficient / parameter results\n",
    "- Pick 'best' model and analyze results\n",
    "    - How did it select? (Show 'inner workings')\n",
    "    - What does it tell us?\n",
    "    - What might we do next?\n",
    "- Write up final report"
   ]
  }
 ],
 "metadata": {
  "kernelspec": {
   "display_name": "ISyE 6740 Project",
   "language": "python",
   "name": "isye6740-project"
  },
  "language_info": {
   "codemirror_mode": {
    "name": "ipython",
    "version": 3
   },
   "file_extension": ".py",
   "mimetype": "text/x-python",
   "name": "python",
   "nbconvert_exporter": "python",
   "pygments_lexer": "ipython3",
   "version": "3.6.13"
  }
 },
 "nbformat": 4,
 "nbformat_minor": 5
}
