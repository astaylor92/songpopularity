{
 "cells": [
  {
   "cell_type": "markdown",
   "id": "2e72d9e3",
   "metadata": {},
   "source": [
    "# Music Popularity Analysis\n",
    "\n",
    "<hr style=\"border:2px solid black\"> </hr>\n",
    "\n",
    "## Notebook 01 - Data Prep\n",
    "\n",
    "---\n",
    "\n",
    "### Import libraries"
   ]
  },
  {
   "cell_type": "code",
   "execution_count": 1,
   "id": "9a7ca3a1",
   "metadata": {},
   "outputs": [],
   "source": [
    "import matplotlib.pyplot as plt\n",
    "import pandas as pd\n",
    "import numpy as np\n",
    "import time"
   ]
  },
  {
   "cell_type": "code",
   "execution_count": 2,
   "id": "cba60ed5",
   "metadata": {},
   "outputs": [],
   "source": [
    "def num_uniques(ser):\n",
    "    try:\n",
    "        return len(ser.unique())\n",
    "    except:\n",
    "        return \"Not unique check-able\""
   ]
  },
  {
   "cell_type": "code",
   "execution_count": 3,
   "id": "47743aac",
   "metadata": {},
   "outputs": [],
   "source": [
    "def summarize_df(df):\n",
    "    print(\"======DATA SUMMARY======\")\n",
    "    print(\"{} rows by {} columns\".format(df.shape[0], df.shape[1]))\n",
    "    print(\"\\n======COLUMNS======\")\n",
    "    print(df.dtypes)\n",
    "    print(\"\\n======PREVIEW======\")\n",
    "    display(df.head())\n",
    "    print(\"\\n======NUMERICAL COL SUMMARY======\")\n",
    "    print(df.describe())\n",
    "    print(\"\\n\")\n",
    "    for col in df.columns:\n",
    "        print(\"{}: {} unique values\".format(col, num_uniques(df[col])))"
   ]
  },
  {
   "cell_type": "markdown",
   "id": "56ee72a0",
   "metadata": {},
   "source": [
    "---\n",
    "### Import data"
   ]
  },
  {
   "cell_type": "code",
   "execution_count": 4,
   "id": "733b754b",
   "metadata": {},
   "outputs": [],
   "source": [
    "# Releases - album info\n",
    "# Field names from MB website\n",
    "rel_names = ['release_id', 'release_gid', 'release_name', 'artist_credit_id', 'barcode']\n",
    "releases = pd.read_csv('../data/mbdump/mbdump/release', delimiter='\\t', names=rel_names, usecols=[0, 1, 2, 3,  9])"
   ]
  },
  {
   "cell_type": "code",
   "execution_count": 5,
   "id": "fed9e458",
   "metadata": {},
   "outputs": [
    {
     "name": "stdout",
     "output_type": "stream",
     "text": [
      "======DATA SUMMARY======\n",
      "3187458 rows by 5 columns\n",
      "\n",
      "======COLUMNS======\n",
      "release_id           int64\n",
      "release_gid         object\n",
      "release_name        object\n",
      "artist_credit_id     int64\n",
      "barcode             object\n",
      "dtype: object\n",
      "\n",
      "======PREVIEW======\n"
     ]
    },
    {
     "data": {
      "text/html": [
       "<div>\n",
       "<style scoped>\n",
       "    .dataframe tbody tr th:only-of-type {\n",
       "        vertical-align: middle;\n",
       "    }\n",
       "\n",
       "    .dataframe tbody tr th {\n",
       "        vertical-align: top;\n",
       "    }\n",
       "\n",
       "    .dataframe thead th {\n",
       "        text-align: right;\n",
       "    }\n",
       "</style>\n",
       "<table border=\"1\" class=\"dataframe\">\n",
       "  <thead>\n",
       "    <tr style=\"text-align: right;\">\n",
       "      <th></th>\n",
       "      <th>release_id</th>\n",
       "      <th>release_gid</th>\n",
       "      <th>release_name</th>\n",
       "      <th>artist_credit_id</th>\n",
       "      <th>barcode</th>\n",
       "    </tr>\n",
       "  </thead>\n",
       "  <tbody>\n",
       "    <tr>\n",
       "      <th>0</th>\n",
       "      <td>9</td>\n",
       "      <td>425cf29a-1490-43ab-abfa-7b17a2cec351</td>\n",
       "      <td>A Sorta Fairytale</td>\n",
       "      <td>60</td>\n",
       "      <td>\\N</td>\n",
       "    </tr>\n",
       "    <tr>\n",
       "      <th>1</th>\n",
       "      <td>10</td>\n",
       "      <td>a96e1d03-e685-3627-8cba-f5b96be7158f</td>\n",
       "      <td>A Sorta Fairytale</td>\n",
       "      <td>60</td>\n",
       "      <td>\\N</td>\n",
       "    </tr>\n",
       "    <tr>\n",
       "      <th>2</th>\n",
       "      <td>3257193</td>\n",
       "      <td>6072a02d-e3cb-4f6a-b29c-526e8a0c4873</td>\n",
       "      <td>Kriminaltango et al</td>\n",
       "      <td>1</td>\n",
       "      <td>\\N</td>\n",
       "    </tr>\n",
       "    <tr>\n",
       "      <th>3</th>\n",
       "      <td>12</td>\n",
       "      <td>9660928f-7cd8-4fef-852d-5599dc4ad3ec</td>\n",
       "      <td>Silent All These Years</td>\n",
       "      <td>60</td>\n",
       "      <td>\\N</td>\n",
       "    </tr>\n",
       "    <tr>\n",
       "      <th>4</th>\n",
       "      <td>26</td>\n",
       "      <td>dd245091-b21e-48a3-b59a-f9b8ed8a0469</td>\n",
       "      <td>Demons</td>\n",
       "      <td>20211</td>\n",
       "      <td>\\N</td>\n",
       "    </tr>\n",
       "  </tbody>\n",
       "</table>\n",
       "</div>"
      ],
      "text/plain": [
       "   release_id                           release_gid            release_name  \\\n",
       "0           9  425cf29a-1490-43ab-abfa-7b17a2cec351       A Sorta Fairytale   \n",
       "1          10  a96e1d03-e685-3627-8cba-f5b96be7158f       A Sorta Fairytale   \n",
       "2     3257193  6072a02d-e3cb-4f6a-b29c-526e8a0c4873     Kriminaltango et al   \n",
       "3          12  9660928f-7cd8-4fef-852d-5599dc4ad3ec  Silent All These Years   \n",
       "4          26  dd245091-b21e-48a3-b59a-f9b8ed8a0469                  Demons   \n",
       "\n",
       "   artist_credit_id barcode  \n",
       "0                60      \\N  \n",
       "1                60      \\N  \n",
       "2                 1      \\N  \n",
       "3                60      \\N  \n",
       "4             20211      \\N  "
      ]
     },
     "metadata": {},
     "output_type": "display_data"
    },
    {
     "name": "stdout",
     "output_type": "stream",
     "text": [
      "\n",
      "======NUMERICAL COL SUMMARY======\n",
      "         release_id  artist_credit_id\n",
      "count  3.187458e+06      3.187458e+06\n",
      "mean   1.747545e+06      9.400387e+05\n",
      "std    9.706914e+05      1.005470e+06\n",
      "min    1.000000e+00      0.000000e+00\n",
      "25%    9.272332e+05      5.019100e+04\n",
      "50%    1.770142e+06      5.247780e+05\n",
      "75%    2.584914e+06      1.630287e+06\n",
      "max    3.395452e+06      3.256662e+06\n",
      "\n",
      "\n",
      "release_id: 3187458 unique values\n",
      "release_gid: 3187458 unique values\n",
      "release_name: 2010149 unique values\n",
      "artist_credit_id: 823692 unique values\n",
      "barcode: 1207777 unique values\n"
     ]
    }
   ],
   "source": [
    "summarize_df(releases)"
   ]
  },
  {
   "cell_type": "code",
   "execution_count": 6,
   "id": "0ae9ade5",
   "metadata": {},
   "outputs": [],
   "source": [
    "# Artist credit\n",
    "# Field names from MB website\n",
    "ac_names = ['artist_credit_id', 'artist_credit_name']\n",
    "artist_credit = pd.read_csv('../data/mbdump/mbdump/artist_credit', delimiter='\\t', names=ac_names, usecols=[0, 1])"
   ]
  },
  {
   "cell_type": "code",
   "execution_count": 7,
   "id": "864a556c",
   "metadata": {},
   "outputs": [
    {
     "name": "stdout",
     "output_type": "stream",
     "text": [
      "======DATA SUMMARY======\n",
      "2268032 rows by 2 columns\n",
      "\n",
      "======COLUMNS======\n",
      "artist_credit_id       int64\n",
      "artist_credit_name    object\n",
      "dtype: object\n",
      "\n",
      "======PREVIEW======\n"
     ]
    },
    {
     "data": {
      "text/html": [
       "<div>\n",
       "<style scoped>\n",
       "    .dataframe tbody tr th:only-of-type {\n",
       "        vertical-align: middle;\n",
       "    }\n",
       "\n",
       "    .dataframe tbody tr th {\n",
       "        vertical-align: top;\n",
       "    }\n",
       "\n",
       "    .dataframe thead th {\n",
       "        text-align: right;\n",
       "    }\n",
       "</style>\n",
       "<table border=\"1\" class=\"dataframe\">\n",
       "  <thead>\n",
       "    <tr style=\"text-align: right;\">\n",
       "      <th></th>\n",
       "      <th>artist_credit_id</th>\n",
       "      <th>artist_credit_name</th>\n",
       "    </tr>\n",
       "  </thead>\n",
       "  <tbody>\n",
       "    <tr>\n",
       "      <th>0</th>\n",
       "      <td>202094</td>\n",
       "      <td>Ani &amp; Beau</td>\n",
       "    </tr>\n",
       "    <tr>\n",
       "      <th>1</th>\n",
       "      <td>485926</td>\n",
       "      <td>The Ascient Rebels</td>\n",
       "    </tr>\n",
       "    <tr>\n",
       "      <th>2</th>\n",
       "      <td>1009634</td>\n",
       "      <td>Charlie Parker feat. Dizzy Gillespie</td>\n",
       "    </tr>\n",
       "    <tr>\n",
       "      <th>3</th>\n",
       "      <td>548770</td>\n",
       "      <td>Dead Blood</td>\n",
       "    </tr>\n",
       "    <tr>\n",
       "      <th>4</th>\n",
       "      <td>322256</td>\n",
       "      <td>Dr. Kreator</td>\n",
       "    </tr>\n",
       "  </tbody>\n",
       "</table>\n",
       "</div>"
      ],
      "text/plain": [
       "   artist_credit_id                    artist_credit_name\n",
       "0            202094                            Ani & Beau\n",
       "1            485926                    The Ascient Rebels\n",
       "2           1009634  Charlie Parker feat. Dizzy Gillespie\n",
       "3            548770                            Dead Blood\n",
       "4            322256                           Dr. Kreator"
      ]
     },
     "metadata": {},
     "output_type": "display_data"
    },
    {
     "name": "stdout",
     "output_type": "stream",
     "text": [
      "\n",
      "======NUMERICAL COL SUMMARY======\n",
      "       artist_credit_id\n",
      "count      2.268032e+06\n",
      "mean       1.809475e+06\n",
      "std        9.221180e+05\n",
      "min        1.000000e+00\n",
      "25%        1.076352e+06\n",
      "50%        1.899412e+06\n",
      "75%        2.625079e+06\n",
      "max        3.256662e+06\n",
      "\n",
      "\n",
      "artist_credit_id: 2268032 unique values\n",
      "artist_credit_name: 2155495 unique values\n"
     ]
    }
   ],
   "source": [
    "summarize_df(artist_credit)"
   ]
  },
  {
   "cell_type": "code",
   "execution_count": 8,
   "id": "d7945d04",
   "metadata": {},
   "outputs": [],
   "source": [
    "rel_credit = releases.merge(artist_credit, on='artist_credit_id')"
   ]
  },
  {
   "cell_type": "code",
   "execution_count": 9,
   "id": "894840c0",
   "metadata": {},
   "outputs": [
    {
     "name": "stdout",
     "output_type": "stream",
     "text": [
      "======DATA SUMMARY======\n",
      "3185994 rows by 6 columns\n",
      "\n",
      "======COLUMNS======\n",
      "release_id             int64\n",
      "release_gid           object\n",
      "release_name          object\n",
      "artist_credit_id       int64\n",
      "barcode               object\n",
      "artist_credit_name    object\n",
      "dtype: object\n",
      "\n",
      "======PREVIEW======\n"
     ]
    },
    {
     "data": {
      "text/html": [
       "<div>\n",
       "<style scoped>\n",
       "    .dataframe tbody tr th:only-of-type {\n",
       "        vertical-align: middle;\n",
       "    }\n",
       "\n",
       "    .dataframe tbody tr th {\n",
       "        vertical-align: top;\n",
       "    }\n",
       "\n",
       "    .dataframe thead th {\n",
       "        text-align: right;\n",
       "    }\n",
       "</style>\n",
       "<table border=\"1\" class=\"dataframe\">\n",
       "  <thead>\n",
       "    <tr style=\"text-align: right;\">\n",
       "      <th></th>\n",
       "      <th>release_id</th>\n",
       "      <th>release_gid</th>\n",
       "      <th>release_name</th>\n",
       "      <th>artist_credit_id</th>\n",
       "      <th>barcode</th>\n",
       "      <th>artist_credit_name</th>\n",
       "    </tr>\n",
       "  </thead>\n",
       "  <tbody>\n",
       "    <tr>\n",
       "      <th>0</th>\n",
       "      <td>9</td>\n",
       "      <td>425cf29a-1490-43ab-abfa-7b17a2cec351</td>\n",
       "      <td>A Sorta Fairytale</td>\n",
       "      <td>60</td>\n",
       "      <td>\\N</td>\n",
       "      <td>Tori Amos</td>\n",
       "    </tr>\n",
       "    <tr>\n",
       "      <th>1</th>\n",
       "      <td>10</td>\n",
       "      <td>a96e1d03-e685-3627-8cba-f5b96be7158f</td>\n",
       "      <td>A Sorta Fairytale</td>\n",
       "      <td>60</td>\n",
       "      <td>\\N</td>\n",
       "      <td>Tori Amos</td>\n",
       "    </tr>\n",
       "    <tr>\n",
       "      <th>2</th>\n",
       "      <td>12</td>\n",
       "      <td>9660928f-7cd8-4fef-852d-5599dc4ad3ec</td>\n",
       "      <td>Silent All These Years</td>\n",
       "      <td>60</td>\n",
       "      <td>\\N</td>\n",
       "      <td>Tori Amos</td>\n",
       "    </tr>\n",
       "    <tr>\n",
       "      <th>3</th>\n",
       "      <td>3</td>\n",
       "      <td>4c31aef1-177e-4bba-9a56-180e21a0d043</td>\n",
       "      <td>Boys for Pele</td>\n",
       "      <td>60</td>\n",
       "      <td>\\N</td>\n",
       "      <td>Tori Amos</td>\n",
       "    </tr>\n",
       "    <tr>\n",
       "      <th>4</th>\n",
       "      <td>234</td>\n",
       "      <td>6b0386ee-e412-44a9-8d3c-ad54fe5cbdce</td>\n",
       "      <td>Ultra Rare Tori</td>\n",
       "      <td>60</td>\n",
       "      <td>\\N</td>\n",
       "      <td>Tori Amos</td>\n",
       "    </tr>\n",
       "  </tbody>\n",
       "</table>\n",
       "</div>"
      ],
      "text/plain": [
       "   release_id                           release_gid            release_name  \\\n",
       "0           9  425cf29a-1490-43ab-abfa-7b17a2cec351       A Sorta Fairytale   \n",
       "1          10  a96e1d03-e685-3627-8cba-f5b96be7158f       A Sorta Fairytale   \n",
       "2          12  9660928f-7cd8-4fef-852d-5599dc4ad3ec  Silent All These Years   \n",
       "3           3  4c31aef1-177e-4bba-9a56-180e21a0d043           Boys for Pele   \n",
       "4         234  6b0386ee-e412-44a9-8d3c-ad54fe5cbdce         Ultra Rare Tori   \n",
       "\n",
       "   artist_credit_id barcode artist_credit_name  \n",
       "0                60      \\N          Tori Amos  \n",
       "1                60      \\N          Tori Amos  \n",
       "2                60      \\N          Tori Amos  \n",
       "3                60      \\N          Tori Amos  \n",
       "4                60      \\N          Tori Amos  "
      ]
     },
     "metadata": {},
     "output_type": "display_data"
    },
    {
     "name": "stdout",
     "output_type": "stream",
     "text": [
      "\n",
      "======NUMERICAL COL SUMMARY======\n",
      "         release_id  artist_credit_id\n",
      "count  3.185994e+06      3.185994e+06\n",
      "mean   1.747442e+06      9.399492e+05\n",
      "std    9.706978e+05      1.005442e+06\n",
      "min    1.000000e+00      1.000000e+00\n",
      "25%    9.271302e+05      5.015500e+04\n",
      "50%    1.769956e+06      5.247410e+05\n",
      "75%    2.584805e+06      1.630081e+06\n",
      "max    3.395452e+06      3.256662e+06\n",
      "\n",
      "\n",
      "release_id: 3185994 unique values\n",
      "release_gid: Not unique check-able unique values\n",
      "release_name: 2009308 unique values\n",
      "artist_credit_id: 823349 unique values\n",
      "barcode: 1207286 unique values\n",
      "artist_credit_name: 780027 unique values\n"
     ]
    }
   ],
   "source": [
    "summarize_df(rel_credit)"
   ]
  },
  {
   "cell_type": "code",
   "execution_count": 10,
   "id": "61633596",
   "metadata": {},
   "outputs": [],
   "source": [
    "# Medium\n",
    "\n",
    "# Field names from MB website\n",
    "medium_names = ['medium_id', 'release_id']\n",
    "medium = pd.read_csv('../data/mbdump/mbdump/medium', delimiter='\\t', names=medium_names, usecols=[0, 1]) "
   ]
  },
  {
   "cell_type": "code",
   "execution_count": 11,
   "id": "c579c0c7",
   "metadata": {},
   "outputs": [
    {
     "name": "stdout",
     "output_type": "stream",
     "text": [
      "======DATA SUMMARY======\n",
      "3539822 rows by 2 columns\n",
      "\n",
      "======COLUMNS======\n",
      "medium_id     int64\n",
      "release_id    int64\n",
      "dtype: object\n",
      "\n",
      "======PREVIEW======\n"
     ]
    },
    {
     "data": {
      "text/html": [
       "<div>\n",
       "<style scoped>\n",
       "    .dataframe tbody tr th:only-of-type {\n",
       "        vertical-align: middle;\n",
       "    }\n",
       "\n",
       "    .dataframe tbody tr th {\n",
       "        vertical-align: top;\n",
       "    }\n",
       "\n",
       "    .dataframe thead th {\n",
       "        text-align: right;\n",
       "    }\n",
       "</style>\n",
       "<table border=\"1\" class=\"dataframe\">\n",
       "  <thead>\n",
       "    <tr style=\"text-align: right;\">\n",
       "      <th></th>\n",
       "      <th>medium_id</th>\n",
       "      <th>release_id</th>\n",
       "    </tr>\n",
       "  </thead>\n",
       "  <tbody>\n",
       "    <tr>\n",
       "      <th>0</th>\n",
       "      <td>288902</td>\n",
       "      <td>288902</td>\n",
       "    </tr>\n",
       "    <tr>\n",
       "      <th>1</th>\n",
       "      <td>600623</td>\n",
       "      <td>600623</td>\n",
       "    </tr>\n",
       "    <tr>\n",
       "      <th>2</th>\n",
       "      <td>600626</td>\n",
       "      <td>600626</td>\n",
       "    </tr>\n",
       "    <tr>\n",
       "      <th>3</th>\n",
       "      <td>600627</td>\n",
       "      <td>600627</td>\n",
       "    </tr>\n",
       "    <tr>\n",
       "      <th>4</th>\n",
       "      <td>7716</td>\n",
       "      <td>7716</td>\n",
       "    </tr>\n",
       "  </tbody>\n",
       "</table>\n",
       "</div>"
      ],
      "text/plain": [
       "   medium_id  release_id\n",
       "0     288902      288902\n",
       "1     600623      600623\n",
       "2     600626      600626\n",
       "3     600627      600627\n",
       "4       7716        7716"
      ]
     },
     "metadata": {},
     "output_type": "display_data"
    },
    {
     "name": "stdout",
     "output_type": "stream",
     "text": [
      "\n",
      "======NUMERICAL COL SUMMARY======\n",
      "          medium_id    release_id\n",
      "count  3.539822e+06  3.539822e+06\n",
      "mean   1.864473e+06  1.739269e+06\n",
      "std    1.068518e+06  9.662437e+05\n",
      "min    1.000000e+00  1.000000e+00\n",
      "25%    9.371882e+05  9.257842e+05\n",
      "50%    1.875542e+06  1.759694e+06\n",
      "75%    2.791744e+06  2.568767e+06\n",
      "max    3.700246e+06  3.395452e+06\n",
      "\n",
      "\n",
      "medium_id: 3539822 unique values\n",
      "release_id: 3159201 unique values\n"
     ]
    }
   ],
   "source": [
    "summarize_df(medium)"
   ]
  },
  {
   "cell_type": "code",
   "execution_count": 12,
   "id": "156bdfc9",
   "metadata": {},
   "outputs": [
    {
     "ename": "KeyboardInterrupt",
     "evalue": "",
     "output_type": "error",
     "traceback": [
      "\u001b[0;31m---------------------------------------------------------------------------\u001b[0m",
      "\u001b[0;31mKeyboardInterrupt\u001b[0m                         Traceback (most recent call last)",
      "\u001b[0;32m<ipython-input-12-120e945f1c5b>\u001b[0m in \u001b[0;36m<module>\u001b[0;34m\u001b[0m\n\u001b[0;32m----> 1\u001b[0;31m \u001b[0mrel_credit_medium\u001b[0m \u001b[0;34m=\u001b[0m \u001b[0mrel_credit\u001b[0m\u001b[0;34m.\u001b[0m\u001b[0mmerge\u001b[0m\u001b[0;34m(\u001b[0m\u001b[0mmedium\u001b[0m\u001b[0;34m,\u001b[0m \u001b[0mon\u001b[0m\u001b[0;34m=\u001b[0m\u001b[0;34m'release_id'\u001b[0m\u001b[0;34m,\u001b[0m \u001b[0mhow\u001b[0m\u001b[0;34m=\u001b[0m\u001b[0;34m'left'\u001b[0m\u001b[0;34m)\u001b[0m\u001b[0;34m\u001b[0m\u001b[0;34m\u001b[0m\u001b[0m\n\u001b[0m",
      "\u001b[0;32m~/opt/anaconda3/envs/isye6740-project/lib/python3.6/site-packages/pandas/core/frame.py\u001b[0m in \u001b[0;36mmerge\u001b[0;34m(self, right, how, on, left_on, right_on, left_index, right_index, sort, suffixes, copy, indicator, validate)\u001b[0m\n\u001b[1;32m   7961\u001b[0m             \u001b[0mcopy\u001b[0m\u001b[0;34m=\u001b[0m\u001b[0mcopy\u001b[0m\u001b[0;34m,\u001b[0m\u001b[0;34m\u001b[0m\u001b[0;34m\u001b[0m\u001b[0m\n\u001b[1;32m   7962\u001b[0m             \u001b[0mindicator\u001b[0m\u001b[0;34m=\u001b[0m\u001b[0mindicator\u001b[0m\u001b[0;34m,\u001b[0m\u001b[0;34m\u001b[0m\u001b[0;34m\u001b[0m\u001b[0m\n\u001b[0;32m-> 7963\u001b[0;31m             \u001b[0mvalidate\u001b[0m\u001b[0;34m=\u001b[0m\u001b[0mvalidate\u001b[0m\u001b[0;34m,\u001b[0m\u001b[0;34m\u001b[0m\u001b[0;34m\u001b[0m\u001b[0m\n\u001b[0m\u001b[1;32m   7964\u001b[0m         )\n\u001b[1;32m   7965\u001b[0m \u001b[0;34m\u001b[0m\u001b[0m\n",
      "\u001b[0;32m~/opt/anaconda3/envs/isye6740-project/lib/python3.6/site-packages/pandas/core/reshape/merge.py\u001b[0m in \u001b[0;36mmerge\u001b[0;34m(left, right, how, on, left_on, right_on, left_index, right_index, sort, suffixes, copy, indicator, validate)\u001b[0m\n\u001b[1;32m     87\u001b[0m         \u001b[0mvalidate\u001b[0m\u001b[0;34m=\u001b[0m\u001b[0mvalidate\u001b[0m\u001b[0;34m,\u001b[0m\u001b[0;34m\u001b[0m\u001b[0;34m\u001b[0m\u001b[0m\n\u001b[1;32m     88\u001b[0m     )\n\u001b[0;32m---> 89\u001b[0;31m     \u001b[0;32mreturn\u001b[0m \u001b[0mop\u001b[0m\u001b[0;34m.\u001b[0m\u001b[0mget_result\u001b[0m\u001b[0;34m(\u001b[0m\u001b[0;34m)\u001b[0m\u001b[0;34m\u001b[0m\u001b[0;34m\u001b[0m\u001b[0m\n\u001b[0m\u001b[1;32m     90\u001b[0m \u001b[0;34m\u001b[0m\u001b[0m\n\u001b[1;32m     91\u001b[0m \u001b[0;34m\u001b[0m\u001b[0m\n",
      "\u001b[0;32m~/opt/anaconda3/envs/isye6740-project/lib/python3.6/site-packages/pandas/core/reshape/merge.py\u001b[0m in \u001b[0;36mget_result\u001b[0;34m(self)\u001b[0m\n\u001b[1;32m    679\u001b[0m             \u001b[0maxes\u001b[0m\u001b[0;34m=\u001b[0m\u001b[0;34m[\u001b[0m\u001b[0mllabels\u001b[0m\u001b[0;34m.\u001b[0m\u001b[0mappend\u001b[0m\u001b[0;34m(\u001b[0m\u001b[0mrlabels\u001b[0m\u001b[0;34m)\u001b[0m\u001b[0;34m,\u001b[0m \u001b[0mjoin_index\u001b[0m\u001b[0;34m]\u001b[0m\u001b[0;34m,\u001b[0m\u001b[0;34m\u001b[0m\u001b[0;34m\u001b[0m\u001b[0m\n\u001b[1;32m    680\u001b[0m             \u001b[0mconcat_axis\u001b[0m\u001b[0;34m=\u001b[0m\u001b[0;36m0\u001b[0m\u001b[0;34m,\u001b[0m\u001b[0;34m\u001b[0m\u001b[0;34m\u001b[0m\u001b[0m\n\u001b[0;32m--> 681\u001b[0;31m             \u001b[0mcopy\u001b[0m\u001b[0;34m=\u001b[0m\u001b[0mself\u001b[0m\u001b[0;34m.\u001b[0m\u001b[0mcopy\u001b[0m\u001b[0;34m,\u001b[0m\u001b[0;34m\u001b[0m\u001b[0;34m\u001b[0m\u001b[0m\n\u001b[0m\u001b[1;32m    682\u001b[0m         )\n\u001b[1;32m    683\u001b[0m \u001b[0;34m\u001b[0m\u001b[0m\n",
      "\u001b[0;32m~/opt/anaconda3/envs/isye6740-project/lib/python3.6/site-packages/pandas/core/internals/concat.py\u001b[0m in \u001b[0;36mconcatenate_block_managers\u001b[0;34m(mgrs_indexers, axes, concat_axis, copy)\u001b[0m\n\u001b[1;32m     77\u001b[0m         \u001b[0;32melse\u001b[0m\u001b[0;34m:\u001b[0m\u001b[0;34m\u001b[0m\u001b[0;34m\u001b[0m\u001b[0m\n\u001b[1;32m     78\u001b[0m             b = make_block(\n\u001b[0;32m---> 79\u001b[0;31m                 \u001b[0m_concatenate_join_units\u001b[0m\u001b[0;34m(\u001b[0m\u001b[0mjoin_units\u001b[0m\u001b[0;34m,\u001b[0m \u001b[0mconcat_axis\u001b[0m\u001b[0;34m,\u001b[0m \u001b[0mcopy\u001b[0m\u001b[0;34m=\u001b[0m\u001b[0mcopy\u001b[0m\u001b[0;34m,\u001b[0m\u001b[0;34m)\u001b[0m\u001b[0;34m,\u001b[0m\u001b[0;34m\u001b[0m\u001b[0;34m\u001b[0m\u001b[0m\n\u001b[0m\u001b[1;32m     80\u001b[0m                 \u001b[0mplacement\u001b[0m\u001b[0;34m=\u001b[0m\u001b[0mplacement\u001b[0m\u001b[0;34m,\u001b[0m\u001b[0;34m\u001b[0m\u001b[0;34m\u001b[0m\u001b[0m\n\u001b[1;32m     81\u001b[0m             )\n",
      "\u001b[0;32m~/opt/anaconda3/envs/isye6740-project/lib/python3.6/site-packages/pandas/core/internals/concat.py\u001b[0m in \u001b[0;36m_concatenate_join_units\u001b[0;34m(join_units, concat_axis, copy)\u001b[0m\n\u001b[1;32m    316\u001b[0m     to_concat = [\n\u001b[1;32m    317\u001b[0m         \u001b[0mju\u001b[0m\u001b[0;34m.\u001b[0m\u001b[0mget_reindexed_values\u001b[0m\u001b[0;34m(\u001b[0m\u001b[0mempty_dtype\u001b[0m\u001b[0;34m=\u001b[0m\u001b[0mempty_dtype\u001b[0m\u001b[0;34m,\u001b[0m \u001b[0mupcasted_na\u001b[0m\u001b[0;34m=\u001b[0m\u001b[0mupcasted_na\u001b[0m\u001b[0;34m)\u001b[0m\u001b[0;34m\u001b[0m\u001b[0;34m\u001b[0m\u001b[0m\n\u001b[0;32m--> 318\u001b[0;31m         \u001b[0;32mfor\u001b[0m \u001b[0mju\u001b[0m \u001b[0;32min\u001b[0m \u001b[0mjoin_units\u001b[0m\u001b[0;34m\u001b[0m\u001b[0;34m\u001b[0m\u001b[0m\n\u001b[0m\u001b[1;32m    319\u001b[0m     ]\n\u001b[1;32m    320\u001b[0m \u001b[0;34m\u001b[0m\u001b[0m\n",
      "\u001b[0;32m~/opt/anaconda3/envs/isye6740-project/lib/python3.6/site-packages/pandas/core/internals/concat.py\u001b[0m in \u001b[0;36m<listcomp>\u001b[0;34m(.0)\u001b[0m\n\u001b[1;32m    316\u001b[0m     to_concat = [\n\u001b[1;32m    317\u001b[0m         \u001b[0mju\u001b[0m\u001b[0;34m.\u001b[0m\u001b[0mget_reindexed_values\u001b[0m\u001b[0;34m(\u001b[0m\u001b[0mempty_dtype\u001b[0m\u001b[0;34m=\u001b[0m\u001b[0mempty_dtype\u001b[0m\u001b[0;34m,\u001b[0m \u001b[0mupcasted_na\u001b[0m\u001b[0;34m=\u001b[0m\u001b[0mupcasted_na\u001b[0m\u001b[0;34m)\u001b[0m\u001b[0;34m\u001b[0m\u001b[0;34m\u001b[0m\u001b[0m\n\u001b[0;32m--> 318\u001b[0;31m         \u001b[0;32mfor\u001b[0m \u001b[0mju\u001b[0m \u001b[0;32min\u001b[0m \u001b[0mjoin_units\u001b[0m\u001b[0;34m\u001b[0m\u001b[0;34m\u001b[0m\u001b[0m\n\u001b[0m\u001b[1;32m    319\u001b[0m     ]\n\u001b[1;32m    320\u001b[0m \u001b[0;34m\u001b[0m\u001b[0m\n",
      "\u001b[0;32m~/opt/anaconda3/envs/isye6740-project/lib/python3.6/site-packages/pandas/core/internals/concat.py\u001b[0m in \u001b[0;36mget_reindexed_values\u001b[0;34m(self, empty_dtype, upcasted_na)\u001b[0m\n\u001b[1;32m    299\u001b[0m         \u001b[0;32melse\u001b[0m\u001b[0;34m:\u001b[0m\u001b[0;34m\u001b[0m\u001b[0;34m\u001b[0m\u001b[0m\n\u001b[1;32m    300\u001b[0m             \u001b[0;32mfor\u001b[0m \u001b[0max\u001b[0m\u001b[0;34m,\u001b[0m \u001b[0mindexer\u001b[0m \u001b[0;32min\u001b[0m \u001b[0mself\u001b[0m\u001b[0;34m.\u001b[0m\u001b[0mindexers\u001b[0m\u001b[0;34m.\u001b[0m\u001b[0mitems\u001b[0m\u001b[0;34m(\u001b[0m\u001b[0;34m)\u001b[0m\u001b[0;34m:\u001b[0m\u001b[0;34m\u001b[0m\u001b[0;34m\u001b[0m\u001b[0m\n\u001b[0;32m--> 301\u001b[0;31m                 \u001b[0mvalues\u001b[0m \u001b[0;34m=\u001b[0m \u001b[0malgos\u001b[0m\u001b[0;34m.\u001b[0m\u001b[0mtake_nd\u001b[0m\u001b[0;34m(\u001b[0m\u001b[0mvalues\u001b[0m\u001b[0;34m,\u001b[0m \u001b[0mindexer\u001b[0m\u001b[0;34m,\u001b[0m \u001b[0maxis\u001b[0m\u001b[0;34m=\u001b[0m\u001b[0max\u001b[0m\u001b[0;34m,\u001b[0m \u001b[0mfill_value\u001b[0m\u001b[0;34m=\u001b[0m\u001b[0mfill_value\u001b[0m\u001b[0;34m)\u001b[0m\u001b[0;34m\u001b[0m\u001b[0;34m\u001b[0m\u001b[0m\n\u001b[0m\u001b[1;32m    302\u001b[0m \u001b[0;34m\u001b[0m\u001b[0m\n\u001b[1;32m    303\u001b[0m         \u001b[0;32mreturn\u001b[0m \u001b[0mvalues\u001b[0m\u001b[0;34m\u001b[0m\u001b[0;34m\u001b[0m\u001b[0m\n",
      "\u001b[0;32m~/opt/anaconda3/envs/isye6740-project/lib/python3.6/site-packages/pandas/core/algorithms.py\u001b[0m in \u001b[0;36mtake_nd\u001b[0;34m(arr, indexer, axis, out, fill_value, allow_fill)\u001b[0m\n\u001b[1;32m   1735\u001b[0m         \u001b[0marr\u001b[0m\u001b[0;34m.\u001b[0m\u001b[0mndim\u001b[0m\u001b[0;34m,\u001b[0m \u001b[0marr\u001b[0m\u001b[0;34m.\u001b[0m\u001b[0mdtype\u001b[0m\u001b[0;34m,\u001b[0m \u001b[0mout\u001b[0m\u001b[0;34m.\u001b[0m\u001b[0mdtype\u001b[0m\u001b[0;34m,\u001b[0m \u001b[0maxis\u001b[0m\u001b[0;34m=\u001b[0m\u001b[0maxis\u001b[0m\u001b[0;34m,\u001b[0m \u001b[0mmask_info\u001b[0m\u001b[0;34m=\u001b[0m\u001b[0mmask_info\u001b[0m\u001b[0;34m\u001b[0m\u001b[0;34m\u001b[0m\u001b[0m\n\u001b[1;32m   1736\u001b[0m     )\n\u001b[0;32m-> 1737\u001b[0;31m     \u001b[0mfunc\u001b[0m\u001b[0;34m(\u001b[0m\u001b[0marr\u001b[0m\u001b[0;34m,\u001b[0m \u001b[0mindexer\u001b[0m\u001b[0;34m,\u001b[0m \u001b[0mout\u001b[0m\u001b[0;34m,\u001b[0m \u001b[0mfill_value\u001b[0m\u001b[0;34m)\u001b[0m\u001b[0;34m\u001b[0m\u001b[0;34m\u001b[0m\u001b[0m\n\u001b[0m\u001b[1;32m   1738\u001b[0m \u001b[0;34m\u001b[0m\u001b[0m\n\u001b[1;32m   1739\u001b[0m     \u001b[0;32mif\u001b[0m \u001b[0mflip_order\u001b[0m\u001b[0;34m:\u001b[0m\u001b[0;34m\u001b[0m\u001b[0;34m\u001b[0m\u001b[0m\n",
      "\u001b[0;31mKeyboardInterrupt\u001b[0m: "
     ]
    }
   ],
   "source": [
    "rel_credit_medium = rel_credit.merge(medium, on='release_id', how='left')"
   ]
  },
  {
   "cell_type": "code",
   "execution_count": null,
   "id": "29956e25",
   "metadata": {
    "scrolled": true
   },
   "outputs": [],
   "source": [
    "summarize_df(rel_upc_credit_medium)"
   ]
  },
  {
   "cell_type": "code",
   "execution_count": null,
   "id": "3c4edc1a",
   "metadata": {},
   "outputs": [],
   "source": [
    "# Track\n",
    "\n",
    "# Field names from MB website\n",
    "track_names = ['track_id', 'track_gid', 'recording_id', 'medium_id', 'track_name']\n",
    "track = pd.read_csv('../data/mbdump/mbdump/track', delimiter='\\t', names=track_names,\n",
    "                   usecols=[0, 1, 2, 3, 6])"
   ]
  },
  {
   "cell_type": "code",
   "execution_count": null,
   "id": "3b197e48",
   "metadata": {},
   "outputs": [],
   "source": [
    "summarize_df(track)"
   ]
  },
  {
   "cell_type": "code",
   "execution_count": null,
   "id": "d2162bea",
   "metadata": {},
   "outputs": [],
   "source": [
    "# Recording\n",
    "\n",
    "# Field names from MB website\n",
    "recording_names = ['recording_id']\n",
    "recording = pd.read_csv('../data/mbdump/mbdump/recording', delimiter='\\t', names=recording_names,\n",
    "                   usecols=[0])"
   ]
  },
  {
   "cell_type": "code",
   "execution_count": null,
   "id": "50220b95",
   "metadata": {},
   "outputs": [],
   "source": [
    "summarize_df(recording)"
   ]
  },
  {
   "cell_type": "code",
   "execution_count": null,
   "id": "6e48ae91",
   "metadata": {},
   "outputs": [],
   "source": [
    "# ISRC\n",
    "\n",
    "# Field names from MB website\n",
    "isrc_names = ['recording_id', 'isrc']\n",
    "isrc = pd.read_csv('../data/mbdump/mbdump/isrc', delimiter='\\t', names=isrc_names, usecols=[0, 2])"
   ]
  },
  {
   "cell_type": "code",
   "execution_count": null,
   "id": "821a9be2",
   "metadata": {},
   "outputs": [],
   "source": [
    "summarize_df(isrc)"
   ]
  },
  {
   "cell_type": "code",
   "execution_count": null,
   "id": "778873cc",
   "metadata": {},
   "outputs": [],
   "source": [
    "recording_isrc = recording.merge(isrc, on='recording_id')\n",
    "mb_db_songs = track.merge(recording_isrc, on='recording_id')\n",
    "mb_db_songs = mb_db_songs.merge(rel_credit_medium, on='medium_id')"
   ]
  },
  {
   "cell_type": "code",
   "execution_count": null,
   "id": "fe5a21a4",
   "metadata": {},
   "outputs": [],
   "source": [
    "summarize_df(mb_db_songs)"
   ]
  },
  {
   "cell_type": "code",
   "execution_count": null,
   "id": "7d07b7e2",
   "metadata": {},
   "outputs": [],
   "source": [
    "# Write out barcodes & full file\n",
    "mb_db_isrcs = mb_db_songs['isrc'].unique()\n",
    "np.savetxt('mb_db_isrcs.csv', mb_db_isrcs, delimiter=',')"
   ]
  }
 ],
 "metadata": {
  "kernelspec": {
   "display_name": "ISyE 6740 Project",
   "language": "python",
   "name": "isye6740-project"
  },
  "language_info": {
   "codemirror_mode": {
    "name": "ipython",
    "version": 3
   },
   "file_extension": ".py",
   "mimetype": "text/x-python",
   "name": "python",
   "nbconvert_exporter": "python",
   "pygments_lexer": "ipython3",
   "version": "3.6.13"
  }
 },
 "nbformat": 4,
 "nbformat_minor": 5
}
