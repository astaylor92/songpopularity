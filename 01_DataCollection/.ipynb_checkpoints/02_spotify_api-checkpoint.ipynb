{
 "cells": [
  {
   "cell_type": "markdown",
   "id": "b8e6a066",
   "metadata": {},
   "source": [
    "# Music Popularity Analysis\n",
    "\n",
    "<hr style=\"border:2px solid black\"> </hr>\n",
    "\n",
    "## Notebook 02 - Spotify API for Album Search & Track Retrieval\n",
    "\n",
    "---\n",
    "\n",
    "### Import libraries"
   ]
  },
  {
   "cell_type": "code",
   "execution_count": 1,
   "id": "ddd6e3b5",
   "metadata": {},
   "outputs": [],
   "source": [
    "import matplotlib.pyplot as plt\n",
    "import pandas as pd\n",
    "import numpy as np\n",
    "import time\n",
    "import spotipy\n",
    "from spotipy.oauth2 import SpotifyClientCredentials"
   ]
  },
  {
   "cell_type": "markdown",
   "id": "b5d4543d",
   "metadata": {},
   "source": [
    "---\n",
    "### Import Barcodes for Spotify URI Retrieval"
   ]
  },
  {
   "cell_type": "code",
   "execution_count": 17,
   "id": "32414783",
   "metadata": {},
   "outputs": [],
   "source": [
    "barcodes = np.genfromtxt('mb_db_barcodes.csv')\n",
    "isrcs = np.array(pd.read_csv('mb_db_isrcs.csv')).ravel()"
   ]
  },
  {
   "cell_type": "code",
   "execution_count": 12,
   "id": "3517d6a8",
   "metadata": {},
   "outputs": [],
   "source": [
    "# Authentication - without user\n",
    "\n",
    "cid = '6f7359203da94509938353dee468d7e9'\n",
    "secret = '144ee8d8dc4746b69f258c34f77183a5'\n",
    "\n",
    "client_credentials_manager = SpotifyClientCredentials(client_id=cid, client_secret=secret)\n",
    "sp = spotipy.Spotify(client_credentials_manager=client_credentials_manager)"
   ]
  },
  {
   "cell_type": "code",
   "execution_count": 50,
   "id": "0671b15b",
   "metadata": {
    "scrolled": true
   },
   "outputs": [
    {
     "name": "stdout",
     "output_type": "stream",
     "text": [
      "1 isrcs searched, 1 URIs found\n",
      "101 isrcs searched, 95 URIs found\n",
      "201 isrcs searched, 189 URIs found\n",
      "301 isrcs searched, 277 URIs found\n",
      "401 isrcs searched, 337 URIs found\n",
      "501 isrcs searched, 418 URIs found\n",
      "601 isrcs searched, 483 URIs found\n",
      "701 isrcs searched, 559 URIs found\n",
      "801 isrcs searched, 636 URIs found\n",
      "901 isrcs searched, 722 URIs found\n",
      "1001 isrcs searched, 804 URIs found\n",
      "1101 isrcs searched, 878 URIs found\n",
      "1201 isrcs searched, 963 URIs found\n",
      "1301 isrcs searched, 1057 URIs found\n",
      "1401 isrcs searched, 1139 URIs found\n",
      "1501 isrcs searched, 1228 URIs found\n",
      "1601 isrcs searched, 1310 URIs found\n",
      "1701 isrcs searched, 1387 URIs found\n",
      "1801 isrcs searched, 1475 URIs found\n",
      "1901 isrcs searched, 1550 URIs found\n",
      "2001 isrcs searched, 1622 URIs found\n",
      "2101 isrcs searched, 1700 URIs found\n",
      "2201 isrcs searched, 1771 URIs found\n",
      "2301 isrcs searched, 1841 URIs found\n",
      "2401 isrcs searched, 1897 URIs found\n",
      "2501 isrcs searched, 1989 URIs found\n",
      "2601 isrcs searched, 2060 URIs found\n",
      "2701 isrcs searched, 2122 URIs found\n",
      "2801 isrcs searched, 2194 URIs found\n",
      "2901 isrcs searched, 2280 URIs found\n",
      "3001 isrcs searched, 2345 URIs found\n",
      "3101 isrcs searched, 2376 URIs found\n",
      "3201 isrcs searched, 2403 URIs found\n",
      "3301 isrcs searched, 2484 URIs found\n",
      "3401 isrcs searched, 2566 URIs found\n",
      "3501 isrcs searched, 2647 URIs found\n",
      "3601 isrcs searched, 2697 URIs found\n",
      "3701 isrcs searched, 2776 URIs found\n",
      "3801 isrcs searched, 2822 URIs found\n",
      "3901 isrcs searched, 2889 URIs found\n",
      "4001 isrcs searched, 2975 URIs found\n",
      "4101 isrcs searched, 3044 URIs found\n",
      "4201 isrcs searched, 3121 URIs found\n",
      "4301 isrcs searched, 3197 URIs found\n",
      "4401 isrcs searched, 3267 URIs found\n",
      "4501 isrcs searched, 3331 URIs found\n",
      "4601 isrcs searched, 3394 URIs found\n",
      "4701 isrcs searched, 3463 URIs found\n",
      "4801 isrcs searched, 3534 URIs found\n",
      "4901 isrcs searched, 3592 URIs found\n",
      "5001 isrcs searched, 3650 URIs found\n",
      "5101 isrcs searched, 3720 URIs found\n",
      "5201 isrcs searched, 3791 URIs found\n",
      "5301 isrcs searched, 3846 URIs found\n",
      "5401 isrcs searched, 3911 URIs found\n",
      "5501 isrcs searched, 3980 URIs found\n",
      "5601 isrcs searched, 4053 URIs found\n",
      "5701 isrcs searched, 4121 URIs found\n",
      "5801 isrcs searched, 4194 URIs found\n",
      "5901 isrcs searched, 4264 URIs found\n",
      "6001 isrcs searched, 4325 URIs found\n",
      "6101 isrcs searched, 4395 URIs found\n",
      "6201 isrcs searched, 4459 URIs found\n",
      "6301 isrcs searched, 4525 URIs found\n",
      "6401 isrcs searched, 4597 URIs found\n",
      "6501 isrcs searched, 4675 URIs found\n",
      "6601 isrcs searched, 4748 URIs found\n",
      "6701 isrcs searched, 4830 URIs found\n",
      "6801 isrcs searched, 4914 URIs found\n",
      "6901 isrcs searched, 5002 URIs found\n",
      "7001 isrcs searched, 5079 URIs found\n",
      "7101 isrcs searched, 5142 URIs found\n",
      "7201 isrcs searched, 5193 URIs found\n",
      "7301 isrcs searched, 5255 URIs found\n",
      "7401 isrcs searched, 5314 URIs found\n",
      "7501 isrcs searched, 5385 URIs found\n",
      "7601 isrcs searched, 5456 URIs found\n",
      "7701 isrcs searched, 5526 URIs found\n",
      "7801 isrcs searched, 5585 URIs found\n",
      "7901 isrcs searched, 5645 URIs found\n",
      "8001 isrcs searched, 5718 URIs found\n",
      "8101 isrcs searched, 5769 URIs found\n",
      "8201 isrcs searched, 5853 URIs found\n",
      "8301 isrcs searched, 5932 URIs found\n",
      "8401 isrcs searched, 5996 URIs found\n",
      "8501 isrcs searched, 6051 URIs found\n",
      "8601 isrcs searched, 6106 URIs found\n",
      "8701 isrcs searched, 6166 URIs found\n",
      "8801 isrcs searched, 6235 URIs found\n",
      "8901 isrcs searched, 6299 URIs found\n",
      "9001 isrcs searched, 6358 URIs found\n",
      "9101 isrcs searched, 6408 URIs found\n",
      "9201 isrcs searched, 6449 URIs found\n",
      "9301 isrcs searched, 6515 URIs found\n",
      "9401 isrcs searched, 6602 URIs found\n",
      "9501 isrcs searched, 6687 URIs found\n",
      "9601 isrcs searched, 6747 URIs found\n",
      "9701 isrcs searched, 6798 URIs found\n",
      "9801 isrcs searched, 6876 URIs found\n",
      "9901 isrcs searched, 6947 URIs found\n",
      "10001 isrcs searched, 7005 URIs found\n",
      "10101 isrcs searched, 7063 URIs found\n",
      "10201 isrcs searched, 7139 URIs found\n",
      "10301 isrcs searched, 7218 URIs found\n",
      "10401 isrcs searched, 7304 URIs found\n",
      "10501 isrcs searched, 7384 URIs found\n",
      "10601 isrcs searched, 7470 URIs found\n",
      "10701 isrcs searched, 7543 URIs found\n",
      "10801 isrcs searched, 7614 URIs found\n",
      "10901 isrcs searched, 7691 URIs found\n",
      "11001 isrcs searched, 7734 URIs found\n",
      "11101 isrcs searched, 7801 URIs found\n",
      "11201 isrcs searched, 7880 URIs found\n",
      "11301 isrcs searched, 7941 URIs found\n",
      "11401 isrcs searched, 8008 URIs found\n",
      "11501 isrcs searched, 8071 URIs found\n",
      "11601 isrcs searched, 8130 URIs found\n",
      "11701 isrcs searched, 8200 URIs found\n",
      "11801 isrcs searched, 8267 URIs found\n",
      "11901 isrcs searched, 8322 URIs found\n",
      "12001 isrcs searched, 8392 URIs found\n",
      "12101 isrcs searched, 8466 URIs found\n",
      "12201 isrcs searched, 8534 URIs found\n",
      "12301 isrcs searched, 8608 URIs found\n",
      "12401 isrcs searched, 8681 URIs found\n",
      "12501 isrcs searched, 8744 URIs found\n",
      "12601 isrcs searched, 8834 URIs found\n",
      "12701 isrcs searched, 8917 URIs found\n",
      "12801 isrcs searched, 8997 URIs found\n",
      "12901 isrcs searched, 9080 URIs found\n",
      "13001 isrcs searched, 9162 URIs found\n",
      "13101 isrcs searched, 9219 URIs found\n",
      "13201 isrcs searched, 9287 URIs found\n",
      "13301 isrcs searched, 9354 URIs found\n",
      "13401 isrcs searched, 9409 URIs found\n",
      "13501 isrcs searched, 9483 URIs found\n",
      "13601 isrcs searched, 9546 URIs found\n",
      "13701 isrcs searched, 9626 URIs found\n",
      "13801 isrcs searched, 9699 URIs found\n",
      "13901 isrcs searched, 9788 URIs found\n",
      "14001 isrcs searched, 9846 URIs found\n",
      "14101 isrcs searched, 9898 URIs found\n",
      "14201 isrcs searched, 9968 URIs found\n",
      "14301 isrcs searched, 10036 URIs found\n",
      "14401 isrcs searched, 10111 URIs found\n",
      "14501 isrcs searched, 10168 URIs found\n",
      "14601 isrcs searched, 10218 URIs found\n",
      "14701 isrcs searched, 10269 URIs found\n",
      "14801 isrcs searched, 10341 URIs found\n",
      "14901 isrcs searched, 10407 URIs found\n",
      "15001 isrcs searched, 10473 URIs found\n",
      "15101 isrcs searched, 10533 URIs found\n",
      "15201 isrcs searched, 10607 URIs found\n",
      "15301 isrcs searched, 10651 URIs found\n",
      "15401 isrcs searched, 10708 URIs found\n",
      "15501 isrcs searched, 10760 URIs found\n",
      "15601 isrcs searched, 10823 URIs found\n",
      "15701 isrcs searched, 10883 URIs found\n",
      "15801 isrcs searched, 10948 URIs found\n",
      "15901 isrcs searched, 11015 URIs found\n",
      "16001 isrcs searched, 11100 URIs found\n",
      "16101 isrcs searched, 11181 URIs found\n",
      "16201 isrcs searched, 11234 URIs found\n",
      "16301 isrcs searched, 11291 URIs found\n",
      "16401 isrcs searched, 11344 URIs found\n",
      "16501 isrcs searched, 11382 URIs found\n",
      "16601 isrcs searched, 11400 URIs found\n",
      "16701 isrcs searched, 11442 URIs found\n",
      "16801 isrcs searched, 11486 URIs found\n",
      "16901 isrcs searched, 11541 URIs found\n",
      "17001 isrcs searched, 11585 URIs found\n",
      "17101 isrcs searched, 11645 URIs found\n",
      "17201 isrcs searched, 11687 URIs found\n",
      "17301 isrcs searched, 11745 URIs found\n",
      "17401 isrcs searched, 11786 URIs found\n",
      "17501 isrcs searched, 11837 URIs found\n",
      "17601 isrcs searched, 11891 URIs found\n",
      "17701 isrcs searched, 11945 URIs found\n",
      "17801 isrcs searched, 12004 URIs found\n",
      "17901 isrcs searched, 12047 URIs found\n",
      "18001 isrcs searched, 12114 URIs found\n"
     ]
    },
    {
     "ename": "KeyboardInterrupt",
     "evalue": "",
     "output_type": "error",
     "traceback": [
      "\u001b[0;31m---------------------------------------------------------------------------\u001b[0m",
      "\u001b[0;31mKeyboardInterrupt\u001b[0m                         Traceback (most recent call last)",
      "\u001b[0;32m<ipython-input-50-13a5dd1800bd>\u001b[0m in \u001b[0;36m<module>\u001b[0;34m\u001b[0m\n\u001b[1;32m      4\u001b[0m     \u001b[0mq\u001b[0m \u001b[0;34m=\u001b[0m \u001b[0;34m'isrc:'\u001b[0m\u001b[0;34m+\u001b[0m\u001b[0misrc\u001b[0m\u001b[0;34m\u001b[0m\u001b[0;34m\u001b[0m\u001b[0m\n\u001b[1;32m      5\u001b[0m     \u001b[0mtype_q\u001b[0m\u001b[0;34m=\u001b[0m\u001b[0;34m'track'\u001b[0m\u001b[0;34m\u001b[0m\u001b[0;34m\u001b[0m\u001b[0m\n\u001b[0;32m----> 6\u001b[0;31m     \u001b[0mout\u001b[0m \u001b[0;34m=\u001b[0m \u001b[0msp\u001b[0m\u001b[0;34m.\u001b[0m\u001b[0msearch\u001b[0m\u001b[0;34m(\u001b[0m\u001b[0mq\u001b[0m\u001b[0;34m,\u001b[0m \u001b[0mtype\u001b[0m\u001b[0;34m=\u001b[0m\u001b[0mtype_q\u001b[0m\u001b[0;34m)\u001b[0m\u001b[0;34m\u001b[0m\u001b[0;34m\u001b[0m\u001b[0m\n\u001b[0m\u001b[1;32m      7\u001b[0m     \u001b[0;32mif\u001b[0m \u001b[0mlen\u001b[0m\u001b[0;34m(\u001b[0m\u001b[0mout\u001b[0m\u001b[0;34m[\u001b[0m\u001b[0;34m'tracks'\u001b[0m\u001b[0;34m]\u001b[0m\u001b[0;34m[\u001b[0m\u001b[0;34m'items'\u001b[0m\u001b[0;34m]\u001b[0m\u001b[0;34m)\u001b[0m \u001b[0;34m>\u001b[0m \u001b[0;36m0\u001b[0m\u001b[0;34m:\u001b[0m\u001b[0;34m\u001b[0m\u001b[0;34m\u001b[0m\u001b[0m\n\u001b[1;32m      8\u001b[0m         \u001b[0muris\u001b[0m \u001b[0;34m+=\u001b[0m \u001b[0;34m[\u001b[0m\u001b[0;34m(\u001b[0m\u001b[0misrc\u001b[0m\u001b[0;34m,\u001b[0m \u001b[0mout\u001b[0m\u001b[0;34m[\u001b[0m\u001b[0;34m'tracks'\u001b[0m\u001b[0;34m]\u001b[0m\u001b[0;34m[\u001b[0m\u001b[0;34m'items'\u001b[0m\u001b[0;34m]\u001b[0m\u001b[0;34m[\u001b[0m\u001b[0;36m0\u001b[0m\u001b[0;34m]\u001b[0m\u001b[0;34m[\u001b[0m\u001b[0;34m'uri'\u001b[0m\u001b[0;34m]\u001b[0m\u001b[0;34m)\u001b[0m\u001b[0;34m]\u001b[0m\u001b[0;34m\u001b[0m\u001b[0;34m\u001b[0m\u001b[0m\n",
      "\u001b[0;32m~/opt/anaconda3/envs/isye6740-project/lib/python3.6/site-packages/spotipy/client.py\u001b[0m in \u001b[0;36msearch\u001b[0;34m(self, q, limit, offset, type, market)\u001b[0m\n\u001b[1;32m    552\u001b[0m         \"\"\"\n\u001b[1;32m    553\u001b[0m         return self._get(\n\u001b[0;32m--> 554\u001b[0;31m             \u001b[0;34m\"search\"\u001b[0m\u001b[0;34m,\u001b[0m \u001b[0mq\u001b[0m\u001b[0;34m=\u001b[0m\u001b[0mq\u001b[0m\u001b[0;34m,\u001b[0m \u001b[0mlimit\u001b[0m\u001b[0;34m=\u001b[0m\u001b[0mlimit\u001b[0m\u001b[0;34m,\u001b[0m \u001b[0moffset\u001b[0m\u001b[0;34m=\u001b[0m\u001b[0moffset\u001b[0m\u001b[0;34m,\u001b[0m \u001b[0mtype\u001b[0m\u001b[0;34m=\u001b[0m\u001b[0mtype\u001b[0m\u001b[0;34m,\u001b[0m \u001b[0mmarket\u001b[0m\u001b[0;34m=\u001b[0m\u001b[0mmarket\u001b[0m\u001b[0;34m\u001b[0m\u001b[0;34m\u001b[0m\u001b[0m\n\u001b[0m\u001b[1;32m    555\u001b[0m         )\n\u001b[1;32m    556\u001b[0m \u001b[0;34m\u001b[0m\u001b[0m\n",
      "\u001b[0;32m~/opt/anaconda3/envs/isye6740-project/lib/python3.6/site-packages/spotipy/client.py\u001b[0m in \u001b[0;36m_get\u001b[0;34m(self, url, args, payload, **kwargs)\u001b[0m\n\u001b[1;32m    295\u001b[0m             \u001b[0mkwargs\u001b[0m\u001b[0;34m.\u001b[0m\u001b[0mupdate\u001b[0m\u001b[0;34m(\u001b[0m\u001b[0margs\u001b[0m\u001b[0;34m)\u001b[0m\u001b[0;34m\u001b[0m\u001b[0;34m\u001b[0m\u001b[0m\n\u001b[1;32m    296\u001b[0m \u001b[0;34m\u001b[0m\u001b[0m\n\u001b[0;32m--> 297\u001b[0;31m         \u001b[0;32mreturn\u001b[0m \u001b[0mself\u001b[0m\u001b[0;34m.\u001b[0m\u001b[0m_internal_call\u001b[0m\u001b[0;34m(\u001b[0m\u001b[0;34m\"GET\"\u001b[0m\u001b[0;34m,\u001b[0m \u001b[0murl\u001b[0m\u001b[0;34m,\u001b[0m \u001b[0mpayload\u001b[0m\u001b[0;34m,\u001b[0m \u001b[0mkwargs\u001b[0m\u001b[0;34m)\u001b[0m\u001b[0;34m\u001b[0m\u001b[0;34m\u001b[0m\u001b[0m\n\u001b[0m\u001b[1;32m    298\u001b[0m \u001b[0;34m\u001b[0m\u001b[0m\n\u001b[1;32m    299\u001b[0m     \u001b[0;32mdef\u001b[0m \u001b[0m_post\u001b[0m\u001b[0;34m(\u001b[0m\u001b[0mself\u001b[0m\u001b[0;34m,\u001b[0m \u001b[0murl\u001b[0m\u001b[0;34m,\u001b[0m \u001b[0margs\u001b[0m\u001b[0;34m=\u001b[0m\u001b[0;32mNone\u001b[0m\u001b[0;34m,\u001b[0m \u001b[0mpayload\u001b[0m\u001b[0;34m=\u001b[0m\u001b[0;32mNone\u001b[0m\u001b[0;34m,\u001b[0m \u001b[0;34m**\u001b[0m\u001b[0mkwargs\u001b[0m\u001b[0;34m)\u001b[0m\u001b[0;34m:\u001b[0m\u001b[0;34m\u001b[0m\u001b[0;34m\u001b[0m\u001b[0m\n",
      "\u001b[0;32m~/opt/anaconda3/envs/isye6740-project/lib/python3.6/site-packages/spotipy/client.py\u001b[0m in \u001b[0;36m_internal_call\u001b[0;34m(self, method, url, payload, params)\u001b[0m\n\u001b[1;32m    240\u001b[0m             response = self._session.request(\n\u001b[1;32m    241\u001b[0m                 \u001b[0mmethod\u001b[0m\u001b[0;34m,\u001b[0m \u001b[0murl\u001b[0m\u001b[0;34m,\u001b[0m \u001b[0mheaders\u001b[0m\u001b[0;34m=\u001b[0m\u001b[0mheaders\u001b[0m\u001b[0;34m,\u001b[0m \u001b[0mproxies\u001b[0m\u001b[0;34m=\u001b[0m\u001b[0mself\u001b[0m\u001b[0;34m.\u001b[0m\u001b[0mproxies\u001b[0m\u001b[0;34m,\u001b[0m\u001b[0;34m\u001b[0m\u001b[0;34m\u001b[0m\u001b[0m\n\u001b[0;32m--> 242\u001b[0;31m                 \u001b[0mtimeout\u001b[0m\u001b[0;34m=\u001b[0m\u001b[0mself\u001b[0m\u001b[0;34m.\u001b[0m\u001b[0mrequests_timeout\u001b[0m\u001b[0;34m,\u001b[0m \u001b[0;34m**\u001b[0m\u001b[0margs\u001b[0m\u001b[0;34m\u001b[0m\u001b[0;34m\u001b[0m\u001b[0m\n\u001b[0m\u001b[1;32m    243\u001b[0m             )\n\u001b[1;32m    244\u001b[0m \u001b[0;34m\u001b[0m\u001b[0m\n",
      "\u001b[0;32m~/opt/anaconda3/envs/isye6740-project/lib/python3.6/site-packages/requests/sessions.py\u001b[0m in \u001b[0;36mrequest\u001b[0;34m(self, method, url, params, data, headers, cookies, files, auth, timeout, allow_redirects, proxies, hooks, stream, verify, cert, json)\u001b[0m\n\u001b[1;32m    527\u001b[0m         }\n\u001b[1;32m    528\u001b[0m         \u001b[0msend_kwargs\u001b[0m\u001b[0;34m.\u001b[0m\u001b[0mupdate\u001b[0m\u001b[0;34m(\u001b[0m\u001b[0msettings\u001b[0m\u001b[0;34m)\u001b[0m\u001b[0;34m\u001b[0m\u001b[0;34m\u001b[0m\u001b[0m\n\u001b[0;32m--> 529\u001b[0;31m         \u001b[0mresp\u001b[0m \u001b[0;34m=\u001b[0m \u001b[0mself\u001b[0m\u001b[0;34m.\u001b[0m\u001b[0msend\u001b[0m\u001b[0;34m(\u001b[0m\u001b[0mprep\u001b[0m\u001b[0;34m,\u001b[0m \u001b[0;34m**\u001b[0m\u001b[0msend_kwargs\u001b[0m\u001b[0;34m)\u001b[0m\u001b[0;34m\u001b[0m\u001b[0;34m\u001b[0m\u001b[0m\n\u001b[0m\u001b[1;32m    530\u001b[0m \u001b[0;34m\u001b[0m\u001b[0m\n\u001b[1;32m    531\u001b[0m         \u001b[0;32mreturn\u001b[0m \u001b[0mresp\u001b[0m\u001b[0;34m\u001b[0m\u001b[0;34m\u001b[0m\u001b[0m\n",
      "\u001b[0;32m~/opt/anaconda3/envs/isye6740-project/lib/python3.6/site-packages/requests/sessions.py\u001b[0m in \u001b[0;36msend\u001b[0;34m(self, request, **kwargs)\u001b[0m\n\u001b[1;32m    643\u001b[0m \u001b[0;34m\u001b[0m\u001b[0m\n\u001b[1;32m    644\u001b[0m         \u001b[0;31m# Send the request\u001b[0m\u001b[0;34m\u001b[0m\u001b[0;34m\u001b[0m\u001b[0;34m\u001b[0m\u001b[0m\n\u001b[0;32m--> 645\u001b[0;31m         \u001b[0mr\u001b[0m \u001b[0;34m=\u001b[0m \u001b[0madapter\u001b[0m\u001b[0;34m.\u001b[0m\u001b[0msend\u001b[0m\u001b[0;34m(\u001b[0m\u001b[0mrequest\u001b[0m\u001b[0;34m,\u001b[0m \u001b[0;34m**\u001b[0m\u001b[0mkwargs\u001b[0m\u001b[0;34m)\u001b[0m\u001b[0;34m\u001b[0m\u001b[0;34m\u001b[0m\u001b[0m\n\u001b[0m\u001b[1;32m    646\u001b[0m \u001b[0;34m\u001b[0m\u001b[0m\n\u001b[1;32m    647\u001b[0m         \u001b[0;31m# Total elapsed time of the request (approximately)\u001b[0m\u001b[0;34m\u001b[0m\u001b[0;34m\u001b[0m\u001b[0;34m\u001b[0m\u001b[0m\n",
      "\u001b[0;32m~/opt/anaconda3/envs/isye6740-project/lib/python3.6/site-packages/requests/adapters.py\u001b[0m in \u001b[0;36msend\u001b[0;34m(self, request, stream, timeout, verify, cert, proxies)\u001b[0m\n\u001b[1;32m    448\u001b[0m                     \u001b[0mdecode_content\u001b[0m\u001b[0;34m=\u001b[0m\u001b[0;32mFalse\u001b[0m\u001b[0;34m,\u001b[0m\u001b[0;34m\u001b[0m\u001b[0;34m\u001b[0m\u001b[0m\n\u001b[1;32m    449\u001b[0m                     \u001b[0mretries\u001b[0m\u001b[0;34m=\u001b[0m\u001b[0mself\u001b[0m\u001b[0;34m.\u001b[0m\u001b[0mmax_retries\u001b[0m\u001b[0;34m,\u001b[0m\u001b[0;34m\u001b[0m\u001b[0;34m\u001b[0m\u001b[0m\n\u001b[0;32m--> 450\u001b[0;31m                     \u001b[0mtimeout\u001b[0m\u001b[0;34m=\u001b[0m\u001b[0mtimeout\u001b[0m\u001b[0;34m\u001b[0m\u001b[0;34m\u001b[0m\u001b[0m\n\u001b[0m\u001b[1;32m    451\u001b[0m                 )\n\u001b[1;32m    452\u001b[0m \u001b[0;34m\u001b[0m\u001b[0m\n",
      "\u001b[0;32m~/opt/anaconda3/envs/isye6740-project/lib/python3.6/site-packages/urllib3/connectionpool.py\u001b[0m in \u001b[0;36murlopen\u001b[0;34m(self, method, url, body, headers, retries, redirect, assert_same_host, timeout, pool_timeout, release_conn, chunked, body_pos, **response_kw)\u001b[0m\n\u001b[1;32m    872\u001b[0m \u001b[0;34m\u001b[0m\u001b[0m\n\u001b[1;32m    873\u001b[0m             \u001b[0mresponse\u001b[0m\u001b[0;34m.\u001b[0m\u001b[0mdrain_conn\u001b[0m\u001b[0;34m(\u001b[0m\u001b[0;34m)\u001b[0m\u001b[0;34m\u001b[0m\u001b[0;34m\u001b[0m\u001b[0m\n\u001b[0;32m--> 874\u001b[0;31m             \u001b[0mretries\u001b[0m\u001b[0;34m.\u001b[0m\u001b[0msleep\u001b[0m\u001b[0;34m(\u001b[0m\u001b[0mresponse\u001b[0m\u001b[0;34m)\u001b[0m\u001b[0;34m\u001b[0m\u001b[0;34m\u001b[0m\u001b[0m\n\u001b[0m\u001b[1;32m    875\u001b[0m             \u001b[0mlog\u001b[0m\u001b[0;34m.\u001b[0m\u001b[0mdebug\u001b[0m\u001b[0;34m(\u001b[0m\u001b[0;34m\"Retry: %s\"\u001b[0m\u001b[0;34m,\u001b[0m \u001b[0murl\u001b[0m\u001b[0;34m)\u001b[0m\u001b[0;34m\u001b[0m\u001b[0;34m\u001b[0m\u001b[0m\n\u001b[1;32m    876\u001b[0m             return self.urlopen(\n",
      "\u001b[0;32m~/opt/anaconda3/envs/isye6740-project/lib/python3.6/site-packages/urllib3/util/retry.py\u001b[0m in \u001b[0;36msleep\u001b[0;34m(self, response)\u001b[0m\n\u001b[1;32m    426\u001b[0m \u001b[0;34m\u001b[0m\u001b[0m\n\u001b[1;32m    427\u001b[0m         \u001b[0;32mif\u001b[0m \u001b[0mself\u001b[0m\u001b[0;34m.\u001b[0m\u001b[0mrespect_retry_after_header\u001b[0m \u001b[0;32mand\u001b[0m \u001b[0mresponse\u001b[0m\u001b[0;34m:\u001b[0m\u001b[0;34m\u001b[0m\u001b[0;34m\u001b[0m\u001b[0m\n\u001b[0;32m--> 428\u001b[0;31m             \u001b[0mslept\u001b[0m \u001b[0;34m=\u001b[0m \u001b[0mself\u001b[0m\u001b[0;34m.\u001b[0m\u001b[0msleep_for_retry\u001b[0m\u001b[0;34m(\u001b[0m\u001b[0mresponse\u001b[0m\u001b[0;34m)\u001b[0m\u001b[0;34m\u001b[0m\u001b[0;34m\u001b[0m\u001b[0m\n\u001b[0m\u001b[1;32m    429\u001b[0m             \u001b[0;32mif\u001b[0m \u001b[0mslept\u001b[0m\u001b[0;34m:\u001b[0m\u001b[0;34m\u001b[0m\u001b[0;34m\u001b[0m\u001b[0m\n\u001b[1;32m    430\u001b[0m                 \u001b[0;32mreturn\u001b[0m\u001b[0;34m\u001b[0m\u001b[0;34m\u001b[0m\u001b[0m\n",
      "\u001b[0;32m~/opt/anaconda3/envs/isye6740-project/lib/python3.6/site-packages/urllib3/util/retry.py\u001b[0m in \u001b[0;36msleep_for_retry\u001b[0;34m(self, response)\u001b[0m\n\u001b[1;32m    405\u001b[0m         \u001b[0mretry_after\u001b[0m \u001b[0;34m=\u001b[0m \u001b[0mself\u001b[0m\u001b[0;34m.\u001b[0m\u001b[0mget_retry_after\u001b[0m\u001b[0;34m(\u001b[0m\u001b[0mresponse\u001b[0m\u001b[0;34m)\u001b[0m\u001b[0;34m\u001b[0m\u001b[0;34m\u001b[0m\u001b[0m\n\u001b[1;32m    406\u001b[0m         \u001b[0;32mif\u001b[0m \u001b[0mretry_after\u001b[0m\u001b[0;34m:\u001b[0m\u001b[0;34m\u001b[0m\u001b[0;34m\u001b[0m\u001b[0m\n\u001b[0;32m--> 407\u001b[0;31m             \u001b[0mtime\u001b[0m\u001b[0;34m.\u001b[0m\u001b[0msleep\u001b[0m\u001b[0;34m(\u001b[0m\u001b[0mretry_after\u001b[0m\u001b[0;34m)\u001b[0m\u001b[0;34m\u001b[0m\u001b[0;34m\u001b[0m\u001b[0m\n\u001b[0m\u001b[1;32m    408\u001b[0m             \u001b[0;32mreturn\u001b[0m \u001b[0;32mTrue\u001b[0m\u001b[0;34m\u001b[0m\u001b[0;34m\u001b[0m\u001b[0m\n\u001b[1;32m    409\u001b[0m \u001b[0;34m\u001b[0m\u001b[0m\n",
      "\u001b[0;31mKeyboardInterrupt\u001b[0m: "
     ]
    }
   ],
   "source": [
    "uris = []\n",
    "j = 0\n",
    "for isrc in isrcs:\n",
    "    q = 'isrc:'+isrc\n",
    "    type_q='track'\n",
    "    out = sp.search(q, type=type_q)\n",
    "    if len(out['tracks']['items']) > 0:\n",
    "        uris += [(isrc, out['tracks']['items'][0]['uri'])]\n",
    "    if j % 100 == 0:\n",
    "        print(\"{} isrcs searched, {} URIs found\".format(j+1, len(uris)))\n",
    "    time.sleep(np.random.random()/50)\n",
    "    j += 1"
   ]
  },
  {
   "cell_type": "markdown",
   "id": "50ec0f9b",
   "metadata": {},
   "source": [
    "6:10 - 3000"
   ]
  },
  {
   "cell_type": "code",
   "execution_count": 112,
   "id": "b962dabe",
   "metadata": {},
   "outputs": [],
   "source": [
    "import requests\n",
    "\n",
    "CLIENT_ID = '75855396ac0446279df54c8a7df71414'\n",
    "CLIENT_SECRET = '7bc71c24b81743ebbb79f0b612c26587'"
   ]
  },
  {
   "cell_type": "code",
   "execution_count": 113,
   "id": "c2b003e7",
   "metadata": {},
   "outputs": [],
   "source": [
    "AUTH_URL = 'https://accounts.spotify.com/api/token'\n",
    "\n",
    "# POST\n",
    "auth_response = requests.post(AUTH_URL, {\n",
    "    'grant_type': 'client_credentials',\n",
    "    'client_id': CLIENT_ID,\n",
    "    'client_secret': CLIENT_SECRET,\n",
    "})\n",
    "\n",
    "# convert the response to JSON\n",
    "auth_response_data = auth_response.json()\n",
    "\n",
    "# save the access token\n",
    "access_token = auth_response_data['access_token']"
   ]
  },
  {
   "cell_type": "code",
   "execution_count": 114,
   "id": "bc107b86",
   "metadata": {},
   "outputs": [],
   "source": [
    "headers = {\n",
    "    'Authorization': 'Bearer {token}'.format(token=access_token)\n",
    "}"
   ]
  },
  {
   "cell_type": "code",
   "execution_count": 115,
   "id": "87b856ca",
   "metadata": {},
   "outputs": [],
   "source": [
    "# base URL of all Spotify API endpoints\n",
    "BASE_URL = 'https://api.spotify.com/v1/'\n",
    "\n",
    "# Track ID from the URI\n",
    "track_id = '6y0igZArWVi6Iz0rj35c1Y'\n",
    "\n",
    "# actual GET request with proper header\n",
    "r = requests.get(BASE_URL + 'audio-features/' + track_id, headers=headers)"
   ]
  },
  {
   "cell_type": "code",
   "execution_count": 59,
   "id": "a2e78b8c",
   "metadata": {},
   "outputs": [],
   "source": [
    "q = 'isrc:'+isrc\n",
    "type_q='track'"
   ]
  },
  {
   "cell_type": "code",
   "execution_count": 116,
   "id": "6e1da53c",
   "metadata": {},
   "outputs": [],
   "source": [
    "# actual GET request with proper header\n",
    "r = requests.get(BASE_URL + 'search?q=isrc%3A'+isrc+\"&type=\"+type_q, headers=headers)"
   ]
  },
  {
   "cell_type": "code",
   "execution_count": 118,
   "id": "bf50c7bf",
   "metadata": {
    "scrolled": true
   },
   "outputs": [
    {
     "data": {
      "text/plain": [
       "{'cache-control': 'private, max-age=0', 'retry-after': '67063', 'access-control-allow-origin': '*', 'access-control-allow-headers': 'Accept, App-Platform, Authorization, Content-Type, Origin, Retry-After, Spotify-App-Version, X-Cloud-Trace-Context, client-token, content-access-token', 'access-control-allow-methods': 'GET, POST, OPTIONS, PUT, DELETE, PATCH', 'access-control-allow-credentials': 'true', 'access-control-max-age': '604800', 'content-encoding': 'gzip', 'strict-transport-security': 'max-age=31536000', 'x-content-type-options': 'nosniff', 'date': 'Wed, 13 Apr 2022 01:03:49 GMT', 'server': 'envoy', 'Via': 'HTTP/2 edgeproxy, 1.1 google', 'Alt-Svc': 'clear', 'Transfer-Encoding': 'chunked'}"
      ]
     },
     "execution_count": 118,
     "metadata": {},
     "output_type": "execute_result"
    }
   ],
   "source": [
    "r.headers"
   ]
  },
  {
   "cell_type": "code",
   "execution_count": 119,
   "id": "116abd15",
   "metadata": {
    "scrolled": false
   },
   "outputs": [],
   "source": [
    "# uris = []\n",
    "# j = 0\n",
    "# for barcode in barcodes:\n",
    "#     upc = \"00\"+str(int(barcode))\n",
    "#     q = 'upc:'+upc\n",
    "#     type_q='album'\n",
    "#     out = sp.search(q, type=type_q)\n",
    "#     if len(out['albums']['items']) > 0:\n",
    "# #         print(out['albums']['items'][0]['uri'])\n",
    "#         uris += [(barcode, out['albums']['items'][0]['uri'])]\n",
    "    \n",
    "#     upc = str(int(barcode))\n",
    "#     q = 'upc:'+upc\n",
    "#     type_q='album'\n",
    "#     out = sp.search(q, type=type_q)\n",
    "#     if len(out['albums']['items']) > 0:\n",
    "# #         print(out['albums']['items'][0]['uri'])\n",
    "#         uris += [(barcode, out['albums']['items'][0]['uri'])]\n",
    "    \n",
    "#     if j % 100 == 0:\n",
    "#         print(\"{} albums searched, {} URIs found\".format(j, len(uris)))\n",
    "#     time.sleep(np.random.random()/2)\n",
    "#     j += 1"
   ]
  }
 ],
 "metadata": {
  "kernelspec": {
   "display_name": "ISyE 6740 Project",
   "language": "python",
   "name": "isye6740-project"
  },
  "language_info": {
   "codemirror_mode": {
    "name": "ipython",
    "version": 3
   },
   "file_extension": ".py",
   "mimetype": "text/x-python",
   "name": "python",
   "nbconvert_exporter": "python",
   "pygments_lexer": "ipython3",
   "version": "3.6.13"
  }
 },
 "nbformat": 4,
 "nbformat_minor": 5
}
