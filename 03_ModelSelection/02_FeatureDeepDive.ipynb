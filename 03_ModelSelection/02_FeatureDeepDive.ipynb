{
 "cells": [
  {
   "cell_type": "markdown",
   "source": [
    "# Music Popularity Analysis\n",
    "\n",
    "<hr style=\"border:2px solid black\"> </hr>\n",
    "\n",
    "## Model Evaluation\n",
    "## Notebook 02 - Feature Relationships\n",
    "\n",
    "---\n",
    "\n",
    "### Import libraries"
   ],
   "metadata": {
    "collapsed": false,
    "pycharm": {
     "name": "#%% md\n"
    }
   }
  },
  {
   "cell_type": "code",
   "execution_count": 1,
   "outputs": [],
   "source": [
    "import pandas as pd\n",
    "import numpy as np\n",
    "import seaborn as sns\n",
    "from matplotlib import pyplot as plt\n",
    "import statsmodels.api as sm\n",
    "from sklearn.model_selection import train_test_split\n",
    "import scipy as sp"
   ],
   "metadata": {
    "collapsed": false,
    "pycharm": {
     "name": "#%%\n"
    }
   }
  },
  {
   "cell_type": "code",
   "execution_count": 2,
   "outputs": [],
   "source": [
    "def num_uniques(ser):\n",
    "    try:\n",
    "        return len(ser.unique())\n",
    "    except:\n",
    "        return \"Not unique check-able\"\n",
    "\n",
    "\n",
    "def summarize_df(df):\n",
    "    print(\"======DATA SUMMARY======\")\n",
    "    print(\"{} rows by {} columns\".format(df.shape[0], df.shape[1]))\n",
    "    print(\"\\n======COLUMNS======\")\n",
    "    print(df.dtypes)\n",
    "    print(\"\\n======PREVIEW======\")\n",
    "    display(df.head())\n",
    "    print(\"\\n======NUMERICAL COL SUMMARY======\")\n",
    "    print(df.describe())\n",
    "    print(\"\\n\")\n",
    "    for col in df.columns:\n",
    "        print(\"{}: {} unique values\".format(col, num_uniques(df[col])))"
   ],
   "metadata": {
    "collapsed": false,
    "pycharm": {
     "name": "#%%\n"
    }
   }
  },
  {
   "cell_type": "markdown",
   "source": [
    "---\n",
    "### Import data"
   ],
   "metadata": {
    "collapsed": false,
    "pycharm": {
     "name": "#%% md\n"
    }
   }
  },
  {
   "cell_type": "code",
   "execution_count": 3,
   "outputs": [
    {
     "name": "stdout",
     "output_type": "stream",
     "text": [
      "======DATA SUMMARY======\n",
      "26940 rows by 33 columns\n",
      "\n",
      "======COLUMNS======\n",
      "sp_danceability         float64\n",
      "sp_energy               float64\n",
      "sp_loudness             float64\n",
      "sp_speechiness          float64\n",
      "sp_acousticness         float64\n",
      "sp_instrumentalness     float64\n",
      "sp_liveness             float64\n",
      "sp_valence              float64\n",
      "sp_tempo                float64\n",
      "sp_duration_ms            int64\n",
      "sp_artist_popularity      int64\n",
      "sp_artist_followers       int64\n",
      "play_count                int64\n",
      "sp_key                    int64\n",
      "sp_mode                   int64\n",
      "sp_time_signature         int64\n",
      "sp_time_signature_0     float64\n",
      "sp_time_signature_1     float64\n",
      "sp_time_signature_3     float64\n",
      "sp_time_signature_4     float64\n",
      "sp_time_signature_5     float64\n",
      "sp_key_0                float64\n",
      "sp_key_1                float64\n",
      "sp_key_2                float64\n",
      "sp_key_3                float64\n",
      "sp_key_4                float64\n",
      "sp_key_5                float64\n",
      "sp_key_6                float64\n",
      "sp_key_7                float64\n",
      "sp_key_8                float64\n",
      "sp_key_9                float64\n",
      "sp_key_10               float64\n",
      "sp_key_11               float64\n",
      "dtype: object\n",
      "\n",
      "======PREVIEW======\n"
     ]
    },
    {
     "data": {
      "text/plain": "   sp_danceability  sp_energy  sp_loudness  sp_speechiness  sp_acousticness  \\\n0            0.533      0.804       -7.516          0.0743           0.0211   \n1            0.362      0.326      -15.748          0.0423           0.7390   \n2            0.760      0.557      -13.295          0.0625           0.0213   \n3            0.635      0.323      -12.979          0.0338           0.1420   \n4            0.664      0.440       -5.156          0.0360           0.0531   \n\n   sp_instrumentalness  sp_liveness  sp_valence  sp_tempo  sp_duration_ms  \\\n0              0.00069       0.1270       0.277   145.023          256073   \n1              0.79400       0.1040       0.191   179.880          164792   \n2              0.82200       0.0938       0.719   144.994          202893   \n3              0.53500       0.0974       0.209   179.996          156000   \n4              0.18100       0.0536       0.256    74.735          217600   \n\n   ...  sp_key_2  sp_key_3  sp_key_4  sp_key_5  sp_key_6  sp_key_7  sp_key_8  \\\n0  ...       0.0       0.0       1.0       0.0       0.0       0.0       0.0   \n1  ...       0.0       0.0       0.0       0.0       0.0       0.0       0.0   \n2  ...       0.0       0.0       0.0       0.0       0.0       0.0       0.0   \n3  ...       1.0       0.0       0.0       0.0       0.0       0.0       0.0   \n4  ...       0.0       0.0       0.0       0.0       0.0       0.0       0.0   \n\n   sp_key_9  sp_key_10  sp_key_11  \n0       0.0        0.0        0.0  \n1       0.0        0.0        0.0  \n2       0.0        1.0        0.0  \n3       0.0        0.0        0.0  \n4       0.0        0.0        0.0  \n\n[5 rows x 33 columns]",
      "text/html": "<div>\n<style scoped>\n    .dataframe tbody tr th:only-of-type {\n        vertical-align: middle;\n    }\n\n    .dataframe tbody tr th {\n        vertical-align: top;\n    }\n\n    .dataframe thead th {\n        text-align: right;\n    }\n</style>\n<table border=\"1\" class=\"dataframe\">\n  <thead>\n    <tr style=\"text-align: right;\">\n      <th></th>\n      <th>sp_danceability</th>\n      <th>sp_energy</th>\n      <th>sp_loudness</th>\n      <th>sp_speechiness</th>\n      <th>sp_acousticness</th>\n      <th>sp_instrumentalness</th>\n      <th>sp_liveness</th>\n      <th>sp_valence</th>\n      <th>sp_tempo</th>\n      <th>sp_duration_ms</th>\n      <th>...</th>\n      <th>sp_key_2</th>\n      <th>sp_key_3</th>\n      <th>sp_key_4</th>\n      <th>sp_key_5</th>\n      <th>sp_key_6</th>\n      <th>sp_key_7</th>\n      <th>sp_key_8</th>\n      <th>sp_key_9</th>\n      <th>sp_key_10</th>\n      <th>sp_key_11</th>\n    </tr>\n  </thead>\n  <tbody>\n    <tr>\n      <th>0</th>\n      <td>0.533</td>\n      <td>0.804</td>\n      <td>-7.516</td>\n      <td>0.0743</td>\n      <td>0.0211</td>\n      <td>0.00069</td>\n      <td>0.1270</td>\n      <td>0.277</td>\n      <td>145.023</td>\n      <td>256073</td>\n      <td>...</td>\n      <td>0.0</td>\n      <td>0.0</td>\n      <td>1.0</td>\n      <td>0.0</td>\n      <td>0.0</td>\n      <td>0.0</td>\n      <td>0.0</td>\n      <td>0.0</td>\n      <td>0.0</td>\n      <td>0.0</td>\n    </tr>\n    <tr>\n      <th>1</th>\n      <td>0.362</td>\n      <td>0.326</td>\n      <td>-15.748</td>\n      <td>0.0423</td>\n      <td>0.7390</td>\n      <td>0.79400</td>\n      <td>0.1040</td>\n      <td>0.191</td>\n      <td>179.880</td>\n      <td>164792</td>\n      <td>...</td>\n      <td>0.0</td>\n      <td>0.0</td>\n      <td>0.0</td>\n      <td>0.0</td>\n      <td>0.0</td>\n      <td>0.0</td>\n      <td>0.0</td>\n      <td>0.0</td>\n      <td>0.0</td>\n      <td>0.0</td>\n    </tr>\n    <tr>\n      <th>2</th>\n      <td>0.760</td>\n      <td>0.557</td>\n      <td>-13.295</td>\n      <td>0.0625</td>\n      <td>0.0213</td>\n      <td>0.82200</td>\n      <td>0.0938</td>\n      <td>0.719</td>\n      <td>144.994</td>\n      <td>202893</td>\n      <td>...</td>\n      <td>0.0</td>\n      <td>0.0</td>\n      <td>0.0</td>\n      <td>0.0</td>\n      <td>0.0</td>\n      <td>0.0</td>\n      <td>0.0</td>\n      <td>0.0</td>\n      <td>1.0</td>\n      <td>0.0</td>\n    </tr>\n    <tr>\n      <th>3</th>\n      <td>0.635</td>\n      <td>0.323</td>\n      <td>-12.979</td>\n      <td>0.0338</td>\n      <td>0.1420</td>\n      <td>0.53500</td>\n      <td>0.0974</td>\n      <td>0.209</td>\n      <td>179.996</td>\n      <td>156000</td>\n      <td>...</td>\n      <td>1.0</td>\n      <td>0.0</td>\n      <td>0.0</td>\n      <td>0.0</td>\n      <td>0.0</td>\n      <td>0.0</td>\n      <td>0.0</td>\n      <td>0.0</td>\n      <td>0.0</td>\n      <td>0.0</td>\n    </tr>\n    <tr>\n      <th>4</th>\n      <td>0.664</td>\n      <td>0.440</td>\n      <td>-5.156</td>\n      <td>0.0360</td>\n      <td>0.0531</td>\n      <td>0.18100</td>\n      <td>0.0536</td>\n      <td>0.256</td>\n      <td>74.735</td>\n      <td>217600</td>\n      <td>...</td>\n      <td>0.0</td>\n      <td>0.0</td>\n      <td>0.0</td>\n      <td>0.0</td>\n      <td>0.0</td>\n      <td>0.0</td>\n      <td>0.0</td>\n      <td>0.0</td>\n      <td>0.0</td>\n      <td>0.0</td>\n    </tr>\n  </tbody>\n</table>\n<p>5 rows × 33 columns</p>\n</div>"
     },
     "metadata": {},
     "output_type": "display_data"
    },
    {
     "name": "stdout",
     "output_type": "stream",
     "text": [
      "\n",
      "======NUMERICAL COL SUMMARY======\n",
      "       sp_danceability     sp_energy   sp_loudness  sp_speechiness  \\\n",
      "count     26940.000000  26940.000000  26940.000000    26940.000000   \n",
      "mean          0.529161      0.614964     -9.120079        0.087248   \n",
      "std           0.185528      0.263511      5.439261        0.103623   \n",
      "min           0.000000      0.000000    -60.000000        0.000000   \n",
      "25%           0.403000      0.431000    -11.055250        0.035800   \n",
      "50%           0.540000      0.655000     -7.679000        0.048000   \n",
      "75%           0.666000      0.838000     -5.578000        0.085500   \n",
      "max           0.977000      1.000000      4.106000        0.965000   \n",
      "\n",
      "       sp_acousticness  sp_instrumentalness   sp_liveness    sp_valence  \\\n",
      "count     26940.000000         26940.000000  26940.000000  26940.000000   \n",
      "mean          0.298166             0.239801      0.207013      0.419168   \n",
      "std           0.337638             0.358885      0.184652      0.255309   \n",
      "min           0.000000             0.000000      0.000000      0.000000   \n",
      "25%           0.011200             0.000002      0.097900      0.205000   \n",
      "50%           0.133000             0.001750      0.128000      0.394000   \n",
      "75%           0.558000             0.536000      0.259000      0.613000   \n",
      "max           0.996000             0.996000      0.997000      0.997000   \n",
      "\n",
      "           sp_tempo  sp_duration_ms  ...      sp_key_2      sp_key_3  \\\n",
      "count  26940.000000    2.694000e+04  ...  26940.000000  26940.000000   \n",
      "mean     121.626732    2.328819e+05  ...      0.107424      0.030215   \n",
      "std       30.314184    1.147931e+05  ...      0.309657      0.171182   \n",
      "min        0.000000    4.132000e+03  ...      0.000000      0.000000   \n",
      "25%       98.144750    1.768420e+05  ...      0.000000      0.000000   \n",
      "50%      120.431500    2.185730e+05  ...      0.000000      0.000000   \n",
      "75%      140.061000    2.689408e+05  ...      0.000000      0.000000   \n",
      "max      242.362000    3.709365e+06  ...      1.000000      1.000000   \n",
      "\n",
      "           sp_key_4      sp_key_5      sp_key_6      sp_key_7      sp_key_8  \\\n",
      "count  26940.000000  26940.000000  26940.000000  26940.000000  26940.000000   \n",
      "mean       0.079399      0.081032      0.062324      0.111470      0.063177   \n",
      "std        0.270365      0.272889      0.241747      0.314719      0.243286   \n",
      "min        0.000000      0.000000      0.000000      0.000000      0.000000   \n",
      "25%        0.000000      0.000000      0.000000      0.000000      0.000000   \n",
      "50%        0.000000      0.000000      0.000000      0.000000      0.000000   \n",
      "75%        0.000000      0.000000      0.000000      0.000000      0.000000   \n",
      "max        1.000000      1.000000      1.000000      1.000000      1.000000   \n",
      "\n",
      "           sp_key_9     sp_key_10     sp_key_11  \n",
      "count  26940.000000  26940.000000  26940.000000  \n",
      "mean       0.104195      0.062621      0.078508  \n",
      "std        0.305518      0.242284      0.268974  \n",
      "min        0.000000      0.000000      0.000000  \n",
      "25%        0.000000      0.000000      0.000000  \n",
      "50%        0.000000      0.000000      0.000000  \n",
      "75%        0.000000      0.000000      0.000000  \n",
      "max        1.000000      1.000000      1.000000  \n",
      "\n",
      "[8 rows x 33 columns]\n",
      "\n",
      "\n",
      "sp_danceability: 1033 unique values\n",
      "sp_energy: 1636 unique values\n",
      "sp_loudness: 13097 unique values\n",
      "sp_speechiness: 1352 unique values\n",
      "sp_acousticness: 4285 unique values\n",
      "sp_instrumentalness: 4665 unique values\n",
      "sp_liveness: 1600 unique values\n",
      "sp_valence: 1616 unique values\n",
      "sp_tempo: 19942 unique values\n",
      "sp_duration_ms: 21687 unique values\n",
      "sp_artist_popularity: 100 unique values\n",
      "sp_artist_followers: 8127 unique values\n",
      "play_count: 14411 unique values\n",
      "sp_key: 12 unique values\n",
      "sp_mode: 2 unique values\n",
      "sp_time_signature: 5 unique values\n",
      "sp_time_signature_0: 2 unique values\n",
      "sp_time_signature_1: 2 unique values\n",
      "sp_time_signature_3: 2 unique values\n",
      "sp_time_signature_4: 2 unique values\n",
      "sp_time_signature_5: 2 unique values\n",
      "sp_key_0: 2 unique values\n",
      "sp_key_1: 2 unique values\n",
      "sp_key_2: 2 unique values\n",
      "sp_key_3: 2 unique values\n",
      "sp_key_4: 2 unique values\n",
      "sp_key_5: 2 unique values\n",
      "sp_key_6: 2 unique values\n",
      "sp_key_7: 2 unique values\n",
      "sp_key_8: 2 unique values\n",
      "sp_key_9: 2 unique values\n",
      "sp_key_10: 2 unique values\n",
      "sp_key_11: 2 unique values\n"
     ]
    }
   ],
   "source": [
    "df = pd.read_csv('../03_EDA_Transformation/song_data_processed.csv', index_col=[0])\n",
    "summarize_df(df)"
   ],
   "metadata": {
    "collapsed": false,
    "pycharm": {
     "name": "#%%\n"
    }
   }
  },
  {
   "cell_type": "code",
   "execution_count": 4,
   "outputs": [],
   "source": [
    "# Set random seed\n",
    "r = 0"
   ],
   "metadata": {
    "collapsed": false,
    "pycharm": {
     "name": "#%%\n"
    }
   }
  },
  {
   "cell_type": "code",
   "execution_count": 5,
   "outputs": [],
   "source": [
    "# Define data\n",
    "X = np.array(df[[c for c in df.columns if c != 'play_count']])\n",
    "y = np.array(df['play_count'])"
   ],
   "metadata": {
    "collapsed": false,
    "pycharm": {
     "name": "#%%\n"
    }
   }
  },
  {
   "cell_type": "code",
   "execution_count": 6,
   "outputs": [],
   "source": [
    "# Make overall test_train split\n",
    "X_trainval, X_test, y_trainval, y_test = train_test_split(X, y, test_size=0.2, random_state=r)"
   ],
   "metadata": {
    "collapsed": false,
    "pycharm": {
     "name": "#%%\n"
    }
   }
  },
  {
   "cell_type": "markdown",
   "source": [
    "---\n",
    "### Lasso Regression with P-Value Output"
   ],
   "metadata": {
    "collapsed": false,
    "pycharm": {
     "name": "#%% md\n"
    }
   }
  },
  {
   "cell_type": "code",
   "execution_count": 7,
   "outputs": [
    {
     "name": "stdout",
     "output_type": "stream",
     "text": [
      "                            OLS Regression Results                            \n",
      "==============================================================================\n",
      "Dep. Variable:                      y   R-squared:                       0.185\n",
      "Model:                            OLS   Adj. R-squared:                  0.184\n",
      "Method:                 Least Squares   F-statistic:                     195.1\n",
      "Date:                Wed, 27 Apr 2022   Prob (F-statistic):               0.00\n",
      "Time:                        12:08:03   Log-Likelihood:            -3.2394e+05\n",
      "No. Observations:               21552   AIC:                         6.479e+05\n",
      "Df Residuals:                   21527   BIC:                         6.481e+05\n",
      "Df Model:                          25                                         \n",
      "Covariance Type:            nonrobust                                         \n",
      "==============================================================================\n",
      "                 coef    std err          t      P>|t|      [0.025      0.975]\n",
      "------------------------------------------------------------------------------\n",
      "const      -1.511e+05   9.02e+04     -1.676      0.094   -3.28e+05    2.56e+04\n",
      "x1         -9.901e+04   3.44e+04     -2.882      0.004   -1.66e+05   -3.17e+04\n",
      "x2          1.436e+05   3.77e+04      3.811      0.000    6.98e+04    2.18e+05\n",
      "x3         -3245.1571   1911.342     -1.698      0.090   -6991.530     501.216\n",
      "x4         -4.002e+05   5.64e+04     -7.091      0.000   -5.11e+05    -2.9e+05\n",
      "x5                  0          0        nan        nan           0           0\n",
      "x6         -5.349e+04   1.87e+04     -2.858      0.004   -9.02e+04   -1.68e+04\n",
      "x7          1.411e+05    3.2e+04      4.414      0.000    7.84e+04    2.04e+05\n",
      "x8                  0          0        nan        nan           0           0\n",
      "x9            73.9385    190.608      0.388      0.698    -299.668     447.545\n",
      "x10            0.1264      0.048      2.606      0.009       0.031       0.221\n",
      "x11         4399.6927    279.119     15.763      0.000    3852.599    4946.786\n",
      "x12            0.0431      0.001     52.881      0.000       0.041       0.045\n",
      "x13        -1.616e+04   7492.870     -2.157      0.031   -3.08e+04   -1473.527\n",
      "x14        -1.478e+04    1.2e+04     -1.234      0.217   -3.83e+04    8699.656\n",
      "x15         -500.8746   1.57e+04     -0.032      0.974   -3.12e+04    3.02e+04\n",
      "x16                 0          0        nan        nan           0           0\n",
      "x17                 0          0        nan        nan           0           0\n",
      "x18         3.273e+04   3.67e+04      0.891      0.373   -3.93e+04    1.05e+05\n",
      "x19         4.813e+04   3.35e+04      1.438      0.151   -1.75e+04    1.14e+05\n",
      "x20                 0          0        nan        nan           0           0\n",
      "x21        -7.356e+04   4.84e+04     -1.521      0.128   -1.68e+05    2.12e+04\n",
      "x22        -1.308e+05   4.23e+04     -3.092      0.002   -2.14e+05   -4.79e+04\n",
      "x23        -6.286e+04   3.57e+04     -1.760      0.079   -1.33e+05    7164.240\n",
      "x24        -6.047e+04   4.02e+04     -1.504      0.133   -1.39e+05    1.83e+04\n",
      "x25                 0          0        nan        nan           0           0\n",
      "x26        -5.536e+04   2.39e+04     -2.321      0.020   -1.02e+05   -8606.781\n",
      "x27                 0          0        nan        nan           0           0\n",
      "x28         2.243e+04   2.26e+04      0.991      0.322   -2.19e+04    6.68e+04\n",
      "x29                 0          0        nan        nan           0           0\n",
      "x30         7.921e+04    3.2e+04      2.477      0.013    1.65e+04    1.42e+05\n",
      "x31         6.432e+04   4.04e+04      1.591      0.112   -1.49e+04    1.44e+05\n",
      "x32         9.327e+04   4.55e+04      2.050      0.040    4112.487    1.82e+05\n",
      "==============================================================================\n",
      "Omnibus:                    31008.135   Durbin-Watson:                   1.999\n",
      "Prob(Omnibus):                  0.000   Jarque-Bera (JB):         14192948.457\n",
      "Skew:                           8.553   Prob(JB):                         0.00\n",
      "Kurtosis:                     127.549   Cond. No.                          nan\n",
      "==============================================================================\n",
      "\n",
      "Notes:\n",
      "[1] Standard Errors assume that the covariance matrix of the errors is correctly specified.\n",
      "[2] The smallest eigenvalue is -2.91e-11. This might indicate that there are\n",
      "strong multicollinearity problems or that the design matrix is singular.\n"
     ]
    },
    {
     "name": "stderr",
     "output_type": "stream",
     "text": [
      "/Users/andrewtaylor/opt/anaconda3/envs/isye6740-project/lib/python3.6/site-packages/statsmodels/regression/linear_model.py:1860: RuntimeWarning: invalid value encountered in sqrt\n",
      "  return np.sqrt(eigvals[0]/eigvals[-1])\n"
     ]
    }
   ],
   "source": [
    "X_trainval = sm.add_constant(X_trainval)\n",
    "est = sm.OLS(y_trainval, X_trainval).fit_regularized(alpha=825, L1_wt=1, refit=True)\n",
    "print(est.summary())"
   ],
   "metadata": {
    "collapsed": false,
    "pycharm": {
     "name": "#%%\n"
    }
   }
  },
  {
   "cell_type": "code",
   "execution_count": 8,
   "outputs": [
    {
     "data": {
      "text/plain": "['sp_danceability',\n 'sp_energy',\n 'sp_loudness',\n 'sp_speechiness',\n 'sp_acousticness',\n 'sp_instrumentalness',\n 'sp_liveness',\n 'sp_valence',\n 'sp_tempo',\n 'sp_duration_ms',\n 'sp_artist_popularity',\n 'sp_artist_followers',\n 'sp_key',\n 'sp_mode',\n 'sp_time_signature',\n 'sp_time_signature_0',\n 'sp_time_signature_1',\n 'sp_time_signature_3',\n 'sp_time_signature_4',\n 'sp_time_signature_5',\n 'sp_key_0',\n 'sp_key_1',\n 'sp_key_2',\n 'sp_key_3',\n 'sp_key_4',\n 'sp_key_5',\n 'sp_key_6',\n 'sp_key_7',\n 'sp_key_8',\n 'sp_key_9',\n 'sp_key_10',\n 'sp_key_11']"
     },
     "execution_count": 8,
     "metadata": {},
     "output_type": "execute_result"
    }
   ],
   "source": [
    "[c for c in df.columns if c != 'play_count']"
   ],
   "metadata": {
    "collapsed": false,
    "pycharm": {
     "name": "#%%\n"
    }
   }
  },
  {
   "cell_type": "code",
   "execution_count": 9,
   "outputs": [
    {
     "data": {
      "text/plain": "<Figure size 432x180 with 1 Axes>",
      "image/png": "[encoded data removed]"
     },
     "metadata": {
      "needs_background": "light"
     },
     "output_type": "display_data"
    }
   ],
   "source": [
    "pred_val = est.fittedvalues.copy()\n",
    "true_val = y_trainval.copy()\n",
    "residual = true_val - pred_val\n",
    "\n",
    "fig, ax = plt.subplots(figsize=(6, 2.5))\n",
    "_ = ax.scatter(residual, true_val)"
   ],
   "metadata": {
    "collapsed": false,
    "pycharm": {
     "name": "#%%\n"
    }
   }
  },
  {
   "cell_type": "code",
   "execution_count": 10,
   "outputs": [
    {
     "data": {
      "text/plain": "0.360685241195193"
     },
     "execution_count": 10,
     "metadata": {},
     "output_type": "execute_result"
    },
    {
     "data": {
      "text/plain": "<Figure size 432x180 with 1 Axes>",
      "image/png": "[encoded data removed]"
     },
     "metadata": {
      "needs_background": "light"
     },
     "output_type": "display_data"
    }
   ],
   "source": [
    "fig, ax = plt.subplots(figsize=(6, 2.5))\n",
    "_, (__, ___, r) = sp.stats.probplot(residual, plot=ax, fit=True)\n",
    "r**2"
   ],
   "metadata": {
    "collapsed": false,
    "pycharm": {
     "name": "#%%\n"
    }
   }
  },
  {
   "cell_type": "markdown",
   "source": [
    "---\n",
    "### Log-transforming response variable"
   ],
   "metadata": {
    "collapsed": false,
    "pycharm": {
     "name": "#%% md\n"
    }
   }
  },
  {
   "cell_type": "code",
   "execution_count": 11,
   "outputs": [
    {
     "name": "stderr",
     "output_type": "stream",
     "text": [
      "/Users/andrewtaylor/opt/anaconda3/envs/isye6740-project/lib/python3.6/site-packages/ipykernel_launcher.py:1: RuntimeWarning: divide by zero encountered in log\n",
      "  \"\"\"Entry point for launching an IPython kernel.\n"
     ]
    }
   ],
   "source": [
    "y_log_trainval = np.log(y_trainval)"
   ],
   "metadata": {
    "collapsed": false,
    "pycharm": {
     "name": "#%%\n"
    }
   }
  },
  {
   "cell_type": "code",
   "execution_count": 12,
   "outputs": [],
   "source": [
    "y_log_trainval[y_log_trainval == -np.inf] = 0"
   ],
   "metadata": {
    "collapsed": false,
    "pycharm": {
     "name": "#%%\n"
    }
   }
  },
  {
   "cell_type": "code",
   "execution_count": 28,
   "outputs": [
    {
     "name": "stdout",
     "output_type": "stream",
     "text": [
      "                            OLS Regression Results                            \n",
      "==============================================================================\n",
      "Dep. Variable:                      y   R-squared:                       0.311\n",
      "Model:                            OLS   Adj. R-squared:                  0.310\n",
      "Method:                 Least Squares   F-statistic:                     346.6\n",
      "Date:                Wed, 27 Apr 2022   Prob (F-statistic):               0.00\n",
      "Time:                        12:09:51   Log-Likelihood:                -54479.\n",
      "No. Observations:               21552   AIC:                         1.090e+05\n",
      "Df Residuals:                   21523   BIC:                         1.092e+05\n",
      "Df Model:                          28                                         \n",
      "Covariance Type:            nonrobust                                         \n",
      "==============================================================================\n",
      "                 coef    std err          t      P>|t|      [0.025      0.975]\n",
      "------------------------------------------------------------------------------\n",
      "const          2.4982      0.236     10.570      0.000       2.035       2.961\n",
      "x1            -0.9413      0.145     -6.511      0.000      -1.225      -0.658\n",
      "x2             0.1351      0.169      0.797      0.425      -0.197       0.467\n",
      "x3             0.0872      0.007     12.151      0.000       0.073       0.101\n",
      "x4            -1.1474      0.211     -5.444      0.000      -1.560      -0.734\n",
      "x5            -0.9351      0.098     -9.555      0.000      -1.127      -0.743\n",
      "x6            -0.5189      0.070     -7.362      0.000      -0.657      -0.381\n",
      "x7            -0.3833      0.119     -3.226      0.001      -0.616      -0.150\n",
      "x8            -0.8567      0.102     -8.401      0.000      -1.057      -0.657\n",
      "x9            -0.0004      0.001     -0.534      0.593      -0.002       0.001\n",
      "x10         1.035e-07   1.82e-07      0.568      0.570   -2.53e-07     4.6e-07\n",
      "x11            0.0771      0.001     74.282      0.000       0.075       0.079\n",
      "x12         2.978e-08   3.03e-09      9.836      0.000    2.38e-08    3.57e-08\n",
      "x13            0.0955      0.010      9.121      0.000       0.075       0.116\n",
      "x14           -0.0178      0.045     -0.399      0.690      -0.105       0.070\n",
      "x15            0.6677      0.074      8.992      0.000       0.522       0.813\n",
      "x16            0.3589      0.418      0.858      0.391      -0.461       1.179\n",
      "x17            2.1018      0.259      8.109      0.000       1.594       2.610\n",
      "x18            0.8099      0.101      8.048      0.000       0.613       1.007\n",
      "x19            0.0018      0.065      0.027      0.978      -0.125       0.128\n",
      "x20           -0.7742      0.104     -7.431      0.000      -0.978      -0.570\n",
      "x21            0.8069      0.088      9.202      0.000       0.635       0.979\n",
      "x22            0.5853      0.086      6.826      0.000       0.417       0.753\n",
      "x23            0.5523      0.079      7.002      0.000       0.398       0.707\n",
      "x24            0.2378      0.115      2.063      0.039       0.012       0.464\n",
      "x25            0.5635      0.077      7.319      0.000       0.413       0.714\n",
      "x26            0.1264      0.074      1.718      0.086      -0.018       0.271\n",
      "x27            0.3038      0.080      3.794      0.000       0.147       0.461\n",
      "x28            0.1089      0.061      1.774      0.076      -0.011       0.229\n",
      "x29           -0.1220      0.078     -1.573      0.116      -0.274       0.030\n",
      "x30           -0.0806      0.062     -1.306      0.192      -0.202       0.040\n",
      "x31           -0.3470      0.074     -4.713      0.000      -0.491      -0.203\n",
      "x32           -0.2370      0.069     -3.437      0.001      -0.372      -0.102\n",
      "==============================================================================\n",
      "Omnibus:                     1371.714   Durbin-Watson:                   1.985\n",
      "Prob(Omnibus):                  0.000   Jarque-Bera (JB):             1647.197\n",
      "Skew:                          -0.657   Prob(JB):                         0.00\n",
      "Kurtosis:                       3.329   Cond. No.                     1.05e+16\n",
      "==============================================================================\n",
      "\n",
      "Notes:\n",
      "[1] Standard Errors assume that the covariance matrix of the errors is correctly specified.\n",
      "[2] The smallest eigenvalue is 1.23e-14. This might indicate that there are\n",
      "strong multicollinearity problems or that the design matrix is singular.\n"
     ]
    }
   ],
   "source": [
    "X_trainval = sm.add_constant(X_trainval)\n",
    "est_log = sm.OLS(y_log_trainval, X_trainval).fit()\n",
    "print(est_log.summary())"
   ],
   "metadata": {
    "collapsed": false,
    "pycharm": {
     "name": "#%%\n"
    }
   }
  },
  {
   "cell_type": "code",
   "execution_count": 17,
   "outputs": [
    {
     "data": {
      "text/plain": "<Figure size 432x180 with 1 Axes>",
      "image/png": "[encoded data removed]"
     },
     "metadata": {
      "needs_background": "light"
     },
     "output_type": "display_data"
    }
   ],
   "source": [
    "pred_val = est_log.fittedvalues.copy()\n",
    "true_val = y_trainval.copy()\n",
    "residual = true_val - pred_val\n",
    "\n",
    "fig, ax = plt.subplots(figsize=(6, 2.5))\n",
    "_ = ax.scatter(residual, true_val)"
   ],
   "metadata": {
    "collapsed": false,
    "pycharm": {
     "name": "#%%\n"
    }
   }
  },
  {
   "cell_type": "code",
   "execution_count": 18,
   "outputs": [
    {
     "data": {
      "text/plain": "0.21194914265575127"
     },
     "execution_count": 18,
     "metadata": {},
     "output_type": "execute_result"
    },
    {
     "data": {
      "text/plain": "<Figure size 432x180 with 1 Axes>",
      "image/png": "[encoded data removed]"
     },
     "metadata": {
      "needs_background": "light"
     },
     "output_type": "display_data"
    }
   ],
   "source": [
    "fig, ax = plt.subplots(figsize=(6, 2.5))\n",
    "_, (__, ___, r) = sp.stats.probplot(residual, plot=ax, fit=True)\n",
    "r**2"
   ],
   "metadata": {
    "collapsed": false,
    "pycharm": {
     "name": "#%%\n"
    }
   }
  }
 ],
 "metadata": {
  "kernelspec": {
   "name": "isye6740-project",
   "language": "python",
   "display_name": "ISyE 6740 Project"
  },
  "language_info": {
   "codemirror_mode": {
    "name": "ipython",
    "version": 2
   },
   "file_extension": ".py",
   "mimetype": "text/x-python",
   "name": "python",
   "nbconvert_exporter": "python",
   "pygments_lexer": "ipython2",
   "version": "2.7.6"
  }
 },
 "nbformat": 4,
 "nbformat_minor": 0
}