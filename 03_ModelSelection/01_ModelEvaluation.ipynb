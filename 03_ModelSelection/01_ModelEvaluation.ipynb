{
 "cells": [
  {
   "cell_type": "markdown",
   "source": [
    "# Music Popularity Analysis\n",
    "\n",
    "<hr style=\"border:2px solid black\"> </hr>\n",
    "\n",
    "## Model Evaluation\n",
    "## Notebook 01 - Predictive Power\n",
    "\n",
    "---\n",
    "\n",
    "### Import libraries"
   ],
   "metadata": {
    "collapsed": false,
    "pycharm": {
     "name": "#%% md\n"
    }
   }
  },
  {
   "cell_type": "code",
   "execution_count": 1,
   "outputs": [],
   "source": [
    "import pandas as pd\n",
    "import numpy as np\n",
    "import seaborn as sns\n",
    "from matplotlib import pyplot as plt\n",
    "from sklearn.preprocessing import PolynomialFeatures\n",
    "from sklearn.linear_model import LinearRegression, Lasso, Ridge\n",
    "from sklearn.model_selection import KFold, GridSearchCV, train_test_split, cross_val_score, cross_validate\n",
    "from sklearn.experimental import enable_hist_gradient_boosting\n",
    "from sklearn.ensemble import RandomForestRegressor,  GradientBoostingRegressor, HistGradientBoostingRegressor, AdaBoostRegressor\n",
    "from joblib import dump, load\n",
    "from sklearn.metrics import mean_squared_error, mean_absolute_error, r2_score, SCORERS\n",
    "import statsmodels.api as sm\n",
    "import scipy as sp"
   ],
   "metadata": {
    "collapsed": false,
    "pycharm": {
     "name": "#%%\n"
    }
   }
  },
  {
   "cell_type": "code",
   "execution_count": 2,
   "outputs": [],
   "source": [
    "def num_uniques(ser):\n",
    "    try:\n",
    "        return len(ser.unique())\n",
    "    except:\n",
    "        return \"Not unique check-able\"\n",
    "\n",
    "\n",
    "def summarize_df(df):\n",
    "    print(\"======DATA SUMMARY======\")\n",
    "    print(\"{} rows by {} columns\".format(df.shape[0], df.shape[1]))\n",
    "    print(\"\\n======COLUMNS======\")\n",
    "    print(df.dtypes)\n",
    "    print(\"\\n======PREVIEW======\")\n",
    "    display(df.head())\n",
    "    print(\"\\n======NUMERICAL COL SUMMARY======\")\n",
    "    print(df.describe())\n",
    "    print(\"\\n\")\n",
    "    for col in df.columns:\n",
    "        print(\"{}: {} unique values\".format(col, num_uniques(df[col])))"
   ],
   "metadata": {
    "collapsed": false,
    "pycharm": {
     "name": "#%%\n"
    }
   }
  },
  {
   "cell_type": "markdown",
   "source": [
    "---\n",
    "### Import data"
   ],
   "metadata": {
    "collapsed": false,
    "pycharm": {
     "name": "#%% md\n"
    }
   }
  },
  {
   "cell_type": "code",
   "execution_count": 3,
   "outputs": [
    {
     "name": "stdout",
     "output_type": "stream",
     "text": [
      "======DATA SUMMARY======\n",
      "26940 rows by 31 columns\n",
      "\n",
      "======COLUMNS======\n",
      "sp_danceability         float64\n",
      "sp_energy               float64\n",
      "sp_loudness             float64\n",
      "sp_speechiness          float64\n",
      "sp_acousticness         float64\n",
      "sp_instrumentalness     float64\n",
      "sp_liveness             float64\n",
      "sp_valence              float64\n",
      "sp_tempo                float64\n",
      "sp_duration_ms            int64\n",
      "sp_artist_popularity      int64\n",
      "sp_artist_followers       int64\n",
      "play_count                int64\n",
      "sp_mode                   int64\n",
      "sp_time_signature_0     float64\n",
      "sp_time_signature_1     float64\n",
      "sp_time_signature_3     float64\n",
      "sp_time_signature_4     float64\n",
      "sp_time_signature_5     float64\n",
      "sp_key_0                float64\n",
      "sp_key_1                float64\n",
      "sp_key_2                float64\n",
      "sp_key_3                float64\n",
      "sp_key_4                float64\n",
      "sp_key_5                float64\n",
      "sp_key_6                float64\n",
      "sp_key_7                float64\n",
      "sp_key_8                float64\n",
      "sp_key_9                float64\n",
      "sp_key_10               float64\n",
      "sp_key_11               float64\n",
      "dtype: object\n",
      "\n",
      "======PREVIEW======\n"
     ]
    },
    {
     "data": {
      "text/plain": "   sp_danceability  sp_energy  sp_loudness  sp_speechiness  sp_acousticness  \\\n0            0.533      0.804       -7.516          0.0743           0.0211   \n1            0.362      0.326      -15.748          0.0423           0.7390   \n2            0.760      0.557      -13.295          0.0625           0.0213   \n3            0.635      0.323      -12.979          0.0338           0.1420   \n4            0.664      0.440       -5.156          0.0360           0.0531   \n\n   sp_instrumentalness  sp_liveness  sp_valence  sp_tempo  sp_duration_ms  \\\n0              0.00069       0.1270       0.277   145.023          256073   \n1              0.79400       0.1040       0.191   179.880          164792   \n2              0.82200       0.0938       0.719   144.994          202893   \n3              0.53500       0.0974       0.209   179.996          156000   \n4              0.18100       0.0536       0.256    74.735          217600   \n\n   ...  sp_key_2  sp_key_3  sp_key_4  sp_key_5  sp_key_6  sp_key_7  sp_key_8  \\\n0  ...       0.0       0.0       1.0       0.0       0.0       0.0       0.0   \n1  ...       0.0       0.0       0.0       0.0       0.0       0.0       0.0   \n2  ...       0.0       0.0       0.0       0.0       0.0       0.0       0.0   \n3  ...       1.0       0.0       0.0       0.0       0.0       0.0       0.0   \n4  ...       0.0       0.0       0.0       0.0       0.0       0.0       0.0   \n\n   sp_key_9  sp_key_10  sp_key_11  \n0       0.0        0.0        0.0  \n1       0.0        0.0        0.0  \n2       0.0        1.0        0.0  \n3       0.0        0.0        0.0  \n4       0.0        0.0        0.0  \n\n[5 rows x 31 columns]",
      "text/html": "<div>\n<style scoped>\n    .dataframe tbody tr th:only-of-type {\n        vertical-align: middle;\n    }\n\n    .dataframe tbody tr th {\n        vertical-align: top;\n    }\n\n    .dataframe thead th {\n        text-align: right;\n    }\n</style>\n<table border=\"1\" class=\"dataframe\">\n  <thead>\n    <tr style=\"text-align: right;\">\n      <th></th>\n      <th>sp_danceability</th>\n      <th>sp_energy</th>\n      <th>sp_loudness</th>\n      <th>sp_speechiness</th>\n      <th>sp_acousticness</th>\n      <th>sp_instrumentalness</th>\n      <th>sp_liveness</th>\n      <th>sp_valence</th>\n      <th>sp_tempo</th>\n      <th>sp_duration_ms</th>\n      <th>...</th>\n      <th>sp_key_2</th>\n      <th>sp_key_3</th>\n      <th>sp_key_4</th>\n      <th>sp_key_5</th>\n      <th>sp_key_6</th>\n      <th>sp_key_7</th>\n      <th>sp_key_8</th>\n      <th>sp_key_9</th>\n      <th>sp_key_10</th>\n      <th>sp_key_11</th>\n    </tr>\n  </thead>\n  <tbody>\n    <tr>\n      <th>0</th>\n      <td>0.533</td>\n      <td>0.804</td>\n      <td>-7.516</td>\n      <td>0.0743</td>\n      <td>0.0211</td>\n      <td>0.00069</td>\n      <td>0.1270</td>\n      <td>0.277</td>\n      <td>145.023</td>\n      <td>256073</td>\n      <td>...</td>\n      <td>0.0</td>\n      <td>0.0</td>\n      <td>1.0</td>\n      <td>0.0</td>\n      <td>0.0</td>\n      <td>0.0</td>\n      <td>0.0</td>\n      <td>0.0</td>\n      <td>0.0</td>\n      <td>0.0</td>\n    </tr>\n    <tr>\n      <th>1</th>\n      <td>0.362</td>\n      <td>0.326</td>\n      <td>-15.748</td>\n      <td>0.0423</td>\n      <td>0.7390</td>\n      <td>0.79400</td>\n      <td>0.1040</td>\n      <td>0.191</td>\n      <td>179.880</td>\n      <td>164792</td>\n      <td>...</td>\n      <td>0.0</td>\n      <td>0.0</td>\n      <td>0.0</td>\n      <td>0.0</td>\n      <td>0.0</td>\n      <td>0.0</td>\n      <td>0.0</td>\n      <td>0.0</td>\n      <td>0.0</td>\n      <td>0.0</td>\n    </tr>\n    <tr>\n      <th>2</th>\n      <td>0.760</td>\n      <td>0.557</td>\n      <td>-13.295</td>\n      <td>0.0625</td>\n      <td>0.0213</td>\n      <td>0.82200</td>\n      <td>0.0938</td>\n      <td>0.719</td>\n      <td>144.994</td>\n      <td>202893</td>\n      <td>...</td>\n      <td>0.0</td>\n      <td>0.0</td>\n      <td>0.0</td>\n      <td>0.0</td>\n      <td>0.0</td>\n      <td>0.0</td>\n      <td>0.0</td>\n      <td>0.0</td>\n      <td>1.0</td>\n      <td>0.0</td>\n    </tr>\n    <tr>\n      <th>3</th>\n      <td>0.635</td>\n      <td>0.323</td>\n      <td>-12.979</td>\n      <td>0.0338</td>\n      <td>0.1420</td>\n      <td>0.53500</td>\n      <td>0.0974</td>\n      <td>0.209</td>\n      <td>179.996</td>\n      <td>156000</td>\n      <td>...</td>\n      <td>1.0</td>\n      <td>0.0</td>\n      <td>0.0</td>\n      <td>0.0</td>\n      <td>0.0</td>\n      <td>0.0</td>\n      <td>0.0</td>\n      <td>0.0</td>\n      <td>0.0</td>\n      <td>0.0</td>\n    </tr>\n    <tr>\n      <th>4</th>\n      <td>0.664</td>\n      <td>0.440</td>\n      <td>-5.156</td>\n      <td>0.0360</td>\n      <td>0.0531</td>\n      <td>0.18100</td>\n      <td>0.0536</td>\n      <td>0.256</td>\n      <td>74.735</td>\n      <td>217600</td>\n      <td>...</td>\n      <td>0.0</td>\n      <td>0.0</td>\n      <td>0.0</td>\n      <td>0.0</td>\n      <td>0.0</td>\n      <td>0.0</td>\n      <td>0.0</td>\n      <td>0.0</td>\n      <td>0.0</td>\n      <td>0.0</td>\n    </tr>\n  </tbody>\n</table>\n<p>5 rows × 31 columns</p>\n</div>"
     },
     "metadata": {},
     "output_type": "display_data"
    },
    {
     "name": "stdout",
     "output_type": "stream",
     "text": [
      "\n",
      "======NUMERICAL COL SUMMARY======\n",
      "       sp_danceability     sp_energy   sp_loudness  sp_speechiness  \\\n",
      "count     26940.000000  26940.000000  26940.000000    26940.000000   \n",
      "mean          0.529161      0.614964     -9.120079        0.087248   \n",
      "std           0.185528      0.263511      5.439261        0.103623   \n",
      "min           0.000000      0.000000    -60.000000        0.000000   \n",
      "25%           0.403000      0.431000    -11.055250        0.035800   \n",
      "50%           0.540000      0.655000     -7.679000        0.048000   \n",
      "75%           0.666000      0.838000     -5.578000        0.085500   \n",
      "max           0.977000      1.000000      4.106000        0.965000   \n",
      "\n",
      "       sp_acousticness  sp_instrumentalness   sp_liveness    sp_valence  \\\n",
      "count     26940.000000         26940.000000  26940.000000  26940.000000   \n",
      "mean          0.298166             0.239801      0.207013      0.419168   \n",
      "std           0.337638             0.358885      0.184652      0.255309   \n",
      "min           0.000000             0.000000      0.000000      0.000000   \n",
      "25%           0.011200             0.000002      0.097900      0.205000   \n",
      "50%           0.133000             0.001750      0.128000      0.394000   \n",
      "75%           0.558000             0.536000      0.259000      0.613000   \n",
      "max           0.996000             0.996000      0.997000      0.997000   \n",
      "\n",
      "           sp_tempo  sp_duration_ms  ...      sp_key_2      sp_key_3  \\\n",
      "count  26940.000000    2.694000e+04  ...  26940.000000  26940.000000   \n",
      "mean     121.626732    2.328819e+05  ...      0.107424      0.030215   \n",
      "std       30.314184    1.147931e+05  ...      0.309657      0.171182   \n",
      "min        0.000000    4.132000e+03  ...      0.000000      0.000000   \n",
      "25%       98.144750    1.768420e+05  ...      0.000000      0.000000   \n",
      "50%      120.431500    2.185730e+05  ...      0.000000      0.000000   \n",
      "75%      140.061000    2.689408e+05  ...      0.000000      0.000000   \n",
      "max      242.362000    3.709365e+06  ...      1.000000      1.000000   \n",
      "\n",
      "           sp_key_4      sp_key_5      sp_key_6      sp_key_7      sp_key_8  \\\n",
      "count  26940.000000  26940.000000  26940.000000  26940.000000  26940.000000   \n",
      "mean       0.079399      0.081032      0.062324      0.111470      0.063177   \n",
      "std        0.270365      0.272889      0.241747      0.314719      0.243286   \n",
      "min        0.000000      0.000000      0.000000      0.000000      0.000000   \n",
      "25%        0.000000      0.000000      0.000000      0.000000      0.000000   \n",
      "50%        0.000000      0.000000      0.000000      0.000000      0.000000   \n",
      "75%        0.000000      0.000000      0.000000      0.000000      0.000000   \n",
      "max        1.000000      1.000000      1.000000      1.000000      1.000000   \n",
      "\n",
      "           sp_key_9     sp_key_10     sp_key_11  \n",
      "count  26940.000000  26940.000000  26940.000000  \n",
      "mean       0.104195      0.062621      0.078508  \n",
      "std        0.305518      0.242284      0.268974  \n",
      "min        0.000000      0.000000      0.000000  \n",
      "25%        0.000000      0.000000      0.000000  \n",
      "50%        0.000000      0.000000      0.000000  \n",
      "75%        0.000000      0.000000      0.000000  \n",
      "max        1.000000      1.000000      1.000000  \n",
      "\n",
      "[8 rows x 31 columns]\n",
      "\n",
      "\n",
      "sp_danceability: 1033 unique values\n",
      "sp_energy: 1636 unique values\n",
      "sp_loudness: 13097 unique values\n",
      "sp_speechiness: 1352 unique values\n",
      "sp_acousticness: 4285 unique values\n",
      "sp_instrumentalness: 4665 unique values\n",
      "sp_liveness: 1600 unique values\n",
      "sp_valence: 1616 unique values\n",
      "sp_tempo: 19942 unique values\n",
      "sp_duration_ms: 21687 unique values\n",
      "sp_artist_popularity: 100 unique values\n",
      "sp_artist_followers: 8127 unique values\n",
      "play_count: 14411 unique values\n",
      "sp_mode: 2 unique values\n",
      "sp_time_signature_0: 2 unique values\n",
      "sp_time_signature_1: 2 unique values\n",
      "sp_time_signature_3: 2 unique values\n",
      "sp_time_signature_4: 2 unique values\n",
      "sp_time_signature_5: 2 unique values\n",
      "sp_key_0: 2 unique values\n",
      "sp_key_1: 2 unique values\n",
      "sp_key_2: 2 unique values\n",
      "sp_key_3: 2 unique values\n",
      "sp_key_4: 2 unique values\n",
      "sp_key_5: 2 unique values\n",
      "sp_key_6: 2 unique values\n",
      "sp_key_7: 2 unique values\n",
      "sp_key_8: 2 unique values\n",
      "sp_key_9: 2 unique values\n",
      "sp_key_10: 2 unique values\n",
      "sp_key_11: 2 unique values\n"
     ]
    }
   ],
   "source": [
    "df = pd.read_csv('../03_EDA_Transformation/song_data_processed.csv', index_col=[0])\n",
    "summarize_df(df)"
   ],
   "metadata": {
    "collapsed": false,
    "pycharm": {
     "name": "#%%\n"
    }
   }
  },
  {
   "cell_type": "code",
   "execution_count": 4,
   "outputs": [],
   "source": [
    "# Set random seed\n",
    "r = 0"
   ],
   "metadata": {
    "collapsed": false,
    "pycharm": {
     "name": "#%%\n"
    }
   }
  },
  {
   "cell_type": "code",
   "execution_count": 5,
   "outputs": [],
   "source": [
    "# Define data\n",
    "X = np.array(df[[c for c in df.columns if c != 'play_count']])\n",
    "y = np.array(df['play_count'])"
   ],
   "metadata": {
    "collapsed": false,
    "pycharm": {
     "name": "#%%\n"
    }
   }
  },
  {
   "cell_type": "code",
   "execution_count": 6,
   "outputs": [],
   "source": [
    "# Make overall test_train split\n",
    "X_trainval, X_test, y_trainval, y_test = train_test_split(X, y, test_size=0.2, random_state=r)"
   ],
   "metadata": {
    "collapsed": false,
    "pycharm": {
     "name": "#%%\n"
    }
   }
  },
  {
   "cell_type": "markdown",
   "source": [
    "---\n",
    "### Linear Regression on all features"
   ],
   "metadata": {
    "collapsed": false,
    "pycharm": {
     "name": "#%% md\n"
    }
   }
  },
  {
   "cell_type": "code",
   "execution_count": 7,
   "outputs": [],
   "source": [
    "# Create the model\n",
    "linreg = LinearRegression()\n",
    "\n",
    "# Configure the outer-loop cross-validation\n",
    "cv_outer = KFold(n_splits=10, shuffle=True, random_state = r)\n",
    "\n",
    "# Execute the outer CV (no inner required for linear regression)\n",
    "scores_linreg = cross_validate(linreg, X_trainval, y_trainval, cv=cv_outer,  scoring=['r2', 'neg_mean_absolute_error', 'neg_mean_squared_error'], n_jobs=-1, return_estimator=True)"
   ],
   "metadata": {
    "collapsed": false,
    "pycharm": {
     "name": "#%%\n"
    }
   }
  },
  {
   "cell_type": "code",
   "execution_count": 8,
   "outputs": [],
   "source": [
    "for ind, estimator in enumerate(scores_linreg['estimator']):\n",
    "    dump(estimator, r'initial_models_linreg/fold_{}.joblib'.format(ind))"
   ],
   "metadata": {
    "collapsed": false,
    "pycharm": {
     "name": "#%%\n"
    }
   }
  },
  {
   "cell_type": "code",
   "execution_count": 9,
   "outputs": [],
   "source": [
    "score_df = pd.DataFrame(np.array(['linreg', scores_linreg['test_r2'], scores_linreg['test_neg_mean_absolute_error'], scores_linreg['test_neg_mean_squared_error']], dtype='object')[np.newaxis, :], columns=['model', 'r2', 'mae', 'mse'])"
   ],
   "metadata": {
    "collapsed": false,
    "pycharm": {
     "name": "#%%\n"
    }
   }
  },
  {
   "cell_type": "code",
   "execution_count": 10,
   "outputs": [],
   "source": [
    "# train_score_df = pd.DataFrame(np.array(['linreg', scores_linreg['train_r2'], scores_linreg['train_neg_mean_absolute_error'], scores_linreg['train_neg_mean_squared_error']], dtype='object')[np.newaxis, :], columns=['model', 'r2', 'mae', 'mse'])"
   ],
   "metadata": {
    "collapsed": false,
    "pycharm": {
     "name": "#%%\n"
    }
   }
  },
  {
   "cell_type": "markdown",
   "source": [
    "---\n",
    "### LASSO"
   ],
   "metadata": {
    "collapsed": false,
    "pycharm": {
     "name": "#%% md\n"
    }
   }
  },
  {
   "cell_type": "code",
   "execution_count": 11,
   "outputs": [],
   "source": [
    "# Configure parameter tuning CV procedure\n",
    "cv_inner = KFold(n_splits=3, shuffle=True, random_state=r)\n",
    "\n",
    "# Define the search space\n",
    "params = dict()\n",
    "params['alpha'] = np.linspace(0, 1000, 25)\n",
    "\n",
    "# Create model object\n",
    "lasso = Lasso(random_state=r)\n",
    "\n",
    "# Create inner loop gridsearch object\n",
    "lasso_cv = GridSearchCV(lasso, params, scoring='r2', cv = cv_inner, refit=True)\n",
    "\n",
    "# Calculate outer cross validation\n",
    "scores_lasso = cross_validate(lasso_cv, X_trainval, y_trainval, cv=cv_outer,  scoring=['r2', 'neg_mean_absolute_error', 'neg_mean_squared_error'], n_jobs=-1, return_estimator=True)"
   ],
   "metadata": {
    "collapsed": false,
    "pycharm": {
     "name": "#%%\n"
    }
   }
  },
  {
   "cell_type": "code",
   "execution_count": 12,
   "outputs": [],
   "source": [
    "for ind, estimator in enumerate(scores_lasso['estimator']):\n",
    "    dump(estimator, r'initial_models_lasso/fold_{}.joblib'.format(ind))"
   ],
   "metadata": {
    "collapsed": false,
    "pycharm": {
     "name": "#%%\n"
    }
   }
  },
  {
   "cell_type": "code",
   "execution_count": 13,
   "outputs": [],
   "source": [
    "score_df = pd.concat([score_df, pd.DataFrame(np.array(['lasso', scores_lasso['test_r2'], scores_lasso['test_neg_mean_absolute_error'], scores_lasso['test_neg_mean_squared_error']], dtype='object')[np.newaxis, :], columns=['model', 'r2', 'mae', 'mse'])])"
   ],
   "metadata": {
    "collapsed": false,
    "pycharm": {
     "name": "#%%\n"
    }
   }
  },
  {
   "cell_type": "code",
   "execution_count": 70,
   "outputs": [
    {
     "name": "stdout",
     "output_type": "stream",
     "text": [
      "20 of 30 possible\n",
      "20 of 30 possible\n",
      "26 of 30 possible\n",
      "20 of 30 possible\n",
      "20 of 30 possible\n",
      "22 of 30 possible\n",
      "19 of 30 possible\n",
      "19 of 30 possible\n",
      "23 of 30 possible\n",
      "19 of 30 possible\n"
     ]
    }
   ],
   "source": [
    "for ind, estimator in enumerate(scores_lasso['estimator']):\n",
    "    print(\"{} of {} possible\".format(sum(estimator.best_estimator_.coef_ != 0), len(estimator.best_estimator_.coef_)))"
   ],
   "metadata": {
    "collapsed": false,
    "pycharm": {
     "name": "#%%\n"
    }
   }
  },
  {
   "cell_type": "code",
   "execution_count": 14,
   "outputs": [],
   "source": [
    "# train_score_df = pd.concat([train_score_df, pd.DataFrame(np.array(['lasso', scores_lasso['train_r2'], scores_lasso['train_neg_mean_absolute_error'], scores_lasso['train_neg_mean_squared_error']], dtype='object')[np.newaxis, :], columns=['model', 'r2', 'mae', 'mse'])])"
   ],
   "metadata": {
    "collapsed": false,
    "pycharm": {
     "name": "#%%\n"
    }
   }
  },
  {
   "cell_type": "markdown",
   "source": [],
   "metadata": {
    "collapsed": false,
    "pycharm": {
     "name": "#%% md\n"
    }
   }
  },
  {
   "cell_type": "code",
   "execution_count": 15,
   "outputs": [],
   "source": [
    "# Configure parameter tuning CV procedure\n",
    "cv_inner = KFold(n_splits=3, shuffle=True, random_state=r)\n",
    "\n",
    "# Define the search space\n",
    "params = dict()\n",
    "params['alpha'] = np.linspace(0, 1000, 25)\n",
    "\n",
    "# Create model object\n",
    "ridge = Ridge(random_state=r, alpha=1)\n",
    "\n",
    "# Create inner loop gridsearch object\n",
    "ridge_cv = GridSearchCV(ridge, params, scoring='r2', cv = cv_inner, refit=True)\n",
    "\n",
    "# Calculate outer cross validation\n",
    "scores_ridge = cross_validate(ridge_cv, X_trainval, y_trainval, cv=cv_outer,  scoring=['r2', 'neg_mean_absolute_error', 'neg_mean_squared_error'], n_jobs=-1,\n",
    "                              return_estimator=True)"
   ],
   "metadata": {
    "collapsed": false,
    "pycharm": {
     "name": "#%%\n"
    }
   }
  },
  {
   "cell_type": "code",
   "execution_count": 16,
   "outputs": [],
   "source": [
    "for ind, estimator in enumerate(scores_ridge['estimator']):\n",
    "    dump(estimator, r'initial_models_ridge/fold_{}.joblib'.format(ind))"
   ],
   "metadata": {
    "collapsed": false,
    "pycharm": {
     "name": "#%%\n"
    }
   }
  },
  {
   "cell_type": "code",
   "execution_count": 17,
   "outputs": [],
   "source": [
    "score_df = pd.concat([score_df, pd.DataFrame(np.array(['ridge', scores_ridge['test_r2'], scores_ridge['test_neg_mean_absolute_error'], scores_ridge['test_neg_mean_squared_error']], dtype='object')[np.newaxis, :], columns=['model', 'r2', 'mae', 'mse'])])"
   ],
   "metadata": {
    "collapsed": false,
    "pycharm": {
     "name": "#%%\n"
    }
   }
  },
  {
   "cell_type": "code",
   "execution_count": 18,
   "outputs": [],
   "source": [
    "# train_score_df = pd.concat([train_score_df, pd.DataFrame(np.array(['ridge', scores_ridge['train_r2'], scores_ridge['train_neg_mean_absolute_error'], scores_ridge['train_neg_mean_squared_error']], dtype='object')[np.newaxis, :], columns=['model', 'r2', 'mae', 'mse'])])"
   ],
   "metadata": {
    "collapsed": false,
    "pycharm": {
     "name": "#%%\n"
    }
   }
  },
  {
   "cell_type": "markdown",
   "source": [
    "---\n",
    "### Random Forest"
   ],
   "metadata": {
    "collapsed": false,
    "pycharm": {
     "name": "#%% md\n"
    }
   }
  },
  {
   "cell_type": "code",
   "execution_count": 19,
   "outputs": [],
   "source": [
    "# Configure parameter tuning CV procedure\n",
    "cv_inner = KFold(n_splits=3, shuffle=True, random_state=r)\n",
    "\n",
    "# Define the search space\n",
    "params = dict()\n",
    "params['n_estimators'] = [150, 250, 500]\n",
    "params['max_depth'] = [4, 8, 12]\n",
    "params['max_features'] = ['auto', 'sqrt']\n",
    "\n",
    "\n",
    "# Create model object\n",
    "rf = RandomForestRegressor(random_state=r)\n",
    "\n",
    "# Create inner loop gridsearch object\n",
    "rf_cv = GridSearchCV(rf, params, scoring='r2', cv=cv_inner, refit=True)\n",
    "\n",
    "# Calculate outer cross validation\n",
    "scores_rf = cross_validate(rf_cv, X_trainval, y_trainval, cv=cv_outer,  scoring=['r2', 'neg_mean_absolute_error', 'neg_mean_squared_error'], n_jobs=-1,\n",
    "                           return_estimator=True)"
   ],
   "metadata": {
    "collapsed": false,
    "pycharm": {
     "name": "#%%\n"
    }
   }
  },
  {
   "cell_type": "code",
   "execution_count": 20,
   "outputs": [],
   "source": [
    "for ind, estimator in enumerate(scores_rf['estimator']):\n",
    "        dump(estimator, r'initial_models_rf/fold_{}.joblib'.format(ind))"
   ],
   "metadata": {
    "collapsed": false,
    "pycharm": {
     "name": "#%%\n"
    }
   }
  },
  {
   "cell_type": "code",
   "execution_count": 21,
   "outputs": [],
   "source": [
    "score_df = pd.concat([score_df, pd.DataFrame(np.array(['rf', scores_rf['test_r2'], scores_rf['test_neg_mean_absolute_error'], scores_rf['test_neg_mean_squared_error']], dtype='object')[np.newaxis, :], columns=['model', 'r2', 'mae', 'mse'])])"
   ],
   "metadata": {
    "collapsed": false,
    "pycharm": {
     "name": "#%%\n"
    }
   }
  },
  {
   "cell_type": "code",
   "execution_count": 22,
   "outputs": [],
   "source": [
    "# train_score_df = pd.concat([train_score_df, pd.DataFrame(np.array(['rf', scores_rf['train_r2'], scores_rf['train_neg_mean_absolute_error'], scores_rf['train_neg_mean_squared_error']], dtype='object')[np.newaxis, :], columns=['model', 'r2', 'mae', 'mse'])])"
   ],
   "metadata": {
    "collapsed": false,
    "pycharm": {
     "name": "#%%\n"
    }
   }
  },
  {
   "cell_type": "markdown",
   "source": [
    "---\n",
    "### Gradient Boost"
   ],
   "metadata": {
    "collapsed": false,
    "pycharm": {
     "name": "#%% md\n"
    }
   }
  },
  {
   "cell_type": "code",
   "execution_count": 23,
   "outputs": [],
   "source": [
    "# Configure parameter tuning CV procedure\n",
    "cv_inner = KFold(n_splits=3, shuffle=True, random_state=r)\n",
    "\n",
    "# Define the search space\n",
    "params = dict()\n",
    "params['n_estimators'] = [150, 250, 500]\n",
    "params['max_depth'] = [4, 8, 20]\n",
    "params['learning_rate'] = [0.01, 0.04, 1]\n",
    "params['subsample'] = [1, 0.9, 0.5]\n",
    "params['max_features'] = ['auto', 'sqrt']\n",
    "\n",
    "\n",
    "# Create model object\n",
    "gb = GradientBoostingRegressor(random_state=r)\n",
    "\n",
    "# Create inner loop gridsearch object\n",
    "gb_cv = GridSearchCV(gb, params, scoring='r2', cv=cv_inner, refit=True)\n",
    "\n",
    "# Calculate outer cross validation\n",
    "scores_gb = cross_validate(gb_cv, X_trainval, y_trainval, cv=cv_outer,  scoring=['r2', 'neg_mean_absolute_error', 'neg_mean_squared_error'], n_jobs=-1,\n",
    "                           return_estimator=True)"
   ],
   "metadata": {
    "collapsed": false,
    "pycharm": {
     "name": "#%%\n"
    }
   }
  },
  {
   "cell_type": "code",
   "execution_count": 24,
   "outputs": [],
   "source": [
    "for ind, estimator in enumerate(scores_gb['estimator']):\n",
    "    dump(estimator, r'initial_models_gb/fold_{}.joblib'.format(ind))"
   ],
   "metadata": {
    "collapsed": false,
    "pycharm": {
     "name": "#%%\n"
    }
   }
  },
  {
   "cell_type": "code",
   "execution_count": 25,
   "outputs": [],
   "source": [
    "score_df = pd.concat([score_df, pd.DataFrame(np.array(['gb', scores_gb['test_r2'], scores_gb['test_neg_mean_absolute_error'], scores_gb['test_neg_mean_squared_error']], dtype='object')[np.newaxis, :], columns=['model', 'r2', 'mae', 'mse'])])"
   ],
   "metadata": {
    "collapsed": false,
    "pycharm": {
     "name": "#%%\n"
    }
   }
  },
  {
   "cell_type": "code",
   "execution_count": 26,
   "outputs": [],
   "source": [
    "# train_score_df = pd.concat([train_score_df, pd.DataFrame(np.array(['gb', scores_gb['train_r2'], scores_gb['train_neg_mean_absolute_error'], scores_gb['train_neg_mean_squared_error']], dtype='object')[np.newaxis, :], columns=['model', 'r2', 'mae', 'mse'])])"
   ],
   "metadata": {
    "collapsed": false,
    "pycharm": {
     "name": "#%%\n"
    }
   }
  },
  {
   "cell_type": "markdown",
   "source": [
    "---\n",
    "### HistGradientBoosting"
   ],
   "metadata": {
    "collapsed": false,
    "pycharm": {
     "name": "#%% md\n"
    }
   }
  },
  {
   "cell_type": "code",
   "execution_count": 27,
   "outputs": [],
   "source": [
    "# Configure parameter tuning CV procedure\n",
    "cv_inner = KFold(n_splits=3, shuffle=True, random_state=r)\n",
    "\n",
    "# Define the search space\n",
    "params = dict()\n",
    "params['max_iter'] = [50, 150, 250, 500]\n",
    "params['max_depth'] = [4, 8, 12, 20, 50]\n",
    "params['learning_rate'] = [0.01, 0.04]\n",
    "\n",
    "# Create model object\n",
    "hgb = HistGradientBoostingRegressor(random_state=r)\n",
    "\n",
    "# Create inner loop gridsearch object\n",
    "hgb_cv = GridSearchCV(hgb, params, scoring='r2', cv=cv_inner, refit=True)\n",
    "\n",
    "# Calculate outer cross validation\n",
    "scores_hgb = cross_validate(hgb_cv, X_trainval, y_trainval, cv=cv_outer,  scoring=['r2', 'neg_mean_absolute_error', 'neg_mean_squared_error'], n_jobs=-1,\n",
    "                           return_estimator=True)"
   ],
   "metadata": {
    "collapsed": false,
    "pycharm": {
     "name": "#%%\n"
    }
   }
  },
  {
   "cell_type": "code",
   "execution_count": 28,
   "outputs": [],
   "source": [
    "for ind, estimator in enumerate(scores_hgb['estimator']):\n",
    "    dump(estimator, r'initial_models_hgb/fold_{}.joblib'.format(ind))"
   ],
   "metadata": {
    "collapsed": false,
    "pycharm": {
     "name": "#%%\n"
    }
   }
  },
  {
   "cell_type": "code",
   "execution_count": 29,
   "outputs": [],
   "source": [
    "score_df = pd.concat([score_df, pd.DataFrame(np.array(['hgb', scores_hgb['test_r2'], scores_hgb['test_neg_mean_absolute_error'], scores_hgb['test_neg_mean_squared_error']], dtype='object')[np.newaxis, :], columns=['model', 'r2', 'mae', 'mse'])])"
   ],
   "metadata": {
    "collapsed": false,
    "pycharm": {
     "name": "#%%\n"
    }
   }
  },
  {
   "cell_type": "code",
   "execution_count": 30,
   "outputs": [],
   "source": [
    "# train_score_df = pd.concat([train_score_df, pd.DataFrame(np.array(['hgb', scores_hgb['train_r2'], scores_hgb['train_neg_mean_absolute_error'], scores_hgb['train_neg_mean_squared_error']], dtype='object')[np.newaxis, :], columns=['model', 'r2', 'mae', 'mse'])])"
   ],
   "metadata": {
    "collapsed": false,
    "pycharm": {
     "name": "#%%\n"
    }
   }
  },
  {
   "cell_type": "code",
   "execution_count": 31,
   "outputs": [
    {
     "data": {
      "text/plain": "    model                                                 r2  \\\n0  linreg  [0.17944450199287998, 0.18088991123049447, 0.1...   \n0   lasso  [0.180344798890122, 0.18177395128029483, 0.184...   \n0   ridge  [0.17954734494987, 0.1812888326356188, 0.18459...   \n0      rf  [0.3291960817190003, 0.305516959062925, 0.2969...   \n0      gb  [0.3822520949666254, 0.3491474083728734, 0.412...   \n0     hgb  [0.3108782699295468, 0.3181858296765323, 0.329...   \n\n                                                 mae  \\\n0  [-276742.1212815333, -266938.6050038572, -2859...   \n0  [-273248.1264245307, -264044.98869473935, -284...   \n0  [-275418.1229415283, -265396.56335397385, -285...   \n0  [-228359.60024776903, -217090.24567976597, -23...   \n0  [-213669.4598850843, -208805.88534683923, -212...   \n0  [-232140.11868299285, -220335.84560863613, -22...   \n\n                                                 mse  \n0  [-648820198954.5662, -585840729124.5652, -8799...  \n0  [-648108326554.2162, -585208449441.4662, -8799...  \n0  [-648738880155.3169, -585555414110.0809, -8799...  \n0  [-530410353444.2521, -496705457111.8939, -7586...  \n0  [-488458513313.1882, -465500256997.49854, -634...  \n0  [-544894402748.05963, -487644476787.97925, -72...  ",
      "text/html": "<div>\n<style scoped>\n    .dataframe tbody tr th:only-of-type {\n        vertical-align: middle;\n    }\n\n    .dataframe tbody tr th {\n        vertical-align: top;\n    }\n\n    .dataframe thead th {\n        text-align: right;\n    }\n</style>\n<table border=\"1\" class=\"dataframe\">\n  <thead>\n    <tr style=\"text-align: right;\">\n      <th></th>\n      <th>model</th>\n      <th>r2</th>\n      <th>mae</th>\n      <th>mse</th>\n    </tr>\n  </thead>\n  <tbody>\n    <tr>\n      <th>0</th>\n      <td>linreg</td>\n      <td>[0.17944450199287998, 0.18088991123049447, 0.1...</td>\n      <td>[-276742.1212815333, -266938.6050038572, -2859...</td>\n      <td>[-648820198954.5662, -585840729124.5652, -8799...</td>\n    </tr>\n    <tr>\n      <th>0</th>\n      <td>lasso</td>\n      <td>[0.180344798890122, 0.18177395128029483, 0.184...</td>\n      <td>[-273248.1264245307, -264044.98869473935, -284...</td>\n      <td>[-648108326554.2162, -585208449441.4662, -8799...</td>\n    </tr>\n    <tr>\n      <th>0</th>\n      <td>ridge</td>\n      <td>[0.17954734494987, 0.1812888326356188, 0.18459...</td>\n      <td>[-275418.1229415283, -265396.56335397385, -285...</td>\n      <td>[-648738880155.3169, -585555414110.0809, -8799...</td>\n    </tr>\n    <tr>\n      <th>0</th>\n      <td>rf</td>\n      <td>[0.3291960817190003, 0.305516959062925, 0.2969...</td>\n      <td>[-228359.60024776903, -217090.24567976597, -23...</td>\n      <td>[-530410353444.2521, -496705457111.8939, -7586...</td>\n    </tr>\n    <tr>\n      <th>0</th>\n      <td>gb</td>\n      <td>[0.3822520949666254, 0.3491474083728734, 0.412...</td>\n      <td>[-213669.4598850843, -208805.88534683923, -212...</td>\n      <td>[-488458513313.1882, -465500256997.49854, -634...</td>\n    </tr>\n    <tr>\n      <th>0</th>\n      <td>hgb</td>\n      <td>[0.3108782699295468, 0.3181858296765323, 0.329...</td>\n      <td>[-232140.11868299285, -220335.84560863613, -22...</td>\n      <td>[-544894402748.05963, -487644476787.97925, -72...</td>\n    </tr>\n  </tbody>\n</table>\n</div>"
     },
     "metadata": {},
     "output_type": "display_data"
    }
   ],
   "source": [
    "display(score_df)"
   ],
   "metadata": {
    "collapsed": false,
    "pycharm": {
     "name": "#%%\n"
    }
   }
  },
  {
   "cell_type": "code",
   "execution_count": 32,
   "outputs": [],
   "source": [
    "score_df.to_csv('initial_model_scores.csv')"
   ],
   "metadata": {
    "collapsed": false,
    "pycharm": {
     "name": "#%%\n"
    }
   }
  },
  {
   "cell_type": "markdown",
   "source": [
    "---\n",
    "---\n",
    "## Model Comparison"
   ],
   "metadata": {
    "collapsed": false,
    "pycharm": {
     "name": "#%% md\n"
    }
   }
  },
  {
   "cell_type": "code",
   "execution_count": 33,
   "outputs": [
    {
     "data": {
      "text/plain": "    model                                                 r2  \\\n0  linreg  [0.17944450199287998, 0.18088991123049447, 0.1...   \n0   lasso  [0.180344798890122, 0.18177395128029483, 0.184...   \n0   ridge  [0.17954734494987, 0.1812888326356188, 0.18459...   \n0      rf  [0.3291960817190003, 0.305516959062925, 0.2969...   \n0      gb  [0.3822520949666254, 0.3491474083728734, 0.412...   \n0     hgb  [0.3108782699295468, 0.3181858296765323, 0.329...   \n\n                                                 mae  \\\n0  [-276742.1212815333, -266938.6050038572, -2859...   \n0  [-273248.1264245307, -264044.98869473935, -284...   \n0  [-275418.1229415283, -265396.56335397385, -285...   \n0  [-228359.60024776903, -217090.24567976597, -23...   \n0  [-213669.4598850843, -208805.88534683923, -212...   \n0  [-232140.11868299285, -220335.84560863613, -22...   \n\n                                                 mse    r2_avg        mae_avg  \\\n0  [-648820198954.5662, -585840729124.5652, -8799...  0.181639 -273220.313861   \n0  [-648108326554.2162, -585208449441.4662, -8799...  0.181840 -270388.317850   \n0  [-648738880155.3169, -585555414110.0809, -8799...  0.181660 -272271.910109   \n0  [-530410353444.2521, -496705457111.8939, -7586...  0.302265 -225363.248190   \n0  [-488458513313.1882, -465500256997.49854, -634...  0.353685 -213748.521269   \n0  [-544894402748.05963, -487644476787.97925, -72...  0.312945 -222857.698789   \n\n        mse_avg  \n0 -6.669924e+11  \n0 -6.668300e+11  \n0 -6.669790e+11  \n0 -5.682784e+11  \n0 -5.216667e+11  \n0 -5.573477e+11  ",
      "text/html": "<div>\n<style scoped>\n    .dataframe tbody tr th:only-of-type {\n        vertical-align: middle;\n    }\n\n    .dataframe tbody tr th {\n        vertical-align: top;\n    }\n\n    .dataframe thead th {\n        text-align: right;\n    }\n</style>\n<table border=\"1\" class=\"dataframe\">\n  <thead>\n    <tr style=\"text-align: right;\">\n      <th></th>\n      <th>model</th>\n      <th>r2</th>\n      <th>mae</th>\n      <th>mse</th>\n      <th>r2_avg</th>\n      <th>mae_avg</th>\n      <th>mse_avg</th>\n    </tr>\n  </thead>\n  <tbody>\n    <tr>\n      <th>0</th>\n      <td>linreg</td>\n      <td>[0.17944450199287998, 0.18088991123049447, 0.1...</td>\n      <td>[-276742.1212815333, -266938.6050038572, -2859...</td>\n      <td>[-648820198954.5662, -585840729124.5652, -8799...</td>\n      <td>0.181639</td>\n      <td>-273220.313861</td>\n      <td>-6.669924e+11</td>\n    </tr>\n    <tr>\n      <th>0</th>\n      <td>lasso</td>\n      <td>[0.180344798890122, 0.18177395128029483, 0.184...</td>\n      <td>[-273248.1264245307, -264044.98869473935, -284...</td>\n      <td>[-648108326554.2162, -585208449441.4662, -8799...</td>\n      <td>0.181840</td>\n      <td>-270388.317850</td>\n      <td>-6.668300e+11</td>\n    </tr>\n    <tr>\n      <th>0</th>\n      <td>ridge</td>\n      <td>[0.17954734494987, 0.1812888326356188, 0.18459...</td>\n      <td>[-275418.1229415283, -265396.56335397385, -285...</td>\n      <td>[-648738880155.3169, -585555414110.0809, -8799...</td>\n      <td>0.181660</td>\n      <td>-272271.910109</td>\n      <td>-6.669790e+11</td>\n    </tr>\n    <tr>\n      <th>0</th>\n      <td>rf</td>\n      <td>[0.3291960817190003, 0.305516959062925, 0.2969...</td>\n      <td>[-228359.60024776903, -217090.24567976597, -23...</td>\n      <td>[-530410353444.2521, -496705457111.8939, -7586...</td>\n      <td>0.302265</td>\n      <td>-225363.248190</td>\n      <td>-5.682784e+11</td>\n    </tr>\n    <tr>\n      <th>0</th>\n      <td>gb</td>\n      <td>[0.3822520949666254, 0.3491474083728734, 0.412...</td>\n      <td>[-213669.4598850843, -208805.88534683923, -212...</td>\n      <td>[-488458513313.1882, -465500256997.49854, -634...</td>\n      <td>0.353685</td>\n      <td>-213748.521269</td>\n      <td>-5.216667e+11</td>\n    </tr>\n    <tr>\n      <th>0</th>\n      <td>hgb</td>\n      <td>[0.3108782699295468, 0.3181858296765323, 0.329...</td>\n      <td>[-232140.11868299285, -220335.84560863613, -22...</td>\n      <td>[-544894402748.05963, -487644476787.97925, -72...</td>\n      <td>0.312945</td>\n      <td>-222857.698789</td>\n      <td>-5.573477e+11</td>\n    </tr>\n  </tbody>\n</table>\n</div>"
     },
     "metadata": {},
     "output_type": "display_data"
    }
   ],
   "source": [
    "score_df['r2_avg'] = score_df['r2'].apply(lambda x: np.mean(x))\n",
    "score_df['mae_avg'] = score_df['mae'].apply(lambda x: np.mean(x))\n",
    "score_df['mse_avg'] = score_df['mse'].apply(lambda x: np.mean(x))\n",
    "display(score_df)"
   ],
   "metadata": {
    "collapsed": false,
    "pycharm": {
     "name": "#%%\n"
    }
   }
  },
  {
   "cell_type": "markdown",
   "source": [
    "---\n",
    "---\n",
    "## Selected Model Analysis"
   ],
   "metadata": {
    "collapsed": false,
    "pycharm": {
     "name": "#%% md\n"
    }
   }
  },
  {
   "cell_type": "markdown",
   "source": [
    "### Hyperparameter Selection and Additional Tuning"
   ],
   "metadata": {
    "collapsed": false,
    "pycharm": {
     "name": "#%% md\n"
    }
   }
  },
  {
   "cell_type": "code",
   "execution_count": 34,
   "outputs": [
    {
     "name": "stdout",
     "output_type": "stream",
     "text": [
      "\n",
      "ESTIMATOR 0\n",
      "{'learning_rate': 0.04, 'max_depth': 4, 'max_features': 'auto', 'n_estimators': 500, 'subsample': 0.9}\n",
      "\n",
      "ESTIMATOR 1\n",
      "{'learning_rate': 0.01, 'max_depth': 20, 'max_features': 'sqrt', 'n_estimators': 500, 'subsample': 0.9}\n",
      "\n",
      "ESTIMATOR 2\n",
      "{'learning_rate': 0.04, 'max_depth': 4, 'max_features': 'auto', 'n_estimators': 250, 'subsample': 0.9}\n",
      "\n",
      "ESTIMATOR 3\n",
      "{'learning_rate': 0.04, 'max_depth': 4, 'max_features': 'auto', 'n_estimators': 250, 'subsample': 0.9}\n",
      "\n",
      "ESTIMATOR 4\n",
      "{'learning_rate': 0.04, 'max_depth': 4, 'max_features': 'auto', 'n_estimators': 500, 'subsample': 0.9}\n",
      "\n",
      "ESTIMATOR 5\n",
      "{'learning_rate': 0.04, 'max_depth': 4, 'max_features': 'auto', 'n_estimators': 500, 'subsample': 0.9}\n",
      "\n",
      "ESTIMATOR 6\n",
      "{'learning_rate': 0.04, 'max_depth': 4, 'max_features': 'auto', 'n_estimators': 500, 'subsample': 0.9}\n",
      "\n",
      "ESTIMATOR 7\n",
      "{'learning_rate': 0.04, 'max_depth': 4, 'max_features': 'auto', 'n_estimators': 500, 'subsample': 0.9}\n",
      "\n",
      "ESTIMATOR 8\n",
      "{'learning_rate': 0.04, 'max_depth': 4, 'max_features': 'auto', 'n_estimators': 250, 'subsample': 0.5}\n",
      "\n",
      "ESTIMATOR 9\n",
      "{'learning_rate': 0.04, 'max_depth': 4, 'max_features': 'auto', 'n_estimators': 500, 'subsample': 0.9}\n"
     ]
    }
   ],
   "source": [
    "for ind, estimator in enumerate(scores_gb['estimator']):\n",
    "    print('\\nESTIMATOR {}'.format(ind))\n",
    "    print(estimator.best_params_)"
   ],
   "metadata": {
    "collapsed": false,
    "pycharm": {
     "name": "#%%\n"
    }
   }
  },
  {
   "cell_type": "code",
   "execution_count": 35,
   "outputs": [],
   "source": [
    "# Configure parameter tuning CV procedure\n",
    "cv_inner = KFold(n_splits=3, shuffle=True, random_state=r)\n",
    "\n",
    "# Define the search space\n",
    "params = dict()\n",
    "params['max_depth'] = [4, 20]\n",
    "params['learning_rate'] = [0.04, 0.1, 1]\n",
    "\n",
    "# Create model object\n",
    "gb2 = GradientBoostingRegressor(random_state=r, n_estimators=500, subsample=0.9, max_features='auto')\n",
    "\n",
    "# Create inner loop gridsearch object\n",
    "gb2_cv = GridSearchCV(gb2, params, scoring='r2', cv=cv_inner, refit=True)\n",
    "\n",
    "# Calculate outer cross validation\n",
    "scores_gb2 = cross_validate(gb2_cv, X_trainval, y_trainval, cv=cv_outer,  scoring=['r2', 'neg_mean_absolute_error', 'neg_mean_squared_error'], n_jobs=-1,\n",
    "                           return_estimator=True, return_train_score=True)"
   ],
   "metadata": {
    "collapsed": false,
    "pycharm": {
     "name": "#%%\n"
    }
   }
  },
  {
   "cell_type": "code",
   "execution_count": 36,
   "outputs": [
    {
     "name": "stdout",
     "output_type": "stream",
     "text": [
      "\n",
      "ESTIMATOR 0\n",
      "{'learning_rate': 0.04, 'max_depth': 4}\n",
      "\n",
      "ESTIMATOR 1\n",
      "{'learning_rate': 0.04, 'max_depth': 4}\n",
      "\n",
      "ESTIMATOR 2\n",
      "{'learning_rate': 0.04, 'max_depth': 4}\n",
      "\n",
      "ESTIMATOR 3\n",
      "{'learning_rate': 0.04, 'max_depth': 4}\n",
      "\n",
      "ESTIMATOR 4\n",
      "{'learning_rate': 0.04, 'max_depth': 4}\n",
      "\n",
      "ESTIMATOR 5\n",
      "{'learning_rate': 0.04, 'max_depth': 4}\n",
      "\n",
      "ESTIMATOR 6\n",
      "{'learning_rate': 0.04, 'max_depth': 4}\n",
      "\n",
      "ESTIMATOR 7\n",
      "{'learning_rate': 0.04, 'max_depth': 4}\n",
      "\n",
      "ESTIMATOR 8\n",
      "{'learning_rate': 0.04, 'max_depth': 4}\n",
      "\n",
      "ESTIMATOR 9\n",
      "{'learning_rate': 0.04, 'max_depth': 4}\n"
     ]
    }
   ],
   "source": [
    "for ind, estimator in enumerate(scores_gb2['estimator']):\n",
    "    print('\\nESTIMATOR {}'.format(ind))\n",
    "    print(estimator.best_params_)"
   ],
   "metadata": {
    "collapsed": false,
    "pycharm": {
     "name": "#%%\n"
    }
   }
  },
  {
   "cell_type": "code",
   "execution_count": 37,
   "outputs": [
    {
     "name": "stdout",
     "output_type": "stream",
     "text": [
      "R2: 0.3572825718501538\n",
      "MAE: -212790.34197515357\n",
      "MSE: -518057486509.66876\n"
     ]
    }
   ],
   "source": [
    "print(\"R2: {}\".format(np.mean(scores_gb2['test_r2'])))\n",
    "print(\"MAE: {}\".format(np.mean(scores_gb2['test_neg_mean_absolute_error'])))\n",
    "print(\"MSE: {}\".format(np.mean(scores_gb2['test_neg_mean_squared_error'])))"
   ],
   "metadata": {
    "collapsed": false,
    "pycharm": {
     "name": "#%%\n"
    }
   }
  },
  {
   "cell_type": "markdown",
   "source": [
    "---\n",
    "### Train 'final' boosting model"
   ],
   "metadata": {
    "collapsed": false,
    "pycharm": {
     "name": "#%% md\n"
    }
   }
  },
  {
   "cell_type": "code",
   "execution_count": 38,
   "outputs": [
    {
     "data": {
      "text/plain": "GradientBoostingRegressor(learning_rate=0.04, max_depth=4, max_features='auto',\n                          n_estimators=500, random_state=0, subsample=0.9)"
     },
     "execution_count": 38,
     "metadata": {},
     "output_type": "execute_result"
    }
   ],
   "source": [
    "# Create model object\n",
    "gb_final = GradientBoostingRegressor(random_state=r, n_estimators=500, subsample=0.9, max_features='auto', max_depth=4, learning_rate=0.04)\n",
    "\n",
    "# Fit model object\n",
    "gb_final.fit(X_trainval, y_trainval)"
   ],
   "metadata": {
    "collapsed": false,
    "pycharm": {
     "name": "#%%\n"
    }
   }
  },
  {
   "cell_type": "code",
   "execution_count": 39,
   "outputs": [
    {
     "data": {
      "text/plain": "['final_models/gradient_boosting_regression.joblib']"
     },
     "execution_count": 39,
     "metadata": {},
     "output_type": "execute_result"
    }
   ],
   "source": [
    "dump(gb_final, r'final_models/gradient_boosting_regression.joblib')"
   ],
   "metadata": {
    "collapsed": false,
    "pycharm": {
     "name": "#%%\n"
    }
   }
  },
  {
   "cell_type": "markdown",
   "source": [
    "---\n",
    "### Performance - test score"
   ],
   "metadata": {
    "collapsed": false,
    "pycharm": {
     "name": "#%% md\n"
    }
   }
  },
  {
   "cell_type": "code",
   "execution_count": 40,
   "outputs": [
    {
     "name": "stdout",
     "output_type": "stream",
     "text": [
      "R2: 0.33890677443809913\n",
      "MAE: 222511.70705941203\n",
      "MSE: 620127652473.614\n"
     ]
    }
   ],
   "source": [
    "y_test_preds = gb_final.predict(X_test)\n",
    "print(\"R2: {}\".format(r2_score(y_test, y_test_preds)))\n",
    "print(\"MAE: {}\".format(mean_absolute_error(y_test, y_test_preds)))\n",
    "print(\"MSE: {}\".format(mean_squared_error(y_test, y_test_preds)))"
   ],
   "metadata": {
    "collapsed": false,
    "pycharm": {
     "name": "#%%\n"
    }
   }
  },
  {
   "cell_type": "markdown",
   "source": [
    "---\n",
    "### Feature importances"
   ],
   "metadata": {
    "collapsed": false,
    "pycharm": {
     "name": "#%% md\n"
    }
   }
  },
  {
   "cell_type": "code",
   "execution_count": 41,
   "outputs": [
    {
     "data": {
      "text/plain": "<Figure size 792x576 with 1 Axes>",
      "image/png": "[encoded data removed]"
     },
     "metadata": {
      "needs_background": "light"
     },
     "output_type": "display_data"
    }
   ],
   "source": [
    "feature_imps = gb_final.feature_importances_\n",
    "plt.figure(figsize=(11, 8))\n",
    "sns.barplot(y=[c for c in df.columns if c != 'play_count'], x=feature_imps)\n",
    "plt.show()"
   ],
   "metadata": {
    "collapsed": false,
    "pycharm": {
     "name": "#%%\n"
    }
   }
  },
  {
   "cell_type": "markdown",
   "source": [
    "---\n",
    "### Look at Lasso more closely for feature insights"
   ],
   "metadata": {
    "collapsed": false,
    "pycharm": {
     "name": "#%% md\n"
    }
   }
  },
  {
   "cell_type": "code",
   "execution_count": 42,
   "outputs": [
    {
     "name": "stdout",
     "output_type": "stream",
     "text": [
      "\n",
      "ESTIMATOR 0\n",
      "{'alpha': 875.0}\n",
      "\n",
      "ESTIMATOR 1\n",
      "{'alpha': 625.0}\n",
      "\n",
      "ESTIMATOR 2\n",
      "{'alpha': 375.0}\n",
      "\n",
      "ESTIMATOR 3\n",
      "{'alpha': 833.3333333333333}\n",
      "\n",
      "ESTIMATOR 4\n",
      "{'alpha': 791.6666666666666}\n",
      "\n",
      "ESTIMATOR 5\n",
      "{'alpha': 583.3333333333333}\n",
      "\n",
      "ESTIMATOR 6\n",
      "{'alpha': 1000.0}\n",
      "\n",
      "ESTIMATOR 7\n",
      "{'alpha': 1000.0}\n",
      "\n",
      "ESTIMATOR 8\n",
      "{'alpha': 458.3333333333333}\n",
      "\n",
      "ESTIMATOR 9\n",
      "{'alpha': 666.6666666666666}\n"
     ]
    }
   ],
   "source": [
    "# Lasso prep\n",
    "for ind, estimator in enumerate(scores_lasso['estimator']):\n",
    "    print('\\nESTIMATOR {}'.format(ind))\n",
    "    print(estimator.best_params_)"
   ],
   "metadata": {
    "collapsed": false,
    "pycharm": {
     "name": "#%%\n"
    }
   }
  },
  {
   "cell_type": "code",
   "execution_count": 43,
   "outputs": [
    {
     "name": "stderr",
     "output_type": "stream",
     "text": [
      "/Users/andrewtaylor/opt/anaconda3/envs/isye6740-project/lib/python3.6/site-packages/sklearn/model_selection/_validation.py:598: UserWarning: With alpha=0, this algorithm does not converge well. You are advised to use the LinearRegression estimator\n",
      "  estimator.fit(X_train, y_train, **fit_params)\n",
      "/Users/andrewtaylor/opt/anaconda3/envs/isye6740-project/lib/python3.6/site-packages/sklearn/linear_model/_coordinate_descent.py:532: UserWarning: Coordinate descent with no regularization may lead to unexpected results and is discouraged.\n",
      "  positive)\n",
      "/Users/andrewtaylor/opt/anaconda3/envs/isye6740-project/lib/python3.6/site-packages/sklearn/linear_model/_coordinate_descent.py:532: ConvergenceWarning: Objective did not converge. You might want to increase the number of iterations. Duality gap: 4752202401881345.0, tolerance: 1170630697408.1436\n",
      "  positive)\n",
      "/Users/andrewtaylor/opt/anaconda3/envs/isye6740-project/lib/python3.6/site-packages/sklearn/model_selection/_validation.py:598: UserWarning: With alpha=0, this algorithm does not converge well. You are advised to use the LinearRegression estimator\n",
      "  estimator.fit(X_train, y_train, **fit_params)\n",
      "/Users/andrewtaylor/opt/anaconda3/envs/isye6740-project/lib/python3.6/site-packages/sklearn/linear_model/_coordinate_descent.py:532: UserWarning: Coordinate descent with no regularization may lead to unexpected results and is discouraged.\n",
      "  positive)\n",
      "/Users/andrewtaylor/opt/anaconda3/envs/isye6740-project/lib/python3.6/site-packages/sklearn/linear_model/_coordinate_descent.py:532: ConvergenceWarning: Objective did not converge. You might want to increase the number of iterations. Duality gap: 4740432555812594.0, tolerance: 1177930907914.2869\n",
      "  positive)\n",
      "/Users/andrewtaylor/opt/anaconda3/envs/isye6740-project/lib/python3.6/site-packages/sklearn/model_selection/_validation.py:598: UserWarning: With alpha=0, this algorithm does not converge well. You are advised to use the LinearRegression estimator\n",
      "  estimator.fit(X_train, y_train, **fit_params)\n",
      "/Users/andrewtaylor/opt/anaconda3/envs/isye6740-project/lib/python3.6/site-packages/sklearn/linear_model/_coordinate_descent.py:532: UserWarning: Coordinate descent with no regularization may lead to unexpected results and is discouraged.\n",
      "  positive)\n",
      "/Users/andrewtaylor/opt/anaconda3/envs/isye6740-project/lib/python3.6/site-packages/sklearn/linear_model/_coordinate_descent.py:532: ConvergenceWarning: Objective did not converge. You might want to increase the number of iterations. Duality gap: 4823308284933296.0, tolerance: 1167891032075.194\n",
      "  positive)\n"
     ]
    }
   ],
   "source": [
    "# Configure parameter tuning CV procedure\n",
    "cv_inner = KFold(n_splits=3, shuffle=True, random_state=r)\n",
    "\n",
    "# Define the search space\n",
    "params = dict()\n",
    "params['alpha'] = np.linspace(0, 1000, 25)\n",
    "\n",
    "# Create model object\n",
    "lasso_final = Lasso(random_state=r)\n",
    "\n",
    "# Create inner loop gridsearch object\n",
    "lasso_final_cv = GridSearchCV(lasso_final, params, scoring='r2', cv = cv_inner, refit=True)\n",
    "\n",
    "# Fit model object\n",
    "lasso_final_cv.fit(X_trainval, y_trainval)\n",
    "\n",
    "# Pull out best model\n",
    "lasso_final_model = lasso_final_cv.best_estimator_"
   ],
   "metadata": {
    "collapsed": false,
    "pycharm": {
     "name": "#%%\n"
    }
   }
  },
  {
   "cell_type": "code",
   "execution_count": 44,
   "outputs": [
    {
     "data": {
      "text/plain": "['final_models/lasso.joblib']"
     },
     "execution_count": 44,
     "metadata": {},
     "output_type": "execute_result"
    }
   ],
   "source": [
    "dump(lasso_final_model, r'final_models/lasso.joblib')"
   ],
   "metadata": {
    "collapsed": false,
    "pycharm": {
     "name": "#%%\n"
    }
   }
  },
  {
   "cell_type": "code",
   "execution_count": 45,
   "outputs": [
    {
     "name": "stdout",
     "output_type": "stream",
     "text": [
      "R2: 0.20304438228537447\n",
      "MAE: 276008.6754066017\n",
      "MSE: 747571140089.915\n"
     ]
    }
   ],
   "source": [
    "y_test_preds_l = lasso_final_model.predict(X_test)\n",
    "print(\"R2: {}\".format(r2_score(y_test, y_test_preds_l)))\n",
    "print(\"MAE: {}\".format(mean_absolute_error(y_test, y_test_preds_l)))\n",
    "print(\"MSE: {}\".format(mean_squared_error(y_test, y_test_preds_l)))"
   ],
   "metadata": {
    "collapsed": false,
    "pycharm": {
     "name": "#%%\n"
    }
   }
  },
  {
   "cell_type": "code",
   "execution_count": 46,
   "outputs": [
    {
     "name": "stdout",
     "output_type": "stream",
     "text": [
      "{'alpha': 708.3333333333333}\n"
     ]
    }
   ],
   "source": [
    "print(lasso_final_cv.best_params_)"
   ],
   "metadata": {
    "collapsed": false,
    "pycharm": {
     "name": "#%%\n"
    }
   }
  },
  {
   "cell_type": "code",
   "execution_count": 63,
   "outputs": [
    {
     "name": "stdout",
     "output_type": "stream",
     "text": [
      "[-9.28860807e+04  3.49306660e+04 -2.14402533e+03 -3.22595144e+05\n",
      " -8.82974354e+04 -3.95151956e+04  1.28523454e+05 -0.00000000e+00\n",
      "  7.51881524e+01  1.35043041e-01  4.40890079e+03  4.30448220e-02\n",
      " -1.08649552e+04 -0.00000000e+00 -0.00000000e+00  0.00000000e+00\n",
      "  1.38698675e+04 -4.63162809e+02  1.35349713e+04 -5.23113873e+04\n",
      " -0.00000000e+00 -0.00000000e+00  1.92091419e+04 -3.34461441e+04\n",
      "  0.00000000e+00  0.00000000e+00 -2.97544781e+04  2.11656053e+04\n",
      " -0.00000000e+00  0.00000000e+00]\n"
     ]
    }
   ],
   "source": [
    "print(lasso_final_model.coef_)"
   ],
   "metadata": {
    "collapsed": false,
    "pycharm": {
     "name": "#%%\n"
    }
   }
  },
  {
   "cell_type": "code",
   "execution_count": 76,
   "outputs": [
    {
     "name": "stdout",
     "output_type": "stream",
     "text": [
      "                            OLS Regression Results                            \n",
      "==============================================================================\n",
      "Dep. Variable:                      y   R-squared:                       0.185\n",
      "Model:                            OLS   Adj. R-squared:                  0.184\n",
      "Method:                 Least Squares   F-statistic:                     212.6\n",
      "Date:                Thu, 28 Apr 2022   Prob (F-statistic):               0.00\n",
      "Time:                        09:23:09   Log-Likelihood:            -3.2393e+05\n",
      "No. Observations:               21552   AIC:                         6.479e+05\n",
      "Df Residuals:                   21529   BIC:                         6.481e+05\n",
      "Df Model:                          23                                         \n",
      "Covariance Type:            nonrobust                                         \n",
      "==============================================================================\n",
      "                 coef    std err          t      P>|t|      [0.025      0.975]\n",
      "------------------------------------------------------------------------------\n",
      "const      -1.876e+05   1.89e+05     -0.995      0.320   -5.57e+05    1.82e+05\n",
      "x1         -1.123e+05   3.46e+04     -3.248      0.001    -1.8e+05   -4.45e+04\n",
      "x2          6.564e+04   4.38e+04      1.499      0.134   -2.02e+04    1.51e+05\n",
      "x3         -3755.0930   1915.940     -1.960      0.050   -7510.477       0.291\n",
      "x4         -3.929e+05   5.64e+04     -6.960      0.000   -5.03e+05   -2.82e+05\n",
      "x5         -9.193e+04   2.61e+04     -3.519      0.000   -1.43e+05   -4.07e+04\n",
      "x6         -5.423e+04   1.87e+04     -2.899      0.004   -9.09e+04   -1.76e+04\n",
      "x7          1.441e+05   3.19e+04      4.512      0.000    8.15e+04    2.07e+05\n",
      "x8                  0          0        nan        nan           0           0\n",
      "x9            46.9662    191.494      0.245      0.806    -328.377     422.309\n",
      "x10            0.1170      0.049      2.407      0.016       0.022       0.212\n",
      "x11         4413.5674    279.036     15.817      0.000    3866.637    4960.498\n",
      "x12            0.0431      0.001     52.912      0.000       0.041       0.045\n",
      "x13        -1.638e+04   1.17e+04     -1.403      0.161   -3.93e+04    6511.346\n",
      "x14                 0          0        nan        nan           0           0\n",
      "x15         3.625e+04   1.91e+05      0.189      0.850   -3.39e+05    4.11e+05\n",
      "x16         6.519e+04   1.85e+05      0.352      0.725   -2.98e+05    4.28e+05\n",
      "x17         7.674e+04   1.85e+05      0.415      0.678   -2.85e+05    4.39e+05\n",
      "x18         2.935e+04   1.88e+05      0.156      0.876    -3.4e+05    3.99e+05\n",
      "x19         1.509e+04   1.81e+04      0.832      0.405   -2.05e+04    5.07e+04\n",
      "x20        -6.171e+04   1.96e+04     -3.147      0.002      -1e+05   -2.33e+04\n",
      "x21                 0          0        nan        nan           0           0\n",
      "x22                 0          0        nan        nan           0           0\n",
      "x23                 0          0        nan        nan           0           0\n",
      "x24        -4.739e+04   2.11e+04     -2.242      0.025   -8.88e+04   -5958.828\n",
      "x25                 0          0        nan        nan           0           0\n",
      "x26                 0          0        nan        nan           0           0\n",
      "x27        -4.436e+04    2.4e+04     -1.851      0.064   -9.13e+04    2617.633\n",
      "x28         2.184e+04   1.91e+04      1.146      0.252   -1.55e+04    5.92e+04\n",
      "x29        -9193.7602   2.36e+04     -0.390      0.697   -5.54e+04    3.71e+04\n",
      "x30                 0          0        nan        nan           0           0\n",
      "==============================================================================\n",
      "Omnibus:                    31003.180   Durbin-Watson:                   1.999\n",
      "Prob(Omnibus):                  0.000   Jarque-Bera (JB):         14186184.454\n",
      "Skew:                           8.550   Prob(JB):                         0.00\n",
      "Kurtosis:                     127.519   Cond. No.                     2.83e+15\n",
      "==============================================================================\n",
      "\n",
      "Notes:\n",
      "[1] Standard Errors assume that the covariance matrix of the errors is correctly specified.\n",
      "[2] The smallest eigenvalue is 1.69e-13. This might indicate that there are\n",
      "strong multicollinearity problems or that the design matrix is singular.\n"
     ]
    }
   ],
   "source": [
    "X_trainval_c = sm.add_constant(X_trainval)\n",
    "est = sm.OLS(y_trainval, X_trainval_c).fit_regularized(alpha=lasso_final_cv.best_params_['alpha'], L1_wt=1, refit=True)\n",
    "print(est.summary())"
   ],
   "metadata": {
    "collapsed": false,
    "pycharm": {
     "name": "#%%\n"
    }
   }
  },
  {
   "cell_type": "code",
   "execution_count": 89,
   "outputs": [],
   "source": [
    "lasso_p_values = pd.DataFrame((zip(['const']+[c for c in df.columns if c != 'play_count'], est.pvalues)), columns=['feature', 'p-value'])\n",
    "def significance(x):\n",
    "    if x < 0.01:\n",
    "        return 'significant'\n",
    "    elif x < 0.05:\n",
    "        return 'slightly significant'\n",
    "    elif np.isnan(x):\n",
    "        return 'not used'\n",
    "    else:\n",
    "        return 'not significant'\n",
    "lasso_p_values['significance'] = lasso_p_values['p-value'].apply(lambda x: significance(x))\n",
    "lasso_p_values['coefficient'] = est.params"
   ],
   "metadata": {
    "collapsed": false,
    "pycharm": {
     "name": "#%%\n"
    }
   }
  },
  {
   "cell_type": "code",
   "execution_count": 90,
   "outputs": [
    {
     "data": {
      "text/plain": "                 feature       p-value          significance    coefficient\n0                  const  3.198262e-01       not significant -187557.931548\n1        sp_danceability  1.163260e-03           significant -112273.524190\n2              sp_energy  1.339123e-01       not significant   65640.907101\n3            sp_loudness  5.001775e-02       not significant   -3755.092950\n4         sp_speechiness  3.500852e-12           significant -392858.537131\n5        sp_acousticness  4.336460e-04           significant  -91932.690046\n6    sp_instrumentalness  3.752583e-03           significant  -54227.832848\n7            sp_liveness  6.465079e-06           significant  144098.109014\n8             sp_valence           NaN              not used       0.000000\n9               sp_tempo  8.062563e-01       not significant      46.966164\n10        sp_duration_ms  1.608171e-02  slightly significant       0.116982\n11  sp_artist_popularity  4.897216e-56           significant    4413.567414\n12   sp_artist_followers  0.000000e+00           significant       0.043075\n13               sp_mode  1.607627e-01       not significant  -16380.818250\n14   sp_time_signature_0           NaN              not used       0.000000\n15   sp_time_signature_1  8.498121e-01       not significant   36251.517682\n16   sp_time_signature_3  7.249555e-01       not significant   65187.480801\n17   sp_time_signature_4  6.778991e-01       not significant   76739.347031\n18   sp_time_signature_5  8.761546e-01       not significant   29351.692134\n19              sp_key_0  4.054228e-01       not significant   15094.693622\n20              sp_key_1  1.653488e-03           significant  -61711.199338\n21              sp_key_2           NaN              not used       0.000000\n22              sp_key_3           NaN              not used       0.000000\n23              sp_key_4           NaN              not used       0.000000\n24              sp_key_5  2.497208e-02  slightly significant  -47388.554131\n25              sp_key_6           NaN              not used       0.000000\n26              sp_key_7           NaN              not used       0.000000\n27              sp_key_8  6.420354e-02       not significant  -44360.719520\n28              sp_key_9  2.519904e-01       not significant   21840.227757\n29             sp_key_10  6.968229e-01       not significant   -9193.760198\n30             sp_key_11           NaN              not used       0.000000",
      "text/html": "<div>\n<style scoped>\n    .dataframe tbody tr th:only-of-type {\n        vertical-align: middle;\n    }\n\n    .dataframe tbody tr th {\n        vertical-align: top;\n    }\n\n    .dataframe thead th {\n        text-align: right;\n    }\n</style>\n<table border=\"1\" class=\"dataframe\">\n  <thead>\n    <tr style=\"text-align: right;\">\n      <th></th>\n      <th>feature</th>\n      <th>p-value</th>\n      <th>significance</th>\n      <th>coefficient</th>\n    </tr>\n  </thead>\n  <tbody>\n    <tr>\n      <th>0</th>\n      <td>const</td>\n      <td>3.198262e-01</td>\n      <td>not significant</td>\n      <td>-187557.931548</td>\n    </tr>\n    <tr>\n      <th>1</th>\n      <td>sp_danceability</td>\n      <td>1.163260e-03</td>\n      <td>significant</td>\n      <td>-112273.524190</td>\n    </tr>\n    <tr>\n      <th>2</th>\n      <td>sp_energy</td>\n      <td>1.339123e-01</td>\n      <td>not significant</td>\n      <td>65640.907101</td>\n    </tr>\n    <tr>\n      <th>3</th>\n      <td>sp_loudness</td>\n      <td>5.001775e-02</td>\n      <td>not significant</td>\n      <td>-3755.092950</td>\n    </tr>\n    <tr>\n      <th>4</th>\n      <td>sp_speechiness</td>\n      <td>3.500852e-12</td>\n      <td>significant</td>\n      <td>-392858.537131</td>\n    </tr>\n    <tr>\n      <th>5</th>\n      <td>sp_acousticness</td>\n      <td>4.336460e-04</td>\n      <td>significant</td>\n      <td>-91932.690046</td>\n    </tr>\n    <tr>\n      <th>6</th>\n      <td>sp_instrumentalness</td>\n      <td>3.752583e-03</td>\n      <td>significant</td>\n      <td>-54227.832848</td>\n    </tr>\n    <tr>\n      <th>7</th>\n      <td>sp_liveness</td>\n      <td>6.465079e-06</td>\n      <td>significant</td>\n      <td>144098.109014</td>\n    </tr>\n    <tr>\n      <th>8</th>\n      <td>sp_valence</td>\n      <td>NaN</td>\n      <td>not used</td>\n      <td>0.000000</td>\n    </tr>\n    <tr>\n      <th>9</th>\n      <td>sp_tempo</td>\n      <td>8.062563e-01</td>\n      <td>not significant</td>\n      <td>46.966164</td>\n    </tr>\n    <tr>\n      <th>10</th>\n      <td>sp_duration_ms</td>\n      <td>1.608171e-02</td>\n      <td>slightly significant</td>\n      <td>0.116982</td>\n    </tr>\n    <tr>\n      <th>11</th>\n      <td>sp_artist_popularity</td>\n      <td>4.897216e-56</td>\n      <td>significant</td>\n      <td>4413.567414</td>\n    </tr>\n    <tr>\n      <th>12</th>\n      <td>sp_artist_followers</td>\n      <td>0.000000e+00</td>\n      <td>significant</td>\n      <td>0.043075</td>\n    </tr>\n    <tr>\n      <th>13</th>\n      <td>sp_mode</td>\n      <td>1.607627e-01</td>\n      <td>not significant</td>\n      <td>-16380.818250</td>\n    </tr>\n    <tr>\n      <th>14</th>\n      <td>sp_time_signature_0</td>\n      <td>NaN</td>\n      <td>not used</td>\n      <td>0.000000</td>\n    </tr>\n    <tr>\n      <th>15</th>\n      <td>sp_time_signature_1</td>\n      <td>8.498121e-01</td>\n      <td>not significant</td>\n      <td>36251.517682</td>\n    </tr>\n    <tr>\n      <th>16</th>\n      <td>sp_time_signature_3</td>\n      <td>7.249555e-01</td>\n      <td>not significant</td>\n      <td>65187.480801</td>\n    </tr>\n    <tr>\n      <th>17</th>\n      <td>sp_time_signature_4</td>\n      <td>6.778991e-01</td>\n      <td>not significant</td>\n      <td>76739.347031</td>\n    </tr>\n    <tr>\n      <th>18</th>\n      <td>sp_time_signature_5</td>\n      <td>8.761546e-01</td>\n      <td>not significant</td>\n      <td>29351.692134</td>\n    </tr>\n    <tr>\n      <th>19</th>\n      <td>sp_key_0</td>\n      <td>4.054228e-01</td>\n      <td>not significant</td>\n      <td>15094.693622</td>\n    </tr>\n    <tr>\n      <th>20</th>\n      <td>sp_key_1</td>\n      <td>1.653488e-03</td>\n      <td>significant</td>\n      <td>-61711.199338</td>\n    </tr>\n    <tr>\n      <th>21</th>\n      <td>sp_key_2</td>\n      <td>NaN</td>\n      <td>not used</td>\n      <td>0.000000</td>\n    </tr>\n    <tr>\n      <th>22</th>\n      <td>sp_key_3</td>\n      <td>NaN</td>\n      <td>not used</td>\n      <td>0.000000</td>\n    </tr>\n    <tr>\n      <th>23</th>\n      <td>sp_key_4</td>\n      <td>NaN</td>\n      <td>not used</td>\n      <td>0.000000</td>\n    </tr>\n    <tr>\n      <th>24</th>\n      <td>sp_key_5</td>\n      <td>2.497208e-02</td>\n      <td>slightly significant</td>\n      <td>-47388.554131</td>\n    </tr>\n    <tr>\n      <th>25</th>\n      <td>sp_key_6</td>\n      <td>NaN</td>\n      <td>not used</td>\n      <td>0.000000</td>\n    </tr>\n    <tr>\n      <th>26</th>\n      <td>sp_key_7</td>\n      <td>NaN</td>\n      <td>not used</td>\n      <td>0.000000</td>\n    </tr>\n    <tr>\n      <th>27</th>\n      <td>sp_key_8</td>\n      <td>6.420354e-02</td>\n      <td>not significant</td>\n      <td>-44360.719520</td>\n    </tr>\n    <tr>\n      <th>28</th>\n      <td>sp_key_9</td>\n      <td>2.519904e-01</td>\n      <td>not significant</td>\n      <td>21840.227757</td>\n    </tr>\n    <tr>\n      <th>29</th>\n      <td>sp_key_10</td>\n      <td>6.968229e-01</td>\n      <td>not significant</td>\n      <td>-9193.760198</td>\n    </tr>\n    <tr>\n      <th>30</th>\n      <td>sp_key_11</td>\n      <td>NaN</td>\n      <td>not used</td>\n      <td>0.000000</td>\n    </tr>\n  </tbody>\n</table>\n</div>"
     },
     "metadata": {},
     "output_type": "display_data"
    }
   ],
   "source": [
    "display(lasso_p_values)"
   ],
   "metadata": {
    "collapsed": false,
    "pycharm": {
     "name": "#%%\n"
    }
   }
  },
  {
   "cell_type": "code",
   "execution_count": 49,
   "outputs": [
    {
     "data": {
      "text/plain": "<Figure size 792x576 with 1 Axes>",
      "image/png": "[encoded data removed]"
     },
     "metadata": {
      "needs_background": "light"
     },
     "output_type": "display_data"
    }
   ],
   "source": [
    "plt.figure(figsize=(11, 8))\n",
    "pal = sns.color_palette(\"mako\", 4)\n",
    "g = sns.barplot(data=lasso_p_values.sort_values('p-value'), x='p-value', y='feature', hue='significance', dodge=False, palette=pal)\n",
    "g.set_xscale(\"log\")\n",
    "plt.show()"
   ],
   "metadata": {
    "collapsed": false,
    "pycharm": {
     "name": "#%%\n"
    }
   }
  },
  {
   "cell_type": "markdown",
   "source": [
    "---\n",
    "# FIN"
   ],
   "metadata": {
    "collapsed": false,
    "pycharm": {
     "name": "#%% md\n"
    }
   }
  },
  {
   "cell_type": "code",
   "execution_count": 105,
   "outputs": [
    {
     "name": "stderr",
     "output_type": "stream",
     "text": [
      "/Users/andrewtaylor/opt/anaconda3/envs/isye6740-project/lib/python3.6/site-packages/ipykernel_launcher.py:1: RuntimeWarning: divide by zero encountered in log\n",
      "  \"\"\"Entry point for launching an IPython kernel.\n"
     ]
    }
   ],
   "source": [
    "y_trainval_log = np.log(y_trainval)\n",
    "y_trainval_log[y_trainval_log < 0] = 0"
   ],
   "metadata": {
    "collapsed": false,
    "pycharm": {
     "name": "#%%\n"
    }
   }
  },
  {
   "cell_type": "code",
   "execution_count": 108,
   "outputs": [
    {
     "name": "stderr",
     "output_type": "stream",
     "text": [
      "/Users/andrewtaylor/opt/anaconda3/envs/isye6740-project/lib/python3.6/site-packages/sklearn/model_selection/_validation.py:598: UserWarning: With alpha=0, this algorithm does not converge well. You are advised to use the LinearRegression estimator\n",
      "  estimator.fit(X_train, y_train, **fit_params)\n",
      "/Users/andrewtaylor/opt/anaconda3/envs/isye6740-project/lib/python3.6/site-packages/sklearn/linear_model/_coordinate_descent.py:532: UserWarning: Coordinate descent with no regularization may lead to unexpected results and is discouraged.\n",
      "  positive)\n",
      "/Users/andrewtaylor/opt/anaconda3/envs/isye6740-project/lib/python3.6/site-packages/sklearn/linear_model/_coordinate_descent.py:532: ConvergenceWarning: Objective did not converge. You might want to increase the number of iterations. Duality gap: 66079.39045657797, tolerance: 19.235843088768547\n",
      "  positive)\n",
      "/Users/andrewtaylor/opt/anaconda3/envs/isye6740-project/lib/python3.6/site-packages/sklearn/model_selection/_validation.py:598: UserWarning: With alpha=0, this algorithm does not converge well. You are advised to use the LinearRegression estimator\n",
      "  estimator.fit(X_train, y_train, **fit_params)\n",
      "/Users/andrewtaylor/opt/anaconda3/envs/isye6740-project/lib/python3.6/site-packages/sklearn/linear_model/_coordinate_descent.py:532: UserWarning: Coordinate descent with no regularization may lead to unexpected results and is discouraged.\n",
      "  positive)\n",
      "/Users/andrewtaylor/opt/anaconda3/envs/isye6740-project/lib/python3.6/site-packages/sklearn/linear_model/_coordinate_descent.py:532: ConvergenceWarning: Objective did not converge. You might want to increase the number of iterations. Duality gap: 65999.73616442381, tolerance: 19.06310400027495\n",
      "  positive)\n",
      "/Users/andrewtaylor/opt/anaconda3/envs/isye6740-project/lib/python3.6/site-packages/sklearn/model_selection/_validation.py:598: UserWarning: With alpha=0, this algorithm does not converge well. You are advised to use the LinearRegression estimator\n",
      "  estimator.fit(X_train, y_train, **fit_params)\n",
      "/Users/andrewtaylor/opt/anaconda3/envs/isye6740-project/lib/python3.6/site-packages/sklearn/linear_model/_coordinate_descent.py:532: UserWarning: Coordinate descent with no regularization may lead to unexpected results and is discouraged.\n",
      "  positive)\n",
      "/Users/andrewtaylor/opt/anaconda3/envs/isye6740-project/lib/python3.6/site-packages/sklearn/linear_model/_coordinate_descent.py:532: ConvergenceWarning: Objective did not converge. You might want to increase the number of iterations. Duality gap: 65779.09398957237, tolerance: 19.14986474074701\n",
      "  positive)\n",
      "/Users/andrewtaylor/opt/anaconda3/envs/isye6740-project/lib/python3.6/site-packages/sklearn/model_selection/_search.py:880: UserWarning: With alpha=0, this algorithm does not converge well. You are advised to use the LinearRegression estimator\n",
      "  self.best_estimator_.fit(X, y, **fit_params)\n",
      "/Users/andrewtaylor/opt/anaconda3/envs/isye6740-project/lib/python3.6/site-packages/sklearn/linear_model/_coordinate_descent.py:532: UserWarning: Coordinate descent with no regularization may lead to unexpected results and is discouraged.\n",
      "  positive)\n",
      "/Users/andrewtaylor/opt/anaconda3/envs/isye6740-project/lib/python3.6/site-packages/sklearn/linear_model/_coordinate_descent.py:532: ConvergenceWarning: Objective did not converge. You might want to increase the number of iterations. Duality gap: 98995.3954793674, tolerance: 28.7264817430245\n",
      "  positive)\n"
     ]
    }
   ],
   "source": [
    "# Configure parameter tuning CV procedure\n",
    "cv_inner = KFold(n_splits=3, shuffle=True, random_state=r)\n",
    "\n",
    "# Define the search space\n",
    "params = dict()\n",
    "params['alpha'] = np.linspace(0, 10, 50)\n",
    "\n",
    "# Create model object\n",
    "lasso_log_final = Lasso(random_state=r)\n",
    "\n",
    "# Create inner loop gridsearch object\n",
    "lasso_log_final_cv = GridSearchCV(lasso_log_final, params, scoring='r2', cv = cv_inner, refit=True)\n",
    "\n",
    "# Fit model object\n",
    "lasso_log_final_cv.fit(X_trainval, y_trainval_log)\n",
    "\n",
    "# Pull out best model\n",
    "lasso_log_final_model = lasso_log_final_cv.best_estimator_"
   ],
   "metadata": {
    "collapsed": false,
    "pycharm": {
     "name": "#%%\n"
    }
   }
  },
  {
   "cell_type": "code",
   "execution_count": 110,
   "outputs": [
    {
     "name": "stdout",
     "output_type": "stream",
     "text": [
      "                            OLS Regression Results                            \n",
      "==============================================================================\n",
      "Dep. Variable:                      y   R-squared:                       0.311\n",
      "Model:                            OLS   Adj. R-squared:                  0.310\n",
      "Method:                 Least Squares   F-statistic:                     313.0\n",
      "Date:                Thu, 28 Apr 2022   Prob (F-statistic):               0.00\n",
      "Time:                        10:44:25   Log-Likelihood:                -54479.\n",
      "No. Observations:               21552   AIC:                         1.090e+05\n",
      "Df Residuals:                   21521   BIC:                         1.093e+05\n",
      "Df Model:                          31                                         \n",
      "Covariance Type:            nonrobust                                         \n",
      "==============================================================================\n",
      "                 coef    std err          t      P>|t|      [0.025      0.975]\n",
      "------------------------------------------------------------------------------\n",
      "const          4.2600      0.194     21.971      0.000       3.880       4.640\n",
      "x1            -0.9413      0.145     -6.510      0.000      -1.225      -0.658\n",
      "x2             0.1351      0.169      0.797      0.425      -0.197       0.467\n",
      "x3             0.0872      0.007     12.150      0.000       0.073       0.101\n",
      "x4            -1.1474      0.211     -5.444      0.000      -1.561      -0.734\n",
      "x5            -0.9351      0.098     -9.554      0.000      -1.127      -0.743\n",
      "x6            -0.5189      0.070     -7.362      0.000      -0.657      -0.381\n",
      "x7            -0.3833      0.119     -3.225      0.001      -0.616      -0.150\n",
      "x8            -0.8567      0.102     -8.401      0.000      -1.057      -0.657\n",
      "x9            -0.0004      0.001     -0.534      0.593      -0.002       0.001\n",
      "x10         1.035e-07   1.82e-07      0.568      0.570   -2.53e-07     4.6e-07\n",
      "x11            0.0771      0.001     74.278      0.000       0.075       0.079\n",
      "x12         2.978e-08   3.03e-09      9.836      0.000    2.38e-08    3.57e-08\n",
      "x13           -0.0178      0.045     -0.399      0.690      -0.105       0.070\n",
      "x14           -1.0247      0.570     -1.799      0.072      -2.141       0.092\n",
      "x15            1.3859      0.205      6.751      0.000       0.984       1.788\n",
      "x16            1.4293      0.141     10.117      0.000       1.152       1.706\n",
      "x17            1.2889      0.135      9.556      0.000       1.025       1.553\n",
      "x18            1.1807      0.175      6.730      0.000       0.837       1.525\n",
      "x19            0.4286      0.062      6.959      0.000       0.308       0.549\n",
      "x20            0.3025      0.067      4.525      0.000       0.171       0.434\n",
      "x21            0.3650      0.064      5.679      0.000       0.239       0.491\n",
      "x22            0.1459      0.112      1.301      0.193      -0.074       0.366\n",
      "x23            0.5671      0.072      7.884      0.000       0.426       0.708\n",
      "x24            0.2255      0.071      3.154      0.002       0.085       0.366\n",
      "x25            0.4984      0.080      6.205      0.000       0.341       0.656\n",
      "x26            0.3989      0.063      6.313      0.000       0.275       0.523\n",
      "x27            0.2635      0.082      3.226      0.001       0.103       0.424\n",
      "x28            0.4003      0.065      6.198      0.000       0.274       0.527\n",
      "x29            0.2294      0.080      2.862      0.004       0.072       0.386\n",
      "x30            0.4348      0.073      5.974      0.000       0.292       0.578\n",
      "==============================================================================\n",
      "Omnibus:                     1371.714   Durbin-Watson:                   1.985\n",
      "Prob(Omnibus):                  0.000   Jarque-Bera (JB):             1647.197\n",
      "Skew:                          -0.657   Prob(JB):                         0.00\n",
      "Kurtosis:                       3.329   Cond. No.                     2.83e+15\n",
      "==============================================================================\n",
      "\n",
      "Notes:\n",
      "[1] Standard Errors assume that the covariance matrix of the errors is correctly specified.\n",
      "[2] The smallest eigenvalue is 1.69e-13. This might indicate that there are\n",
      "strong multicollinearity problems or that the design matrix is singular.\n"
     ]
    }
   ],
   "source": [
    "X_trainval_c = sm.add_constant(X_trainval)\n",
    "est = sm.OLS(y_trainval_log, X_trainval_c).fit_regularized(alpha=lasso_log_final_cv.best_params_['alpha'], L1_wt=1, refit=True)\n",
    "print(est.summary())"
   ],
   "metadata": {
    "collapsed": false,
    "pycharm": {
     "name": "#%%\n"
    }
   }
  },
  {
   "cell_type": "code",
   "execution_count": 75,
   "outputs": [],
   "source": [
    "# pred_val = est.fittedvalues.copy()\n",
    "# true_val = y_trainval.copy()\n",
    "# residual = true_val - pred_val\n",
    "#\n",
    "# fig, ax = plt.subplots(figsize=(6, 2.5))\n",
    "# _ = ax.scatter(residual, true_val)"
   ],
   "metadata": {
    "collapsed": false,
    "pycharm": {
     "name": "#%%\n"
    }
   }
  },
  {
   "cell_type": "code",
   "execution_count": 74,
   "outputs": [],
   "source": [
    "# fig, ax = plt.subplots(figsize=(6, 2.5))\n",
    "# _, (__, ___, rval) = sp.stats.probplot(residual, plot=ax, fit=True)\n",
    "# rval**2"
   ],
   "metadata": {
    "collapsed": false,
    "pycharm": {
     "name": "#%%\n"
    }
   }
  },
  {
   "cell_type": "markdown",
   "source": [
    "---\n",
    "### Re-train Lasso with log transformations of dependent and/or independent variables for feature insights"
   ],
   "metadata": {
    "collapsed": false,
    "pycharm": {
     "name": "#%% md\n"
    }
   }
  },
  {
   "cell_type": "code",
   "execution_count": 52,
   "outputs": [],
   "source": [
    "# poly = PolynomialFeatures(2)\n",
    "# X_trainval_poly2 = poly.fit_transform(X_trainval)\n",
    "# X_test_poly2 = poly.transform(X_test)"
   ],
   "metadata": {
    "collapsed": false,
    "pycharm": {
     "name": "#%%\n"
    }
   }
  },
  {
   "cell_type": "code",
   "execution_count": 53,
   "outputs": [],
   "source": [
    "# # Configure parameter tuning CV procedure\n",
    "# cv_inner = KFold(n_splits=3, shuffle=True, random_state=r)\n",
    "#\n",
    "# # Define the search space\n",
    "# params = dict()\n",
    "# params['alpha'] = np.linspace(0.01, 1000, 25)\n",
    "#\n",
    "# # Create model object\n",
    "# lasso_final_poly = Lasso(random_state=r, max_iter=10000)\n",
    "#\n",
    "# # Create inner loop gridsearch object\n",
    "# lasso_final_poly_cv = GridSearchCV(lasso_final_poly, params, scoring='r2', cv = cv_inner, refit=True)\n",
    "#\n",
    "# # Fit model object\n",
    "# lasso_final_poly_cv.fit(X_trainval_poly2, y_trainval)\n",
    "#\n",
    "# # Pull out best model\n",
    "# lasso_final_poly_model = lasso_final_poly_cv.best_estimator_"
   ],
   "metadata": {
    "collapsed": false,
    "pycharm": {
     "name": "#%%\n"
    }
   }
  },
  {
   "cell_type": "code",
   "execution_count": 54,
   "outputs": [],
   "source": [
    "# # Evaluate parameter changes\n",
    "# print(lasso_final_poly_cv.best_params_)"
   ],
   "metadata": {
    "collapsed": false,
    "pycharm": {
     "name": "#%%\n"
    }
   }
  },
  {
   "cell_type": "code",
   "execution_count": 55,
   "outputs": [],
   "source": [
    "# y_test_preds_l_poly = lasso_final_poly_model.predict(X_test_poly2)\n",
    "# print(\"R2: {}\".format(r2_score(y_test, y_test_preds_l_poly)))\n",
    "# print(\"MAE: {}\".format(mean_absolute_error(y_test, y_test_preds_l_poly)))\n",
    "# print(\"MSE: {}\".format(mean_squared_error(y_test, y_test_preds_l_poly)))"
   ],
   "metadata": {
    "collapsed": false,
    "pycharm": {
     "name": "#%%\n"
    }
   }
  },
  {
   "cell_type": "code",
   "execution_count": 56,
   "outputs": [],
   "source": [
    "# X_trainval_poly2_c = sm.add_constant(X_trainval_poly2)\n",
    "# est_poly = sm.OLS(y_trainval, X_trainval_poly2_c).fit_regularized(alpha=y_test_preds_l_poly.best_params_['alpha'], L1_wt=1, refit=True)\n",
    "# print(est_poly.summary())"
   ],
   "metadata": {
    "collapsed": false,
    "pycharm": {
     "name": "#%%\n"
    }
   }
  },
  {
   "cell_type": "code",
   "execution_count": 57,
   "outputs": [],
   "source": [
    "# pred_val_p = est_poly.fittedvalues.copy()\n",
    "# true_val = y_trainval.copy()\n",
    "# residual_p = true_val - pred_val_p\n",
    "#\n",
    "# fig, ax = plt.subplots(figsize=(6, 2.5))\n",
    "# _ = ax.scatter(residual_p, true_val)"
   ],
   "metadata": {
    "collapsed": false,
    "pycharm": {
     "name": "#%%\n"
    }
   }
  },
  {
   "cell_type": "code",
   "execution_count": 58,
   "outputs": [],
   "source": [
    "# fig, ax = plt.subplots(figsize=(6, 2.5))\n",
    "# _, (__, ___, rscore) = sp.stats.probplot(residual_p, plot=ax, fit=True)\n",
    "# rscore**2"
   ],
   "metadata": {
    "collapsed": false,
    "pycharm": {
     "name": "#%%\n"
    }
   }
  }
 ],
 "metadata": {
  "kernelspec": {
   "name": "isye6740-project",
   "language": "python",
   "display_name": "ISyE 6740 Project"
  },
  "language_info": {
   "codemirror_mode": {
    "name": "ipython",
    "version": 2
   },
   "file_extension": ".py",
   "mimetype": "text/x-python",
   "name": "python",
   "nbconvert_exporter": "python",
   "pygments_lexer": "ipython2",
   "version": "2.7.6"
  }
 },
 "nbformat": 4,
 "nbformat_minor": 0
}