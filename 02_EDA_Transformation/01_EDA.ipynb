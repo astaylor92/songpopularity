{
 "cells": [
  {
   "cell_type": "markdown",
   "source": [
    "# Music Popularity Analysis\n",
    "\n",
    "<hr style=\"border:2px solid black\"> </hr>\n",
    "\n",
    "## Exploratory Data Analysis\n",
    "## Notebook 01 - EDA\n",
    "\n",
    "---\n",
    "\n",
    "### Import libraries"
   ],
   "metadata": {
    "collapsed": false,
    "pycharm": {
     "name": "#%% md\n"
    }
   }
  },
  {
   "cell_type": "code",
   "execution_count": 1,
   "outputs": [],
   "source": [
    "import pandas as pd\n",
    "import numpy as np\n",
    "import seaborn as sns\n",
    "from matplotlib import pyplot as plt"
   ],
   "metadata": {
    "collapsed": false,
    "pycharm": {
     "name": "#%%\n"
    }
   }
  },
  {
   "cell_type": "code",
   "execution_count": 2,
   "outputs": [],
   "source": [
    "def num_uniques(ser):\n",
    "    try:\n",
    "        return len(ser.unique())\n",
    "    except:\n",
    "        return \"Not unique check-able\""
   ],
   "metadata": {
    "collapsed": false,
    "pycharm": {
     "name": "#%%\n"
    }
   }
  },
  {
   "cell_type": "code",
   "execution_count": 3,
   "outputs": [],
   "source": [
    "def summarize_df(df):\n",
    "    print(\"======DATA SUMMARY======\")\n",
    "    print(\"{} rows by {} columns\".format(df.shape[0], df.shape[1]))\n",
    "    print(\"\\n======COLUMNS======\")\n",
    "    print(df.dtypes)\n",
    "    print(\"\\n======PREVIEW======\")\n",
    "    display(df.head())\n",
    "    print(\"\\n======NUMERICAL COL SUMMARY======\")\n",
    "    print(df.describe())\n",
    "    print(\"\\n\")\n",
    "    for col in df.columns:\n",
    "        print(\"{}: {} unique values\".format(col, num_uniques(df[col])))"
   ],
   "metadata": {
    "collapsed": false,
    "pycharm": {
     "name": "#%%\n"
    }
   }
  },
  {
   "cell_type": "markdown",
   "source": [
    "---\n",
    "### Import Data"
   ],
   "metadata": {
    "collapsed": false,
    "pycharm": {
     "name": "#%% md\n"
    }
   }
  },
  {
   "cell_type": "code",
   "execution_count": 4,
   "outputs": [],
   "source": [
    "df = pd.read_parquet('../02_DataPrep/song_data.parquet')"
   ],
   "metadata": {
    "collapsed": false,
    "pycharm": {
     "name": "#%%\n"
    }
   }
  },
  {
   "cell_type": "code",
   "execution_count": 5,
   "outputs": [
    {
     "name": "stdout",
     "output_type": "stream",
     "text": [
      "======DATA SUMMARY======\n",
      "26940 rows by 24 columns\n",
      "\n",
      "======COLUMNS======\n",
      "isrc                     object\n",
      "sp_track_uri             object\n",
      "mb_release_gid           object\n",
      "mb_track_name            object\n",
      "matched                  object\n",
      "score                     int64\n",
      "play_count                int64\n",
      "sp_danceability         float64\n",
      "sp_energy               float64\n",
      "sp_key                    int64\n",
      "sp_loudness             float64\n",
      "sp_mode                   int64\n",
      "sp_speechiness          float64\n",
      "sp_acousticness         float64\n",
      "sp_instrumentalness     float64\n",
      "sp_liveness             float64\n",
      "sp_valence              float64\n",
      "sp_tempo                float64\n",
      "sp_duration_ms            int64\n",
      "sp_time_signature         int64\n",
      "sp_artist_uri            object\n",
      "sp_artist_popularity      int64\n",
      "sp_genres                object\n",
      "sp_artist_followers       int64\n",
      "dtype: object\n",
      "\n",
      "======PREVIEW======\n"
     ]
    },
    {
     "data": {
      "text/plain": "           isrc            sp_track_uri                        mb_release_gid  \\\n0  AEA0D1937329  19JIYDxouJVup6Vju4XbHl  10fd2bac-ab04-4eb8-8428-f2068923bdf7   \n1  AEA0D2084900  6DQKbMorKoc8I5dm72bZJi  4ac930af-fd16-4397-ba4c-f3727331d2c4   \n2  AEA0Q1967586  6k2GJRe3u6wHqaXL9XCt74  0df23deb-d8b5-4ef8-ae16-6865f6facc22   \n3  AEA0Q2041540  6xCie6yrUQh0McImPanmGq  88532401-a81e-4af7-bcfa-397ce6c4f6cc   \n4  RUA1H2153459  1hSu17dJJcu40C7JwXnzTm  5611c030-2d68-4c99-9633-af0c59e296e6   \n\n                   mb_track_name                        matched  score  \\\n0                   My Wasteland                   My Wasteland    100   \n1                  Hakuna Matata                  Hakuna Matata    100   \n2                         Farcry                         Farcry    100   \n3                 Self Isolation                 Self Isolation    100   \n4  Die With a Smile on Your Face  Die with a Smile on Your Face    100   \n\n   play_count  sp_danceability  sp_energy  sp_key  ...  sp_instrumentalness  \\\n0           5            0.533      0.804       4  ...              0.00069   \n1          45            0.362      0.326       0  ...              0.79400   \n2           2            0.760      0.557      10  ...              0.82200   \n3        1631            0.635      0.323       2  ...              0.53500   \n4        2875            0.664      0.440       1  ...              0.18100   \n\n   sp_liveness  sp_valence  sp_tempo  sp_duration_ms  sp_time_signature  \\\n0       0.1270       0.277   145.023          256073                  4   \n1       0.1040       0.191   179.880          164792                  4   \n2       0.0938       0.719   144.994          202893                  4   \n3       0.0974       0.209   179.996          156000                  4   \n4       0.0536       0.256    74.735          217600                  4   \n\n            sp_artist_uri  sp_artist_popularity         sp_genres  \\\n0  5TIid55c3FutqRL4fzbnSF                     0                []   \n1  29GcsJ0cD5bdbHpOicXLtF                    23  ['disney piano']   \n2  0hvlHMDFpZBDFPEVgcAX6s                     0                []   \n3  0XFgyr4jwM0MGeZZW0VzA5                    74                []   \n4  0XFgyr4jwM0MGeZZW0VzA5                    74                []   \n\n   sp_artist_followers  \n0                   52  \n1                   26  \n2                 2027  \n3               184864  \n4               184864  \n\n[5 rows x 24 columns]",
      "text/html": "<div>\n<style scoped>\n    .dataframe tbody tr th:only-of-type {\n        vertical-align: middle;\n    }\n\n    .dataframe tbody tr th {\n        vertical-align: top;\n    }\n\n    .dataframe thead th {\n        text-align: right;\n    }\n</style>\n<table border=\"1\" class=\"dataframe\">\n  <thead>\n    <tr style=\"text-align: right;\">\n      <th></th>\n      <th>isrc</th>\n      <th>sp_track_uri</th>\n      <th>mb_release_gid</th>\n      <th>mb_track_name</th>\n      <th>matched</th>\n      <th>score</th>\n      <th>play_count</th>\n      <th>sp_danceability</th>\n      <th>sp_energy</th>\n      <th>sp_key</th>\n      <th>...</th>\n      <th>sp_instrumentalness</th>\n      <th>sp_liveness</th>\n      <th>sp_valence</th>\n      <th>sp_tempo</th>\n      <th>sp_duration_ms</th>\n      <th>sp_time_signature</th>\n      <th>sp_artist_uri</th>\n      <th>sp_artist_popularity</th>\n      <th>sp_genres</th>\n      <th>sp_artist_followers</th>\n    </tr>\n  </thead>\n  <tbody>\n    <tr>\n      <th>0</th>\n      <td>AEA0D1937329</td>\n      <td>19JIYDxouJVup6Vju4XbHl</td>\n      <td>10fd2bac-ab04-4eb8-8428-f2068923bdf7</td>\n      <td>My Wasteland</td>\n      <td>My Wasteland</td>\n      <td>100</td>\n      <td>5</td>\n      <td>0.533</td>\n      <td>0.804</td>\n      <td>4</td>\n      <td>...</td>\n      <td>0.00069</td>\n      <td>0.1270</td>\n      <td>0.277</td>\n      <td>145.023</td>\n      <td>256073</td>\n      <td>4</td>\n      <td>5TIid55c3FutqRL4fzbnSF</td>\n      <td>0</td>\n      <td>[]</td>\n      <td>52</td>\n    </tr>\n    <tr>\n      <th>1</th>\n      <td>AEA0D2084900</td>\n      <td>6DQKbMorKoc8I5dm72bZJi</td>\n      <td>4ac930af-fd16-4397-ba4c-f3727331d2c4</td>\n      <td>Hakuna Matata</td>\n      <td>Hakuna Matata</td>\n      <td>100</td>\n      <td>45</td>\n      <td>0.362</td>\n      <td>0.326</td>\n      <td>0</td>\n      <td>...</td>\n      <td>0.79400</td>\n      <td>0.1040</td>\n      <td>0.191</td>\n      <td>179.880</td>\n      <td>164792</td>\n      <td>4</td>\n      <td>29GcsJ0cD5bdbHpOicXLtF</td>\n      <td>23</td>\n      <td>['disney piano']</td>\n      <td>26</td>\n    </tr>\n    <tr>\n      <th>2</th>\n      <td>AEA0Q1967586</td>\n      <td>6k2GJRe3u6wHqaXL9XCt74</td>\n      <td>0df23deb-d8b5-4ef8-ae16-6865f6facc22</td>\n      <td>Farcry</td>\n      <td>Farcry</td>\n      <td>100</td>\n      <td>2</td>\n      <td>0.760</td>\n      <td>0.557</td>\n      <td>10</td>\n      <td>...</td>\n      <td>0.82200</td>\n      <td>0.0938</td>\n      <td>0.719</td>\n      <td>144.994</td>\n      <td>202893</td>\n      <td>4</td>\n      <td>0hvlHMDFpZBDFPEVgcAX6s</td>\n      <td>0</td>\n      <td>[]</td>\n      <td>2027</td>\n    </tr>\n    <tr>\n      <th>3</th>\n      <td>AEA0Q2041540</td>\n      <td>6xCie6yrUQh0McImPanmGq</td>\n      <td>88532401-a81e-4af7-bcfa-397ce6c4f6cc</td>\n      <td>Self Isolation</td>\n      <td>Self Isolation</td>\n      <td>100</td>\n      <td>1631</td>\n      <td>0.635</td>\n      <td>0.323</td>\n      <td>2</td>\n      <td>...</td>\n      <td>0.53500</td>\n      <td>0.0974</td>\n      <td>0.209</td>\n      <td>179.996</td>\n      <td>156000</td>\n      <td>4</td>\n      <td>0XFgyr4jwM0MGeZZW0VzA5</td>\n      <td>74</td>\n      <td>[]</td>\n      <td>184864</td>\n    </tr>\n    <tr>\n      <th>4</th>\n      <td>RUA1H2153459</td>\n      <td>1hSu17dJJcu40C7JwXnzTm</td>\n      <td>5611c030-2d68-4c99-9633-af0c59e296e6</td>\n      <td>Die With a Smile on Your Face</td>\n      <td>Die with a Smile on Your Face</td>\n      <td>100</td>\n      <td>2875</td>\n      <td>0.664</td>\n      <td>0.440</td>\n      <td>1</td>\n      <td>...</td>\n      <td>0.18100</td>\n      <td>0.0536</td>\n      <td>0.256</td>\n      <td>74.735</td>\n      <td>217600</td>\n      <td>4</td>\n      <td>0XFgyr4jwM0MGeZZW0VzA5</td>\n      <td>74</td>\n      <td>[]</td>\n      <td>184864</td>\n    </tr>\n  </tbody>\n</table>\n<p>5 rows × 24 columns</p>\n</div>"
     },
     "metadata": {},
     "output_type": "display_data"
    },
    {
     "name": "stdout",
     "output_type": "stream",
     "text": [
      "\n",
      "======NUMERICAL COL SUMMARY======\n",
      "              score    play_count  sp_danceability     sp_energy  \\\n",
      "count  26940.000000  2.694000e+04     26940.000000  26940.000000   \n",
      "mean      98.614031  1.969753e+05         0.529161      0.614964   \n",
      "std        3.651687  9.166851e+05         0.185528      0.263511   \n",
      "min       80.000000  0.000000e+00         0.000000      0.000000   \n",
      "25%      100.000000  1.840000e+02         0.403000      0.431000   \n",
      "50%      100.000000  2.852500e+03         0.540000      0.655000   \n",
      "75%      100.000000  3.638050e+04         0.666000      0.838000   \n",
      "max      100.000000  2.399470e+07         0.977000      1.000000   \n",
      "\n",
      "             sp_key   sp_loudness       sp_mode  sp_speechiness  \\\n",
      "count  26940.000000  26940.000000  26940.000000    26940.000000   \n",
      "mean       5.215071     -9.120079      0.623125        0.087248   \n",
      "std        3.584864      5.439261      0.484612        0.103623   \n",
      "min        0.000000    -60.000000      0.000000        0.000000   \n",
      "25%        2.000000    -11.055250      0.000000        0.035800   \n",
      "50%        5.000000     -7.679000      1.000000        0.048000   \n",
      "75%        8.000000     -5.578000      1.000000        0.085500   \n",
      "max       11.000000      4.106000      1.000000        0.965000   \n",
      "\n",
      "       sp_acousticness  sp_instrumentalness   sp_liveness    sp_valence  \\\n",
      "count     26940.000000         26940.000000  26940.000000  26940.000000   \n",
      "mean          0.298166             0.239801      0.207013      0.419168   \n",
      "std           0.337638             0.358885      0.184652      0.255309   \n",
      "min           0.000000             0.000000      0.000000      0.000000   \n",
      "25%           0.011200             0.000002      0.097900      0.205000   \n",
      "50%           0.133000             0.001750      0.128000      0.394000   \n",
      "75%           0.558000             0.536000      0.259000      0.613000   \n",
      "max           0.996000             0.996000      0.997000      0.997000   \n",
      "\n",
      "           sp_tempo  sp_duration_ms  sp_time_signature  sp_artist_popularity  \\\n",
      "count  26940.000000    2.694000e+04       26940.000000          26940.000000   \n",
      "mean     121.626732    2.328819e+05           3.887565             51.560913   \n",
      "std       30.314184    1.147931e+05           0.468481             23.071049   \n",
      "min        0.000000    4.132000e+03           0.000000              0.000000   \n",
      "25%       98.144750    1.768420e+05           4.000000             36.000000   \n",
      "50%      120.431500    2.185730e+05           4.000000             55.000000   \n",
      "75%      140.061000    2.689408e+05           4.000000             68.000000   \n",
      "max      242.362000    3.709365e+06           5.000000            100.000000   \n",
      "\n",
      "       sp_artist_followers  \n",
      "count         2.694000e+04  \n",
      "mean          2.241212e+06  \n",
      "std           7.584486e+06  \n",
      "min           0.000000e+00  \n",
      "25%           1.227475e+04  \n",
      "50%           1.336200e+05  \n",
      "75%           1.005132e+06  \n",
      "max           9.584077e+07  \n",
      "\n",
      "\n",
      "isrc: 26940 unique values\n",
      "sp_track_uri: 26940 unique values\n",
      "mb_release_gid: 12030 unique values\n",
      "mb_track_name: 24766 unique values\n",
      "matched: 24312 unique values\n",
      "score: 21 unique values\n",
      "play_count: 14411 unique values\n",
      "sp_danceability: 1033 unique values\n",
      "sp_energy: 1636 unique values\n",
      "sp_key: 12 unique values\n",
      "sp_loudness: 13097 unique values\n",
      "sp_mode: 2 unique values\n",
      "sp_speechiness: 1352 unique values\n",
      "sp_acousticness: 4285 unique values\n",
      "sp_instrumentalness: 4665 unique values\n",
      "sp_liveness: 1600 unique values\n",
      "sp_valence: 1616 unique values\n",
      "sp_tempo: 19942 unique values\n",
      "sp_duration_ms: 21687 unique values\n",
      "sp_time_signature: 5 unique values\n",
      "sp_artist_uri: 9382 unique values\n",
      "sp_artist_popularity: 100 unique values\n",
      "sp_genres: 5791 unique values\n",
      "sp_artist_followers: 8127 unique values\n"
     ]
    }
   ],
   "source": [
    "summarize_df(df)"
   ],
   "metadata": {
    "collapsed": false,
    "pycharm": {
     "name": "#%%\n"
    }
   }
  },
  {
   "cell_type": "code",
   "execution_count": 6,
   "outputs": [],
   "source": [
    "num_vars = ['sp_danceability', 'sp_energy', 'sp_loudness', 'sp_speechiness', 'sp_acousticness', 'sp_instrumentalness', 'sp_liveness', 'sp_valence', 'sp_tempo', 'sp_duration_ms', 'sp_artist_popularity', 'sp_artist_followers', 'play_count']\n",
    "\n",
    "cat_vars = ['sp_key', 'sp_mode', 'sp_time_signature']"
   ],
   "metadata": {
    "collapsed": false,
    "pycharm": {
     "name": "#%%\n"
    }
   }
  },
  {
   "cell_type": "markdown",
   "source": [
    "---\n",
    "### Univariate summaries"
   ],
   "metadata": {
    "collapsed": false,
    "pycharm": {
     "name": "#%% md\n"
    }
   }
  },
  {
   "cell_type": "code",
   "execution_count": 7,
   "outputs": [],
   "source": [
    "def numeric_summ(s):\n",
    "    print('\\n\\n{}'.format(s.name))\n",
    "    print(\"======SUMMARY======\")\n",
    "    print(s.describe())\n",
    "    print(\"\\n======DENSITY PLOT======\")\n",
    "    if s.name=='play_count' or s.name=='sp_artist_followers' or s.name=='sp_duration_ms':\n",
    "        sns.displot(data=s[s>0], kde=True, log_scale=True)\n",
    "        plt.title('{} density plot log'.format(s.name))\n",
    "        plt.show()\n",
    "    sns.displot(data=s, kde=True)\n",
    "    plt.title('{} density plot'.format(s.name))\n",
    "    plt.show()\n",
    "    print(\"\\n======BOX & WHISKER======\")\n",
    "    sns.boxplot(s)\n",
    "    plt.title('{} boxplot'.format(s.name))\n",
    "    plt.show()"
   ],
   "metadata": {
    "collapsed": false,
    "pycharm": {
     "name": "#%%\n"
    }
   }
  },
  {
   "cell_type": "code",
   "execution_count": 8,
   "outputs": [],
   "source": [
    "def categorical_summ(s):\n",
    "    print('\\n\\n{}'.format(s.name))\n",
    "    print(\"======SUMMARY======\")\n",
    "    print(s.describe())\n",
    "    print(\"\\n======DENSITY PLOT======\")\n",
    "    sns.countplot(x=s)\n",
    "    plt.title('{} count plot'.format(s.name))\n",
    "    plt.show()"
   ],
   "metadata": {
    "collapsed": false,
    "pycharm": {
     "name": "#%%\n"
    }
   }
  },
  {
   "cell_type": "code",
   "execution_count": 9,
   "outputs": [
    {
     "name": "stdout",
     "output_type": "stream",
     "text": [
      "\n",
      "\n",
      "play_count\n",
      "======SUMMARY======\n",
      "count    2.694000e+04\n",
      "mean     1.969753e+05\n",
      "std      9.166851e+05\n",
      "min      0.000000e+00\n",
      "25%      1.840000e+02\n",
      "50%      2.852500e+03\n",
      "75%      3.638050e+04\n",
      "max      2.399470e+07\n",
      "Name: play_count, dtype: float64\n",
      "\n",
      "======DENSITY PLOT======\n"
     ]
    },
    {
     "ename": "KeyboardInterrupt",
     "evalue": "",
     "output_type": "error",
     "traceback": [
      "\u001B[0;31m---------------------------------------------------------------------------\u001B[0m",
      "\u001B[0;31mKeyboardInterrupt\u001B[0m                         Traceback (most recent call last)",
      "\u001B[0;32m<ipython-input-9-0acca3a744a5>\u001B[0m in \u001B[0;36m<module>\u001B[0;34m\u001B[0m\n\u001B[1;32m      3\u001B[0m         \u001B[0mcategorical_summ\u001B[0m\u001B[0;34m(\u001B[0m\u001B[0mdf\u001B[0m\u001B[0;34m[\u001B[0m\u001B[0ms\u001B[0m\u001B[0;34m]\u001B[0m\u001B[0;34m)\u001B[0m\u001B[0;34m\u001B[0m\u001B[0;34m\u001B[0m\u001B[0m\n\u001B[1;32m      4\u001B[0m     \u001B[0;32melif\u001B[0m \u001B[0ms\u001B[0m \u001B[0;32min\u001B[0m \u001B[0mnum_vars\u001B[0m\u001B[0;34m:\u001B[0m\u001B[0;34m\u001B[0m\u001B[0;34m\u001B[0m\u001B[0m\n\u001B[0;32m----> 5\u001B[0;31m         \u001B[0mnumeric_summ\u001B[0m\u001B[0;34m(\u001B[0m\u001B[0mdf\u001B[0m\u001B[0;34m[\u001B[0m\u001B[0ms\u001B[0m\u001B[0;34m]\u001B[0m\u001B[0;34m)\u001B[0m\u001B[0;34m\u001B[0m\u001B[0;34m\u001B[0m\u001B[0m\n\u001B[0m",
      "\u001B[0;32m<ipython-input-7-98736cd63e5c>\u001B[0m in \u001B[0;36mnumeric_summ\u001B[0;34m(s)\u001B[0m\n\u001B[1;32m      5\u001B[0m     \u001B[0mprint\u001B[0m\u001B[0;34m(\u001B[0m\u001B[0;34m\"\\n======DENSITY PLOT======\"\u001B[0m\u001B[0;34m)\u001B[0m\u001B[0;34m\u001B[0m\u001B[0;34m\u001B[0m\u001B[0m\n\u001B[1;32m      6\u001B[0m     \u001B[0;32mif\u001B[0m \u001B[0ms\u001B[0m\u001B[0;34m.\u001B[0m\u001B[0mname\u001B[0m\u001B[0;34m==\u001B[0m\u001B[0;34m'play_count'\u001B[0m \u001B[0;32mor\u001B[0m \u001B[0ms\u001B[0m\u001B[0;34m.\u001B[0m\u001B[0mname\u001B[0m\u001B[0;34m==\u001B[0m\u001B[0;34m'sp_artist_followers'\u001B[0m \u001B[0;32mor\u001B[0m \u001B[0ms\u001B[0m\u001B[0;34m.\u001B[0m\u001B[0mname\u001B[0m\u001B[0;34m==\u001B[0m\u001B[0;34m'sp_duration_ms'\u001B[0m\u001B[0;34m:\u001B[0m\u001B[0;34m\u001B[0m\u001B[0;34m\u001B[0m\u001B[0m\n\u001B[0;32m----> 7\u001B[0;31m         \u001B[0msns\u001B[0m\u001B[0;34m.\u001B[0m\u001B[0mdisplot\u001B[0m\u001B[0;34m(\u001B[0m\u001B[0mdata\u001B[0m\u001B[0;34m=\u001B[0m\u001B[0ms\u001B[0m\u001B[0;34m[\u001B[0m\u001B[0ms\u001B[0m\u001B[0;34m>\u001B[0m\u001B[0;36m0\u001B[0m\u001B[0;34m]\u001B[0m\u001B[0;34m,\u001B[0m \u001B[0mkde\u001B[0m\u001B[0;34m=\u001B[0m\u001B[0;32mTrue\u001B[0m\u001B[0;34m,\u001B[0m \u001B[0mlog_scale\u001B[0m\u001B[0;34m=\u001B[0m\u001B[0;32mTrue\u001B[0m\u001B[0;34m)\u001B[0m\u001B[0;34m\u001B[0m\u001B[0;34m\u001B[0m\u001B[0m\n\u001B[0m\u001B[1;32m      8\u001B[0m         \u001B[0mplt\u001B[0m\u001B[0;34m.\u001B[0m\u001B[0mtitle\u001B[0m\u001B[0;34m(\u001B[0m\u001B[0;34m'{} density plot log'\u001B[0m\u001B[0;34m.\u001B[0m\u001B[0mformat\u001B[0m\u001B[0;34m(\u001B[0m\u001B[0ms\u001B[0m\u001B[0;34m.\u001B[0m\u001B[0mname\u001B[0m\u001B[0;34m)\u001B[0m\u001B[0;34m)\u001B[0m\u001B[0;34m\u001B[0m\u001B[0;34m\u001B[0m\u001B[0m\n\u001B[1;32m      9\u001B[0m         \u001B[0mplt\u001B[0m\u001B[0;34m.\u001B[0m\u001B[0mshow\u001B[0m\u001B[0;34m(\u001B[0m\u001B[0;34m)\u001B[0m\u001B[0;34m\u001B[0m\u001B[0;34m\u001B[0m\u001B[0m\n",
      "\u001B[0;32m~/opt/anaconda3/envs/cse6242-project/lib/python3.6/site-packages/seaborn/distributions.py\u001B[0m in \u001B[0;36mdisplot\u001B[0;34m(data, x, y, hue, row, col, weights, kind, rug, rug_kws, log_scale, legend, palette, hue_order, hue_norm, color, col_wrap, row_order, col_order, height, aspect, facet_kws, **kwargs)\u001B[0m\n\u001B[1;32m   2345\u001B[0m     )\n\u001B[1;32m   2346\u001B[0m     \u001B[0mg\u001B[0m\u001B[0;34m.\u001B[0m\u001B[0mset_titles\u001B[0m\u001B[0;34m(\u001B[0m\u001B[0;34m)\u001B[0m\u001B[0;34m\u001B[0m\u001B[0;34m\u001B[0m\u001B[0m\n\u001B[0;32m-> 2347\u001B[0;31m     \u001B[0mg\u001B[0m\u001B[0;34m.\u001B[0m\u001B[0mtight_layout\u001B[0m\u001B[0;34m(\u001B[0m\u001B[0;34m)\u001B[0m\u001B[0;34m\u001B[0m\u001B[0;34m\u001B[0m\u001B[0m\n\u001B[0m\u001B[1;32m   2348\u001B[0m \u001B[0;34m\u001B[0m\u001B[0m\n\u001B[1;32m   2349\u001B[0m     \u001B[0;32mif\u001B[0m \u001B[0mdata\u001B[0m \u001B[0;32mis\u001B[0m \u001B[0;32mnot\u001B[0m \u001B[0;32mNone\u001B[0m \u001B[0;32mand\u001B[0m \u001B[0;34m(\u001B[0m\u001B[0mx\u001B[0m \u001B[0;32mis\u001B[0m \u001B[0;32mnot\u001B[0m \u001B[0;32mNone\u001B[0m \u001B[0;32mor\u001B[0m \u001B[0my\u001B[0m \u001B[0;32mis\u001B[0m \u001B[0;32mnot\u001B[0m \u001B[0;32mNone\u001B[0m\u001B[0;34m)\u001B[0m\u001B[0;34m:\u001B[0m\u001B[0;34m\u001B[0m\u001B[0;34m\u001B[0m\u001B[0m\n",
      "\u001B[0;32m~/opt/anaconda3/envs/cse6242-project/lib/python3.6/site-packages/seaborn/axisgrid.py\u001B[0m in \u001B[0;36mtight_layout\u001B[0;34m(self, *args, **kwargs)\u001B[0m\n\u001B[1;32m     86\u001B[0m         \u001B[0;32mif\u001B[0m \u001B[0mself\u001B[0m\u001B[0;34m.\u001B[0m\u001B[0m_tight_layout_pad\u001B[0m \u001B[0;32mis\u001B[0m \u001B[0;32mnot\u001B[0m \u001B[0;32mNone\u001B[0m\u001B[0;34m:\u001B[0m\u001B[0;34m\u001B[0m\u001B[0;34m\u001B[0m\u001B[0m\n\u001B[1;32m     87\u001B[0m             \u001B[0mkwargs\u001B[0m\u001B[0;34m.\u001B[0m\u001B[0msetdefault\u001B[0m\u001B[0;34m(\u001B[0m\u001B[0;34m\"pad\"\u001B[0m\u001B[0;34m,\u001B[0m \u001B[0mself\u001B[0m\u001B[0;34m.\u001B[0m\u001B[0m_tight_layout_pad\u001B[0m\u001B[0;34m)\u001B[0m\u001B[0;34m\u001B[0m\u001B[0;34m\u001B[0m\u001B[0m\n\u001B[0;32m---> 88\u001B[0;31m         \u001B[0mself\u001B[0m\u001B[0;34m.\u001B[0m\u001B[0m_figure\u001B[0m\u001B[0;34m.\u001B[0m\u001B[0mtight_layout\u001B[0m\u001B[0;34m(\u001B[0m\u001B[0;34m*\u001B[0m\u001B[0margs\u001B[0m\u001B[0;34m,\u001B[0m \u001B[0;34m**\u001B[0m\u001B[0mkwargs\u001B[0m\u001B[0;34m)\u001B[0m\u001B[0;34m\u001B[0m\u001B[0;34m\u001B[0m\u001B[0m\n\u001B[0m\u001B[1;32m     89\u001B[0m \u001B[0;34m\u001B[0m\u001B[0m\n\u001B[1;32m     90\u001B[0m     def add_legend(self, legend_data=None, title=None, label_order=None,\n",
      "\u001B[0;32m~/opt/anaconda3/envs/cse6242-project/lib/python3.6/site-packages/matplotlib/cbook/deprecation.py\u001B[0m in \u001B[0;36mwrapper\u001B[0;34m(*inner_args, **inner_kwargs)\u001B[0m\n\u001B[1;32m    409\u001B[0m                          \u001B[0;32melse\u001B[0m \u001B[0mdeprecation_addendum\u001B[0m\u001B[0;34m,\u001B[0m\u001B[0;34m\u001B[0m\u001B[0;34m\u001B[0m\u001B[0m\n\u001B[1;32m    410\u001B[0m                 **kwargs)\n\u001B[0;32m--> 411\u001B[0;31m         \u001B[0;32mreturn\u001B[0m \u001B[0mfunc\u001B[0m\u001B[0;34m(\u001B[0m\u001B[0;34m*\u001B[0m\u001B[0minner_args\u001B[0m\u001B[0;34m,\u001B[0m \u001B[0;34m**\u001B[0m\u001B[0minner_kwargs\u001B[0m\u001B[0;34m)\u001B[0m\u001B[0;34m\u001B[0m\u001B[0;34m\u001B[0m\u001B[0m\n\u001B[0m\u001B[1;32m    412\u001B[0m \u001B[0;34m\u001B[0m\u001B[0m\n\u001B[1;32m    413\u001B[0m     \u001B[0;32mreturn\u001B[0m \u001B[0mwrapper\u001B[0m\u001B[0;34m\u001B[0m\u001B[0;34m\u001B[0m\u001B[0m\n",
      "\u001B[0;32m~/opt/anaconda3/envs/cse6242-project/lib/python3.6/site-packages/matplotlib/figure.py\u001B[0m in \u001B[0;36mtight_layout\u001B[0;34m(self, renderer, pad, h_pad, w_pad, rect)\u001B[0m\n\u001B[1;32m   2613\u001B[0m             kwargs = get_tight_layout_figure(\n\u001B[1;32m   2614\u001B[0m                 \u001B[0mself\u001B[0m\u001B[0;34m,\u001B[0m \u001B[0mself\u001B[0m\u001B[0;34m.\u001B[0m\u001B[0maxes\u001B[0m\u001B[0;34m,\u001B[0m \u001B[0msubplotspec_list\u001B[0m\u001B[0;34m,\u001B[0m \u001B[0mrenderer\u001B[0m\u001B[0;34m,\u001B[0m\u001B[0;34m\u001B[0m\u001B[0;34m\u001B[0m\u001B[0m\n\u001B[0;32m-> 2615\u001B[0;31m                 pad=pad, h_pad=h_pad, w_pad=w_pad, rect=rect)\n\u001B[0m\u001B[1;32m   2616\u001B[0m         \u001B[0;32mif\u001B[0m \u001B[0mkwargs\u001B[0m\u001B[0;34m:\u001B[0m\u001B[0;34m\u001B[0m\u001B[0;34m\u001B[0m\u001B[0m\n\u001B[1;32m   2617\u001B[0m             \u001B[0mself\u001B[0m\u001B[0;34m.\u001B[0m\u001B[0msubplots_adjust\u001B[0m\u001B[0;34m(\u001B[0m\u001B[0;34m**\u001B[0m\u001B[0mkwargs\u001B[0m\u001B[0;34m)\u001B[0m\u001B[0;34m\u001B[0m\u001B[0;34m\u001B[0m\u001B[0m\n",
      "\u001B[0;32m~/opt/anaconda3/envs/cse6242-project/lib/python3.6/site-packages/matplotlib/tight_layout.py\u001B[0m in \u001B[0;36mget_tight_layout_figure\u001B[0;34m(fig, axes_list, subplotspec_list, renderer, pad, h_pad, w_pad, rect)\u001B[0m\n\u001B[1;32m    306\u001B[0m                                      \u001B[0msubplot_list\u001B[0m\u001B[0;34m=\u001B[0m\u001B[0msubplot_list\u001B[0m\u001B[0;34m,\u001B[0m\u001B[0;34m\u001B[0m\u001B[0;34m\u001B[0m\u001B[0m\n\u001B[1;32m    307\u001B[0m                                      \u001B[0max_bbox_list\u001B[0m\u001B[0;34m=\u001B[0m\u001B[0max_bbox_list\u001B[0m\u001B[0;34m,\u001B[0m\u001B[0;34m\u001B[0m\u001B[0;34m\u001B[0m\u001B[0m\n\u001B[0;32m--> 308\u001B[0;31m                                      pad=pad, h_pad=h_pad, w_pad=w_pad)\n\u001B[0m\u001B[1;32m    309\u001B[0m \u001B[0;34m\u001B[0m\u001B[0m\n\u001B[1;32m    310\u001B[0m     \u001B[0;31m# kwargs can be none if tight_layout fails...\u001B[0m\u001B[0;34m\u001B[0m\u001B[0;34m\u001B[0m\u001B[0;34m\u001B[0m\u001B[0m\n",
      "\u001B[0;32m~/opt/anaconda3/envs/cse6242-project/lib/python3.6/site-packages/matplotlib/tight_layout.py\u001B[0m in \u001B[0;36mauto_adjust_subplotpars\u001B[0;34m(fig, renderer, nrows_ncols, num1num2_list, subplot_list, ax_bbox_list, pad, h_pad, w_pad, rect)\u001B[0m\n\u001B[1;32m     82\u001B[0m             \u001B[0;32mif\u001B[0m \u001B[0max\u001B[0m\u001B[0;34m.\u001B[0m\u001B[0mget_visible\u001B[0m\u001B[0;34m(\u001B[0m\u001B[0;34m)\u001B[0m\u001B[0;34m:\u001B[0m\u001B[0;34m\u001B[0m\u001B[0;34m\u001B[0m\u001B[0m\n\u001B[1;32m     83\u001B[0m                 \u001B[0;32mtry\u001B[0m\u001B[0;34m:\u001B[0m\u001B[0;34m\u001B[0m\u001B[0;34m\u001B[0m\u001B[0m\n\u001B[0;32m---> 84\u001B[0;31m                     \u001B[0mbb\u001B[0m \u001B[0;34m+=\u001B[0m \u001B[0;34m[\u001B[0m\u001B[0max\u001B[0m\u001B[0;34m.\u001B[0m\u001B[0mget_tightbbox\u001B[0m\u001B[0;34m(\u001B[0m\u001B[0mrenderer\u001B[0m\u001B[0;34m,\u001B[0m \u001B[0mfor_layout_only\u001B[0m\u001B[0;34m=\u001B[0m\u001B[0;32mTrue\u001B[0m\u001B[0;34m)\u001B[0m\u001B[0;34m]\u001B[0m\u001B[0;34m\u001B[0m\u001B[0;34m\u001B[0m\u001B[0m\n\u001B[0m\u001B[1;32m     85\u001B[0m                 \u001B[0;32mexcept\u001B[0m \u001B[0mTypeError\u001B[0m\u001B[0;34m:\u001B[0m\u001B[0;34m\u001B[0m\u001B[0;34m\u001B[0m\u001B[0m\n\u001B[1;32m     86\u001B[0m                     \u001B[0mbb\u001B[0m \u001B[0;34m+=\u001B[0m \u001B[0;34m[\u001B[0m\u001B[0max\u001B[0m\u001B[0;34m.\u001B[0m\u001B[0mget_tightbbox\u001B[0m\u001B[0;34m(\u001B[0m\u001B[0mrenderer\u001B[0m\u001B[0;34m)\u001B[0m\u001B[0;34m]\u001B[0m\u001B[0;34m\u001B[0m\u001B[0;34m\u001B[0m\u001B[0m\n",
      "\u001B[0;32m~/opt/anaconda3/envs/cse6242-project/lib/python3.6/site-packages/matplotlib/axes/_base.py\u001B[0m in \u001B[0;36mget_tightbbox\u001B[0;34m(self, renderer, call_axes_locator, bbox_extra_artists, for_layout_only)\u001B[0m\n\u001B[1;32m   4152\u001B[0m                 \u001B[0;32mtry\u001B[0m\u001B[0;34m:\u001B[0m\u001B[0;34m\u001B[0m\u001B[0;34m\u001B[0m\u001B[0m\n\u001B[1;32m   4153\u001B[0m                     bb_xaxis = self.xaxis.get_tightbbox(\n\u001B[0;32m-> 4154\u001B[0;31m                         renderer, for_layout_only=for_layout_only)\n\u001B[0m\u001B[1;32m   4155\u001B[0m                 \u001B[0;32mexcept\u001B[0m \u001B[0mTypeError\u001B[0m\u001B[0;34m:\u001B[0m\u001B[0;34m\u001B[0m\u001B[0;34m\u001B[0m\u001B[0m\n\u001B[1;32m   4156\u001B[0m                     \u001B[0;31m# in case downstream library has redefined axis:\u001B[0m\u001B[0;34m\u001B[0m\u001B[0;34m\u001B[0m\u001B[0;34m\u001B[0m\u001B[0m\n",
      "\u001B[0;32m~/opt/anaconda3/envs/cse6242-project/lib/python3.6/site-packages/matplotlib/axis.py\u001B[0m in \u001B[0;36mget_tightbbox\u001B[0;34m(self, renderer, for_layout_only)\u001B[0m\n\u001B[1;32m   1113\u001B[0m         \u001B[0;31m# go back to just this axis's tick labels\u001B[0m\u001B[0;34m\u001B[0m\u001B[0;34m\u001B[0m\u001B[0;34m\u001B[0m\u001B[0m\n\u001B[1;32m   1114\u001B[0m         ticklabelBoxes, ticklabelBoxes2 = self._get_tick_bboxes(\n\u001B[0;32m-> 1115\u001B[0;31m                     ticks_to_draw, renderer)\n\u001B[0m\u001B[1;32m   1116\u001B[0m \u001B[0;34m\u001B[0m\u001B[0m\n\u001B[1;32m   1117\u001B[0m         \u001B[0mself\u001B[0m\u001B[0;34m.\u001B[0m\u001B[0m_update_offset_text_position\u001B[0m\u001B[0;34m(\u001B[0m\u001B[0mticklabelBoxes\u001B[0m\u001B[0;34m,\u001B[0m \u001B[0mticklabelBoxes2\u001B[0m\u001B[0;34m)\u001B[0m\u001B[0;34m\u001B[0m\u001B[0;34m\u001B[0m\u001B[0m\n",
      "\u001B[0;32m~/opt/anaconda3/envs/cse6242-project/lib/python3.6/site-packages/matplotlib/axis.py\u001B[0m in \u001B[0;36m_get_tick_bboxes\u001B[0;34m(self, ticks, renderer)\u001B[0m\n\u001B[1;32m   1090\u001B[0m         \u001B[0;34m\"\"\"Return lists of bboxes for ticks' label1's and label2's.\"\"\"\u001B[0m\u001B[0;34m\u001B[0m\u001B[0;34m\u001B[0m\u001B[0m\n\u001B[1;32m   1091\u001B[0m         return ([tick.label1.get_window_extent(renderer)\n\u001B[0;32m-> 1092\u001B[0;31m                  for tick in ticks if tick.label1.get_visible()],\n\u001B[0m\u001B[1;32m   1093\u001B[0m                 [tick.label2.get_window_extent(renderer)\n\u001B[1;32m   1094\u001B[0m                  for tick in ticks if tick.label2.get_visible()])\n",
      "\u001B[0;32m~/opt/anaconda3/envs/cse6242-project/lib/python3.6/site-packages/matplotlib/axis.py\u001B[0m in \u001B[0;36m<listcomp>\u001B[0;34m(.0)\u001B[0m\n\u001B[1;32m   1090\u001B[0m         \u001B[0;34m\"\"\"Return lists of bboxes for ticks' label1's and label2's.\"\"\"\u001B[0m\u001B[0;34m\u001B[0m\u001B[0;34m\u001B[0m\u001B[0m\n\u001B[1;32m   1091\u001B[0m         return ([tick.label1.get_window_extent(renderer)\n\u001B[0;32m-> 1092\u001B[0;31m                  for tick in ticks if tick.label1.get_visible()],\n\u001B[0m\u001B[1;32m   1093\u001B[0m                 [tick.label2.get_window_extent(renderer)\n\u001B[1;32m   1094\u001B[0m                  for tick in ticks if tick.label2.get_visible()])\n",
      "\u001B[0;32m~/opt/anaconda3/envs/cse6242-project/lib/python3.6/site-packages/matplotlib/text.py\u001B[0m in \u001B[0;36mget_window_extent\u001B[0;34m(self, renderer, dpi)\u001B[0m\n\u001B[1;32m    889\u001B[0m         \u001B[0;32mif\u001B[0m \u001B[0mself\u001B[0m\u001B[0;34m.\u001B[0m\u001B[0mget_text\u001B[0m\u001B[0;34m(\u001B[0m\u001B[0;34m)\u001B[0m \u001B[0;34m==\u001B[0m \u001B[0;34m''\u001B[0m\u001B[0;34m:\u001B[0m\u001B[0;34m\u001B[0m\u001B[0;34m\u001B[0m\u001B[0m\n\u001B[1;32m    890\u001B[0m             \u001B[0;32mwith\u001B[0m \u001B[0mcbook\u001B[0m\u001B[0;34m.\u001B[0m\u001B[0m_setattr_cm\u001B[0m\u001B[0;34m(\u001B[0m\u001B[0mself\u001B[0m\u001B[0;34m.\u001B[0m\u001B[0mfigure\u001B[0m\u001B[0;34m,\u001B[0m \u001B[0mdpi\u001B[0m\u001B[0;34m=\u001B[0m\u001B[0mdpi\u001B[0m\u001B[0;34m)\u001B[0m\u001B[0;34m:\u001B[0m\u001B[0;34m\u001B[0m\u001B[0;34m\u001B[0m\u001B[0m\n\u001B[0;32m--> 891\u001B[0;31m                 \u001B[0mtx\u001B[0m\u001B[0;34m,\u001B[0m \u001B[0mty\u001B[0m \u001B[0;34m=\u001B[0m \u001B[0mself\u001B[0m\u001B[0;34m.\u001B[0m\u001B[0m_get_xy_display\u001B[0m\u001B[0;34m(\u001B[0m\u001B[0;34m)\u001B[0m\u001B[0;34m\u001B[0m\u001B[0;34m\u001B[0m\u001B[0m\n\u001B[0m\u001B[1;32m    892\u001B[0m                 \u001B[0;32mreturn\u001B[0m \u001B[0mBbox\u001B[0m\u001B[0;34m.\u001B[0m\u001B[0mfrom_bounds\u001B[0m\u001B[0;34m(\u001B[0m\u001B[0mtx\u001B[0m\u001B[0;34m,\u001B[0m \u001B[0mty\u001B[0m\u001B[0;34m,\u001B[0m \u001B[0;36m0\u001B[0m\u001B[0;34m,\u001B[0m \u001B[0;36m0\u001B[0m\u001B[0;34m)\u001B[0m\u001B[0;34m\u001B[0m\u001B[0;34m\u001B[0m\u001B[0m\n\u001B[1;32m    893\u001B[0m \u001B[0;34m\u001B[0m\u001B[0m\n",
      "\u001B[0;32m~/opt/anaconda3/envs/cse6242-project/lib/python3.6/site-packages/matplotlib/text.py\u001B[0m in \u001B[0;36m_get_xy_display\u001B[0;34m(self)\u001B[0m\n\u001B[1;32m    221\u001B[0m         \"\"\"\n\u001B[1;32m    222\u001B[0m         \u001B[0mx\u001B[0m\u001B[0;34m,\u001B[0m \u001B[0my\u001B[0m \u001B[0;34m=\u001B[0m \u001B[0mself\u001B[0m\u001B[0;34m.\u001B[0m\u001B[0mget_unitless_position\u001B[0m\u001B[0;34m(\u001B[0m\u001B[0;34m)\u001B[0m\u001B[0;34m\u001B[0m\u001B[0;34m\u001B[0m\u001B[0m\n\u001B[0;32m--> 223\u001B[0;31m         \u001B[0;32mreturn\u001B[0m \u001B[0mself\u001B[0m\u001B[0;34m.\u001B[0m\u001B[0mget_transform\u001B[0m\u001B[0;34m(\u001B[0m\u001B[0;34m)\u001B[0m\u001B[0;34m.\u001B[0m\u001B[0mtransform\u001B[0m\u001B[0;34m(\u001B[0m\u001B[0;34m(\u001B[0m\u001B[0mx\u001B[0m\u001B[0;34m,\u001B[0m \u001B[0my\u001B[0m\u001B[0;34m)\u001B[0m\u001B[0;34m)\u001B[0m\u001B[0;34m\u001B[0m\u001B[0;34m\u001B[0m\u001B[0m\n\u001B[0m\u001B[1;32m    224\u001B[0m \u001B[0;34m\u001B[0m\u001B[0m\n\u001B[1;32m    225\u001B[0m     \u001B[0;32mdef\u001B[0m \u001B[0m_get_multialignment\u001B[0m\u001B[0;34m(\u001B[0m\u001B[0mself\u001B[0m\u001B[0;34m)\u001B[0m\u001B[0;34m:\u001B[0m\u001B[0;34m\u001B[0m\u001B[0;34m\u001B[0m\u001B[0m\n",
      "\u001B[0;32m~/opt/anaconda3/envs/cse6242-project/lib/python3.6/site-packages/matplotlib/transforms.py\u001B[0m in \u001B[0;36mtransform\u001B[0;34m(self, values)\u001B[0m\n\u001B[1;32m   1420\u001B[0m \u001B[0;34m\u001B[0m\u001B[0m\n\u001B[1;32m   1421\u001B[0m         \u001B[0;31m# Transform the values\u001B[0m\u001B[0;34m\u001B[0m\u001B[0;34m\u001B[0m\u001B[0;34m\u001B[0m\u001B[0m\n\u001B[0;32m-> 1422\u001B[0;31m         \u001B[0mres\u001B[0m \u001B[0;34m=\u001B[0m \u001B[0mself\u001B[0m\u001B[0;34m.\u001B[0m\u001B[0mtransform_affine\u001B[0m\u001B[0;34m(\u001B[0m\u001B[0mself\u001B[0m\u001B[0;34m.\u001B[0m\u001B[0mtransform_non_affine\u001B[0m\u001B[0;34m(\u001B[0m\u001B[0mvalues\u001B[0m\u001B[0;34m)\u001B[0m\u001B[0;34m)\u001B[0m\u001B[0;34m\u001B[0m\u001B[0;34m\u001B[0m\u001B[0m\n\u001B[0m\u001B[1;32m   1423\u001B[0m \u001B[0;34m\u001B[0m\u001B[0m\n\u001B[1;32m   1424\u001B[0m         \u001B[0;31m# Convert the result back to the shape of the input values.\u001B[0m\u001B[0;34m\u001B[0m\u001B[0;34m\u001B[0m\u001B[0;34m\u001B[0m\u001B[0m\n",
      "\u001B[0;32m~/opt/anaconda3/envs/cse6242-project/lib/python3.6/site-packages/matplotlib/transforms.py\u001B[0m in \u001B[0;36mtransform_non_affine\u001B[0;34m(self, points)\u001B[0m\n\u001B[1;32m   2349\u001B[0m             \u001B[0;32mreturn\u001B[0m \u001B[0mpoints\u001B[0m\u001B[0;34m\u001B[0m\u001B[0;34m\u001B[0m\u001B[0m\n\u001B[1;32m   2350\u001B[0m         \u001B[0;32melif\u001B[0m \u001B[0;32mnot\u001B[0m \u001B[0mself\u001B[0m\u001B[0;34m.\u001B[0m\u001B[0m_a\u001B[0m\u001B[0;34m.\u001B[0m\u001B[0mis_affine\u001B[0m \u001B[0;32mand\u001B[0m \u001B[0mself\u001B[0m\u001B[0;34m.\u001B[0m\u001B[0m_b\u001B[0m\u001B[0;34m.\u001B[0m\u001B[0mis_affine\u001B[0m\u001B[0;34m:\u001B[0m\u001B[0;34m\u001B[0m\u001B[0;34m\u001B[0m\u001B[0m\n\u001B[0;32m-> 2351\u001B[0;31m             \u001B[0;32mreturn\u001B[0m \u001B[0mself\u001B[0m\u001B[0;34m.\u001B[0m\u001B[0m_a\u001B[0m\u001B[0;34m.\u001B[0m\u001B[0mtransform_non_affine\u001B[0m\u001B[0;34m(\u001B[0m\u001B[0mpoints\u001B[0m\u001B[0;34m)\u001B[0m\u001B[0;34m\u001B[0m\u001B[0;34m\u001B[0m\u001B[0m\n\u001B[0m\u001B[1;32m   2352\u001B[0m         \u001B[0;32melse\u001B[0m\u001B[0;34m:\u001B[0m\u001B[0;34m\u001B[0m\u001B[0;34m\u001B[0m\u001B[0m\n\u001B[1;32m   2353\u001B[0m             return self._b.transform_non_affine(\n",
      "\u001B[0;32m~/opt/anaconda3/envs/cse6242-project/lib/python3.6/site-packages/matplotlib/transforms.py\u001B[0m in \u001B[0;36mtransform_non_affine\u001B[0;34m(self, points)\u001B[0m\n\u001B[1;32m   2160\u001B[0m \u001B[0;34m\u001B[0m\u001B[0m\n\u001B[1;32m   2161\u001B[0m         \u001B[0;32mif\u001B[0m \u001B[0mx\u001B[0m\u001B[0;34m.\u001B[0m\u001B[0minput_dims\u001B[0m \u001B[0;34m==\u001B[0m \u001B[0;36m2\u001B[0m\u001B[0;34m:\u001B[0m\u001B[0;34m\u001B[0m\u001B[0;34m\u001B[0m\u001B[0m\n\u001B[0;32m-> 2162\u001B[0;31m             \u001B[0mx_points\u001B[0m \u001B[0;34m=\u001B[0m \u001B[0mx\u001B[0m\u001B[0;34m.\u001B[0m\u001B[0mtransform_non_affine\u001B[0m\u001B[0;34m(\u001B[0m\u001B[0mpoints\u001B[0m\u001B[0;34m)\u001B[0m\u001B[0;34m[\u001B[0m\u001B[0;34m:\u001B[0m\u001B[0;34m,\u001B[0m \u001B[0;36m0\u001B[0m\u001B[0;34m:\u001B[0m\u001B[0;36m1\u001B[0m\u001B[0;34m]\u001B[0m\u001B[0;34m\u001B[0m\u001B[0;34m\u001B[0m\u001B[0m\n\u001B[0m\u001B[1;32m   2163\u001B[0m         \u001B[0;32melse\u001B[0m\u001B[0;34m:\u001B[0m\u001B[0;34m\u001B[0m\u001B[0;34m\u001B[0m\u001B[0m\n\u001B[1;32m   2164\u001B[0m             \u001B[0mx_points\u001B[0m \u001B[0;34m=\u001B[0m \u001B[0mx\u001B[0m\u001B[0;34m.\u001B[0m\u001B[0mtransform_non_affine\u001B[0m\u001B[0;34m(\u001B[0m\u001B[0mpoints\u001B[0m\u001B[0;34m[\u001B[0m\u001B[0;34m:\u001B[0m\u001B[0;34m,\u001B[0m \u001B[0;36m0\u001B[0m\u001B[0;34m]\u001B[0m\u001B[0;34m)\u001B[0m\u001B[0;34m\u001B[0m\u001B[0;34m\u001B[0m\u001B[0m\n",
      "\u001B[0;32m~/opt/anaconda3/envs/cse6242-project/lib/python3.6/site-packages/matplotlib/transforms.py\u001B[0m in \u001B[0;36mtransform_non_affine\u001B[0;34m(self, points)\u001B[0m\n\u001B[1;32m   2349\u001B[0m             \u001B[0;32mreturn\u001B[0m \u001B[0mpoints\u001B[0m\u001B[0;34m\u001B[0m\u001B[0;34m\u001B[0m\u001B[0m\n\u001B[1;32m   2350\u001B[0m         \u001B[0;32melif\u001B[0m \u001B[0;32mnot\u001B[0m \u001B[0mself\u001B[0m\u001B[0;34m.\u001B[0m\u001B[0m_a\u001B[0m\u001B[0;34m.\u001B[0m\u001B[0mis_affine\u001B[0m \u001B[0;32mand\u001B[0m \u001B[0mself\u001B[0m\u001B[0;34m.\u001B[0m\u001B[0m_b\u001B[0m\u001B[0;34m.\u001B[0m\u001B[0mis_affine\u001B[0m\u001B[0;34m:\u001B[0m\u001B[0;34m\u001B[0m\u001B[0;34m\u001B[0m\u001B[0m\n\u001B[0;32m-> 2351\u001B[0;31m             \u001B[0;32mreturn\u001B[0m \u001B[0mself\u001B[0m\u001B[0;34m.\u001B[0m\u001B[0m_a\u001B[0m\u001B[0;34m.\u001B[0m\u001B[0mtransform_non_affine\u001B[0m\u001B[0;34m(\u001B[0m\u001B[0mpoints\u001B[0m\u001B[0;34m)\u001B[0m\u001B[0;34m\u001B[0m\u001B[0;34m\u001B[0m\u001B[0m\n\u001B[0m\u001B[1;32m   2352\u001B[0m         \u001B[0;32melse\u001B[0m\u001B[0;34m:\u001B[0m\u001B[0;34m\u001B[0m\u001B[0;34m\u001B[0m\u001B[0m\n\u001B[1;32m   2353\u001B[0m             return self._b.transform_non_affine(\n",
      "\u001B[0;32m~/opt/anaconda3/envs/cse6242-project/lib/python3.6/site-packages/matplotlib/transforms.py\u001B[0m in \u001B[0;36mtransform_non_affine\u001B[0;34m(self, points)\u001B[0m\n\u001B[1;32m   2163\u001B[0m         \u001B[0;32melse\u001B[0m\u001B[0;34m:\u001B[0m\u001B[0;34m\u001B[0m\u001B[0;34m\u001B[0m\u001B[0m\n\u001B[1;32m   2164\u001B[0m             \u001B[0mx_points\u001B[0m \u001B[0;34m=\u001B[0m \u001B[0mx\u001B[0m\u001B[0;34m.\u001B[0m\u001B[0mtransform_non_affine\u001B[0m\u001B[0;34m(\u001B[0m\u001B[0mpoints\u001B[0m\u001B[0;34m[\u001B[0m\u001B[0;34m:\u001B[0m\u001B[0;34m,\u001B[0m \u001B[0;36m0\u001B[0m\u001B[0;34m]\u001B[0m\u001B[0;34m)\u001B[0m\u001B[0;34m\u001B[0m\u001B[0;34m\u001B[0m\u001B[0m\n\u001B[0;32m-> 2165\u001B[0;31m             \u001B[0mx_points\u001B[0m \u001B[0;34m=\u001B[0m \u001B[0mx_points\u001B[0m\u001B[0;34m.\u001B[0m\u001B[0mreshape\u001B[0m\u001B[0;34m(\u001B[0m\u001B[0;34m(\u001B[0m\u001B[0mlen\u001B[0m\u001B[0;34m(\u001B[0m\u001B[0mx_points\u001B[0m\u001B[0;34m)\u001B[0m\u001B[0;34m,\u001B[0m \u001B[0;36m1\u001B[0m\u001B[0;34m)\u001B[0m\u001B[0;34m)\u001B[0m\u001B[0;34m\u001B[0m\u001B[0;34m\u001B[0m\u001B[0m\n\u001B[0m\u001B[1;32m   2166\u001B[0m \u001B[0;34m\u001B[0m\u001B[0m\n\u001B[1;32m   2167\u001B[0m         \u001B[0;32mif\u001B[0m \u001B[0my\u001B[0m\u001B[0;34m.\u001B[0m\u001B[0minput_dims\u001B[0m \u001B[0;34m==\u001B[0m \u001B[0;36m2\u001B[0m\u001B[0;34m:\u001B[0m\u001B[0;34m\u001B[0m\u001B[0;34m\u001B[0m\u001B[0m\n",
      "\u001B[0;31mKeyboardInterrupt\u001B[0m: "
     ]
    },
    {
     "data": {
      "text/plain": "<Figure size 360x360 with 1 Axes>",
      "image/png": "[encoded data removed]"
     },
     "metadata": {},
     "output_type": "display_data"
    }
   ],
   "source": [
    "for s in df:\n",
    "    if s in cat_vars:\n",
    "        categorical_summ(df[s])\n",
    "    elif s in num_vars:\n",
    "        numeric_summ(df[s])"
   ],
   "metadata": {
    "collapsed": false,
    "pycharm": {
     "name": "#%%\n"
    }
   }
  },
  {
   "cell_type": "markdown",
   "source": [
    "---\n",
    "### Multivariate summaries"
   ],
   "metadata": {
    "collapsed": false,
    "pycharm": {
     "name": "#%% md\n"
    }
   }
  },
  {
   "cell_type": "code",
   "execution_count": null,
   "outputs": [],
   "source": [
    "# Correlation plot\n",
    "corr = df.corr()\n",
    "\n",
    "# Generate a mask for the upper triangle\n",
    "mask = np.triu(np.ones_like(corr, dtype=bool))\n",
    "\n",
    "# Set up the matplotlib figure\n",
    "f, ax = plt.subplots(figsize=(11, 9))\n",
    "\n",
    "# Generate a custom diverging colormap\n",
    "cmap = sns.diverging_palette(230, 20, as_cmap=True)\n",
    "\n",
    "# Draw the heatmap with the mask and correct aspect ratio\n",
    "sns.heatmap(corr, mask=mask, cmap=cmap, vmax=.3, center=0,\n",
    "            square=True, linewidths=.5, cbar_kws={\"shrink\": .5})\n",
    "\n",
    "plt.tight_layout()\n",
    "plt.savefig('corrplot.png')"
   ],
   "metadata": {
    "collapsed": false,
    "pycharm": {
     "name": "#%%\n"
    }
   }
  },
  {
   "cell_type": "code",
   "execution_count": null,
   "outputs": [],
   "source": [
    "# Pairplot with play_count\n",
    "fig, axes = plt.subplots(4, int(np.ceil(len(num_vars + cat_vars)/4)), figsize=(18, 10))\n",
    "\n",
    "i = 0\n",
    "for s in num_vars + cat_vars:\n",
    "    if s != 'play_count':\n",
    "        g = sns.scatterplot(x=df[s], y=df['play_count'], ax=axes[int(np.floor(i / 4)), i % 4])\n",
    "        i += 1\n",
    "\n",
    "plt.tight_layout()\n",
    "plt.savefig('pairplot.png')\n",
    "plt.show()"
   ],
   "metadata": {
    "collapsed": false,
    "pycharm": {
     "name": "#%%\n"
    }
   }
  }
 ],
 "metadata": {
  "kernelspec": {
   "display_name": "Python 3",
   "language": "python",
   "name": "python3"
  },
  "language_info": {
   "codemirror_mode": {
    "name": "ipython",
    "version": 2
   },
   "file_extension": ".py",
   "mimetype": "text/x-python",
   "name": "python",
   "nbconvert_exporter": "python",
   "pygments_lexer": "ipython2",
   "version": "2.7.6"
  }
 },
 "nbformat": 4,
 "nbformat_minor": 0
}