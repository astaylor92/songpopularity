{
 "cells": [
  {
   "cell_type": "markdown",
   "source": [
    "# Music Popularity Analysis\n",
    "\n",
    "<hr style=\"border:2px solid black\"> </hr>\n",
    "\n",
    "## Exploratory Data Analysis\n",
    "## Notebook 02 - Preprocessing\n",
    "\n",
    "---\n",
    "\n",
    "### Import libraries"
   ],
   "metadata": {
    "collapsed": false,
    "pycharm": {
     "name": "#%% md\n"
    }
   }
  },
  {
   "cell_type": "code",
   "execution_count": 18,
   "outputs": [],
   "source": [
    "import pandas as pd\n",
    "import numpy as np\n",
    "import seaborn as sns\n",
    "from matplotlib import pyplot as plt\n",
    "from sklearn.preprocessing import OneHotEncoder"
   ],
   "metadata": {
    "collapsed": false,
    "pycharm": {
     "name": "#%%\n"
    }
   }
  },
  {
   "cell_type": "code",
   "execution_count": 19,
   "outputs": [],
   "source": [
    "def num_uniques(ser):\n",
    "    try:\n",
    "        return len(ser.unique())\n",
    "    except:\n",
    "        return \"Not unique check-able\"\n",
    "\n",
    "\n",
    "def summarize_df(df):\n",
    "    print(\"======DATA SUMMARY======\")\n",
    "    print(\"{} rows by {} columns\".format(df.shape[0], df.shape[1]))\n",
    "    print(\"\\n======COLUMNS======\")\n",
    "    print(df.dtypes)\n",
    "    print(\"\\n======PREVIEW======\")\n",
    "    display(df.head())\n",
    "    print(\"\\n======NUMERICAL COL SUMMARY======\")\n",
    "    print(df.describe())\n",
    "    print(\"\\n\")\n",
    "    for col in df.columns:\n",
    "        print(\"{}: {} unique values\".format(col, num_uniques(df[col])))"
   ],
   "metadata": {
    "collapsed": false,
    "pycharm": {
     "name": "#%%\n"
    }
   }
  },
  {
   "cell_type": "markdown",
   "source": [
    "---\n",
    "### Import Data"
   ],
   "metadata": {
    "collapsed": false,
    "pycharm": {
     "name": "#%% md\n"
    }
   }
  },
  {
   "cell_type": "code",
   "execution_count": 20,
   "outputs": [
    {
     "name": "stdout",
     "output_type": "stream",
     "text": [
      "======DATA SUMMARY======\n",
      "26940 rows by 24 columns\n",
      "\n",
      "======COLUMNS======\n",
      "isrc                     object\n",
      "sp_track_uri             object\n",
      "mb_release_gid           object\n",
      "mb_track_name            object\n",
      "matched                  object\n",
      "score                     int64\n",
      "play_count                int64\n",
      "sp_danceability         float64\n",
      "sp_energy               float64\n",
      "sp_key                    int64\n",
      "sp_loudness             float64\n",
      "sp_mode                   int64\n",
      "sp_speechiness          float64\n",
      "sp_acousticness         float64\n",
      "sp_instrumentalness     float64\n",
      "sp_liveness             float64\n",
      "sp_valence              float64\n",
      "sp_tempo                float64\n",
      "sp_duration_ms            int64\n",
      "sp_time_signature         int64\n",
      "sp_artist_uri            object\n",
      "sp_artist_popularity      int64\n",
      "sp_genres                object\n",
      "sp_artist_followers       int64\n",
      "dtype: object\n",
      "\n",
      "======PREVIEW======\n"
     ]
    },
    {
     "data": {
      "text/plain": "           isrc            sp_track_uri                        mb_release_gid  \\\n0  AEA0D1937329  19JIYDxouJVup6Vju4XbHl  10fd2bac-ab04-4eb8-8428-f2068923bdf7   \n1  AEA0D2084900  6DQKbMorKoc8I5dm72bZJi  4ac930af-fd16-4397-ba4c-f3727331d2c4   \n2  AEA0Q1967586  6k2GJRe3u6wHqaXL9XCt74  0df23deb-d8b5-4ef8-ae16-6865f6facc22   \n3  AEA0Q2041540  6xCie6yrUQh0McImPanmGq  88532401-a81e-4af7-bcfa-397ce6c4f6cc   \n4  RUA1H2153459  1hSu17dJJcu40C7JwXnzTm  5611c030-2d68-4c99-9633-af0c59e296e6   \n\n                   mb_track_name                        matched  score  \\\n0                   My Wasteland                   My Wasteland    100   \n1                  Hakuna Matata                  Hakuna Matata    100   \n2                         Farcry                         Farcry    100   \n3                 Self Isolation                 Self Isolation    100   \n4  Die With a Smile on Your Face  Die with a Smile on Your Face    100   \n\n   play_count  sp_danceability  sp_energy  sp_key  ...  sp_instrumentalness  \\\n0           5            0.533      0.804       4  ...              0.00069   \n1          45            0.362      0.326       0  ...              0.79400   \n2           2            0.760      0.557      10  ...              0.82200   \n3        1631            0.635      0.323       2  ...              0.53500   \n4        2875            0.664      0.440       1  ...              0.18100   \n\n   sp_liveness  sp_valence  sp_tempo  sp_duration_ms  sp_time_signature  \\\n0       0.1270       0.277   145.023          256073                  4   \n1       0.1040       0.191   179.880          164792                  4   \n2       0.0938       0.719   144.994          202893                  4   \n3       0.0974       0.209   179.996          156000                  4   \n4       0.0536       0.256    74.735          217600                  4   \n\n            sp_artist_uri  sp_artist_popularity         sp_genres  \\\n0  5TIid55c3FutqRL4fzbnSF                     0                []   \n1  29GcsJ0cD5bdbHpOicXLtF                    23  ['disney piano']   \n2  0hvlHMDFpZBDFPEVgcAX6s                     0                []   \n3  0XFgyr4jwM0MGeZZW0VzA5                    74                []   \n4  0XFgyr4jwM0MGeZZW0VzA5                    74                []   \n\n   sp_artist_followers  \n0                   52  \n1                   26  \n2                 2027  \n3               184864  \n4               184864  \n\n[5 rows x 24 columns]",
      "text/html": "<div>\n<style scoped>\n    .dataframe tbody tr th:only-of-type {\n        vertical-align: middle;\n    }\n\n    .dataframe tbody tr th {\n        vertical-align: top;\n    }\n\n    .dataframe thead th {\n        text-align: right;\n    }\n</style>\n<table border=\"1\" class=\"dataframe\">\n  <thead>\n    <tr style=\"text-align: right;\">\n      <th></th>\n      <th>isrc</th>\n      <th>sp_track_uri</th>\n      <th>mb_release_gid</th>\n      <th>mb_track_name</th>\n      <th>matched</th>\n      <th>score</th>\n      <th>play_count</th>\n      <th>sp_danceability</th>\n      <th>sp_energy</th>\n      <th>sp_key</th>\n      <th>...</th>\n      <th>sp_instrumentalness</th>\n      <th>sp_liveness</th>\n      <th>sp_valence</th>\n      <th>sp_tempo</th>\n      <th>sp_duration_ms</th>\n      <th>sp_time_signature</th>\n      <th>sp_artist_uri</th>\n      <th>sp_artist_popularity</th>\n      <th>sp_genres</th>\n      <th>sp_artist_followers</th>\n    </tr>\n  </thead>\n  <tbody>\n    <tr>\n      <th>0</th>\n      <td>AEA0D1937329</td>\n      <td>19JIYDxouJVup6Vju4XbHl</td>\n      <td>10fd2bac-ab04-4eb8-8428-f2068923bdf7</td>\n      <td>My Wasteland</td>\n      <td>My Wasteland</td>\n      <td>100</td>\n      <td>5</td>\n      <td>0.533</td>\n      <td>0.804</td>\n      <td>4</td>\n      <td>...</td>\n      <td>0.00069</td>\n      <td>0.1270</td>\n      <td>0.277</td>\n      <td>145.023</td>\n      <td>256073</td>\n      <td>4</td>\n      <td>5TIid55c3FutqRL4fzbnSF</td>\n      <td>0</td>\n      <td>[]</td>\n      <td>52</td>\n    </tr>\n    <tr>\n      <th>1</th>\n      <td>AEA0D2084900</td>\n      <td>6DQKbMorKoc8I5dm72bZJi</td>\n      <td>4ac930af-fd16-4397-ba4c-f3727331d2c4</td>\n      <td>Hakuna Matata</td>\n      <td>Hakuna Matata</td>\n      <td>100</td>\n      <td>45</td>\n      <td>0.362</td>\n      <td>0.326</td>\n      <td>0</td>\n      <td>...</td>\n      <td>0.79400</td>\n      <td>0.1040</td>\n      <td>0.191</td>\n      <td>179.880</td>\n      <td>164792</td>\n      <td>4</td>\n      <td>29GcsJ0cD5bdbHpOicXLtF</td>\n      <td>23</td>\n      <td>['disney piano']</td>\n      <td>26</td>\n    </tr>\n    <tr>\n      <th>2</th>\n      <td>AEA0Q1967586</td>\n      <td>6k2GJRe3u6wHqaXL9XCt74</td>\n      <td>0df23deb-d8b5-4ef8-ae16-6865f6facc22</td>\n      <td>Farcry</td>\n      <td>Farcry</td>\n      <td>100</td>\n      <td>2</td>\n      <td>0.760</td>\n      <td>0.557</td>\n      <td>10</td>\n      <td>...</td>\n      <td>0.82200</td>\n      <td>0.0938</td>\n      <td>0.719</td>\n      <td>144.994</td>\n      <td>202893</td>\n      <td>4</td>\n      <td>0hvlHMDFpZBDFPEVgcAX6s</td>\n      <td>0</td>\n      <td>[]</td>\n      <td>2027</td>\n    </tr>\n    <tr>\n      <th>3</th>\n      <td>AEA0Q2041540</td>\n      <td>6xCie6yrUQh0McImPanmGq</td>\n      <td>88532401-a81e-4af7-bcfa-397ce6c4f6cc</td>\n      <td>Self Isolation</td>\n      <td>Self Isolation</td>\n      <td>100</td>\n      <td>1631</td>\n      <td>0.635</td>\n      <td>0.323</td>\n      <td>2</td>\n      <td>...</td>\n      <td>0.53500</td>\n      <td>0.0974</td>\n      <td>0.209</td>\n      <td>179.996</td>\n      <td>156000</td>\n      <td>4</td>\n      <td>0XFgyr4jwM0MGeZZW0VzA5</td>\n      <td>74</td>\n      <td>[]</td>\n      <td>184864</td>\n    </tr>\n    <tr>\n      <th>4</th>\n      <td>RUA1H2153459</td>\n      <td>1hSu17dJJcu40C7JwXnzTm</td>\n      <td>5611c030-2d68-4c99-9633-af0c59e296e6</td>\n      <td>Die With a Smile on Your Face</td>\n      <td>Die with a Smile on Your Face</td>\n      <td>100</td>\n      <td>2875</td>\n      <td>0.664</td>\n      <td>0.440</td>\n      <td>1</td>\n      <td>...</td>\n      <td>0.18100</td>\n      <td>0.0536</td>\n      <td>0.256</td>\n      <td>74.735</td>\n      <td>217600</td>\n      <td>4</td>\n      <td>0XFgyr4jwM0MGeZZW0VzA5</td>\n      <td>74</td>\n      <td>[]</td>\n      <td>184864</td>\n    </tr>\n  </tbody>\n</table>\n<p>5 rows × 24 columns</p>\n</div>"
     },
     "metadata": {},
     "output_type": "display_data"
    },
    {
     "name": "stdout",
     "output_type": "stream",
     "text": [
      "\n",
      "======NUMERICAL COL SUMMARY======\n",
      "              score    play_count  sp_danceability     sp_energy  \\\n",
      "count  26940.000000  2.694000e+04     26940.000000  26940.000000   \n",
      "mean      98.614031  1.969753e+05         0.529161      0.614964   \n",
      "std        3.651687  9.166851e+05         0.185528      0.263511   \n",
      "min       80.000000  0.000000e+00         0.000000      0.000000   \n",
      "25%      100.000000  1.840000e+02         0.403000      0.431000   \n",
      "50%      100.000000  2.852500e+03         0.540000      0.655000   \n",
      "75%      100.000000  3.638050e+04         0.666000      0.838000   \n",
      "max      100.000000  2.399470e+07         0.977000      1.000000   \n",
      "\n",
      "             sp_key   sp_loudness       sp_mode  sp_speechiness  \\\n",
      "count  26940.000000  26940.000000  26940.000000    26940.000000   \n",
      "mean       5.215071     -9.120079      0.623125        0.087248   \n",
      "std        3.584864      5.439261      0.484612        0.103623   \n",
      "min        0.000000    -60.000000      0.000000        0.000000   \n",
      "25%        2.000000    -11.055250      0.000000        0.035800   \n",
      "50%        5.000000     -7.679000      1.000000        0.048000   \n",
      "75%        8.000000     -5.578000      1.000000        0.085500   \n",
      "max       11.000000      4.106000      1.000000        0.965000   \n",
      "\n",
      "       sp_acousticness  sp_instrumentalness   sp_liveness    sp_valence  \\\n",
      "count     26940.000000         26940.000000  26940.000000  26940.000000   \n",
      "mean          0.298166             0.239801      0.207013      0.419168   \n",
      "std           0.337638             0.358885      0.184652      0.255309   \n",
      "min           0.000000             0.000000      0.000000      0.000000   \n",
      "25%           0.011200             0.000002      0.097900      0.205000   \n",
      "50%           0.133000             0.001750      0.128000      0.394000   \n",
      "75%           0.558000             0.536000      0.259000      0.613000   \n",
      "max           0.996000             0.996000      0.997000      0.997000   \n",
      "\n",
      "           sp_tempo  sp_duration_ms  sp_time_signature  sp_artist_popularity  \\\n",
      "count  26940.000000    2.694000e+04       26940.000000          26940.000000   \n",
      "mean     121.626732    2.328819e+05           3.887565             51.560913   \n",
      "std       30.314184    1.147931e+05           0.468481             23.071049   \n",
      "min        0.000000    4.132000e+03           0.000000              0.000000   \n",
      "25%       98.144750    1.768420e+05           4.000000             36.000000   \n",
      "50%      120.431500    2.185730e+05           4.000000             55.000000   \n",
      "75%      140.061000    2.689408e+05           4.000000             68.000000   \n",
      "max      242.362000    3.709365e+06           5.000000            100.000000   \n",
      "\n",
      "       sp_artist_followers  \n",
      "count         2.694000e+04  \n",
      "mean          2.241212e+06  \n",
      "std           7.584486e+06  \n",
      "min           0.000000e+00  \n",
      "25%           1.227475e+04  \n",
      "50%           1.336200e+05  \n",
      "75%           1.005132e+06  \n",
      "max           9.584077e+07  \n",
      "\n",
      "\n",
      "isrc: 26940 unique values\n",
      "sp_track_uri: 26940 unique values\n",
      "mb_release_gid: 12030 unique values\n",
      "mb_track_name: 24766 unique values\n",
      "matched: 24312 unique values\n",
      "score: 21 unique values\n",
      "play_count: 14411 unique values\n",
      "sp_danceability: 1033 unique values\n",
      "sp_energy: 1636 unique values\n",
      "sp_key: 12 unique values\n",
      "sp_loudness: 13097 unique values\n",
      "sp_mode: 2 unique values\n",
      "sp_speechiness: 1352 unique values\n",
      "sp_acousticness: 4285 unique values\n",
      "sp_instrumentalness: 4665 unique values\n",
      "sp_liveness: 1600 unique values\n",
      "sp_valence: 1616 unique values\n",
      "sp_tempo: 19942 unique values\n",
      "sp_duration_ms: 21687 unique values\n",
      "sp_time_signature: 5 unique values\n",
      "sp_artist_uri: 9382 unique values\n",
      "sp_artist_popularity: 100 unique values\n",
      "sp_genres: 5791 unique values\n",
      "sp_artist_followers: 8127 unique values\n"
     ]
    }
   ],
   "source": [
    "df = pd.read_parquet('../02_DataPrep/song_data.parquet')\n",
    "summarize_df(df)"
   ],
   "metadata": {
    "collapsed": false,
    "pycharm": {
     "name": "#%%\n"
    }
   }
  },
  {
   "cell_type": "code",
   "execution_count": 21,
   "metadata": {
    "collapsed": true,
    "pycharm": {
     "name": "#%%\n"
    }
   },
   "outputs": [],
   "source": [
    "num_vars = ['sp_danceability', 'sp_energy', 'sp_loudness', 'sp_speechiness', 'sp_acousticness', 'sp_instrumentalness', 'sp_liveness', 'sp_valence', 'sp_tempo', 'sp_duration_ms', 'sp_artist_popularity', 'sp_artist_followers', 'play_count']\n",
    "\n",
    "cat_vars = ['sp_key', 'sp_mode', 'sp_time_signature']"
   ]
  },
  {
   "cell_type": "code",
   "execution_count": 22,
   "outputs": [],
   "source": [
    "df = df[num_vars + cat_vars+['isrc']]\n",
    "df = df.reset_index(drop=True)\n",
    "index_key = dict(zip(df.index, df['isrc']))\n",
    "df = df.drop('isrc', axis=1)"
   ],
   "metadata": {
    "collapsed": false,
    "pycharm": {
     "name": "#%%\n"
    }
   }
  },
  {
   "cell_type": "code",
   "execution_count": 23,
   "outputs": [],
   "source": [
    "pd.DataFrame(index_key.items(), columns=['index', 'isrc']).to_csv('index_key.csv')"
   ],
   "metadata": {
    "collapsed": false,
    "pycharm": {
     "name": "#%%\n"
    }
   }
  },
  {
   "cell_type": "markdown",
   "source": [
    "---\n",
    "### One-hot Encode Categorical Variables"
   ],
   "metadata": {
    "collapsed": false,
    "pycharm": {
     "name": "#%% md\n"
    }
   }
  },
  {
   "cell_type": "code",
   "execution_count": 24,
   "outputs": [
    {
     "name": "stdout",
     "output_type": "stream",
     "text": [
      "(26940, 5)\n",
      "(26940, 12)\n",
      "======DATA SUMMARY======\n",
      "26940 rows by 31 columns\n",
      "\n",
      "======COLUMNS======\n",
      "sp_danceability         float64\n",
      "sp_energy               float64\n",
      "sp_loudness             float64\n",
      "sp_speechiness          float64\n",
      "sp_acousticness         float64\n",
      "sp_instrumentalness     float64\n",
      "sp_liveness             float64\n",
      "sp_valence              float64\n",
      "sp_tempo                float64\n",
      "sp_duration_ms            int64\n",
      "sp_artist_popularity      int64\n",
      "sp_artist_followers       int64\n",
      "play_count                int64\n",
      "sp_mode                   int64\n",
      "sp_time_signature_0     float64\n",
      "sp_time_signature_1     float64\n",
      "sp_time_signature_3     float64\n",
      "sp_time_signature_4     float64\n",
      "sp_time_signature_5     float64\n",
      "sp_key_0                float64\n",
      "sp_key_1                float64\n",
      "sp_key_2                float64\n",
      "sp_key_3                float64\n",
      "sp_key_4                float64\n",
      "sp_key_5                float64\n",
      "sp_key_6                float64\n",
      "sp_key_7                float64\n",
      "sp_key_8                float64\n",
      "sp_key_9                float64\n",
      "sp_key_10               float64\n",
      "sp_key_11               float64\n",
      "dtype: object\n",
      "\n",
      "======PREVIEW======\n"
     ]
    },
    {
     "data": {
      "text/plain": "   sp_danceability  sp_energy  sp_loudness  sp_speechiness  sp_acousticness  \\\n0            0.533      0.804       -7.516          0.0743           0.0211   \n1            0.362      0.326      -15.748          0.0423           0.7390   \n2            0.760      0.557      -13.295          0.0625           0.0213   \n3            0.635      0.323      -12.979          0.0338           0.1420   \n4            0.664      0.440       -5.156          0.0360           0.0531   \n\n   sp_instrumentalness  sp_liveness  sp_valence  sp_tempo  sp_duration_ms  \\\n0              0.00069       0.1270       0.277   145.023          256073   \n1              0.79400       0.1040       0.191   179.880          164792   \n2              0.82200       0.0938       0.719   144.994          202893   \n3              0.53500       0.0974       0.209   179.996          156000   \n4              0.18100       0.0536       0.256    74.735          217600   \n\n   ...  sp_key_2  sp_key_3  sp_key_4  sp_key_5  sp_key_6  sp_key_7  sp_key_8  \\\n0  ...       0.0       0.0       1.0       0.0       0.0       0.0       0.0   \n1  ...       0.0       0.0       0.0       0.0       0.0       0.0       0.0   \n2  ...       0.0       0.0       0.0       0.0       0.0       0.0       0.0   \n3  ...       1.0       0.0       0.0       0.0       0.0       0.0       0.0   \n4  ...       0.0       0.0       0.0       0.0       0.0       0.0       0.0   \n\n   sp_key_9  sp_key_10  sp_key_11  \n0       0.0        0.0        0.0  \n1       0.0        0.0        0.0  \n2       0.0        1.0        0.0  \n3       0.0        0.0        0.0  \n4       0.0        0.0        0.0  \n\n[5 rows x 31 columns]",
      "text/html": "<div>\n<style scoped>\n    .dataframe tbody tr th:only-of-type {\n        vertical-align: middle;\n    }\n\n    .dataframe tbody tr th {\n        vertical-align: top;\n    }\n\n    .dataframe thead th {\n        text-align: right;\n    }\n</style>\n<table border=\"1\" class=\"dataframe\">\n  <thead>\n    <tr style=\"text-align: right;\">\n      <th></th>\n      <th>sp_danceability</th>\n      <th>sp_energy</th>\n      <th>sp_loudness</th>\n      <th>sp_speechiness</th>\n      <th>sp_acousticness</th>\n      <th>sp_instrumentalness</th>\n      <th>sp_liveness</th>\n      <th>sp_valence</th>\n      <th>sp_tempo</th>\n      <th>sp_duration_ms</th>\n      <th>...</th>\n      <th>sp_key_2</th>\n      <th>sp_key_3</th>\n      <th>sp_key_4</th>\n      <th>sp_key_5</th>\n      <th>sp_key_6</th>\n      <th>sp_key_7</th>\n      <th>sp_key_8</th>\n      <th>sp_key_9</th>\n      <th>sp_key_10</th>\n      <th>sp_key_11</th>\n    </tr>\n  </thead>\n  <tbody>\n    <tr>\n      <th>0</th>\n      <td>0.533</td>\n      <td>0.804</td>\n      <td>-7.516</td>\n      <td>0.0743</td>\n      <td>0.0211</td>\n      <td>0.00069</td>\n      <td>0.1270</td>\n      <td>0.277</td>\n      <td>145.023</td>\n      <td>256073</td>\n      <td>...</td>\n      <td>0.0</td>\n      <td>0.0</td>\n      <td>1.0</td>\n      <td>0.0</td>\n      <td>0.0</td>\n      <td>0.0</td>\n      <td>0.0</td>\n      <td>0.0</td>\n      <td>0.0</td>\n      <td>0.0</td>\n    </tr>\n    <tr>\n      <th>1</th>\n      <td>0.362</td>\n      <td>0.326</td>\n      <td>-15.748</td>\n      <td>0.0423</td>\n      <td>0.7390</td>\n      <td>0.79400</td>\n      <td>0.1040</td>\n      <td>0.191</td>\n      <td>179.880</td>\n      <td>164792</td>\n      <td>...</td>\n      <td>0.0</td>\n      <td>0.0</td>\n      <td>0.0</td>\n      <td>0.0</td>\n      <td>0.0</td>\n      <td>0.0</td>\n      <td>0.0</td>\n      <td>0.0</td>\n      <td>0.0</td>\n      <td>0.0</td>\n    </tr>\n    <tr>\n      <th>2</th>\n      <td>0.760</td>\n      <td>0.557</td>\n      <td>-13.295</td>\n      <td>0.0625</td>\n      <td>0.0213</td>\n      <td>0.82200</td>\n      <td>0.0938</td>\n      <td>0.719</td>\n      <td>144.994</td>\n      <td>202893</td>\n      <td>...</td>\n      <td>0.0</td>\n      <td>0.0</td>\n      <td>0.0</td>\n      <td>0.0</td>\n      <td>0.0</td>\n      <td>0.0</td>\n      <td>0.0</td>\n      <td>0.0</td>\n      <td>1.0</td>\n      <td>0.0</td>\n    </tr>\n    <tr>\n      <th>3</th>\n      <td>0.635</td>\n      <td>0.323</td>\n      <td>-12.979</td>\n      <td>0.0338</td>\n      <td>0.1420</td>\n      <td>0.53500</td>\n      <td>0.0974</td>\n      <td>0.209</td>\n      <td>179.996</td>\n      <td>156000</td>\n      <td>...</td>\n      <td>1.0</td>\n      <td>0.0</td>\n      <td>0.0</td>\n      <td>0.0</td>\n      <td>0.0</td>\n      <td>0.0</td>\n      <td>0.0</td>\n      <td>0.0</td>\n      <td>0.0</td>\n      <td>0.0</td>\n    </tr>\n    <tr>\n      <th>4</th>\n      <td>0.664</td>\n      <td>0.440</td>\n      <td>-5.156</td>\n      <td>0.0360</td>\n      <td>0.0531</td>\n      <td>0.18100</td>\n      <td>0.0536</td>\n      <td>0.256</td>\n      <td>74.735</td>\n      <td>217600</td>\n      <td>...</td>\n      <td>0.0</td>\n      <td>0.0</td>\n      <td>0.0</td>\n      <td>0.0</td>\n      <td>0.0</td>\n      <td>0.0</td>\n      <td>0.0</td>\n      <td>0.0</td>\n      <td>0.0</td>\n      <td>0.0</td>\n    </tr>\n  </tbody>\n</table>\n<p>5 rows × 31 columns</p>\n</div>"
     },
     "metadata": {},
     "output_type": "display_data"
    },
    {
     "name": "stdout",
     "output_type": "stream",
     "text": [
      "\n",
      "======NUMERICAL COL SUMMARY======\n",
      "       sp_danceability     sp_energy   sp_loudness  sp_speechiness  \\\n",
      "count     26940.000000  26940.000000  26940.000000    26940.000000   \n",
      "mean          0.529161      0.614964     -9.120079        0.087248   \n",
      "std           0.185528      0.263511      5.439261        0.103623   \n",
      "min           0.000000      0.000000    -60.000000        0.000000   \n",
      "25%           0.403000      0.431000    -11.055250        0.035800   \n",
      "50%           0.540000      0.655000     -7.679000        0.048000   \n",
      "75%           0.666000      0.838000     -5.578000        0.085500   \n",
      "max           0.977000      1.000000      4.106000        0.965000   \n",
      "\n",
      "       sp_acousticness  sp_instrumentalness   sp_liveness    sp_valence  \\\n",
      "count     26940.000000         26940.000000  26940.000000  26940.000000   \n",
      "mean          0.298166             0.239801      0.207013      0.419168   \n",
      "std           0.337638             0.358885      0.184652      0.255309   \n",
      "min           0.000000             0.000000      0.000000      0.000000   \n",
      "25%           0.011200             0.000002      0.097900      0.205000   \n",
      "50%           0.133000             0.001750      0.128000      0.394000   \n",
      "75%           0.558000             0.536000      0.259000      0.613000   \n",
      "max           0.996000             0.996000      0.997000      0.997000   \n",
      "\n",
      "           sp_tempo  sp_duration_ms  ...      sp_key_2      sp_key_3  \\\n",
      "count  26940.000000    2.694000e+04  ...  26940.000000  26940.000000   \n",
      "mean     121.626732    2.328819e+05  ...      0.107424      0.030215   \n",
      "std       30.314184    1.147931e+05  ...      0.309657      0.171182   \n",
      "min        0.000000    4.132000e+03  ...      0.000000      0.000000   \n",
      "25%       98.144750    1.768420e+05  ...      0.000000      0.000000   \n",
      "50%      120.431500    2.185730e+05  ...      0.000000      0.000000   \n",
      "75%      140.061000    2.689408e+05  ...      0.000000      0.000000   \n",
      "max      242.362000    3.709365e+06  ...      1.000000      1.000000   \n",
      "\n",
      "           sp_key_4      sp_key_5      sp_key_6      sp_key_7      sp_key_8  \\\n",
      "count  26940.000000  26940.000000  26940.000000  26940.000000  26940.000000   \n",
      "mean       0.079399      0.081032      0.062324      0.111470      0.063177   \n",
      "std        0.270365      0.272889      0.241747      0.314719      0.243286   \n",
      "min        0.000000      0.000000      0.000000      0.000000      0.000000   \n",
      "25%        0.000000      0.000000      0.000000      0.000000      0.000000   \n",
      "50%        0.000000      0.000000      0.000000      0.000000      0.000000   \n",
      "75%        0.000000      0.000000      0.000000      0.000000      0.000000   \n",
      "max        1.000000      1.000000      1.000000      1.000000      1.000000   \n",
      "\n",
      "           sp_key_9     sp_key_10     sp_key_11  \n",
      "count  26940.000000  26940.000000  26940.000000  \n",
      "mean       0.104195      0.062621      0.078508  \n",
      "std        0.305518      0.242284      0.268974  \n",
      "min        0.000000      0.000000      0.000000  \n",
      "25%        0.000000      0.000000      0.000000  \n",
      "50%        0.000000      0.000000      0.000000  \n",
      "75%        0.000000      0.000000      0.000000  \n",
      "max        1.000000      1.000000      1.000000  \n",
      "\n",
      "[8 rows x 31 columns]\n",
      "\n",
      "\n",
      "sp_danceability: 1033 unique values\n",
      "sp_energy: 1636 unique values\n",
      "sp_loudness: 13097 unique values\n",
      "sp_speechiness: 1352 unique values\n",
      "sp_acousticness: 4285 unique values\n",
      "sp_instrumentalness: 4665 unique values\n",
      "sp_liveness: 1600 unique values\n",
      "sp_valence: 1616 unique values\n",
      "sp_tempo: 19942 unique values\n",
      "sp_duration_ms: 21687 unique values\n",
      "sp_artist_popularity: 100 unique values\n",
      "sp_artist_followers: 8127 unique values\n",
      "play_count: 14411 unique values\n",
      "sp_mode: 2 unique values\n",
      "sp_time_signature_0: 2 unique values\n",
      "sp_time_signature_1: 2 unique values\n",
      "sp_time_signature_3: 2 unique values\n",
      "sp_time_signature_4: 2 unique values\n",
      "sp_time_signature_5: 2 unique values\n",
      "sp_key_0: 2 unique values\n",
      "sp_key_1: 2 unique values\n",
      "sp_key_2: 2 unique values\n",
      "sp_key_3: 2 unique values\n",
      "sp_key_4: 2 unique values\n",
      "sp_key_5: 2 unique values\n",
      "sp_key_6: 2 unique values\n",
      "sp_key_7: 2 unique values\n",
      "sp_key_8: 2 unique values\n",
      "sp_key_9: 2 unique values\n",
      "sp_key_10: 2 unique values\n",
      "sp_key_11: 2 unique values\n"
     ]
    }
   ],
   "source": [
    "for cat in ['sp_time_signature', 'sp_key']:\n",
    "    X = np.array(df[cat]).reshape(-1, 1)\n",
    "    enc = OneHotEncoder()\n",
    "    enc.fit(X)\n",
    "    arr = enc.transform(X).toarray()\n",
    "    encdf = pd.DataFrame(enc.transform(X).toarray(), columns=[cat+'_'+str(i) for i in enc.categories_[0]])\n",
    "    print(encdf.shape)\n",
    "    df = df.join(encdf)\n",
    "\n",
    "df = df.drop(['sp_key', 'sp_time_signature'], axis=1)\n",
    "summarize_df(df)"
   ],
   "metadata": {
    "collapsed": false,
    "pycharm": {
     "name": "#%%\n"
    }
   }
  },
  {
   "cell_type": "markdown",
   "source": [
    "---\n",
    "### Write out processed file"
   ],
   "metadata": {
    "collapsed": false,
    "pycharm": {
     "name": "#%% md\n"
    }
   }
  },
  {
   "cell_type": "code",
   "execution_count": 25,
   "outputs": [],
   "source": [
    "df.to_csv('song_data_processed.csv')"
   ],
   "metadata": {
    "collapsed": false,
    "pycharm": {
     "name": "#%%\n"
    }
   }
  }
 ],
 "metadata": {
  "kernelspec": {
   "name": "isye6740-project",
   "language": "python",
   "display_name": "ISyE 6740 Project"
  },
  "language_info": {
   "codemirror_mode": {
    "name": "ipython",
    "version": 2
   },
   "file_extension": ".py",
   "mimetype": "text/x-python",
   "name": "python",
   "nbconvert_exporter": "python",
   "pygments_lexer": "ipython2",
   "version": "2.7.6"
  }
 },
 "nbformat": 4,
 "nbformat_minor": 0
}